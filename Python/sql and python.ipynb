{
 "cells": [
  {
   "cell_type": "code",
   "execution_count": 2,
   "id": "032694df",
   "metadata": {},
   "outputs": [],
   "source": [
    "import pandas as pd "
   ]
  },
  {
   "cell_type": "code",
   "execution_count": 27,
   "id": "9feb5b35",
   "metadata": {},
   "outputs": [],
   "source": [
    "df=pd.read_excel('dubizzle.xlsx')"
   ]
  },
  {
   "cell_type": "code",
   "execution_count": 35,
   "id": "65131ecb",
   "metadata": {
    "colab": {
     "base_uri": "https://localhost:8080/"
    },
    "id": "JeyaxND49Zd-",
    "outputId": "57f29a59-68ec-4c53-f67c-b4574017cf7f"
   },
   "outputs": [
    {
     "name": "stdout",
     "output_type": "stream",
     "text": [
      "<class 'pandas.core.frame.DataFrame'>\n",
      "Int64Index: 361205 entries, 0 to 982621\n",
      "Data columns (total 17 columns):\n",
      " #   Column             Non-Null Count   Dtype         \n",
      "---  ------             --------------   -----         \n",
      " 0   Type               361205 non-null  object        \n",
      " 1   Ownership          361205 non-null  object        \n",
      " 2   Area (m²)          361205 non-null  float64       \n",
      " 3   Bedrooms           361205 non-null  int32         \n",
      " 4   Bathrooms          361205 non-null  int32         \n",
      " 5   Furnished          361205 non-null  object        \n",
      " 6   Payment Option     355768 non-null  object        \n",
      " 7   Completion status  361205 non-null  object        \n",
      " 8   Delivery Term      361205 non-null  object        \n",
      " 9   Listing date       361205 non-null  datetime64[ns]\n",
      " 10  Price              361205 non-null  float64       \n",
      " 11  Down Payment       361205 non-null  float64       \n",
      " 12  Amenities          361205 non-null  object        \n",
      " 13  Level              361205 non-null  int32         \n",
      " 14  Price Type         361205 non-null  object        \n",
      " 15  Location.1         361205 non-null  object        \n",
      " 16  Location.2         361205 non-null  object        \n",
      "dtypes: datetime64[ns](1), float64(3), int32(3), object(10)\n",
      "memory usage: 45.5+ MB\n"
     ]
    }
   ],
   "source": [
    "dt.info()"
   ]
  },
  {
   "cell_type": "code",
   "execution_count": 5,
   "id": "ef8ab912",
   "metadata": {},
   "outputs": [],
   "source": [
    "import mysql.connector"
   ]
  },
  {
   "cell_type": "code",
   "execution_count": 7,
   "id": "e0b84a9d",
   "metadata": {},
   "outputs": [],
   "source": [
    "# Connect to MySQL server \n",
    "conn = mysql.connector.connect(\n",
    "    host=\"localhost\",\n",
    "    user=\"root\",\n",
    "    password=\"\"\n",
    ")\n",
    "cursor = conn.cursor()\n",
    "\n"
   ]
  },
  {
   "cell_type": "code",
   "execution_count": 8,
   "id": "edbf2b37",
   "metadata": {},
   "outputs": [],
   "source": [
    "# Create a new database\n",
    "cursor.execute(\"CREATE DATABASE IF NOT EXISTS dubizzle;\")\n",
    "cursor.execute(\"USE dubizzle;\")\n"
   ]
  },
  {
   "cell_type": "code",
   "execution_count": 9,
   "id": "c54c8711",
   "metadata": {},
   "outputs": [],
   "source": [
    "# Step 2: Load CSV files into DataFrames\n",
    "fact_table = pd.read_csv('Property_Facts.csv')\n",
    "location_dim = pd.read_csv('Location_Dim.csv')\n",
    "type_dim = pd.read_csv('Type_Dim.csv')\n",
    "ownership_dim = pd.read_csv('Ownership_Dim.csv')\n",
    "payment_option_dim = pd.read_csv('Payment_Option_Dim.csv')\n",
    "price_type_dim = pd.read_csv('Price_Type_Dim.csv')\n",
    "amenities_dim = pd.read_csv('Amenities_Dim.csv')\n"
   ]
  },
  {
   "cell_type": "code",
   "execution_count": 56,
   "id": "fee92933",
   "metadata": {},
   "outputs": [],
   "source": [
    "# Amenities Dimension Table (with IDs)\n",
    "amenities_dim_columns = [ 'Elevator', 'Maids_Room', \n",
    "                         'Built_in_Kitchen_Appliances', 'Pets_Allowed', \n",
    "                         'Natural_Gas', 'Pool', 'Private_Garden', \n",
    "                         'Covered_Parking', 'Electricity_Meter', \n",
    "                         'Balcony', 'Central_AC_heating', 'Water_Meter', \n",
    "                         'Landline', 'Security']\n",
    "amenities_dim = pd.DataFrame(columns=amenities_dim_columns)\n",
    "\n"
   ]
  },
  {
   "cell_type": "markdown",
   "id": "37cf99ce",
   "metadata": {},
   "source": [
    "pf_columns = [ 'Location_ID','Type_ID', 'Ownership_ID', 'Payment_Option_ID', \n",
    "                            'Price_Type_ID', 'Amenities_ID', 'Area_M2', 'Bedrooms', 'Bathrooms', 'Price', \n",
    "                            'Down_Payment', 'Level', 'Listing_Date', 'Total_Amenities', 'Fully_Equipped' ]\n",
    "amenities_dim = pd.DataFrame(columns=pf_columns)\n"
   ]
  },
  {
   "cell_type": "markdown",
   "id": "bd2c7a09",
   "metadata": {},
   "source": [
    "location_dim.rename(columns={\n",
    "    'Location.1': 'Location'\n",
    "}, inplace=True)"
   ]
  },
  {
   "cell_type": "code",
   "execution_count": 57,
   "id": "c292eb64",
   "metadata": {},
   "outputs": [
    {
     "name": "stdout",
     "output_type": "stream",
     "text": [
      "Tables created successfully in the 'dubblze.\n"
     ]
    }
   ],
   "source": [
    "\n",
    "#SQL queries to create the tables\n",
    "create_amenities_dim = \"\"\"\n",
    "CREATE TABLE IF NOT EXISTS Amenities_Dim (\n",
    "    Amenities_ID INT PRIMARY KEY,\n",
    "    Elevator TINYINT,\n",
    "    Maids_Room TINYINT,\n",
    "    Built_in_Kitchen_Appliances TINYINT,\n",
    "    Pets_Allowed TINYINT,\n",
    "    Natural_Gas TINYINT,\n",
    "    Pool TINYINT,\n",
    "    Private_Garden TINYINT,\n",
    "    Covered_Parking TINYINT,\n",
    "    Electricity_Meter TINYINT,\n",
    "    Balcony TINYINT,\n",
    "    Central_AC_heating TINYINT,\n",
    "    Water_Meter TINYINT,\n",
    "    Landline TINYINT,\n",
    "    Security TINYINT\n",
    ");\n",
    "\"\"\"\n",
    "\n",
    "create_location_dim = \"\"\"\n",
    "CREATE TABLE IF NOT EXISTS Location_Dim (\n",
    "    Location_ID INT PRIMARY KEY,\n",
    "    City VARCHAR(255),\n",
    "    Location_1 VARCHAR(255)\n",
    ");\n",
    "\"\"\"\n",
    "\n",
    "create_ownership_dim = \"\"\"\n",
    "CREATE TABLE IF NOT EXISTS Ownership_Dim (\n",
    "    Ownership_ID INT PRIMARY KEY,\n",
    "    Ownership VARCHAR(255)\n",
    ");\n",
    "\"\"\"\n",
    "\n",
    "create_payment_option_dim = \"\"\"\n",
    "CREATE TABLE IF NOT EXISTS Payment_Option_Dim (\n",
    "    Payment_Option_ID INT PRIMARY KEY,\n",
    "    Payment_Option VARCHAR(255)\n",
    ");\n",
    "\"\"\"\n",
    "\n",
    "create_type_dim = \"\"\"\n",
    "CREATE TABLE IF NOT EXISTS Type_Dim (\n",
    "    Type_ID INT PRIMARY KEY,\n",
    "    Type VARCHAR(255),\n",
    "    Furnished TINYINT,\n",
    "    Completion_Status VARCHAR(255),\n",
    "    Delivery_Term VARCHAR(255)\n",
    ");\n",
    "\"\"\"\n",
    "\n",
    "create_price_type_dim = \"\"\"\n",
    "CREATE TABLE IF NOT EXISTS Price_Type_Dim (\n",
    "    Price_Type_ID INT PRIMARY KEY,\n",
    "    Price_Type VARCHAR(255)\n",
    ");\n",
    "\"\"\"\n",
    "\n",
    "create_property_facts = \"\"\"\n",
    "CREATE TABLE IF NOT EXISTS Property_Facts (\n",
    "    Property_ID INT PRIMARY KEY,\n",
    "    Location_ID INT,\n",
    "    Type_ID INT,\n",
    "    Ownership_ID INT,\n",
    "    Payment_Option_ID INT,\n",
    "    Price_Type_ID INT,\n",
    "    Amenities_ID INT,\n",
    "    Area_M2 DECIMAL(10,2),\n",
    "    Bedrooms INT,\n",
    "    Bathrooms INT,\n",
    "    Price DECIMAL(15,2),\n",
    "    Down_Payment DECIMAL(15,2),\n",
    "    Level INT,\n",
    "    Listing_Date DATETIME,\n",
    "    Total_Amenities INT,\n",
    "    Fully_Equipped TINYINT,\n",
    "    FOREIGN KEY (Location_ID) REFERENCES Location_Dim(Location_ID),\n",
    "    FOREIGN KEY (Type_ID) REFERENCES Type_Dim(Type_ID),\n",
    "    FOREIGN KEY (Ownership_ID) REFERENCES Ownership_Dim(Ownership_ID),\n",
    "    FOREIGN KEY (Payment_Option_ID) REFERENCES Payment_Option_Dim(Payment_Option_ID),\n",
    "    FOREIGN KEY (Amenities_ID) REFERENCES Amenities_Dim(Amenities_ID)\n",
    ");\n",
    "\"\"\"\n",
    "\n",
    "# Step 4: Execute the create table queries\n",
    "cursor.execute(create_amenities_dim)\n",
    "cursor.execute(create_location_dim)\n",
    "cursor.execute(create_ownership_dim)\n",
    "cursor.execute(create_payment_option_dim)\n",
    "cursor.execute(create_type_dim)\n",
    "cursor.execute(create_price_type_dim)\n",
    "cursor.execute(create_property_facts)\n",
    "\n",
    "\n",
    "print(\"Tables created successfully in the 'dubblze.\")\n"
   ]
  },
  {
   "cell_type": "code",
   "execution_count": 24,
   "id": "b05224f5",
   "metadata": {},
   "outputs": [],
   "source": [
    "# Step 4: Alter tables to make ID columns auto-increment\n",
    "alter_location_dim = \"\"\"\n",
    "ALTER TABLE Location_Dim \n",
    "MODIFY Location_ID INT AUTO_INCREMENT;\n",
    "\"\"\"\n",
    "\n",
    "alter_ownership_dim = \"\"\"\n",
    "ALTER TABLE Ownership_Dim \n",
    "MODIFY Ownership_ID INT AUTO_INCREMENT;\n",
    "\"\"\"\n",
    "\n",
    "alter_payment_option_dim = \"\"\"\n",
    "ALTER TABLE Payment_Option_Dim \n",
    "MODIFY Payment_Option_ID INT AUTO_INCREMENT;\n",
    "\"\"\"\n",
    "\n",
    "alter_type_dim = \"\"\"\n",
    "ALTER TABLE Type_Dim \n",
    "MODIFY Type_ID INT AUTO_INCREMENT;\n",
    "\"\"\"\n",
    "\n",
    "alter_price_type_dim = \"\"\"\n",
    "ALTER TABLE Price_Type_Dim \n",
    "MODIFY Price_Type_ID INT AUTO_INCREMENT;\n",
    "\"\"\"\n",
    "\n",
    "alter_amenities_dim = \"\"\"\n",
    "ALTER TABLE Amenities_Dim \n",
    "MODIFY Amenities_ID INT AUTO_INCREMENT;\n",
    "\"\"\"\n",
    "\n",
    "\n",
    "# Execute the ALTER TABLE queries\n",
    "cursor.execute(alter_location_dim)\n",
    "cursor.execute(alter_ownership_dim)\n",
    "cursor.execute(alter_payment_option_dim)\n",
    "cursor.execute(alter_type_dim)\n",
    "cursor.execute(alter_price_type_dim)\n",
    "\n",
    "\n",
    "# Commit the changes\n",
    "conn.commit()\n"
   ]
  },
  {
   "cell_type": "markdown",
   "id": "cfc0963c",
   "metadata": {},
   "source": [
    "try _last"
   ]
  },
  {
   "cell_type": "code",
   "execution_count": 23,
   "id": "230757e1",
   "metadata": {},
   "outputs": [
    {
     "name": "stdout",
     "output_type": "stream",
     "text": [
      "Location Dim Columns: ['City', 'Location.1', 'Location_ID']\n",
      "Type Dim Columns: ['Type', 'Furnished', 'Completion status', 'Delivery Term', 'Type_ID']\n",
      "Ownership Dim Columns: ['Ownership', 'Ownership_ID']\n",
      "Payment Option Dim Columns: ['Payment Option', 'Payment_Option_ID']\n",
      "Price Type Dim Columns: ['Price Type', 'Price_Type_ID']\n",
      "Amenities Dim Columns: ['Elevator', 'Maids Room', 'Built in Kitchen Appliances', 'Pets Allowed', 'Natural Gas', 'Pool', 'Private Garden', 'Covered Parking', 'Electricity Meter', 'Balcony', 'Central A/C & heating', 'Water Meter', 'Landline', 'Security', 'Amenities_ID']\n"
     ]
    }
   ],
   "source": [
    "print(\"Location Dim Columns:\", location_dim.columns.tolist())\n",
    "print(\"Type Dim Columns:\", type_dim.columns.tolist())\n",
    "print(\"Ownership Dim Columns:\", ownership_dim.columns.tolist())\n",
    "print(\"Payment Option Dim Columns:\", payment_option_dim.columns.tolist())\n",
    "print(\"Price Type Dim Columns:\", price_type_dim.columns.tolist())\n",
    "print(\"Amenities Dim Columns:\", amenities_dim.columns.tolist())\n"
   ]
  },
  {
   "cell_type": "code",
   "execution_count": 58,
   "id": "d99b0495",
   "metadata": {},
   "outputs": [],
   "source": [
    "# Updated Step 4: Define insert queries for each table (without IDs)\n",
    "insert_amenities_query = \"\"\"\n",
    "INSERT INTO Amenities_Dim (Elevator, Maids_Room, Built_in_Kitchen_Appliances, Pets_Allowed, \n",
    "                           Natural_Gas, Pool, Private_Garden, Covered_Parking, Electricity_Meter, \n",
    "                           Balcony, Central_AC_heating, Water_Meter, Landline, Security) \n",
    "VALUES (%s, %s, %s, %s, %s, %s, %s, %s, %s, %s, %s, %s, %s, %s)\n",
    "\"\"\"\n",
    "\n",
    "insert_location_query = \"\"\"\n",
    "INSERT INTO Location_Dim (City, Location_1) \n",
    "VALUES (%s, %s)\n",
    "\"\"\"\n",
    "\n",
    "insert_ownership_query = \"\"\"\n",
    "INSERT INTO Ownership_Dim (Ownership) \n",
    "VALUES (%s)\n",
    "\"\"\"\n",
    "\n",
    "insert_payment_option_query = \"\"\"\n",
    "INSERT INTO Payment_Option_Dim (Payment_Option) \n",
    "VALUES (%s)\n",
    "\"\"\"\n",
    "\n",
    "insert_type_query = \"\"\"\n",
    "INSERT INTO Type_Dim (Type, Furnished, Completion_Status, Delivery_Term) \n",
    "VALUES (%s, %s, %s, %s)\n",
    "\"\"\"\n",
    "\n",
    "insert_price_type_query = \"\"\"\n",
    "INSERT INTO Price_Type_Dim (Price_Type) \n",
    "VALUES (%s)\n",
    "\"\"\"\n",
    "\n",
    "\n"
   ]
  },
  {
   "cell_type": "code",
   "execution_count": 11,
   "id": "747f98a6",
   "metadata": {},
   "outputs": [],
   "source": [
    "# Function to insert data into the database\n",
    "def insert_data(data, query):\n",
    "    for _, row in data.iterrows():\n",
    "        cursor.execute(query, tuple(row))\n",
    "        conn.commit()\n",
    "\n"
   ]
  },
  {
   "cell_type": "code",
   "execution_count": 63,
   "id": "7cc83098",
   "metadata": {},
   "outputs": [],
   "source": [
    "insert_data(amenities_dim, insert_amenities_query)"
   ]
  },
  {
   "cell_type": "code",
   "execution_count": 65,
   "id": "07088f89",
   "metadata": {
    "scrolled": true
   },
   "outputs": [
    {
     "name": "stdout",
     "output_type": "stream",
     "text": [
      "Data inserted successfully into all tables.\n"
     ]
    }
   ],
   "source": [
    "insert_data(ownership_dim, insert_ownership_query)\n",
    "insert_data(payment_option_dim, insert_payment_option_query)\n",
    "insert_data(type_dim, insert_type_query)\n",
    "print(\"Data inserted successfully into all tables.\")"
   ]
  },
  {
   "cell_type": "code",
   "execution_count": 121,
   "id": "d3343115",
   "metadata": {},
   "outputs": [],
   "source": [
    "alter_property_facts = \"\"\"\n",
    "ALTER TABLE Property_Facts \n",
    "MODIFY Property_ID INT AUTO_INCREMENT;\n",
    "\"\"\"\n",
    "cursor.execute(alter_property_facts)"
   ]
  },
  {
   "cell_type": "code",
   "execution_count": 1,
   "id": "46cc8e31",
   "metadata": {
    "scrolled": true
   },
   "outputs": [
    {
     "name": "stdout",
     "output_type": "stream",
     "text": [
      "\n"
     ]
    }
   ],
   "source": [
    "# Step 3: Define your insert query without Property_ID\n",
    "insert_property_facts_query = \"\"\"\n",
    "INSERT INTO Property_Facts (Location_ID, Type_ID, Ownership_ID, Payment_Option_ID, \n",
    "                            Price_Type_ID, Amenities_ID, Area_M2, Bedrooms, Bathrooms, Price, \n",
    "                            Down_Payment, Level, Listing_Date, Total_Amenities, Fully_Equipped) \n",
    "VALUES (%s, %s, %s, %s, %s, %s, %s, %s, %s, %s, %s, %s, %s, %s, %s)\n",
    "\"\"\"\n",
    "\n",
    "# Step 5: Insert data into Property_Facts\n",
    "insert_data(fact_table, insert_property_facts_query)\n"
   ]
  },
  {
   "cell_type": "code",
   "execution_count": 90,
   "id": "92aa2903",
   "metadata": {},
   "outputs": [
    {
     "name": "stdout",
     "output_type": "stream",
     "text": [
      "\n"
     ]
    }
   ],
   "source": [
    "print()"
   ]
  },
  {
   "cell_type": "code",
   "execution_count": 91,
   "id": "634830c9",
   "metadata": {
    "scrolled": true
   },
   "outputs": [
    {
     "name": "stdout",
     "output_type": "stream",
     "text": [
      "\n"
     ]
    }
   ],
   "source": [
    "cursor.execute(\"SET FOREIGN_KEY_CHECKS = 0;\")\n",
    "\n",
    "\n",
    "# Step 3: Define your insert query\n",
    "insert_property_facts_query = \"\"\"\n",
    "INSERT INTO Property_Facts (Property_ID,Location_ID, Type_ID, Ownership_ID, Payment_Option_ID, \n",
    "                            Price_Type_ID, Amenities_ID, Area_M2, Bedrooms, Bathrooms, Price, \n",
    "                            Down_Payment, Level, Listing_Date, Total_Amenities, Fully_Equipped) \n",
    "VALUES (%s,%s, %s, %s, %s, %s, %s, %s, %s, %s, %s, %s, %s, %s, %s, %s)\n",
    "\"\"\"\n",
    "\n",
    "# Step 4: Function to insert data into the database\n",
    "def insert_data(data, query):\n",
    "    for index, row in data.iterrows():    \n",
    "        cursor.execute(query, tuple(row))\n",
    "\n",
    "# Step 5: Insert data into Property_Facts\n",
    "insert_data(fact_table, insert_property_facts_query)\n",
    "\n",
    "# Step 6: Re-enable foreign key checks\n",
    "cursor.execute(\"SET FOREIGN_KEY_CHECKS = 1;\")"
   ]
  },
  {
   "cell_type": "markdown",
   "id": "f2aa0b7d",
   "metadata": {},
   "source": [
    "**1. What is the average price of properties in each city?**\n"
   ]
  },
  {
   "cell_type": "code",
   "execution_count": null,
   "id": "4ddd8905",
   "metadata": {},
   "outputs": [],
   "source": [
    "query = \"\"\"\n",
    "SELECT L.City, AVG(P.Price) AS Average_Price\n",
    "FROM Property_Facts P\n",
    "JOIN Location_Dim L ON P.Location_ID = L.Location_ID\n",
    "GROUP BY L.City;\n",
    "\"\"\"\n",
    "df = pd.read_sql(query, conn)\n",
    "print(df)\n"
   ]
  },
  {
   "cell_type": "markdown",
   "id": "c3ea5437",
   "metadata": {},
   "source": [
    "**2. How many properties have a pool and are furnished in each city?**"
   ]
  },
  {
   "cell_type": "code",
   "execution_count": null,
   "id": "2dd568d4",
   "metadata": {},
   "outputs": [],
   "source": [
    "query = \"\"\"\n",
    "SELECT L.City, COUNT(*) AS Total_Properties\n",
    "FROM Property_Facts P\n",
    "JOIN Amenities_Dim A ON P.Amenities_ID = A.Amenities_ID\n",
    "JOIN Location_Dim L ON P.Location_ID = L.Location_ID\n",
    "WHERE A.Pool = 'Yes' AND A.Furnished = 'Yes'\n",
    "GROUP BY L.City;\n",
    "\"\"\"\n",
    "df = pd.read_sql(query, conn)\n",
    "print(df)"
   ]
  },
  {
   "cell_type": "markdown",
   "id": "b65f0ef8",
   "metadata": {},
   "source": [
    "**3. How many properties are available for each payment option?**"
   ]
  },
  {
   "cell_type": "code",
   "execution_count": null,
   "id": "f5bce791",
   "metadata": {},
   "outputs": [],
   "source": [
    "query = \"\"\"\n",
    "SELECT PO.Payment_Option, COUNT(P.Property_ID) AS Property_Count\n",
    "FROM Property_Facts P\n",
    "JOIN Payment_Option_Dim PO ON P.Payment_Option_ID = PO.Payment_Option_ID\n",
    "GROUP BY PO.Payment_Option;\n",
    "\"\"\"\n",
    "df = pd.read_sql(query, conn)\n",
    "print(df)\n"
   ]
  },
  {
   "cell_type": "markdown",
   "id": "e1194617",
   "metadata": {},
   "source": [
    "**4. What is the highest-priced property in each city?**\n"
   ]
  },
  {
   "cell_type": "code",
   "execution_count": null,
   "id": "d4b50708",
   "metadata": {},
   "outputs": [],
   "source": [
    "query = \"\"\"\n",
    "SELECT L.City, MAX(P.Price) AS Highest_Price\n",
    "FROM Property_Facts P\n",
    "JOIN Location_Dim L ON P.Location_ID = L.Location_ID\n",
    "GROUP BY L.City;\n",
    "\"\"\"\n",
    "df = pd.read_sql(query, conn)\n",
    "print(df)\n"
   ]
  },
  {
   "cell_type": "markdown",
   "id": "d9932d5b",
   "metadata": {},
   "source": [
    "\n",
    "**5. Which type of property has the most listings?**"
   ]
  },
  {
   "cell_type": "code",
   "execution_count": null,
   "id": "e2a503ee",
   "metadata": {},
   "outputs": [],
   "source": [
    "query = \"\"\"\n",
    "SELECT T.Type, COUNT(P.Property_ID) AS Listing_Count\n",
    "FROM Property_Facts P\n",
    "JOIN Type_Dim T ON P.Type_ID = T.Type_ID\n",
    "GROUP BY T.Type\n",
    "ORDER BY Listing_Count DESC;\n",
    "\"\"\"\n",
    "df = pd.read_sql(query, conn)\n",
    "print(df)"
   ]
  },
  {
   "cell_type": "markdown",
   "id": "2bb92ea3",
   "metadata": {},
   "source": [
    "**6. What is the total number of amenities for properties listed in each location?**\n"
   ]
  },
  {
   "cell_type": "code",
   "execution_count": null,
   "id": "7a359a29",
   "metadata": {},
   "outputs": [],
   "source": [
    "query = \"\"\"\n",
    "SELECT L.Location_1, SUM(P.Total_Amenities) AS Total_Amenities\n",
    "FROM Property_Facts P\n",
    "JOIN Location_Dim L ON P.Location_ID = L.Location_ID\n",
    "GROUP BY L.Location_1;\n",
    "\"\"\"\n",
    "df = pd.read_sql(query, conn)\n",
    "print(df)\n"
   ]
  },
  {
   "cell_type": "markdown",
   "id": "0207824c",
   "metadata": {},
   "source": [
    "**7. How many properties have a garden and a balcony?**\n"
   ]
  },
  {
   "cell_type": "code",
   "execution_count": null,
   "id": "cb15dc1f",
   "metadata": {},
   "outputs": [],
   "source": [
    "query = \"\"\"\n",
    "SELECT COUNT(*) AS Property_Count\n",
    "FROM Property_Facts P\n",
    "JOIN Amenities_Dim A ON P.Amenities_ID = A.Amenities_ID\n",
    "WHERE A.Garden = 'Yes' AND A.Balcony = 'Yes';\n",
    "\"\"\"\n",
    "df = pd.read_sql(query, conn)\n",
    "print(df)\n"
   ]
  },
  {
   "cell_type": "markdown",
   "id": "fa7bbf28",
   "metadata": {},
   "source": [
    "**8. What is the minimum property price in each city?**\n"
   ]
  },
  {
   "cell_type": "code",
   "execution_count": null,
   "id": "fddac83d",
   "metadata": {},
   "outputs": [],
   "source": [
    "query = \"\"\"\n",
    "SELECT L.City, MIN(P.Price) AS Min_Property_Price\n",
    "FROM Property_Facts P\n",
    "JOIN Location_Dim L ON P.Location_ID = L.Location_ID\n",
    "GROUP BY L.City;\n",
    "\"\"\"\n",
    "df = pd.read_sql(query, conn)\n",
    "print(df)\n"
   ]
  },
  {
   "cell_type": "markdown",
   "id": "dca5ad4f",
   "metadata": {},
   "source": [
    "**9. What is the average down payment required for properties in each location?**\n"
   ]
  },
  {
   "cell_type": "code",
   "execution_count": null,
   "id": "62a67b4e",
   "metadata": {},
   "outputs": [],
   "source": [
    "query = \"\"\"\n",
    "SELECT L.Location_1, AVG(P.Down_Payment) AS Average_Down_Payment\n",
    "FROM Property_Facts P\n",
    "JOIN Location_Dim L ON P.Location_ID = L.Location_ID\n",
    "GROUP BY L.Location_1;\n",
    "\"\"\"\n",
    "df = pd.read_sql(query, conn)\n",
    "print(df)\n"
   ]
  },
  {
   "cell_type": "markdown",
   "id": "b6d4cda6",
   "metadata": {},
   "source": [
    "**10. How many properties are listed by each ownership type?**\n"
   ]
  },
  {
   "cell_type": "code",
   "execution_count": null,
   "id": "10d81638",
   "metadata": {},
   "outputs": [],
   "source": [
    "query = \"\"\"\n",
    "SELECT O.Ownership, COUNT(P.Property_ID) AS Property_Count\n",
    "FROM Property_Facts P\n",
    "JOIN Ownership_Dim O ON P.Ownership_ID = O.Ownership_ID\n",
    "GROUP BY O.Ownership;\n",
    "\"\"\"\n",
    "df = pd.read_sql(query, conn)\n",
    "print(df)\n"
   ]
  },
  {
   "cell_type": "markdown",
   "id": "edd8d9c0",
   "metadata": {},
   "source": [
    "**11. What is the total price of all properties listed in each city?**"
   ]
  },
  {
   "cell_type": "code",
   "execution_count": null,
   "id": "d7786880",
   "metadata": {},
   "outputs": [],
   "source": [
    "query = \"\"\"\n",
    "SELECT L.City, SUM(P.Price) AS Total_Price\n",
    "FROM Property_Facts P\n",
    "JOIN Location_Dim L ON P.Location_ID = L.Location_ID\n",
    "GROUP BY L.City;\n",
    "\"\"\"\n",
    "df = pd.read_sql(query, conn)\n",
    "print(df)"
   ]
  },
  {
   "cell_type": "markdown",
   "id": "0121e2fb",
   "metadata": {},
   "source": [
    "**12. What is the highest price of properties in each type category?**\n"
   ]
  },
  {
   "cell_type": "code",
   "execution_count": null,
   "id": "c1a5dd61",
   "metadata": {},
   "outputs": [],
   "source": [
    "query = \"\"\"\n",
    "SELECT T.Type, MAX(P.Price) AS Highest_Price\n",
    "FROM Property_Facts P\n",
    "JOIN Type_Dim T ON P.Type_ID = T.Type_ID\n",
    "GROUP BY T.Type;\n",
    "\"\"\"\n",
    "df = pd.read_sql(query, conn)\n",
    "print(df)\n"
   ]
  },
  {
   "cell_type": "markdown",
   "id": "3fdaf985",
   "metadata": {},
   "source": [
    "**13. Find all properties that are fully equipped and have a natural gas connection.**\n"
   ]
  },
  {
   "cell_type": "code",
   "execution_count": null,
   "id": "17feecd0",
   "metadata": {},
   "outputs": [],
   "source": [
    "query = \"\"\"\n",
    "SELECT P.*\n",
    "FROM Property_Facts P\n",
    "JOIN Amenities_Dim A ON P.Amenities_ID = A.Amenities_ID\n",
    "WHERE A.Fully_Equipped = 'Yes' AND A.Natural_Gas = 'Yes';\n",
    "\"\"\"\n",
    "df = pd.read_sql(query, conn)\n",
    "print(df)\n"
   ]
  },
  {
   "cell_type": "markdown",
   "id": "b93b87cd",
   "metadata": {},
   "source": [
    "**14. How many properties are listed each month?**\n"
   ]
  },
  {
   "cell_type": "code",
   "execution_count": null,
   "id": "4d58e594",
   "metadata": {},
   "outputs": [],
   "source": [
    "query = \"\"\"\n",
    "SELECT DATE_FORMAT(P.Listing_Date, '%Y-%m') AS Month, COUNT(P.Property_ID) AS Property_Count\n",
    "FROM Property_Facts P\n",
    "GROUP BY Month;\n",
    "\"\"\"\n",
    "df = pd.read_sql(query, conn)\n",
    "print(df)"
   ]
  }
 ],
 "metadata": {
  "kernelspec": {
   "display_name": "Python 3 (ipykernel)",
   "language": "python",
   "name": "python3"
  },
  "language_info": {
   "codemirror_mode": {
    "name": "ipython",
    "version": 3
   },
   "file_extension": ".py",
   "mimetype": "text/x-python",
   "name": "python",
   "nbconvert_exporter": "python",
   "pygments_lexer": "ipython3",
   "version": "3.9.12"
  }
 },
 "nbformat": 4,
 "nbformat_minor": 5
}
