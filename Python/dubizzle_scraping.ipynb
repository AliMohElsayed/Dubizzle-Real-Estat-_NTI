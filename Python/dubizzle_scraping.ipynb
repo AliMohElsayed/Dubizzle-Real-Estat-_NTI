{
  "nbformat": 4,
  "nbformat_minor": 0,
  "metadata": {
    "colab": {
      "provenance": [],
      "gpuType": "V28"
    },
    "kernelspec": {
      "name": "python3",
      "display_name": "Python 3"
    },
    "language_info": {
      "name": "python"
    },
    "accelerator": "TPU"
  },
  "cells": [
    {
      "cell_type": "code",
      "execution_count": null,
      "metadata": {
        "colab": {
          "base_uri": "https://localhost:8080/",
          "height": 1000
        },
        "id": "cOcq2c2xBs2x",
        "outputId": "06423172-4d72-462c-e807-ea355b198346"
      },
      "outputs": [
        {
          "output_type": "stream",
          "name": "stdout",
          "text": [
            "\u001b[1;30;43mStreaming output truncated to the last 5000 lines.\u001b[0m\n",
            "Found 50 apartments on this page.\n",
            "Processing page 3694...\n",
            "Finding apartments...\n",
            "Found 50 apartments on this page.\n",
            "Processing page 3695...\n",
            "Finding apartments...\n",
            "Found 50 apartments on this page.\n",
            "Processing page 3696...\n",
            "Finding apartments...\n",
            "Found 50 apartments on this page.\n",
            "Processing page 3697...\n",
            "Finding apartments...\n",
            "Found 50 apartments on this page.\n",
            "Processing page 3698...\n",
            "Finding apartments...\n",
            "Found 50 apartments on this page.\n",
            "Processing page 3699...\n",
            "Finding apartments...\n",
            "Found 50 apartments on this page.\n",
            "Processing page 3700...\n",
            "Finding apartments...\n",
            "Found 50 apartments on this page.\n",
            "Processing page 3701...\n",
            "Finding apartments...\n",
            "Found 50 apartments on this page.\n",
            "Processing page 3702...\n",
            "Finding apartments...\n",
            "Found 50 apartments on this page.\n",
            "Processing page 3703...\n",
            "Finding apartments...\n",
            "Found 50 apartments on this page.\n",
            "Processing page 3704...\n",
            "Finding apartments...\n",
            "Found 50 apartments on this page.\n",
            "Processing page 3705...\n",
            "Finding apartments...\n",
            "Found 50 apartments on this page.\n",
            "Processing page 3706...\n",
            "Finding apartments...\n",
            "Found 50 apartments on this page.\n",
            "Processing page 3707...\n",
            "Finding apartments...\n",
            "Found 50 apartments on this page.\n",
            "Processing page 3708...\n",
            "Finding apartments...\n",
            "Found 50 apartments on this page.\n",
            "Processing page 3709...\n",
            "Finding apartments...\n",
            "Found 50 apartments on this page.\n",
            "Processing page 3710...\n",
            "Finding apartments...\n",
            "Found 50 apartments on this page.\n",
            "Processing page 3711...\n",
            "Finding apartments...\n",
            "Found 50 apartments on this page.\n",
            "Processing page 3712...\n",
            "Finding apartments...\n",
            "Found 50 apartments on this page.\n",
            "Processing page 3713...\n",
            "Finding apartments...\n",
            "Found 50 apartments on this page.\n",
            "Processing page 3714...\n",
            "Finding apartments...\n",
            "Found 50 apartments on this page.\n",
            "Processing page 3715...\n",
            "Finding apartments...\n",
            "Found 50 apartments on this page.\n",
            "Processing page 3716...\n",
            "Finding apartments...\n",
            "Found 50 apartments on this page.\n",
            "Processing page 3717...\n",
            "Finding apartments...\n",
            "Found 50 apartments on this page.\n",
            "Processing page 3718...\n",
            "Finding apartments...\n",
            "Found 50 apartments on this page.\n",
            "Processing page 3719...\n",
            "Finding apartments...\n",
            "Found 50 apartments on this page.\n",
            "Processing page 3720...\n",
            "Finding apartments...\n",
            "Found 50 apartments on this page.\n",
            "Processing page 3721...\n",
            "Finding apartments...\n",
            "Found 50 apartments on this page.\n",
            "Processing page 3722...\n",
            "Finding apartments...\n",
            "Found 50 apartments on this page.\n",
            "Processing page 3723...\n",
            "Finding apartments...\n",
            "Found 50 apartments on this page.\n",
            "Processing page 3724...\n",
            "Finding apartments...\n",
            "Found 50 apartments on this page.\n",
            "Processing page 3725...\n",
            "Finding apartments...\n",
            "Found 50 apartments on this page.\n",
            "Processing page 3726...\n",
            "Finding apartments...\n",
            "Found 50 apartments on this page.\n",
            "Processing page 3727...\n",
            "Finding apartments...\n",
            "Found 50 apartments on this page.\n",
            "Processing page 3728...\n",
            "Finding apartments...\n",
            "Found 50 apartments on this page.\n",
            "Processing page 3729...\n",
            "Finding apartments...\n",
            "Found 50 apartments on this page.\n",
            "Processing page 3730...\n",
            "Finding apartments...\n",
            "Found 50 apartments on this page.\n",
            "Processing page 3731...\n",
            "Finding apartments...\n",
            "Found 50 apartments on this page.\n",
            "Processing page 3732...\n",
            "Finding apartments...\n",
            "Found 50 apartments on this page.\n",
            "Processing page 3733...\n",
            "Finding apartments...\n",
            "Found 50 apartments on this page.\n",
            "Processing page 3734...\n",
            "Finding apartments...\n",
            "Found 50 apartments on this page.\n",
            "Processing page 3735...\n",
            "Finding apartments...\n",
            "Found 50 apartments on this page.\n",
            "Processing page 3736...\n",
            "Finding apartments...\n",
            "Found 50 apartments on this page.\n",
            "Processing page 3737...\n",
            "Finding apartments...\n",
            "Found 50 apartments on this page.\n",
            "Processing page 3738...\n",
            "Finding apartments...\n",
            "Found 50 apartments on this page.\n",
            "Processing page 3739...\n",
            "Finding apartments...\n",
            "Found 50 apartments on this page.\n",
            "Processing page 3740...\n",
            "Finding apartments...\n",
            "Found 50 apartments on this page.\n",
            "Processing page 3741...\n",
            "Finding apartments...\n",
            "Found 50 apartments on this page.\n",
            "Processing page 3742...\n",
            "Finding apartments...\n",
            "Found 50 apartments on this page.\n",
            "Processing page 3743...\n",
            "Finding apartments...\n",
            "Found 50 apartments on this page.\n",
            "Processing page 3744...\n",
            "Finding apartments...\n",
            "Found 50 apartments on this page.\n",
            "Processing page 3745...\n",
            "Finding apartments...\n",
            "Found 50 apartments on this page.\n",
            "Processing page 3746...\n",
            "Finding apartments...\n",
            "Found 50 apartments on this page.\n",
            "Processing page 3747...\n",
            "Finding apartments...\n",
            "Found 50 apartments on this page.\n",
            "Processing page 3748...\n",
            "Finding apartments...\n",
            "Found 50 apartments on this page.\n",
            "Processing page 3749...\n",
            "Finding apartments...\n",
            "Found 50 apartments on this page.\n",
            "Processing page 3750...\n",
            "Finding apartments...\n",
            "Found 50 apartments on this page.\n",
            "Processing page 3751...\n",
            "Finding apartments...\n",
            "Found 50 apartments on this page.\n",
            "Processing page 3752...\n",
            "Finding apartments...\n",
            "Found 50 apartments on this page.\n",
            "Processing page 3753...\n",
            "Finding apartments...\n",
            "Found 50 apartments on this page.\n",
            "Processing page 3754...\n",
            "Finding apartments...\n",
            "Found 50 apartments on this page.\n",
            "Processing page 3755...\n",
            "Finding apartments...\n",
            "Found 50 apartments on this page.\n",
            "Processing page 3756...\n",
            "Finding apartments...\n",
            "Found 50 apartments on this page.\n",
            "Processing page 3757...\n",
            "Finding apartments...\n",
            "Found 50 apartments on this page.\n",
            "Processing page 3758...\n",
            "Finding apartments...\n",
            "Found 50 apartments on this page.\n",
            "Processing page 3759...\n",
            "Finding apartments...\n",
            "Found 50 apartments on this page.\n",
            "Processing page 3760...\n",
            "Finding apartments...\n",
            "Found 50 apartments on this page.\n",
            "Processing page 3761...\n",
            "Finding apartments...\n",
            "Found 50 apartments on this page.\n",
            "Processing page 3762...\n",
            "Finding apartments...\n",
            "Found 50 apartments on this page.\n",
            "Processing page 3763...\n",
            "Finding apartments...\n",
            "Found 50 apartments on this page.\n",
            "Processing page 3764...\n",
            "Finding apartments...\n",
            "Found 50 apartments on this page.\n",
            "Processing page 3765...\n",
            "Finding apartments...\n",
            "Found 50 apartments on this page.\n",
            "Processing page 3766...\n",
            "Finding apartments...\n",
            "Found 50 apartments on this page.\n",
            "Processing page 3767...\n",
            "Finding apartments...\n",
            "Found 50 apartments on this page.\n",
            "Processing page 3768...\n",
            "Finding apartments...\n",
            "Found 50 apartments on this page.\n",
            "Processing page 3769...\n",
            "Finding apartments...\n",
            "Found 50 apartments on this page.\n",
            "Processing page 3770...\n",
            "Finding apartments...\n",
            "Found 50 apartments on this page.\n",
            "Processing page 3771...\n",
            "Finding apartments...\n",
            "Found 50 apartments on this page.\n",
            "Processing page 3772...\n",
            "Finding apartments...\n",
            "Found 50 apartments on this page.\n",
            "Processing page 3773...\n",
            "Finding apartments...\n",
            "Found 50 apartments on this page.\n",
            "Processing page 3774...\n",
            "Finding apartments...\n",
            "Found 50 apartments on this page.\n",
            "Processing page 3775...\n",
            "Finding apartments...\n",
            "Found 50 apartments on this page.\n",
            "Processing page 3776...\n",
            "Finding apartments...\n",
            "Found 50 apartments on this page.\n",
            "Processing page 3777...\n",
            "Finding apartments...\n",
            "Found 50 apartments on this page.\n",
            "Processing page 3778...\n",
            "Finding apartments...\n",
            "Found 50 apartments on this page.\n",
            "Processing page 3779...\n",
            "Finding apartments...\n",
            "Found 50 apartments on this page.\n",
            "Processing page 3780...\n",
            "Finding apartments...\n",
            "Found 50 apartments on this page.\n",
            "Processing page 3781...\n",
            "Finding apartments...\n",
            "Found 50 apartments on this page.\n",
            "Processing page 3782...\n",
            "Finding apartments...\n",
            "Found 50 apartments on this page.\n",
            "Processing page 3783...\n",
            "Finding apartments...\n",
            "Found 50 apartments on this page.\n",
            "Processing page 3784...\n",
            "Finding apartments...\n",
            "Found 50 apartments on this page.\n",
            "Processing page 3785...\n",
            "Finding apartments...\n",
            "Found 50 apartments on this page.\n",
            "Processing page 3786...\n",
            "Finding apartments...\n",
            "Found 50 apartments on this page.\n",
            "Processing page 3787...\n",
            "Finding apartments...\n",
            "Found 50 apartments on this page.\n",
            "Processing page 3788...\n",
            "Finding apartments...\n",
            "Found 50 apartments on this page.\n",
            "Processing page 3789...\n",
            "Finding apartments...\n",
            "Found 50 apartments on this page.\n",
            "Processing page 3790...\n",
            "Finding apartments...\n",
            "Found 50 apartments on this page.\n",
            "Processing page 3791...\n",
            "Finding apartments...\n",
            "Found 50 apartments on this page.\n",
            "Processing page 3792...\n",
            "Finding apartments...\n",
            "Found 50 apartments on this page.\n",
            "Processing page 3793...\n",
            "Finding apartments...\n",
            "Found 50 apartments on this page.\n",
            "Processing page 3794...\n",
            "Finding apartments...\n",
            "Found 50 apartments on this page.\n",
            "Processing page 3795...\n",
            "Finding apartments...\n",
            "Found 50 apartments on this page.\n",
            "Processing page 3796...\n",
            "Finding apartments...\n",
            "Found 50 apartments on this page.\n",
            "Processing page 3797...\n",
            "Finding apartments...\n",
            "Found 50 apartments on this page.\n",
            "Processing page 3798...\n",
            "Finding apartments...\n",
            "Found 50 apartments on this page.\n",
            "Processing page 3799...\n",
            "Finding apartments...\n",
            "Found 50 apartments on this page.\n",
            "Processing page 3800...\n",
            "Finding apartments...\n",
            "Found 50 apartments on this page.\n",
            "Processing page 3801...\n",
            "Finding apartments...\n",
            "Found 50 apartments on this page.\n",
            "Processing page 3802...\n",
            "Finding apartments...\n",
            "Found 50 apartments on this page.\n",
            "Processing page 3803...\n",
            "Finding apartments...\n",
            "Found 50 apartments on this page.\n",
            "Processing page 3804...\n",
            "Finding apartments...\n",
            "Found 50 apartments on this page.\n",
            "Processing page 3805...\n",
            "Finding apartments...\n",
            "Found 50 apartments on this page.\n",
            "Processing page 3806...\n",
            "Finding apartments...\n",
            "Found 50 apartments on this page.\n",
            "Processing page 3807...\n",
            "Finding apartments...\n",
            "Found 50 apartments on this page.\n",
            "Processing page 3808...\n",
            "Finding apartments...\n",
            "Found 50 apartments on this page.\n",
            "Processing page 3809...\n",
            "Finding apartments...\n",
            "Found 50 apartments on this page.\n",
            "Processing page 3810...\n",
            "Finding apartments...\n",
            "Found 50 apartments on this page.\n",
            "Processing page 3811...\n",
            "Finding apartments...\n",
            "Found 50 apartments on this page.\n",
            "Processing page 3812...\n",
            "Finding apartments...\n",
            "Found 50 apartments on this page.\n",
            "Processing page 3813...\n",
            "Finding apartments...\n",
            "Found 50 apartments on this page.\n",
            "Processing page 3814...\n",
            "Finding apartments...\n",
            "Found 50 apartments on this page.\n",
            "Processing page 3815...\n",
            "Finding apartments...\n",
            "Found 50 apartments on this page.\n",
            "Processing page 3816...\n",
            "Finding apartments...\n",
            "Found 50 apartments on this page.\n",
            "Processing page 3817...\n",
            "Finding apartments...\n",
            "Found 50 apartments on this page.\n",
            "Processing page 3818...\n",
            "Finding apartments...\n",
            "Found 50 apartments on this page.\n",
            "Processing page 3819...\n",
            "Finding apartments...\n",
            "Found 50 apartments on this page.\n",
            "Processing page 3820...\n",
            "Finding apartments...\n",
            "Found 50 apartments on this page.\n",
            "Processing page 3821...\n",
            "Finding apartments...\n",
            "Found 50 apartments on this page.\n",
            "Processing page 3822...\n",
            "Finding apartments...\n",
            "Found 50 apartments on this page.\n",
            "Processing page 3823...\n",
            "Finding apartments...\n",
            "Found 50 apartments on this page.\n",
            "Processing page 3824...\n",
            "Finding apartments...\n",
            "Found 50 apartments on this page.\n",
            "Processing page 3825...\n",
            "Finding apartments...\n",
            "Found 50 apartments on this page.\n",
            "Processing page 3826...\n",
            "Finding apartments...\n",
            "Found 50 apartments on this page.\n",
            "Processing page 3827...\n",
            "Finding apartments...\n",
            "Found 50 apartments on this page.\n",
            "Processing page 3828...\n",
            "Finding apartments...\n",
            "Found 50 apartments on this page.\n",
            "Processing page 3829...\n",
            "Finding apartments...\n",
            "Found 50 apartments on this page.\n",
            "Processing page 3830...\n",
            "Finding apartments...\n",
            "Found 50 apartments on this page.\n",
            "Processing page 3831...\n",
            "Finding apartments...\n",
            "Found 50 apartments on this page.\n",
            "Processing page 3832...\n",
            "Finding apartments...\n",
            "Found 50 apartments on this page.\n",
            "Processing page 3833...\n",
            "Finding apartments...\n",
            "Found 50 apartments on this page.\n",
            "Processing page 3834...\n",
            "Finding apartments...\n",
            "Found 50 apartments on this page.\n",
            "Processing page 3835...\n",
            "Finding apartments...\n",
            "Found 50 apartments on this page.\n",
            "Processing page 3836...\n",
            "Finding apartments...\n",
            "Found 50 apartments on this page.\n",
            "Processing page 3837...\n",
            "Finding apartments...\n",
            "Found 50 apartments on this page.\n",
            "Processing page 3838...\n",
            "Finding apartments...\n",
            "Found 50 apartments on this page.\n",
            "Processing page 3839...\n",
            "Finding apartments...\n",
            "Found 50 apartments on this page.\n",
            "Processing page 3840...\n",
            "Finding apartments...\n",
            "Found 50 apartments on this page.\n",
            "Processing page 3841...\n",
            "Finding apartments...\n",
            "Found 50 apartments on this page.\n",
            "Processing page 3842...\n",
            "Finding apartments...\n",
            "Found 50 apartments on this page.\n",
            "Processing page 3843...\n",
            "Finding apartments...\n",
            "Found 50 apartments on this page.\n",
            "Processing page 3844...\n",
            "Finding apartments...\n",
            "Found 50 apartments on this page.\n",
            "Processing page 3845...\n",
            "Finding apartments...\n",
            "Found 50 apartments on this page.\n",
            "Processing page 3846...\n",
            "Finding apartments...\n",
            "Found 50 apartments on this page.\n",
            "Processing page 3847...\n",
            "Finding apartments...\n",
            "Found 50 apartments on this page.\n",
            "Processing page 3848...\n",
            "Finding apartments...\n",
            "Found 50 apartments on this page.\n",
            "Processing page 3849...\n",
            "Finding apartments...\n",
            "Found 50 apartments on this page.\n",
            "Processing page 3850...\n",
            "Finding apartments...\n",
            "Found 50 apartments on this page.\n",
            "Processing page 3851...\n",
            "Finding apartments...\n",
            "Found 50 apartments on this page.\n",
            "Processing page 3852...\n",
            "Finding apartments...\n",
            "Found 50 apartments on this page.\n",
            "Processing page 3853...\n",
            "Finding apartments...\n",
            "Found 50 apartments on this page.\n",
            "Processing page 3854...\n",
            "Finding apartments...\n",
            "Found 50 apartments on this page.\n",
            "Processing page 3855...\n",
            "Finding apartments...\n",
            "Found 50 apartments on this page.\n",
            "Processing page 3856...\n",
            "Finding apartments...\n",
            "Found 50 apartments on this page.\n",
            "Processing page 3857...\n",
            "Finding apartments...\n",
            "Found 50 apartments on this page.\n",
            "Processing page 3858...\n",
            "Finding apartments...\n",
            "Found 50 apartments on this page.\n",
            "Processing page 3859...\n",
            "Finding apartments...\n",
            "Found 50 apartments on this page.\n",
            "Processing page 3860...\n",
            "Finding apartments...\n",
            "Found 50 apartments on this page.\n",
            "Processing page 3861...\n",
            "Finding apartments...\n",
            "Found 50 apartments on this page.\n",
            "Processing page 3862...\n",
            "Finding apartments...\n",
            "Found 50 apartments on this page.\n",
            "Processing page 3863...\n",
            "Finding apartments...\n",
            "Found 50 apartments on this page.\n",
            "Processing page 3864...\n",
            "Finding apartments...\n",
            "Found 50 apartments on this page.\n",
            "Processing page 3865...\n",
            "Finding apartments...\n",
            "Found 50 apartments on this page.\n",
            "Processing page 3866...\n",
            "Finding apartments...\n",
            "Found 50 apartments on this page.\n",
            "Processing page 3867...\n",
            "Finding apartments...\n",
            "Found 50 apartments on this page.\n",
            "Processing page 3868...\n",
            "Finding apartments...\n",
            "Found 50 apartments on this page.\n",
            "Processing page 3869...\n",
            "Finding apartments...\n",
            "Found 50 apartments on this page.\n",
            "Processing page 3870...\n",
            "Finding apartments...\n",
            "Found 50 apartments on this page.\n",
            "Processing page 3871...\n",
            "Finding apartments...\n",
            "Found 50 apartments on this page.\n",
            "Processing page 3872...\n",
            "Finding apartments...\n",
            "Found 50 apartments on this page.\n",
            "Processing page 3873...\n",
            "Finding apartments...\n",
            "Found 50 apartments on this page.\n",
            "Processing page 3874...\n",
            "Finding apartments...\n",
            "Found 50 apartments on this page.\n",
            "Processing page 3875...\n",
            "Finding apartments...\n",
            "Found 50 apartments on this page.\n",
            "Processing page 3876...\n",
            "Finding apartments...\n",
            "Found 50 apartments on this page.\n",
            "Processing page 3877...\n",
            "Finding apartments...\n",
            "Found 50 apartments on this page.\n",
            "Processing page 3878...\n",
            "Finding apartments...\n",
            "Found 50 apartments on this page.\n",
            "Processing page 3879...\n",
            "Finding apartments...\n",
            "Found 50 apartments on this page.\n",
            "Processing page 3880...\n",
            "Finding apartments...\n",
            "Found 50 apartments on this page.\n",
            "Processing page 3881...\n",
            "Finding apartments...\n",
            "Found 50 apartments on this page.\n",
            "Processing page 3882...\n",
            "Finding apartments...\n",
            "Found 50 apartments on this page.\n",
            "Processing page 3883...\n",
            "Finding apartments...\n",
            "Found 50 apartments on this page.\n",
            "Processing page 3884...\n",
            "Finding apartments...\n",
            "Found 50 apartments on this page.\n",
            "Processing page 3885...\n",
            "Finding apartments...\n",
            "Found 50 apartments on this page.\n",
            "Processing page 3886...\n",
            "Finding apartments...\n",
            "Found 50 apartments on this page.\n",
            "Processing page 3887...\n",
            "Finding apartments...\n",
            "Found 50 apartments on this page.\n",
            "Processing page 3888...\n",
            "Finding apartments...\n",
            "Found 50 apartments on this page.\n",
            "Processing page 3889...\n",
            "Finding apartments...\n",
            "Found 50 apartments on this page.\n",
            "Processing page 3890...\n",
            "Finding apartments...\n",
            "Found 50 apartments on this page.\n",
            "Processing page 3891...\n",
            "Finding apartments...\n",
            "Found 50 apartments on this page.\n",
            "Processing page 3892...\n",
            "Finding apartments...\n",
            "Found 50 apartments on this page.\n",
            "Processing page 3893...\n",
            "Finding apartments...\n",
            "Found 50 apartments on this page.\n",
            "Processing page 3894...\n",
            "Finding apartments...\n",
            "Found 50 apartments on this page.\n",
            "Processing page 3895...\n",
            "Finding apartments...\n",
            "Found 50 apartments on this page.\n",
            "Processing page 3896...\n",
            "Finding apartments...\n",
            "Found 50 apartments on this page.\n",
            "Processing page 3897...\n",
            "Finding apartments...\n",
            "Found 50 apartments on this page.\n",
            "Processing page 3898...\n",
            "Finding apartments...\n",
            "Found 50 apartments on this page.\n",
            "Processing page 3899...\n",
            "Finding apartments...\n",
            "Found 50 apartments on this page.\n",
            "Processing page 3900...\n",
            "Finding apartments...\n",
            "Found 50 apartments on this page.\n",
            "Processing page 3901...\n",
            "Finding apartments...\n",
            "Found 50 apartments on this page.\n",
            "Processing page 3902...\n",
            "Finding apartments...\n",
            "Found 50 apartments on this page.\n",
            "Processing page 3903...\n",
            "Finding apartments...\n",
            "Found 50 apartments on this page.\n",
            "Processing page 3904...\n",
            "Finding apartments...\n",
            "Found 50 apartments on this page.\n",
            "Processing page 3905...\n",
            "Finding apartments...\n",
            "Found 50 apartments on this page.\n",
            "Processing page 3906...\n",
            "Finding apartments...\n",
            "Found 50 apartments on this page.\n",
            "Processing page 3907...\n",
            "Finding apartments...\n",
            "Found 50 apartments on this page.\n",
            "Processing page 3908...\n",
            "Finding apartments...\n",
            "Found 50 apartments on this page.\n",
            "Processing page 3909...\n",
            "Finding apartments...\n",
            "Found 50 apartments on this page.\n",
            "Processing page 3910...\n",
            "Finding apartments...\n",
            "Found 50 apartments on this page.\n",
            "Processing page 3911...\n",
            "Finding apartments...\n",
            "Found 50 apartments on this page.\n",
            "Processing page 3912...\n",
            "Finding apartments...\n",
            "Found 50 apartments on this page.\n",
            "Processing page 3913...\n",
            "Finding apartments...\n",
            "Found 50 apartments on this page.\n",
            "Processing page 3914...\n",
            "Finding apartments...\n",
            "Found 50 apartments on this page.\n",
            "Processing page 3915...\n",
            "Finding apartments...\n",
            "Found 50 apartments on this page.\n",
            "Processing page 3916...\n",
            "Finding apartments...\n",
            "Found 50 apartments on this page.\n",
            "Processing page 3917...\n",
            "Finding apartments...\n",
            "Found 50 apartments on this page.\n",
            "Processing page 3918...\n",
            "Finding apartments...\n",
            "Found 50 apartments on this page.\n",
            "Processing page 3919...\n",
            "Finding apartments...\n",
            "Found 50 apartments on this page.\n",
            "Processing page 3920...\n",
            "Finding apartments...\n",
            "Found 50 apartments on this page.\n",
            "Processing page 3921...\n",
            "Finding apartments...\n",
            "Found 50 apartments on this page.\n",
            "Processing page 3922...\n",
            "Finding apartments...\n",
            "Found 50 apartments on this page.\n",
            "Processing page 3923...\n",
            "Finding apartments...\n",
            "Found 50 apartments on this page.\n",
            "Processing page 3924...\n",
            "Finding apartments...\n",
            "Found 50 apartments on this page.\n",
            "Processing page 3925...\n",
            "Finding apartments...\n",
            "Found 50 apartments on this page.\n",
            "Processing page 3926...\n",
            "Finding apartments...\n",
            "Found 50 apartments on this page.\n",
            "Processing page 3927...\n",
            "Finding apartments...\n",
            "Found 50 apartments on this page.\n",
            "Processing page 3928...\n",
            "Finding apartments...\n",
            "Found 50 apartments on this page.\n",
            "Processing page 3929...\n",
            "Finding apartments...\n",
            "Found 50 apartments on this page.\n",
            "Processing page 3930...\n",
            "Finding apartments...\n",
            "Found 50 apartments on this page.\n",
            "Processing page 3931...\n",
            "Finding apartments...\n",
            "Found 50 apartments on this page.\n",
            "Processing page 3932...\n",
            "Finding apartments...\n",
            "Found 50 apartments on this page.\n",
            "Processing page 3933...\n",
            "Finding apartments...\n",
            "Found 50 apartments on this page.\n",
            "Processing page 3934...\n",
            "Finding apartments...\n",
            "Found 50 apartments on this page.\n",
            "Processing page 3935...\n",
            "Finding apartments...\n",
            "Found 50 apartments on this page.\n",
            "Processing page 3936...\n",
            "Finding apartments...\n",
            "Found 50 apartments on this page.\n",
            "Processing page 3937...\n",
            "Finding apartments...\n",
            "Found 50 apartments on this page.\n",
            "Processing page 3938...\n",
            "Finding apartments...\n",
            "Found 50 apartments on this page.\n",
            "Processing page 3939...\n",
            "Finding apartments...\n",
            "Found 50 apartments on this page.\n",
            "Processing page 3940...\n",
            "Finding apartments...\n",
            "Found 50 apartments on this page.\n",
            "Processing page 3941...\n",
            "Finding apartments...\n",
            "Found 50 apartments on this page.\n",
            "Processing page 3942...\n",
            "Finding apartments...\n",
            "Found 50 apartments on this page.\n",
            "Processing page 3943...\n",
            "Finding apartments...\n",
            "Found 50 apartments on this page.\n",
            "Processing page 3944...\n",
            "Finding apartments...\n",
            "Found 50 apartments on this page.\n",
            "Processing page 3945...\n",
            "Finding apartments...\n",
            "Found 50 apartments on this page.\n",
            "Processing page 3946...\n",
            "Finding apartments...\n",
            "Found 50 apartments on this page.\n",
            "Processing page 3947...\n",
            "Finding apartments...\n",
            "Found 50 apartments on this page.\n",
            "Processing page 3948...\n",
            "Finding apartments...\n",
            "Found 50 apartments on this page.\n",
            "Processing page 3949...\n",
            "Finding apartments...\n",
            "Found 50 apartments on this page.\n",
            "Processing page 3950...\n",
            "Finding apartments...\n",
            "Found 50 apartments on this page.\n",
            "Processing page 3951...\n",
            "Finding apartments...\n",
            "Found 50 apartments on this page.\n",
            "Processing page 3952...\n",
            "Finding apartments...\n",
            "Found 50 apartments on this page.\n",
            "Processing page 3953...\n",
            "Finding apartments...\n",
            "Found 50 apartments on this page.\n",
            "Processing page 3954...\n",
            "Finding apartments...\n",
            "Found 50 apartments on this page.\n",
            "Processing page 3955...\n",
            "Finding apartments...\n",
            "Found 50 apartments on this page.\n",
            "Processing page 3956...\n",
            "Finding apartments...\n",
            "Found 50 apartments on this page.\n",
            "Processing page 3957...\n",
            "Finding apartments...\n",
            "Found 50 apartments on this page.\n",
            "Processing page 3958...\n",
            "Finding apartments...\n",
            "Found 50 apartments on this page.\n",
            "Processing page 3959...\n",
            "Finding apartments...\n",
            "Found 50 apartments on this page.\n",
            "Processing page 3960...\n",
            "Finding apartments...\n",
            "Found 50 apartments on this page.\n",
            "Processing page 3961...\n",
            "Finding apartments...\n",
            "Found 50 apartments on this page.\n",
            "Processing page 3962...\n",
            "Finding apartments...\n",
            "Found 50 apartments on this page.\n",
            "Processing page 3963...\n",
            "Finding apartments...\n",
            "Found 50 apartments on this page.\n",
            "Processing page 3964...\n",
            "Finding apartments...\n",
            "Found 50 apartments on this page.\n",
            "Processing page 3965...\n",
            "Finding apartments...\n",
            "Found 50 apartments on this page.\n",
            "Processing page 3966...\n",
            "Finding apartments...\n",
            "Found 50 apartments on this page.\n",
            "Processing page 3967...\n",
            "Finding apartments...\n",
            "Found 50 apartments on this page.\n",
            "Processing page 3968...\n",
            "Finding apartments...\n",
            "Found 50 apartments on this page.\n",
            "Processing page 3969...\n",
            "Finding apartments...\n",
            "Found 50 apartments on this page.\n",
            "Processing page 3970...\n",
            "Finding apartments...\n",
            "Found 50 apartments on this page.\n",
            "Processing page 3971...\n",
            "Finding apartments...\n",
            "Found 50 apartments on this page.\n",
            "Processing page 3972...\n",
            "Finding apartments...\n",
            "Found 50 apartments on this page.\n",
            "Processing page 3973...\n",
            "Finding apartments...\n",
            "Found 50 apartments on this page.\n",
            "Processing page 3974...\n",
            "Finding apartments...\n",
            "Found 50 apartments on this page.\n",
            "Processing page 3975...\n",
            "Finding apartments...\n",
            "Found 50 apartments on this page.\n",
            "Processing page 3976...\n",
            "Finding apartments...\n",
            "Found 50 apartments on this page.\n",
            "Processing page 3977...\n",
            "Finding apartments...\n",
            "Found 50 apartments on this page.\n",
            "Processing page 3978...\n",
            "Finding apartments...\n",
            "Found 50 apartments on this page.\n",
            "Processing page 3979...\n",
            "Finding apartments...\n",
            "Found 50 apartments on this page.\n",
            "Processing page 3980...\n",
            "Finding apartments...\n",
            "Found 50 apartments on this page.\n",
            "Processing page 3981...\n",
            "Finding apartments...\n",
            "Found 50 apartments on this page.\n",
            "Processing page 3982...\n",
            "Finding apartments...\n",
            "Found 50 apartments on this page.\n",
            "Processing page 3983...\n",
            "Finding apartments...\n",
            "Found 50 apartments on this page.\n",
            "Processing page 3984...\n",
            "Finding apartments...\n",
            "Found 50 apartments on this page.\n",
            "Processing page 3985...\n",
            "Finding apartments...\n",
            "Found 50 apartments on this page.\n",
            "Processing page 3986...\n",
            "Finding apartments...\n",
            "Found 50 apartments on this page.\n",
            "Processing page 3987...\n",
            "Finding apartments...\n",
            "Found 50 apartments on this page.\n",
            "Processing page 3988...\n",
            "Finding apartments...\n",
            "Found 50 apartments on this page.\n",
            "Processing page 3989...\n",
            "Finding apartments...\n",
            "Found 50 apartments on this page.\n",
            "Processing page 3990...\n",
            "Finding apartments...\n",
            "Found 50 apartments on this page.\n",
            "Processing page 3991...\n",
            "Finding apartments...\n",
            "Found 50 apartments on this page.\n",
            "Processing page 3992...\n",
            "Finding apartments...\n",
            "Found 50 apartments on this page.\n",
            "Processing page 3993...\n",
            "Finding apartments...\n",
            "Found 50 apartments on this page.\n",
            "Processing page 3994...\n",
            "Finding apartments...\n",
            "Found 50 apartments on this page.\n",
            "Processing page 3995...\n",
            "Finding apartments...\n",
            "Found 50 apartments on this page.\n",
            "Processing page 3996...\n",
            "Finding apartments...\n",
            "Found 50 apartments on this page.\n",
            "Processing page 3997...\n",
            "Finding apartments...\n",
            "Found 50 apartments on this page.\n",
            "Processing page 3998...\n",
            "Finding apartments...\n",
            "Found 50 apartments on this page.\n",
            "Processing page 3999...\n",
            "Finding apartments...\n",
            "Found 50 apartments on this page.\n",
            "Processing page 4000...\n",
            "Finding apartments...\n",
            "Found 50 apartments on this page.\n",
            "Processing page 4001...\n",
            "Finding apartments...\n",
            "Found 50 apartments on this page.\n",
            "Processing page 4002...\n",
            "Finding apartments...\n",
            "Found 50 apartments on this page.\n",
            "Processing page 4003...\n",
            "Finding apartments...\n",
            "Found 50 apartments on this page.\n",
            "Processing page 4004...\n",
            "Finding apartments...\n",
            "Found 50 apartments on this page.\n",
            "Processing page 4005...\n",
            "Finding apartments...\n",
            "Found 50 apartments on this page.\n",
            "Processing page 4006...\n",
            "Finding apartments...\n",
            "Found 50 apartments on this page.\n",
            "Processing page 4007...\n",
            "Finding apartments...\n",
            "Found 50 apartments on this page.\n",
            "Processing page 4008...\n",
            "Finding apartments...\n",
            "Found 50 apartments on this page.\n",
            "Processing page 4009...\n",
            "Finding apartments...\n",
            "Found 50 apartments on this page.\n",
            "Processing page 4010...\n",
            "Finding apartments...\n",
            "Found 50 apartments on this page.\n",
            "Processing page 4011...\n",
            "Finding apartments...\n",
            "Found 50 apartments on this page.\n",
            "Processing page 4012...\n",
            "Finding apartments...\n",
            "Found 50 apartments on this page.\n",
            "Processing page 4013...\n",
            "Finding apartments...\n",
            "Found 50 apartments on this page.\n",
            "Processing page 4014...\n",
            "Finding apartments...\n",
            "Found 50 apartments on this page.\n",
            "Processing page 4015...\n",
            "Finding apartments...\n",
            "Found 50 apartments on this page.\n",
            "Processing page 4016...\n",
            "Finding apartments...\n",
            "Found 50 apartments on this page.\n",
            "Processing page 4017...\n",
            "Finding apartments...\n",
            "Found 50 apartments on this page.\n",
            "Processing page 4018...\n",
            "Finding apartments...\n",
            "Found 50 apartments on this page.\n",
            "Processing page 4019...\n",
            "Finding apartments...\n",
            "Found 50 apartments on this page.\n",
            "Processing page 4020...\n",
            "Finding apartments...\n",
            "Found 50 apartments on this page.\n",
            "Processing page 4021...\n",
            "Finding apartments...\n",
            "Found 50 apartments on this page.\n",
            "Processing page 4022...\n",
            "Finding apartments...\n",
            "Found 50 apartments on this page.\n",
            "Processing page 4023...\n",
            "Finding apartments...\n",
            "Found 50 apartments on this page.\n",
            "Processing page 4024...\n",
            "Finding apartments...\n",
            "Found 50 apartments on this page.\n",
            "Processing page 4025...\n",
            "Finding apartments...\n",
            "Found 50 apartments on this page.\n",
            "Processing page 4026...\n",
            "Finding apartments...\n",
            "Found 50 apartments on this page.\n",
            "Processing page 4027...\n",
            "Finding apartments...\n",
            "Found 50 apartments on this page.\n",
            "Processing page 4028...\n",
            "Finding apartments...\n",
            "Found 50 apartments on this page.\n",
            "Processing page 4029...\n",
            "Finding apartments...\n",
            "Found 50 apartments on this page.\n",
            "Processing page 4030...\n",
            "Finding apartments...\n",
            "Found 50 apartments on this page.\n",
            "Processing page 4031...\n",
            "Finding apartments...\n",
            "Found 50 apartments on this page.\n",
            "Processing page 4032...\n",
            "Finding apartments...\n",
            "Found 50 apartments on this page.\n",
            "Processing page 4033...\n",
            "Finding apartments...\n",
            "Found 50 apartments on this page.\n",
            "Processing page 4034...\n",
            "Finding apartments...\n",
            "Found 50 apartments on this page.\n",
            "Processing page 4035...\n",
            "Finding apartments...\n",
            "Found 50 apartments on this page.\n",
            "Processing page 4036...\n",
            "Finding apartments...\n",
            "Found 50 apartments on this page.\n",
            "Processing page 4037...\n",
            "Finding apartments...\n",
            "Found 50 apartments on this page.\n",
            "Processing page 4038...\n",
            "Finding apartments...\n",
            "Found 50 apartments on this page.\n",
            "Processing page 4039...\n",
            "Finding apartments...\n",
            "Found 50 apartments on this page.\n",
            "Processing page 4040...\n",
            "Finding apartments...\n",
            "Found 50 apartments on this page.\n",
            "Processing page 4041...\n",
            "Finding apartments...\n",
            "Found 50 apartments on this page.\n",
            "Processing page 4042...\n",
            "Finding apartments...\n",
            "Found 50 apartments on this page.\n",
            "Processing page 4043...\n",
            "Finding apartments...\n",
            "Found 50 apartments on this page.\n",
            "Processing page 4044...\n",
            "Finding apartments...\n",
            "Found 50 apartments on this page.\n",
            "Processing page 4045...\n",
            "Finding apartments...\n",
            "Found 50 apartments on this page.\n",
            "Processing page 4046...\n",
            "Finding apartments...\n",
            "Found 50 apartments on this page.\n",
            "Processing page 4047...\n",
            "Finding apartments...\n",
            "Found 50 apartments on this page.\n",
            "Processing page 4048...\n",
            "Finding apartments...\n",
            "Found 50 apartments on this page.\n",
            "Processing page 4049...\n",
            "Finding apartments...\n",
            "Found 50 apartments on this page.\n",
            "Processing page 4050...\n",
            "Finding apartments...\n",
            "Found 50 apartments on this page.\n",
            "Processing page 4051...\n",
            "Finding apartments...\n",
            "Found 50 apartments on this page.\n",
            "Processing page 4052...\n",
            "Finding apartments...\n",
            "Found 50 apartments on this page.\n",
            "Processing page 4053...\n",
            "Finding apartments...\n",
            "Found 50 apartments on this page.\n",
            "Processing page 4054...\n",
            "Finding apartments...\n",
            "Found 50 apartments on this page.\n",
            "Processing page 4055...\n",
            "Finding apartments...\n",
            "Found 50 apartments on this page.\n",
            "Processing page 4056...\n",
            "Finding apartments...\n",
            "Found 50 apartments on this page.\n",
            "Processing page 4057...\n",
            "Finding apartments...\n",
            "Found 50 apartments on this page.\n",
            "Processing page 4058...\n",
            "Finding apartments...\n",
            "Found 50 apartments on this page.\n",
            "Processing page 4059...\n",
            "Finding apartments...\n",
            "Found 50 apartments on this page.\n",
            "Processing page 4060...\n",
            "Finding apartments...\n",
            "Found 50 apartments on this page.\n",
            "Processing page 4061...\n",
            "Finding apartments...\n",
            "Found 50 apartments on this page.\n",
            "Processing page 4062...\n",
            "Finding apartments...\n",
            "Found 50 apartments on this page.\n",
            "Processing page 4063...\n",
            "Finding apartments...\n",
            "Found 50 apartments on this page.\n",
            "Processing page 4064...\n",
            "Finding apartments...\n",
            "Found 50 apartments on this page.\n",
            "Processing page 4065...\n",
            "Finding apartments...\n",
            "Found 50 apartments on this page.\n",
            "Processing page 4066...\n",
            "Finding apartments...\n",
            "Found 50 apartments on this page.\n",
            "Processing page 4067...\n",
            "Finding apartments...\n",
            "Found 50 apartments on this page.\n",
            "Processing page 4068...\n",
            "Finding apartments...\n",
            "Found 50 apartments on this page.\n",
            "Processing page 4069...\n",
            "Finding apartments...\n",
            "Found 50 apartments on this page.\n",
            "Processing page 4070...\n",
            "Finding apartments...\n",
            "Found 50 apartments on this page.\n",
            "Processing page 4071...\n",
            "Finding apartments...\n",
            "Found 50 apartments on this page.\n",
            "Processing page 4072...\n",
            "Finding apartments...\n",
            "Found 50 apartments on this page.\n",
            "Processing page 4073...\n",
            "Finding apartments...\n",
            "Found 50 apartments on this page.\n",
            "Processing page 4074...\n",
            "Finding apartments...\n",
            "Found 50 apartments on this page.\n",
            "Processing page 4075...\n",
            "Finding apartments...\n",
            "Found 50 apartments on this page.\n",
            "Processing page 4076...\n",
            "Finding apartments...\n",
            "Found 50 apartments on this page.\n",
            "Processing page 4077...\n",
            "Finding apartments...\n",
            "Found 50 apartments on this page.\n",
            "Processing page 4078...\n",
            "Finding apartments...\n",
            "Found 50 apartments on this page.\n",
            "Processing page 4079...\n",
            "Finding apartments...\n",
            "Found 50 apartments on this page.\n",
            "Processing page 4080...\n",
            "Finding apartments...\n",
            "Found 50 apartments on this page.\n",
            "Processing page 4081...\n",
            "Finding apartments...\n",
            "Found 50 apartments on this page.\n",
            "Processing page 4082...\n",
            "Finding apartments...\n",
            "Found 50 apartments on this page.\n",
            "Processing page 4083...\n",
            "Finding apartments...\n",
            "Found 50 apartments on this page.\n",
            "Processing page 4084...\n",
            "Finding apartments...\n",
            "Found 50 apartments on this page.\n",
            "Processing page 4085...\n",
            "Finding apartments...\n",
            "Found 50 apartments on this page.\n",
            "Processing page 4086...\n",
            "Finding apartments...\n",
            "Found 50 apartments on this page.\n",
            "Processing page 4087...\n",
            "Finding apartments...\n",
            "Found 50 apartments on this page.\n",
            "Processing page 4088...\n",
            "Finding apartments...\n",
            "Found 50 apartments on this page.\n",
            "Processing page 4089...\n",
            "Finding apartments...\n",
            "Found 50 apartments on this page.\n",
            "Processing page 4090...\n",
            "Finding apartments...\n",
            "Found 50 apartments on this page.\n",
            "Processing page 4091...\n",
            "Finding apartments...\n",
            "Found 50 apartments on this page.\n",
            "Processing page 4092...\n",
            "Finding apartments...\n",
            "Found 50 apartments on this page.\n",
            "Processing page 4093...\n",
            "Finding apartments...\n",
            "Found 50 apartments on this page.\n",
            "Processing page 4094...\n",
            "Finding apartments...\n",
            "Found 50 apartments on this page.\n",
            "Processing page 4095...\n",
            "Finding apartments...\n",
            "Found 50 apartments on this page.\n",
            "Processing page 4096...\n",
            "Finding apartments...\n",
            "Found 50 apartments on this page.\n",
            "Processing page 4097...\n",
            "Finding apartments...\n",
            "Found 50 apartments on this page.\n",
            "Processing page 4098...\n",
            "Finding apartments...\n",
            "Found 50 apartments on this page.\n",
            "Processing page 4099...\n",
            "Finding apartments...\n",
            "Found 50 apartments on this page.\n",
            "Processing page 4100...\n",
            "Finding apartments...\n",
            "Found 50 apartments on this page.\n",
            "Processing page 4101...\n",
            "Finding apartments...\n",
            "Found 50 apartments on this page.\n",
            "Processing page 4102...\n",
            "Finding apartments...\n",
            "Found 50 apartments on this page.\n",
            "Processing page 4103...\n",
            "Finding apartments...\n",
            "Found 50 apartments on this page.\n",
            "Processing page 4104...\n",
            "Finding apartments...\n",
            "Found 50 apartments on this page.\n",
            "Processing page 4105...\n",
            "Finding apartments...\n",
            "Found 50 apartments on this page.\n",
            "Processing page 4106...\n",
            "Finding apartments...\n",
            "Found 50 apartments on this page.\n",
            "Processing page 4107...\n",
            "Finding apartments...\n",
            "Found 50 apartments on this page.\n",
            "Processing page 4108...\n",
            "Finding apartments...\n",
            "Found 50 apartments on this page.\n",
            "Processing page 4109...\n",
            "Finding apartments...\n",
            "Found 50 apartments on this page.\n",
            "Processing page 4110...\n",
            "Finding apartments...\n",
            "Found 50 apartments on this page.\n",
            "Processing page 4111...\n",
            "Finding apartments...\n",
            "Found 50 apartments on this page.\n",
            "Processing page 4112...\n",
            "Finding apartments...\n",
            "Found 50 apartments on this page.\n",
            "Processing page 4113...\n",
            "Finding apartments...\n",
            "Found 50 apartments on this page.\n",
            "Processing page 4114...\n",
            "Finding apartments...\n",
            "Found 50 apartments on this page.\n",
            "Processing page 4115...\n",
            "Finding apartments...\n",
            "Found 50 apartments on this page.\n",
            "Processing page 4116...\n",
            "Finding apartments...\n",
            "Found 50 apartments on this page.\n",
            "Processing page 4117...\n",
            "Finding apartments...\n",
            "Found 50 apartments on this page.\n",
            "Processing page 4118...\n",
            "Finding apartments...\n",
            "Found 50 apartments on this page.\n",
            "Processing page 4119...\n",
            "Finding apartments...\n",
            "Found 50 apartments on this page.\n",
            "Processing page 4120...\n",
            "Finding apartments...\n",
            "Found 50 apartments on this page.\n",
            "Processing page 4121...\n",
            "Finding apartments...\n",
            "Found 50 apartments on this page.\n",
            "Processing page 4122...\n",
            "Finding apartments...\n",
            "Found 50 apartments on this page.\n",
            "Processing page 4123...\n",
            "Finding apartments...\n",
            "Found 50 apartments on this page.\n",
            "Processing page 4124...\n",
            "Finding apartments...\n",
            "Found 50 apartments on this page.\n",
            "Processing page 4125...\n",
            "Finding apartments...\n",
            "Found 50 apartments on this page.\n",
            "Processing page 4126...\n",
            "Finding apartments...\n",
            "Found 50 apartments on this page.\n",
            "Processing page 4127...\n",
            "Finding apartments...\n",
            "Found 50 apartments on this page.\n",
            "Processing page 4128...\n",
            "Finding apartments...\n",
            "Found 50 apartments on this page.\n",
            "Processing page 4129...\n",
            "Finding apartments...\n",
            "Found 50 apartments on this page.\n",
            "Processing page 4130...\n",
            "Finding apartments...\n",
            "Found 50 apartments on this page.\n",
            "Processing page 4131...\n",
            "Finding apartments...\n",
            "Found 50 apartments on this page.\n",
            "Processing page 4132...\n",
            "Finding apartments...\n",
            "Found 50 apartments on this page.\n",
            "Processing page 4133...\n",
            "Finding apartments...\n",
            "Found 50 apartments on this page.\n",
            "Processing page 4134...\n",
            "Finding apartments...\n",
            "Found 50 apartments on this page.\n",
            "Processing page 4135...\n",
            "Finding apartments...\n",
            "Found 50 apartments on this page.\n",
            "Processing page 4136...\n",
            "Finding apartments...\n",
            "Found 50 apartments on this page.\n",
            "Processing page 4137...\n",
            "Finding apartments...\n",
            "Found 50 apartments on this page.\n",
            "Processing page 4138...\n",
            "Finding apartments...\n",
            "Found 50 apartments on this page.\n",
            "Processing page 4139...\n",
            "Finding apartments...\n",
            "Found 50 apartments on this page.\n",
            "Processing page 4140...\n",
            "Finding apartments...\n",
            "Found 50 apartments on this page.\n",
            "Processing page 4141...\n",
            "Finding apartments...\n",
            "Found 50 apartments on this page.\n",
            "Processing page 4142...\n",
            "Finding apartments...\n",
            "Found 50 apartments on this page.\n",
            "Processing page 4143...\n",
            "Finding apartments...\n",
            "Found 50 apartments on this page.\n",
            "Processing page 4144...\n",
            "Finding apartments...\n",
            "Found 50 apartments on this page.\n",
            "Processing page 4145...\n",
            "Finding apartments...\n",
            "Found 50 apartments on this page.\n",
            "Processing page 4146...\n",
            "Finding apartments...\n",
            "Found 50 apartments on this page.\n",
            "Processing page 4147...\n",
            "Finding apartments...\n",
            "Found 50 apartments on this page.\n",
            "Processing page 4148...\n",
            "Finding apartments...\n",
            "Found 50 apartments on this page.\n",
            "Processing page 4149...\n",
            "Finding apartments...\n",
            "Found 50 apartments on this page.\n",
            "Processing page 4150...\n",
            "Finding apartments...\n",
            "Found 50 apartments on this page.\n",
            "Processing page 4151...\n",
            "Finding apartments...\n",
            "Found 50 apartments on this page.\n",
            "Processing page 4152...\n",
            "Finding apartments...\n",
            "Found 50 apartments on this page.\n",
            "Processing page 4153...\n",
            "Finding apartments...\n",
            "Found 50 apartments on this page.\n",
            "Processing page 4154...\n",
            "Finding apartments...\n",
            "Found 50 apartments on this page.\n",
            "Processing page 4155...\n",
            "Finding apartments...\n",
            "Found 50 apartments on this page.\n",
            "Processing page 4156...\n",
            "Finding apartments...\n",
            "Found 50 apartments on this page.\n",
            "Processing page 4157...\n",
            "Finding apartments...\n",
            "Found 50 apartments on this page.\n",
            "Processing page 4158...\n",
            "Finding apartments...\n",
            "Found 50 apartments on this page.\n",
            "Processing page 4159...\n",
            "Finding apartments...\n",
            "Found 50 apartments on this page.\n",
            "Processing page 4160...\n",
            "Finding apartments...\n",
            "Found 50 apartments on this page.\n",
            "Processing page 4161...\n",
            "Finding apartments...\n",
            "Found 50 apartments on this page.\n",
            "Processing page 4162...\n",
            "Finding apartments...\n",
            "Found 50 apartments on this page.\n",
            "Processing page 4163...\n",
            "Finding apartments...\n",
            "Found 50 apartments on this page.\n",
            "Processing page 4164...\n",
            "Finding apartments...\n",
            "Found 50 apartments on this page.\n",
            "Processing page 4165...\n",
            "Finding apartments...\n",
            "Found 50 apartments on this page.\n",
            "Processing page 4166...\n",
            "Finding apartments...\n",
            "Found 50 apartments on this page.\n",
            "Processing page 4167...\n",
            "Finding apartments...\n",
            "Found 50 apartments on this page.\n",
            "Processing page 4168...\n",
            "Finding apartments...\n",
            "Found 50 apartments on this page.\n",
            "Processing page 4169...\n",
            "Finding apartments...\n",
            "Found 50 apartments on this page.\n",
            "Processing page 4170...\n",
            "Finding apartments...\n",
            "Found 50 apartments on this page.\n",
            "Processing page 4171...\n",
            "Finding apartments...\n",
            "Found 50 apartments on this page.\n",
            "Processing page 4172...\n",
            "Finding apartments...\n",
            "Found 50 apartments on this page.\n",
            "Processing page 4173...\n",
            "Finding apartments...\n",
            "Found 50 apartments on this page.\n",
            "Processing page 4174...\n",
            "Finding apartments...\n",
            "Found 50 apartments on this page.\n",
            "Processing page 4175...\n",
            "Finding apartments...\n",
            "Found 50 apartments on this page.\n",
            "Processing page 4176...\n",
            "Finding apartments...\n",
            "Found 50 apartments on this page.\n",
            "Processing page 4177...\n",
            "Finding apartments...\n",
            "Found 50 apartments on this page.\n",
            "Processing page 4178...\n",
            "Finding apartments...\n",
            "Found 50 apartments on this page.\n",
            "Processing page 4179...\n",
            "Finding apartments...\n",
            "Found 50 apartments on this page.\n",
            "Processing page 4180...\n",
            "Finding apartments...\n",
            "Found 50 apartments on this page.\n",
            "Processing page 4181...\n",
            "Finding apartments...\n",
            "Found 50 apartments on this page.\n",
            "Processing page 4182...\n",
            "Finding apartments...\n",
            "Found 50 apartments on this page.\n",
            "Processing page 4183...\n",
            "Finding apartments...\n",
            "Found 50 apartments on this page.\n",
            "Processing page 4184...\n",
            "Finding apartments...\n",
            "Found 50 apartments on this page.\n",
            "Processing page 4185...\n",
            "Finding apartments...\n",
            "Found 50 apartments on this page.\n",
            "Processing page 4186...\n",
            "Finding apartments...\n",
            "Found 50 apartments on this page.\n",
            "Processing page 4187...\n",
            "Finding apartments...\n",
            "Found 50 apartments on this page.\n",
            "Processing page 4188...\n",
            "Finding apartments...\n",
            "Found 50 apartments on this page.\n",
            "Processing page 4189...\n",
            "Finding apartments...\n",
            "Found 50 apartments on this page.\n",
            "Processing page 4190...\n",
            "Finding apartments...\n",
            "Found 50 apartments on this page.\n",
            "Processing page 4191...\n",
            "Finding apartments...\n",
            "Found 50 apartments on this page.\n",
            "Processing page 4192...\n",
            "Finding apartments...\n",
            "Found 50 apartments on this page.\n",
            "Processing page 4193...\n",
            "Finding apartments...\n",
            "Found 50 apartments on this page.\n",
            "Processing page 4194...\n",
            "Finding apartments...\n",
            "Found 50 apartments on this page.\n",
            "Processing page 4195...\n",
            "Finding apartments...\n",
            "Found 50 apartments on this page.\n",
            "Processing page 4196...\n",
            "Finding apartments...\n",
            "Found 50 apartments on this page.\n",
            "Processing page 4197...\n",
            "Finding apartments...\n",
            "Found 50 apartments on this page.\n",
            "Processing page 4198...\n",
            "Finding apartments...\n",
            "Found 50 apartments on this page.\n",
            "Processing page 4199...\n",
            "Finding apartments...\n",
            "Found 50 apartments on this page.\n",
            "Processing page 4200...\n",
            "Finding apartments...\n",
            "Found 50 apartments on this page.\n",
            "Processing page 4201...\n",
            "Finding apartments...\n",
            "Found 50 apartments on this page.\n",
            "Processing page 4202...\n",
            "Finding apartments...\n",
            "Found 50 apartments on this page.\n",
            "Processing page 4203...\n",
            "Finding apartments...\n",
            "Found 50 apartments on this page.\n",
            "Processing page 4204...\n",
            "Finding apartments...\n",
            "Found 50 apartments on this page.\n",
            "Processing page 4205...\n",
            "Finding apartments...\n",
            "Found 50 apartments on this page.\n",
            "Processing page 4206...\n",
            "Finding apartments...\n",
            "Found 50 apartments on this page.\n",
            "Processing page 4207...\n",
            "Finding apartments...\n",
            "Found 50 apartments on this page.\n",
            "Processing page 4208...\n",
            "Finding apartments...\n",
            "Found 50 apartments on this page.\n",
            "Processing page 4209...\n",
            "Finding apartments...\n",
            "Found 50 apartments on this page.\n",
            "Processing page 4210...\n",
            "Finding apartments...\n",
            "Found 50 apartments on this page.\n",
            "Processing page 4211...\n",
            "Finding apartments...\n",
            "Found 50 apartments on this page.\n",
            "Processing page 4212...\n",
            "Finding apartments...\n",
            "Found 50 apartments on this page.\n",
            "Processing page 4213...\n",
            "Finding apartments...\n",
            "Found 50 apartments on this page.\n",
            "Processing page 4214...\n",
            "Finding apartments...\n",
            "Found 50 apartments on this page.\n",
            "Processing page 4215...\n",
            "Finding apartments...\n",
            "Found 50 apartments on this page.\n",
            "Processing page 4216...\n",
            "Finding apartments...\n",
            "Found 50 apartments on this page.\n",
            "Processing page 4217...\n",
            "Finding apartments...\n",
            "Found 50 apartments on this page.\n",
            "Processing page 4218...\n",
            "Finding apartments...\n",
            "Found 50 apartments on this page.\n",
            "Processing page 4219...\n",
            "Finding apartments...\n",
            "Found 50 apartments on this page.\n",
            "Processing page 4220...\n",
            "Finding apartments...\n",
            "Found 50 apartments on this page.\n",
            "Processing page 4221...\n",
            "Finding apartments...\n",
            "Found 50 apartments on this page.\n",
            "Processing page 4222...\n",
            "Finding apartments...\n",
            "Found 50 apartments on this page.\n",
            "Processing page 4223...\n",
            "Finding apartments...\n",
            "Found 50 apartments on this page.\n",
            "Processing page 4224...\n",
            "Finding apartments...\n",
            "Found 50 apartments on this page.\n",
            "Processing page 4225...\n",
            "Finding apartments...\n",
            "Found 50 apartments on this page.\n",
            "Processing page 4226...\n",
            "Finding apartments...\n",
            "Found 50 apartments on this page.\n",
            "Processing page 4227...\n",
            "Finding apartments...\n",
            "Found 50 apartments on this page.\n",
            "Processing page 4228...\n",
            "Finding apartments...\n",
            "Found 50 apartments on this page.\n",
            "Processing page 4229...\n",
            "Finding apartments...\n",
            "Found 50 apartments on this page.\n",
            "Processing page 4230...\n",
            "Finding apartments...\n",
            "Found 50 apartments on this page.\n",
            "Processing page 4231...\n",
            "Finding apartments...\n",
            "Found 50 apartments on this page.\n",
            "Processing page 4232...\n",
            "Finding apartments...\n",
            "Found 50 apartments on this page.\n",
            "Processing page 4233...\n",
            "Finding apartments...\n",
            "Found 50 apartments on this page.\n",
            "Processing page 4234...\n",
            "Finding apartments...\n",
            "Found 50 apartments on this page.\n",
            "Processing page 4235...\n",
            "Finding apartments...\n",
            "Found 50 apartments on this page.\n",
            "Processing page 4236...\n",
            "Finding apartments...\n",
            "Found 50 apartments on this page.\n",
            "Processing page 4237...\n",
            "Finding apartments...\n",
            "Found 50 apartments on this page.\n",
            "Processing page 4238...\n",
            "Finding apartments...\n",
            "Found 50 apartments on this page.\n",
            "Processing page 4239...\n",
            "Finding apartments...\n",
            "Found 50 apartments on this page.\n",
            "Processing page 4240...\n",
            "Finding apartments...\n",
            "Found 50 apartments on this page.\n",
            "Processing page 4241...\n",
            "Finding apartments...\n",
            "Found 50 apartments on this page.\n",
            "Processing page 4242...\n",
            "Finding apartments...\n",
            "Found 50 apartments on this page.\n",
            "Processing page 4243...\n",
            "Finding apartments...\n",
            "Found 50 apartments on this page.\n",
            "Processing page 4244...\n",
            "Finding apartments...\n",
            "Found 50 apartments on this page.\n",
            "Processing page 4245...\n",
            "Finding apartments...\n",
            "Found 50 apartments on this page.\n",
            "Processing page 4246...\n",
            "Finding apartments...\n",
            "Found 50 apartments on this page.\n",
            "Processing page 4247...\n",
            "Finding apartments...\n",
            "Found 50 apartments on this page.\n",
            "Processing page 4248...\n",
            "Finding apartments...\n",
            "Found 50 apartments on this page.\n",
            "Processing page 4249...\n",
            "Finding apartments...\n",
            "Found 50 apartments on this page.\n",
            "Processing page 4250...\n",
            "Finding apartments...\n",
            "Found 50 apartments on this page.\n",
            "Processing page 4251...\n",
            "Finding apartments...\n",
            "Found 50 apartments on this page.\n",
            "Processing page 4252...\n",
            "Finding apartments...\n",
            "Found 50 apartments on this page.\n",
            "Processing page 4253...\n",
            "Finding apartments...\n",
            "Found 50 apartments on this page.\n",
            "Processing page 4254...\n",
            "Finding apartments...\n",
            "Found 50 apartments on this page.\n",
            "Processing page 4255...\n",
            "Finding apartments...\n",
            "Found 50 apartments on this page.\n",
            "Processing page 4256...\n",
            "Finding apartments...\n",
            "Found 50 apartments on this page.\n",
            "Processing page 4257...\n",
            "Finding apartments...\n",
            "Found 50 apartments on this page.\n",
            "Processing page 4258...\n",
            "Finding apartments...\n",
            "Found 50 apartments on this page.\n",
            "Processing page 4259...\n",
            "Finding apartments...\n",
            "Found 50 apartments on this page.\n",
            "Processing page 4260...\n",
            "Finding apartments...\n",
            "Found 50 apartments on this page.\n",
            "Processing page 4261...\n",
            "Finding apartments...\n",
            "Found 50 apartments on this page.\n",
            "Processing page 4262...\n",
            "Finding apartments...\n",
            "Found 50 apartments on this page.\n",
            "Processing page 4263...\n",
            "Finding apartments...\n",
            "Found 50 apartments on this page.\n",
            "Processing page 4264...\n",
            "Finding apartments...\n",
            "Found 50 apartments on this page.\n",
            "Processing page 4265...\n",
            "Finding apartments...\n",
            "Found 50 apartments on this page.\n",
            "Processing page 4266...\n",
            "Finding apartments...\n",
            "Found 50 apartments on this page.\n",
            "Processing page 4267...\n",
            "Finding apartments...\n",
            "Found 50 apartments on this page.\n",
            "Processing page 4268...\n",
            "Finding apartments...\n",
            "Found 50 apartments on this page.\n",
            "Processing page 4269...\n",
            "Finding apartments...\n",
            "Found 50 apartments on this page.\n",
            "Processing page 4270...\n",
            "Finding apartments...\n",
            "Found 50 apartments on this page.\n",
            "Processing page 4271...\n",
            "Finding apartments...\n",
            "Found 50 apartments on this page.\n",
            "Processing page 4272...\n",
            "Finding apartments...\n",
            "Found 50 apartments on this page.\n",
            "Processing page 4273...\n",
            "Finding apartments...\n",
            "Found 50 apartments on this page.\n",
            "Processing page 4274...\n",
            "Finding apartments...\n",
            "Found 50 apartments on this page.\n",
            "Processing page 4275...\n",
            "Finding apartments...\n",
            "Found 50 apartments on this page.\n",
            "Processing page 4276...\n",
            "Finding apartments...\n",
            "Found 50 apartments on this page.\n",
            "Processing page 4277...\n",
            "Finding apartments...\n",
            "Found 50 apartments on this page.\n",
            "Processing page 4278...\n",
            "Finding apartments...\n",
            "Found 50 apartments on this page.\n",
            "Processing page 4279...\n",
            "Finding apartments...\n",
            "Found 50 apartments on this page.\n",
            "Processing page 4280...\n",
            "Finding apartments...\n",
            "Found 50 apartments on this page.\n",
            "Processing page 4281...\n",
            "Finding apartments...\n",
            "Found 50 apartments on this page.\n",
            "Processing page 4282...\n",
            "Finding apartments...\n",
            "Found 50 apartments on this page.\n",
            "Processing page 4283...\n",
            "Finding apartments...\n",
            "Found 50 apartments on this page.\n",
            "Processing page 4284...\n",
            "Finding apartments...\n",
            "Found 50 apartments on this page.\n",
            "Processing page 4285...\n",
            "Finding apartments...\n",
            "Found 50 apartments on this page.\n",
            "Processing page 4286...\n",
            "Finding apartments...\n",
            "Found 50 apartments on this page.\n",
            "Processing page 4287...\n",
            "Finding apartments...\n",
            "Found 50 apartments on this page.\n",
            "Processing page 4288...\n",
            "Finding apartments...\n",
            "Found 50 apartments on this page.\n",
            "Processing page 4289...\n",
            "Finding apartments...\n",
            "Found 50 apartments on this page.\n",
            "Processing page 4290...\n",
            "Finding apartments...\n",
            "Found 50 apartments on this page.\n",
            "Processing page 4291...\n",
            "Finding apartments...\n",
            "Found 50 apartments on this page.\n",
            "Processing page 4292...\n",
            "Finding apartments...\n",
            "Found 50 apartments on this page.\n",
            "Processing page 4293...\n",
            "Finding apartments...\n",
            "Found 50 apartments on this page.\n",
            "Processing page 4294...\n",
            "Finding apartments...\n",
            "Found 50 apartments on this page.\n",
            "Processing page 4295...\n",
            "Finding apartments...\n",
            "Found 50 apartments on this page.\n",
            "Processing page 4296...\n",
            "Finding apartments...\n",
            "Found 50 apartments on this page.\n",
            "Processing page 4297...\n",
            "Finding apartments...\n",
            "Found 50 apartments on this page.\n",
            "Processing page 4298...\n",
            "Finding apartments...\n",
            "Found 50 apartments on this page.\n",
            "Processing page 4299...\n",
            "Finding apartments...\n",
            "Found 50 apartments on this page.\n",
            "Processing page 4300...\n",
            "Finding apartments...\n",
            "Found 50 apartments on this page.\n",
            "Processing page 4301...\n",
            "Finding apartments...\n",
            "Found 50 apartments on this page.\n",
            "Processing page 4302...\n",
            "Finding apartments...\n",
            "Found 50 apartments on this page.\n",
            "Processing page 4303...\n",
            "Finding apartments...\n",
            "Found 50 apartments on this page.\n",
            "Processing page 4304...\n",
            "Finding apartments...\n",
            "Found 50 apartments on this page.\n",
            "Processing page 4305...\n",
            "Finding apartments...\n",
            "Found 50 apartments on this page.\n",
            "Processing page 4306...\n",
            "Finding apartments...\n",
            "Found 50 apartments on this page.\n",
            "Processing page 4307...\n",
            "Finding apartments...\n",
            "Found 50 apartments on this page.\n",
            "Processing page 4308...\n",
            "Finding apartments...\n",
            "Found 50 apartments on this page.\n",
            "Processing page 4309...\n",
            "Finding apartments...\n",
            "Found 50 apartments on this page.\n",
            "Processing page 4310...\n",
            "Finding apartments...\n",
            "Found 50 apartments on this page.\n",
            "Processing page 4311...\n",
            "Finding apartments...\n",
            "Found 50 apartments on this page.\n",
            "Processing page 4312...\n",
            "Finding apartments...\n",
            "Found 50 apartments on this page.\n",
            "Processing page 4313...\n",
            "Finding apartments...\n",
            "Found 50 apartments on this page.\n",
            "Processing page 4314...\n",
            "Finding apartments...\n",
            "Found 50 apartments on this page.\n",
            "Processing page 4315...\n",
            "Finding apartments...\n",
            "Found 50 apartments on this page.\n",
            "Processing page 4316...\n",
            "Finding apartments...\n",
            "Found 50 apartments on this page.\n",
            "Processing page 4317...\n",
            "Finding apartments...\n",
            "Found 50 apartments on this page.\n",
            "Processing page 4318...\n",
            "Finding apartments...\n",
            "Found 50 apartments on this page.\n",
            "Processing page 4319...\n",
            "Finding apartments...\n",
            "Found 50 apartments on this page.\n",
            "Processing page 4320...\n",
            "Finding apartments...\n",
            "Found 50 apartments on this page.\n",
            "Processing page 4321...\n",
            "Finding apartments...\n",
            "Found 50 apartments on this page.\n",
            "Processing page 4322...\n",
            "Finding apartments...\n",
            "Found 50 apartments on this page.\n",
            "Processing page 4323...\n",
            "Finding apartments...\n",
            "Found 50 apartments on this page.\n",
            "Processing page 4324...\n",
            "Finding apartments...\n",
            "Found 50 apartments on this page.\n",
            "Processing page 4325...\n",
            "Finding apartments...\n",
            "Found 50 apartments on this page.\n",
            "Processing page 4326...\n",
            "Finding apartments...\n",
            "Found 50 apartments on this page.\n",
            "Processing page 4327...\n",
            "Finding apartments...\n",
            "Found 50 apartments on this page.\n",
            "Processing page 4328...\n",
            "Finding apartments...\n",
            "Found 50 apartments on this page.\n",
            "Processing page 4329...\n",
            "Finding apartments...\n",
            "Found 50 apartments on this page.\n",
            "Processing page 4330...\n",
            "Finding apartments...\n",
            "Found 50 apartments on this page.\n",
            "Processing page 4331...\n",
            "Finding apartments...\n",
            "Found 50 apartments on this page.\n",
            "Processing page 4332...\n",
            "Finding apartments...\n",
            "Found 50 apartments on this page.\n",
            "Processing page 4333...\n",
            "Finding apartments...\n",
            "Found 50 apartments on this page.\n",
            "Processing page 4334...\n",
            "Finding apartments...\n",
            "Found 50 apartments on this page.\n",
            "Processing page 4335...\n",
            "Finding apartments...\n",
            "Found 50 apartments on this page.\n",
            "Processing page 4336...\n",
            "Finding apartments...\n",
            "Found 50 apartments on this page.\n",
            "Processing page 4337...\n",
            "Finding apartments...\n",
            "Found 50 apartments on this page.\n",
            "Processing page 4338...\n",
            "Finding apartments...\n",
            "Found 50 apartments on this page.\n",
            "Processing page 4339...\n",
            "Finding apartments...\n",
            "Found 50 apartments on this page.\n",
            "Processing page 4340...\n",
            "Finding apartments...\n",
            "Found 50 apartments on this page.\n",
            "Processing page 4341...\n",
            "Finding apartments...\n",
            "Found 50 apartments on this page.\n",
            "Processing page 4342...\n",
            "Finding apartments...\n",
            "Found 50 apartments on this page.\n",
            "Processing page 4343...\n",
            "Finding apartments...\n",
            "Found 50 apartments on this page.\n",
            "Processing page 4344...\n",
            "Finding apartments...\n",
            "Found 50 apartments on this page.\n",
            "Processing page 4345...\n",
            "Finding apartments...\n",
            "Found 50 apartments on this page.\n",
            "Processing page 4346...\n",
            "Finding apartments...\n",
            "Found 50 apartments on this page.\n",
            "Processing page 4347...\n",
            "Finding apartments...\n",
            "Found 50 apartments on this page.\n",
            "Processing page 4348...\n",
            "Finding apartments...\n",
            "Found 50 apartments on this page.\n",
            "Processing page 4349...\n",
            "Finding apartments...\n",
            "Found 50 apartments on this page.\n",
            "Processing page 4350...\n",
            "Finding apartments...\n",
            "Found 50 apartments on this page.\n",
            "Processing page 4351...\n",
            "Finding apartments...\n",
            "Found 50 apartments on this page.\n",
            "Processing page 4352...\n",
            "Finding apartments...\n",
            "Found 50 apartments on this page.\n",
            "Processing page 4353...\n",
            "Finding apartments...\n",
            "Found 50 apartments on this page.\n",
            "Processing page 4354...\n",
            "Finding apartments...\n",
            "Found 50 apartments on this page.\n",
            "Processing page 4355...\n",
            "Finding apartments...\n",
            "Found 50 apartments on this page.\n",
            "Processing page 4356...\n",
            "Finding apartments...\n",
            "Found 50 apartments on this page.\n",
            "Processing page 4357...\n",
            "Finding apartments...\n",
            "Found 50 apartments on this page.\n",
            "Processing page 4358...\n",
            "Finding apartments...\n",
            "Found 50 apartments on this page.\n",
            "Processing page 4359...\n",
            "Finding apartments...\n",
            "Found 50 apartments on this page.\n",
            "Processing page 4360...\n",
            "Finding apartments...\n",
            "Found 50 apartments on this page.\n",
            "Processing page 4361...\n",
            "Finding apartments...\n",
            "Found 50 apartments on this page.\n",
            "Processing page 4362...\n",
            "Finding apartments...\n",
            "Found 50 apartments on this page.\n",
            "Processing page 4363...\n",
            "Finding apartments...\n",
            "Found 50 apartments on this page.\n",
            "Processing page 4364...\n",
            "Finding apartments...\n",
            "Found 50 apartments on this page.\n",
            "Processing page 4365...\n",
            "Finding apartments...\n",
            "Found 50 apartments on this page.\n",
            "Processing page 4366...\n",
            "Finding apartments...\n",
            "Found 50 apartments on this page.\n",
            "Processing page 4367...\n",
            "Finding apartments...\n",
            "Found 50 apartments on this page.\n",
            "Processing page 4368...\n",
            "Finding apartments...\n",
            "Found 50 apartments on this page.\n",
            "Processing page 4369...\n",
            "Finding apartments...\n",
            "Found 50 apartments on this page.\n",
            "Processing page 4370...\n",
            "Finding apartments...\n",
            "Found 50 apartments on this page.\n",
            "Processing page 4371...\n",
            "Finding apartments...\n",
            "Found 50 apartments on this page.\n",
            "Processing page 4372...\n",
            "Finding apartments...\n",
            "Found 50 apartments on this page.\n",
            "Processing page 4373...\n",
            "Finding apartments...\n",
            "Found 50 apartments on this page.\n",
            "Processing page 4374...\n",
            "Finding apartments...\n",
            "Found 50 apartments on this page.\n",
            "Processing page 4375...\n",
            "Finding apartments...\n",
            "Found 50 apartments on this page.\n",
            "Processing page 4376...\n",
            "Finding apartments...\n",
            "Found 50 apartments on this page.\n",
            "Processing page 4377...\n",
            "Finding apartments...\n",
            "Found 50 apartments on this page.\n",
            "Processing page 4378...\n",
            "Finding apartments...\n",
            "Found 50 apartments on this page.\n",
            "Processing page 4379...\n",
            "Finding apartments...\n",
            "Found 50 apartments on this page.\n",
            "Processing page 4380...\n",
            "Finding apartments...\n",
            "Found 50 apartments on this page.\n",
            "Processing page 4381...\n",
            "Finding apartments...\n",
            "Found 50 apartments on this page.\n",
            "Processing page 4382...\n",
            "Finding apartments...\n",
            "Found 50 apartments on this page.\n",
            "Processing page 4383...\n",
            "Finding apartments...\n",
            "Found 50 apartments on this page.\n",
            "Processing page 4384...\n",
            "Finding apartments...\n",
            "Found 50 apartments on this page.\n",
            "Processing page 4385...\n",
            "Finding apartments...\n",
            "Found 50 apartments on this page.\n",
            "Processing page 4386...\n",
            "Finding apartments...\n",
            "Found 50 apartments on this page.\n",
            "Processing page 4387...\n",
            "Finding apartments...\n",
            "Found 50 apartments on this page.\n",
            "Processing page 4388...\n",
            "Finding apartments...\n",
            "Found 50 apartments on this page.\n",
            "Processing page 4389...\n",
            "Finding apartments...\n",
            "Found 50 apartments on this page.\n",
            "Processing page 4390...\n",
            "Finding apartments...\n",
            "Found 50 apartments on this page.\n",
            "Processing page 4391...\n",
            "Finding apartments...\n",
            "Found 50 apartments on this page.\n",
            "Processing page 4392...\n",
            "Finding apartments...\n",
            "Found 50 apartments on this page.\n",
            "Processing page 4393...\n",
            "Finding apartments...\n",
            "Found 50 apartments on this page.\n",
            "Processing page 4394...\n",
            "Finding apartments...\n",
            "Found 50 apartments on this page.\n",
            "Processing page 4395...\n",
            "Finding apartments...\n",
            "Found 50 apartments on this page.\n",
            "Processing page 4396...\n",
            "Finding apartments...\n",
            "Found 50 apartments on this page.\n",
            "Processing page 4397...\n",
            "Finding apartments...\n",
            "Found 50 apartments on this page.\n",
            "Processing page 4398...\n",
            "Finding apartments...\n",
            "Found 50 apartments on this page.\n",
            "Processing page 4399...\n",
            "Finding apartments...\n",
            "Found 50 apartments on this page.\n",
            "Processing page 4400...\n",
            "Finding apartments...\n",
            "Found 50 apartments on this page.\n",
            "Processing page 4401...\n",
            "Finding apartments...\n",
            "Found 50 apartments on this page.\n",
            "Processing page 4402...\n",
            "Finding apartments...\n",
            "Found 50 apartments on this page.\n",
            "Processing page 4403...\n",
            "Finding apartments...\n",
            "Found 50 apartments on this page.\n",
            "Processing page 4404...\n",
            "Finding apartments...\n",
            "Found 50 apartments on this page.\n",
            "Processing page 4405...\n",
            "Finding apartments...\n",
            "Found 50 apartments on this page.\n",
            "Processing page 4406...\n",
            "Finding apartments...\n",
            "Found 50 apartments on this page.\n",
            "Processing page 4407...\n",
            "Finding apartments...\n",
            "Found 50 apartments on this page.\n",
            "Processing page 4408...\n",
            "Finding apartments...\n",
            "Found 50 apartments on this page.\n",
            "Processing page 4409...\n",
            "Finding apartments...\n",
            "Found 50 apartments on this page.\n",
            "Processing page 4410...\n",
            "Finding apartments...\n",
            "Found 50 apartments on this page.\n",
            "Processing page 4411...\n",
            "Finding apartments...\n",
            "Found 50 apartments on this page.\n",
            "Processing page 4412...\n",
            "Finding apartments...\n",
            "Found 50 apartments on this page.\n",
            "Processing page 4413...\n",
            "Finding apartments...\n",
            "Found 50 apartments on this page.\n",
            "Processing page 4414...\n",
            "Finding apartments...\n",
            "Found 50 apartments on this page.\n",
            "Processing page 4415...\n",
            "Finding apartments...\n",
            "Found 50 apartments on this page.\n",
            "Processing page 4416...\n",
            "Finding apartments...\n",
            "Found 50 apartments on this page.\n",
            "Processing page 4417...\n",
            "Finding apartments...\n",
            "Found 50 apartments on this page.\n",
            "Processing page 4418...\n",
            "Finding apartments...\n",
            "Found 50 apartments on this page.\n",
            "Processing page 4419...\n",
            "Finding apartments...\n",
            "Found 50 apartments on this page.\n",
            "Processing page 4420...\n",
            "Finding apartments...\n",
            "Found 50 apartments on this page.\n",
            "Processing page 4421...\n",
            "Finding apartments...\n",
            "Found 50 apartments on this page.\n",
            "Processing page 4422...\n",
            "Finding apartments...\n",
            "Found 50 apartments on this page.\n",
            "Processing page 4423...\n",
            "Finding apartments...\n",
            "Found 50 apartments on this page.\n",
            "Processing page 4424...\n",
            "Finding apartments...\n",
            "Found 50 apartments on this page.\n",
            "Processing page 4425...\n",
            "Finding apartments...\n",
            "Found 50 apartments on this page.\n",
            "Processing page 4426...\n",
            "Finding apartments...\n",
            "Found 50 apartments on this page.\n",
            "Processing page 4427...\n",
            "Finding apartments...\n",
            "Found 50 apartments on this page.\n",
            "Processing page 4428...\n",
            "Finding apartments...\n",
            "Found 50 apartments on this page.\n",
            "Processing page 4429...\n",
            "Finding apartments...\n",
            "Found 50 apartments on this page.\n",
            "Processing page 4430...\n",
            "Finding apartments...\n",
            "Found 50 apartments on this page.\n",
            "Processing page 4431...\n",
            "Finding apartments...\n",
            "Found 50 apartments on this page.\n",
            "Processing page 4432...\n",
            "Finding apartments...\n",
            "Found 50 apartments on this page.\n",
            "Processing page 4433...\n",
            "Finding apartments...\n",
            "Found 50 apartments on this page.\n",
            "Processing page 4434...\n",
            "Finding apartments...\n",
            "Found 50 apartments on this page.\n",
            "Processing page 4435...\n",
            "Finding apartments...\n",
            "Found 50 apartments on this page.\n",
            "Processing page 4436...\n",
            "Finding apartments...\n",
            "Found 50 apartments on this page.\n",
            "Processing page 4437...\n",
            "Finding apartments...\n",
            "Found 50 apartments on this page.\n",
            "Processing page 4438...\n",
            "Finding apartments...\n",
            "Found 50 apartments on this page.\n",
            "Processing page 4439...\n",
            "Finding apartments...\n",
            "Found 50 apartments on this page.\n",
            "Processing page 4440...\n",
            "Finding apartments...\n",
            "Found 50 apartments on this page.\n",
            "Processing page 4441...\n",
            "Finding apartments...\n",
            "Found 50 apartments on this page.\n",
            "Processing page 4442...\n",
            "Finding apartments...\n",
            "Found 50 apartments on this page.\n",
            "Processing page 4443...\n",
            "Finding apartments...\n",
            "Found 50 apartments on this page.\n",
            "Processing page 4444...\n",
            "Finding apartments...\n",
            "Found 50 apartments on this page.\n",
            "Processing page 4445...\n",
            "Finding apartments...\n",
            "Found 50 apartments on this page.\n",
            "Processing page 4446...\n",
            "Finding apartments...\n",
            "Found 50 apartments on this page.\n",
            "Processing page 4447...\n",
            "Finding apartments...\n",
            "Found 50 apartments on this page.\n",
            "Processing page 4448...\n",
            "Finding apartments...\n",
            "Found 50 apartments on this page.\n",
            "Processing page 4449...\n",
            "Finding apartments...\n",
            "Found 50 apartments on this page.\n",
            "Processing page 4450...\n",
            "Finding apartments...\n",
            "Found 50 apartments on this page.\n",
            "Processing page 4451...\n",
            "Finding apartments...\n",
            "Found 50 apartments on this page.\n",
            "Processing page 4452...\n",
            "Finding apartments...\n",
            "Found 50 apartments on this page.\n",
            "Processing page 4453...\n",
            "Finding apartments...\n",
            "Found 50 apartments on this page.\n",
            "Processing page 4454...\n",
            "Finding apartments...\n",
            "Found 50 apartments on this page.\n",
            "Processing page 4455...\n",
            "Finding apartments...\n",
            "Found 50 apartments on this page.\n",
            "Processing page 4456...\n",
            "Finding apartments...\n",
            "Found 50 apartments on this page.\n",
            "Processing page 4457...\n",
            "Finding apartments...\n",
            "Found 50 apartments on this page.\n",
            "Processing page 4458...\n",
            "Finding apartments...\n",
            "Found 50 apartments on this page.\n",
            "Processing page 4459...\n",
            "Finding apartments...\n",
            "Found 50 apartments on this page.\n",
            "Processing page 4460...\n",
            "Finding apartments...\n",
            "Found 50 apartments on this page.\n",
            "Processing page 4461...\n",
            "Finding apartments...\n",
            "Found 50 apartments on this page.\n",
            "Processing page 4462...\n",
            "Finding apartments...\n",
            "Found 50 apartments on this page.\n",
            "Processing page 4463...\n",
            "Finding apartments...\n",
            "Found 50 apartments on this page.\n",
            "Processing page 4464...\n",
            "Finding apartments...\n",
            "Found 50 apartments on this page.\n",
            "Processing page 4465...\n",
            "Finding apartments...\n",
            "Found 50 apartments on this page.\n",
            "Processing page 4466...\n",
            "Finding apartments...\n",
            "Found 50 apartments on this page.\n",
            "Processing page 4467...\n",
            "Finding apartments...\n",
            "Found 50 apartments on this page.\n",
            "Processing page 4468...\n",
            "Finding apartments...\n",
            "Found 50 apartments on this page.\n",
            "Processing page 4469...\n",
            "Finding apartments...\n",
            "Found 50 apartments on this page.\n",
            "Processing page 4470...\n",
            "Finding apartments...\n",
            "Found 50 apartments on this page.\n",
            "Processing page 4471...\n",
            "Finding apartments...\n",
            "Found 50 apartments on this page.\n",
            "Processing page 4472...\n",
            "Finding apartments...\n",
            "Found 50 apartments on this page.\n",
            "Processing page 4473...\n",
            "Finding apartments...\n",
            "Found 50 apartments on this page.\n",
            "Processing page 4474...\n",
            "Finding apartments...\n",
            "Found 50 apartments on this page.\n",
            "Processing page 4475...\n",
            "Finding apartments...\n",
            "Found 50 apartments on this page.\n",
            "Processing page 4476...\n",
            "Finding apartments...\n",
            "Found 50 apartments on this page.\n",
            "Processing page 4477...\n",
            "Finding apartments...\n",
            "Found 50 apartments on this page.\n",
            "Processing page 4478...\n",
            "Finding apartments...\n",
            "Found 50 apartments on this page.\n",
            "Processing page 4479...\n",
            "Finding apartments...\n",
            "Found 50 apartments on this page.\n",
            "Processing page 4480...\n",
            "Finding apartments...\n",
            "Found 50 apartments on this page.\n",
            "Processing page 4481...\n",
            "Finding apartments...\n",
            "Found 50 apartments on this page.\n",
            "Processing page 4482...\n",
            "Finding apartments...\n",
            "Found 50 apartments on this page.\n",
            "Processing page 4483...\n",
            "Finding apartments...\n",
            "Found 50 apartments on this page.\n",
            "Processing page 4484...\n",
            "Finding apartments...\n",
            "Found 50 apartments on this page.\n",
            "Processing page 4485...\n",
            "Finding apartments...\n",
            "Found 50 apartments on this page.\n",
            "Processing page 4486...\n",
            "Finding apartments...\n",
            "Found 50 apartments on this page.\n",
            "Processing page 4487...\n",
            "Finding apartments...\n",
            "Found 50 apartments on this page.\n",
            "Processing page 4488...\n",
            "Finding apartments...\n",
            "Found 50 apartments on this page.\n",
            "Processing page 4489...\n",
            "Finding apartments...\n",
            "Found 50 apartments on this page.\n",
            "Processing page 4490...\n",
            "Finding apartments...\n",
            "Found 50 apartments on this page.\n",
            "Processing page 4491...\n",
            "Finding apartments...\n",
            "Found 50 apartments on this page.\n",
            "Processing page 4492...\n",
            "Finding apartments...\n",
            "Found 50 apartments on this page.\n",
            "Processing page 4493...\n",
            "Finding apartments...\n",
            "Found 50 apartments on this page.\n",
            "Processing page 4494...\n",
            "Finding apartments...\n",
            "Found 50 apartments on this page.\n",
            "Processing page 4495...\n",
            "Finding apartments...\n",
            "Found 50 apartments on this page.\n",
            "Processing page 4496...\n",
            "Finding apartments...\n",
            "Found 50 apartments on this page.\n",
            "Processing page 4497...\n",
            "Finding apartments...\n",
            "Found 50 apartments on this page.\n",
            "Processing page 4498...\n",
            "Finding apartments...\n",
            "Found 50 apartments on this page.\n",
            "Processing page 4499...\n",
            "Finding apartments...\n",
            "Found 50 apartments on this page.\n",
            "Processing page 4500...\n",
            "Finding apartments...\n",
            "Found 50 apartments on this page.\n",
            "Processing page 4501...\n",
            "Finding apartments...\n",
            "Found 50 apartments on this page.\n",
            "Processing page 4502...\n",
            "Finding apartments...\n",
            "Found 50 apartments on this page.\n",
            "Processing page 4503...\n",
            "Finding apartments...\n",
            "Found 50 apartments on this page.\n",
            "Processing page 4504...\n",
            "Finding apartments...\n",
            "Found 50 apartments on this page.\n",
            "Processing page 4505...\n",
            "Finding apartments...\n",
            "Found 50 apartments on this page.\n",
            "Processing page 4506...\n",
            "Finding apartments...\n",
            "Found 50 apartments on this page.\n",
            "Processing page 4507...\n",
            "Finding apartments...\n",
            "Found 50 apartments on this page.\n",
            "Processing page 4508...\n",
            "Finding apartments...\n",
            "Found 50 apartments on this page.\n",
            "Processing page 4509...\n",
            "Finding apartments...\n",
            "Found 50 apartments on this page.\n",
            "Processing page 4510...\n",
            "Finding apartments...\n",
            "Found 50 apartments on this page.\n",
            "Processing page 4511...\n",
            "Finding apartments...\n",
            "Found 50 apartments on this page.\n",
            "Processing page 4512...\n",
            "Finding apartments...\n",
            "Found 50 apartments on this page.\n",
            "Processing page 4513...\n",
            "Finding apartments...\n",
            "Found 50 apartments on this page.\n",
            "Processing page 4514...\n",
            "Finding apartments...\n",
            "Found 50 apartments on this page.\n",
            "Processing page 4515...\n",
            "Finding apartments...\n",
            "Found 50 apartments on this page.\n",
            "Processing page 4516...\n",
            "Finding apartments...\n",
            "Found 50 apartments on this page.\n",
            "Processing page 4517...\n",
            "Finding apartments...\n",
            "Found 50 apartments on this page.\n",
            "Processing page 4518...\n",
            "Finding apartments...\n",
            "Found 50 apartments on this page.\n",
            "Processing page 4519...\n",
            "Finding apartments...\n",
            "Found 50 apartments on this page.\n",
            "Processing page 4520...\n",
            "Finding apartments...\n",
            "Found 50 apartments on this page.\n",
            "Processing page 4521...\n",
            "Finding apartments...\n",
            "Found 50 apartments on this page.\n",
            "Processing page 4522...\n",
            "Finding apartments...\n",
            "Found 50 apartments on this page.\n",
            "Processing page 4523...\n",
            "Finding apartments...\n",
            "Found 50 apartments on this page.\n",
            "Processing page 4524...\n",
            "Finding apartments...\n",
            "Found 50 apartments on this page.\n",
            "Processing page 4525...\n",
            "Finding apartments...\n",
            "Found 50 apartments on this page.\n",
            "Processing page 4526...\n",
            "Finding apartments...\n",
            "Found 50 apartments on this page.\n",
            "Processing page 4527...\n",
            "Finding apartments...\n",
            "Found 50 apartments on this page.\n",
            "Processing page 4528...\n",
            "Finding apartments...\n",
            "Found 50 apartments on this page.\n",
            "Processing page 4529...\n",
            "Finding apartments...\n",
            "Found 50 apartments on this page.\n",
            "Processing page 4530...\n",
            "Finding apartments...\n",
            "Found 50 apartments on this page.\n",
            "Processing page 4531...\n",
            "Finding apartments...\n",
            "Found 50 apartments on this page.\n",
            "Processing page 4532...\n",
            "Finding apartments...\n",
            "Found 50 apartments on this page.\n",
            "Processing page 4533...\n",
            "Finding apartments...\n",
            "Found 50 apartments on this page.\n",
            "Processing page 4534...\n",
            "Finding apartments...\n",
            "Found 50 apartments on this page.\n",
            "Processing page 4535...\n",
            "Finding apartments...\n",
            "Found 50 apartments on this page.\n",
            "Processing page 4536...\n",
            "Finding apartments...\n",
            "Found 50 apartments on this page.\n",
            "Processing page 4537...\n",
            "Finding apartments...\n",
            "Found 50 apartments on this page.\n",
            "Processing page 4538...\n",
            "Finding apartments...\n",
            "Found 50 apartments on this page.\n",
            "Processing page 4539...\n",
            "Finding apartments...\n",
            "Found 50 apartments on this page.\n",
            "Processing page 4540...\n",
            "Finding apartments...\n",
            "Found 50 apartments on this page.\n",
            "Processing page 4541...\n",
            "Finding apartments...\n",
            "Found 50 apartments on this page.\n",
            "Processing page 4542...\n",
            "Finding apartments...\n",
            "Found 50 apartments on this page.\n",
            "Processing page 4543...\n",
            "Finding apartments...\n",
            "Found 50 apartments on this page.\n",
            "Processing page 4544...\n",
            "Finding apartments...\n",
            "Found 50 apartments on this page.\n",
            "Processing page 4545...\n",
            "Finding apartments...\n",
            "Found 50 apartments on this page.\n",
            "Processing page 4546...\n",
            "Finding apartments...\n",
            "Found 50 apartments on this page.\n",
            "Processing page 4547...\n",
            "Finding apartments...\n",
            "Found 50 apartments on this page.\n",
            "Processing page 4548...\n",
            "Finding apartments...\n",
            "Found 50 apartments on this page.\n",
            "Processing page 4549...\n",
            "Finding apartments...\n",
            "Found 50 apartments on this page.\n",
            "Processing page 4550...\n",
            "Finding apartments...\n",
            "Found 50 apartments on this page.\n",
            "Processing page 4551...\n",
            "Finding apartments...\n",
            "Found 50 apartments on this page.\n",
            "Processing page 4552...\n",
            "Finding apartments...\n",
            "Found 50 apartments on this page.\n",
            "Processing page 4553...\n",
            "Finding apartments...\n",
            "Found 50 apartments on this page.\n",
            "Processing page 4554...\n",
            "Finding apartments...\n",
            "Found 50 apartments on this page.\n",
            "Processing page 4555...\n",
            "Finding apartments...\n",
            "Found 50 apartments on this page.\n",
            "Processing page 4556...\n",
            "Finding apartments...\n",
            "Found 50 apartments on this page.\n",
            "Processing page 4557...\n",
            "Finding apartments...\n",
            "Found 50 apartments on this page.\n",
            "Processing page 4558...\n",
            "Finding apartments...\n",
            "Found 50 apartments on this page.\n",
            "Processing page 4559...\n",
            "Finding apartments...\n",
            "Found 50 apartments on this page.\n",
            "Processing page 4560...\n",
            "Finding apartments...\n",
            "Found 50 apartments on this page.\n",
            "Processing page 4561...\n",
            "Finding apartments...\n",
            "Found 50 apartments on this page.\n",
            "Processing page 4562...\n",
            "Finding apartments...\n",
            "Found 50 apartments on this page.\n",
            "Processing page 4563...\n",
            "Finding apartments...\n",
            "Found 50 apartments on this page.\n",
            "Processing page 4564...\n",
            "Finding apartments...\n",
            "Found 50 apartments on this page.\n",
            "Processing page 4565...\n",
            "Finding apartments...\n",
            "Found 50 apartments on this page.\n",
            "Processing page 4566...\n",
            "Finding apartments...\n",
            "Found 50 apartments on this page.\n",
            "Processing page 4567...\n",
            "Finding apartments...\n",
            "Found 50 apartments on this page.\n",
            "Processing page 4568...\n",
            "Finding apartments...\n",
            "Found 50 apartments on this page.\n",
            "Processing page 4569...\n",
            "Finding apartments...\n",
            "Found 50 apartments on this page.\n",
            "Processing page 4570...\n",
            "Finding apartments...\n",
            "Found 50 apartments on this page.\n",
            "Processing page 4571...\n",
            "Finding apartments...\n",
            "Found 50 apartments on this page.\n",
            "Processing page 4572...\n",
            "Finding apartments...\n",
            "Found 50 apartments on this page.\n",
            "Processing page 4573...\n",
            "Finding apartments...\n",
            "Found 50 apartments on this page.\n",
            "Processing page 4574...\n",
            "Finding apartments...\n",
            "Found 50 apartments on this page.\n",
            "Processing page 4575...\n",
            "Finding apartments...\n",
            "Found 50 apartments on this page.\n",
            "Processing page 4576...\n",
            "Finding apartments...\n",
            "Found 50 apartments on this page.\n",
            "Processing page 4577...\n",
            "Finding apartments...\n",
            "Found 50 apartments on this page.\n",
            "Processing page 4578...\n",
            "Finding apartments...\n",
            "Found 50 apartments on this page.\n",
            "Processing page 4579...\n",
            "Finding apartments...\n",
            "Found 50 apartments on this page.\n",
            "Processing page 4580...\n",
            "Finding apartments...\n",
            "Found 50 apartments on this page.\n",
            "Processing page 4581...\n",
            "Finding apartments...\n",
            "Found 50 apartments on this page.\n",
            "Processing page 4582...\n",
            "Finding apartments...\n",
            "Found 50 apartments on this page.\n",
            "Processing page 4583...\n",
            "Finding apartments...\n",
            "Found 50 apartments on this page.\n",
            "Processing page 4584...\n",
            "Finding apartments...\n",
            "Found 50 apartments on this page.\n",
            "Processing page 4585...\n",
            "Finding apartments...\n",
            "Found 50 apartments on this page.\n",
            "Processing page 4586...\n",
            "Finding apartments...\n",
            "Found 50 apartments on this page.\n",
            "Processing page 4587...\n",
            "Finding apartments...\n",
            "Found 50 apartments on this page.\n",
            "Processing page 4588...\n",
            "Finding apartments...\n",
            "Found 50 apartments on this page.\n",
            "Processing page 4589...\n",
            "Finding apartments...\n",
            "Found 50 apartments on this page.\n",
            "Processing page 4590...\n",
            "Finding apartments...\n",
            "Found 50 apartments on this page.\n",
            "Processing page 4591...\n",
            "Finding apartments...\n",
            "Found 50 apartments on this page.\n",
            "Processing page 4592...\n",
            "Finding apartments...\n",
            "Found 50 apartments on this page.\n",
            "Processing page 4593...\n",
            "Finding apartments...\n",
            "Found 50 apartments on this page.\n",
            "Processing page 4594...\n",
            "Finding apartments...\n",
            "Found 50 apartments on this page.\n",
            "Processing page 4595...\n",
            "Finding apartments...\n",
            "Found 50 apartments on this page.\n",
            "Processing page 4596...\n",
            "Finding apartments...\n",
            "Found 50 apartments on this page.\n",
            "Processing page 4597...\n",
            "Finding apartments...\n",
            "Found 50 apartments on this page.\n",
            "Processing page 4598...\n",
            "Finding apartments...\n",
            "Found 50 apartments on this page.\n",
            "Processing page 4599...\n",
            "Finding apartments...\n",
            "Found 50 apartments on this page.\n",
            "Processing page 4600...\n",
            "Finding apartments...\n",
            "Found 50 apartments on this page.\n",
            "Processing page 4601...\n",
            "Finding apartments...\n",
            "Found 50 apartments on this page.\n",
            "Processing page 4602...\n",
            "Finding apartments...\n",
            "Found 50 apartments on this page.\n",
            "Processing page 4603...\n",
            "Finding apartments...\n",
            "Found 50 apartments on this page.\n",
            "Processing page 4604...\n",
            "Finding apartments...\n",
            "Found 50 apartments on this page.\n",
            "Processing page 4605...\n",
            "Finding apartments...\n",
            "Found 50 apartments on this page.\n",
            "Processing page 4606...\n",
            "Finding apartments...\n",
            "Found 50 apartments on this page.\n",
            "Processing page 4607...\n",
            "Finding apartments...\n",
            "Found 50 apartments on this page.\n",
            "Processing page 4608...\n",
            "Finding apartments...\n",
            "Found 50 apartments on this page.\n",
            "Processing page 4609...\n",
            "Finding apartments...\n",
            "Found 50 apartments on this page.\n",
            "Processing page 4610...\n",
            "Finding apartments...\n",
            "Found 50 apartments on this page.\n",
            "Processing page 4611...\n",
            "Finding apartments...\n",
            "Found 50 apartments on this page.\n",
            "Processing page 4612...\n",
            "Finding apartments...\n",
            "Found 50 apartments on this page.\n",
            "Processing page 4613...\n",
            "Finding apartments...\n",
            "Found 50 apartments on this page.\n",
            "Processing page 4614...\n",
            "Finding apartments...\n",
            "Found 50 apartments on this page.\n",
            "Processing page 4615...\n",
            "Finding apartments...\n",
            "Found 50 apartments on this page.\n",
            "Processing page 4616...\n",
            "Finding apartments...\n",
            "Found 50 apartments on this page.\n",
            "Processing page 4617...\n",
            "Finding apartments...\n",
            "Found 50 apartments on this page.\n",
            "Processing page 4618...\n",
            "Finding apartments...\n",
            "Found 50 apartments on this page.\n",
            "Processing page 4619...\n",
            "Finding apartments...\n",
            "Found 50 apartments on this page.\n",
            "Processing page 4620...\n",
            "Finding apartments...\n",
            "Found 50 apartments on this page.\n",
            "Processing page 4621...\n",
            "Finding apartments...\n",
            "Found 50 apartments on this page.\n",
            "Processing page 4622...\n",
            "Finding apartments...\n",
            "Found 50 apartments on this page.\n",
            "Processing page 4623...\n",
            "Finding apartments...\n",
            "Found 50 apartments on this page.\n",
            "Processing page 4624...\n",
            "Finding apartments...\n",
            "Found 50 apartments on this page.\n",
            "Processing page 4625...\n",
            "Finding apartments...\n",
            "Found 50 apartments on this page.\n",
            "Processing page 4626...\n",
            "Finding apartments...\n",
            "Found 50 apartments on this page.\n",
            "Processing page 4627...\n",
            "Finding apartments...\n",
            "Found 50 apartments on this page.\n",
            "Processing page 4628...\n",
            "Finding apartments...\n",
            "Found 50 apartments on this page.\n",
            "Processing page 4629...\n",
            "Finding apartments...\n",
            "Found 50 apartments on this page.\n",
            "Processing page 4630...\n",
            "Finding apartments...\n",
            "Found 50 apartments on this page.\n",
            "Processing page 4631...\n",
            "Finding apartments...\n",
            "Found 50 apartments on this page.\n",
            "Processing page 4632...\n",
            "Finding apartments...\n",
            "Found 50 apartments on this page.\n",
            "Processing page 4633...\n",
            "Finding apartments...\n",
            "Found 50 apartments on this page.\n",
            "Processing page 4634...\n",
            "Finding apartments...\n",
            "Found 50 apartments on this page.\n",
            "Processing page 4635...\n",
            "Finding apartments...\n",
            "Found 50 apartments on this page.\n",
            "Processing page 4636...\n",
            "Finding apartments...\n",
            "Found 50 apartments on this page.\n",
            "Processing page 4637...\n",
            "Finding apartments...\n",
            "Found 50 apartments on this page.\n",
            "Processing page 4638...\n",
            "Finding apartments...\n",
            "Found 50 apartments on this page.\n",
            "Processing page 4639...\n",
            "Finding apartments...\n",
            "Found 50 apartments on this page.\n",
            "Processing page 4640...\n",
            "Finding apartments...\n",
            "Found 50 apartments on this page.\n",
            "Processing page 4641...\n",
            "Finding apartments...\n",
            "Found 50 apartments on this page.\n",
            "Processing page 4642...\n",
            "Finding apartments...\n",
            "Found 50 apartments on this page.\n",
            "Processing page 4643...\n",
            "Finding apartments...\n",
            "Found 50 apartments on this page.\n",
            "Processing page 4644...\n",
            "Finding apartments...\n",
            "Found 50 apartments on this page.\n",
            "Processing page 4645...\n",
            "Finding apartments...\n",
            "Found 50 apartments on this page.\n",
            "Processing page 4646...\n",
            "Finding apartments...\n",
            "Found 50 apartments on this page.\n",
            "Processing page 4647...\n",
            "Finding apartments...\n",
            "Found 50 apartments on this page.\n",
            "Processing page 4648...\n",
            "Finding apartments...\n",
            "Found 50 apartments on this page.\n",
            "Processing page 4649...\n",
            "Finding apartments...\n",
            "Found 50 apartments on this page.\n",
            "Processing page 4650...\n",
            "Finding apartments...\n",
            "Found 50 apartments on this page.\n",
            "Processing page 4651...\n",
            "Finding apartments...\n",
            "Found 50 apartments on this page.\n",
            "Processing page 4652...\n",
            "Finding apartments...\n",
            "Found 50 apartments on this page.\n",
            "Processing page 4653...\n",
            "Finding apartments...\n",
            "Found 50 apartments on this page.\n",
            "Processing page 4654...\n",
            "Finding apartments...\n",
            "Found 50 apartments on this page.\n",
            "Processing page 4655...\n",
            "Finding apartments...\n",
            "Found 50 apartments on this page.\n",
            "Processing page 4656...\n",
            "Finding apartments...\n",
            "Found 50 apartments on this page.\n",
            "Processing page 4657...\n",
            "Finding apartments...\n",
            "Found 50 apartments on this page.\n",
            "Processing page 4658...\n",
            "Finding apartments...\n",
            "Found 50 apartments on this page.\n",
            "Processing page 4659...\n",
            "Finding apartments...\n",
            "Found 50 apartments on this page.\n",
            "Processing page 4660...\n",
            "Finding apartments...\n",
            "Found 50 apartments on this page.\n",
            "Processing page 4661...\n",
            "Finding apartments...\n",
            "Found 50 apartments on this page.\n",
            "Processing page 4662...\n",
            "Finding apartments...\n",
            "Found 50 apartments on this page.\n",
            "Processing page 4663...\n",
            "Finding apartments...\n",
            "Found 50 apartments on this page.\n",
            "Processing page 4664...\n",
            "Finding apartments...\n",
            "Found 50 apartments on this page.\n",
            "Processing page 4665...\n",
            "Finding apartments...\n",
            "Found 50 apartments on this page.\n",
            "Processing page 4666...\n",
            "Finding apartments...\n",
            "Found 50 apartments on this page.\n",
            "Processing page 4667...\n",
            "Finding apartments...\n",
            "Found 50 apartments on this page.\n",
            "Processing page 4668...\n",
            "Finding apartments...\n",
            "Found 50 apartments on this page.\n",
            "Processing page 4669...\n",
            "Finding apartments...\n",
            "Found 50 apartments on this page.\n",
            "Processing page 4670...\n",
            "Finding apartments...\n",
            "Found 50 apartments on this page.\n",
            "Processing page 4671...\n",
            "Finding apartments...\n",
            "Found 50 apartments on this page.\n",
            "Processing page 4672...\n",
            "Finding apartments...\n",
            "Found 50 apartments on this page.\n",
            "Processing page 4673...\n",
            "Finding apartments...\n",
            "Found 50 apartments on this page.\n",
            "Processing page 4674...\n",
            "Finding apartments...\n",
            "Found 50 apartments on this page.\n",
            "Processing page 4675...\n",
            "Finding apartments...\n",
            "Found 50 apartments on this page.\n",
            "Processing page 4676...\n",
            "Finding apartments...\n",
            "Found 50 apartments on this page.\n",
            "Processing page 4677...\n",
            "Finding apartments...\n",
            "Found 50 apartments on this page.\n",
            "Processing page 4678...\n",
            "Finding apartments...\n",
            "Found 50 apartments on this page.\n",
            "Processing page 4679...\n",
            "Finding apartments...\n",
            "Found 50 apartments on this page.\n",
            "Processing page 4680...\n",
            "Finding apartments...\n",
            "Found 50 apartments on this page.\n",
            "Processing page 4681...\n",
            "Finding apartments...\n",
            "Found 50 apartments on this page.\n",
            "Processing page 4682...\n",
            "Finding apartments...\n",
            "Found 50 apartments on this page.\n",
            "Processing page 4683...\n",
            "Finding apartments...\n",
            "Found 50 apartments on this page.\n",
            "Processing page 4684...\n",
            "Finding apartments...\n",
            "Found 50 apartments on this page.\n",
            "Processing page 4685...\n",
            "Finding apartments...\n",
            "Found 50 apartments on this page.\n",
            "Processing page 4686...\n",
            "Finding apartments...\n",
            "Found 50 apartments on this page.\n",
            "Processing page 4687...\n",
            "Finding apartments...\n",
            "Found 50 apartments on this page.\n",
            "Processing page 4688...\n",
            "Finding apartments...\n",
            "Found 50 apartments on this page.\n",
            "Processing page 4689...\n",
            "Finding apartments...\n",
            "Found 50 apartments on this page.\n",
            "Processing page 4690...\n",
            "Finding apartments...\n",
            "Found 50 apartments on this page.\n",
            "Processing page 4691...\n",
            "Finding apartments...\n",
            "Found 50 apartments on this page.\n",
            "Processing page 4692...\n",
            "Finding apartments...\n",
            "Found 50 apartments on this page.\n",
            "Processing page 4693...\n",
            "Finding apartments...\n",
            "Found 50 apartments on this page.\n",
            "Processing page 4694...\n",
            "Finding apartments...\n",
            "Found 50 apartments on this page.\n",
            "Processing page 4695...\n",
            "Finding apartments...\n",
            "Found 50 apartments on this page.\n",
            "Processing page 4696...\n",
            "Finding apartments...\n",
            "Found 50 apartments on this page.\n",
            "Processing page 4697...\n",
            "Finding apartments...\n",
            "Found 50 apartments on this page.\n",
            "Processing page 4698...\n",
            "Finding apartments...\n",
            "Found 50 apartments on this page.\n",
            "Processing page 4699...\n",
            "Finding apartments...\n",
            "Found 50 apartments on this page.\n",
            "Processing page 4700...\n",
            "Finding apartments...\n",
            "Found 50 apartments on this page.\n",
            "Processing page 4701...\n",
            "Finding apartments...\n",
            "Found 50 apartments on this page.\n",
            "Processing page 4702...\n",
            "Finding apartments...\n",
            "Found 50 apartments on this page.\n",
            "Processing page 4703...\n",
            "Finding apartments...\n",
            "Found 50 apartments on this page.\n",
            "Processing page 4704...\n",
            "Finding apartments...\n",
            "Found 50 apartments on this page.\n",
            "Processing page 4705...\n",
            "Finding apartments...\n",
            "Found 50 apartments on this page.\n",
            "Processing page 4706...\n",
            "Finding apartments...\n",
            "Found 50 apartments on this page.\n",
            "Processing page 4707...\n",
            "Finding apartments...\n",
            "Found 50 apartments on this page.\n",
            "Processing page 4708...\n",
            "Finding apartments...\n",
            "Found 50 apartments on this page.\n",
            "Processing page 4709...\n",
            "Finding apartments...\n",
            "Found 50 apartments on this page.\n",
            "Processing page 4710...\n",
            "Finding apartments...\n",
            "Found 50 apartments on this page.\n",
            "Processing page 4711...\n",
            "Finding apartments...\n",
            "Found 50 apartments on this page.\n",
            "Processing page 4712...\n",
            "Finding apartments...\n",
            "Found 50 apartments on this page.\n",
            "Processing page 4713...\n",
            "Finding apartments...\n",
            "Found 50 apartments on this page.\n",
            "Processing page 4714...\n",
            "Finding apartments...\n",
            "Found 50 apartments on this page.\n",
            "Processing page 4715...\n",
            "Finding apartments...\n",
            "Found 50 apartments on this page.\n",
            "Processing page 4716...\n",
            "Finding apartments...\n",
            "Found 50 apartments on this page.\n",
            "Processing page 4717...\n",
            "Finding apartments...\n",
            "Found 50 apartments on this page.\n",
            "Processing page 4718...\n",
            "Finding apartments...\n",
            "Found 50 apartments on this page.\n",
            "Processing page 4719...\n",
            "Finding apartments...\n",
            "Found 50 apartments on this page.\n",
            "Processing page 4720...\n",
            "Finding apartments...\n",
            "Found 50 apartments on this page.\n",
            "Processing page 4721...\n",
            "Finding apartments...\n",
            "Found 50 apartments on this page.\n",
            "Processing page 4722...\n",
            "Finding apartments...\n",
            "Found 50 apartments on this page.\n",
            "Processing page 4723...\n",
            "Finding apartments...\n",
            "Found 50 apartments on this page.\n",
            "Processing page 4724...\n",
            "Finding apartments...\n",
            "Found 50 apartments on this page.\n",
            "Processing page 4725...\n",
            "Finding apartments...\n",
            "Found 50 apartments on this page.\n",
            "Processing page 4726...\n",
            "Finding apartments...\n",
            "Found 50 apartments on this page.\n",
            "Processing page 4727...\n",
            "Finding apartments...\n",
            "Found 50 apartments on this page.\n",
            "Processing page 4728...\n",
            "Finding apartments...\n",
            "Found 50 apartments on this page.\n",
            "Processing page 4729...\n",
            "Finding apartments...\n",
            "Found 50 apartments on this page.\n",
            "Processing page 4730...\n",
            "Finding apartments...\n",
            "Found 50 apartments on this page.\n",
            "Processing page 4731...\n",
            "Finding apartments...\n",
            "Found 50 apartments on this page.\n",
            "Processing page 4732...\n",
            "Finding apartments...\n",
            "Found 50 apartments on this page.\n",
            "Processing page 4733...\n",
            "Finding apartments...\n",
            "Found 50 apartments on this page.\n",
            "Processing page 4734...\n",
            "Finding apartments...\n",
            "Found 50 apartments on this page.\n",
            "Processing page 4735...\n",
            "Finding apartments...\n",
            "Found 50 apartments on this page.\n",
            "Processing page 4736...\n",
            "Finding apartments...\n",
            "Found 50 apartments on this page.\n",
            "Processing page 4737...\n",
            "Finding apartments...\n",
            "Found 50 apartments on this page.\n",
            "Processing page 4738...\n",
            "Finding apartments...\n",
            "Found 50 apartments on this page.\n",
            "Processing page 4739...\n",
            "Finding apartments...\n",
            "Found 50 apartments on this page.\n",
            "Processing page 4740...\n",
            "Finding apartments...\n",
            "Found 50 apartments on this page.\n",
            "Processing page 4741...\n",
            "Finding apartments...\n",
            "Found 50 apartments on this page.\n",
            "Processing page 4742...\n",
            "Finding apartments...\n",
            "Found 50 apartments on this page.\n",
            "Processing page 4743...\n",
            "Finding apartments...\n",
            "Found 50 apartments on this page.\n",
            "Processing page 4744...\n",
            "Finding apartments...\n",
            "Found 50 apartments on this page.\n",
            "Processing page 4745...\n",
            "Finding apartments...\n",
            "Found 50 apartments on this page.\n",
            "Processing page 4746...\n",
            "Finding apartments...\n",
            "Found 50 apartments on this page.\n",
            "Processing page 4747...\n",
            "Finding apartments...\n",
            "Found 50 apartments on this page.\n",
            "Processing page 4748...\n",
            "Finding apartments...\n",
            "Found 50 apartments on this page.\n",
            "Processing page 4749...\n",
            "Finding apartments...\n",
            "Found 50 apartments on this page.\n",
            "Processing page 4750...\n",
            "Finding apartments...\n",
            "Found 50 apartments on this page.\n",
            "Processing page 4751...\n",
            "Finding apartments...\n",
            "Found 50 apartments on this page.\n",
            "Processing page 4752...\n",
            "Finding apartments...\n",
            "Found 50 apartments on this page.\n",
            "Processing page 4753...\n",
            "Finding apartments...\n",
            "Found 50 apartments on this page.\n",
            "Processing page 4754...\n",
            "Finding apartments...\n",
            "Found 50 apartments on this page.\n",
            "Processing page 4755...\n",
            "Finding apartments...\n",
            "Found 50 apartments on this page.\n",
            "Processing page 4756...\n",
            "Finding apartments...\n",
            "Found 50 apartments on this page.\n",
            "Processing page 4757...\n",
            "Finding apartments...\n",
            "Found 50 apartments on this page.\n",
            "Processing page 4758...\n",
            "Finding apartments...\n",
            "Found 50 apartments on this page.\n",
            "Processing page 4759...\n",
            "Finding apartments...\n",
            "Found 50 apartments on this page.\n",
            "Processing page 4760...\n",
            "Finding apartments...\n",
            "Found 50 apartments on this page.\n",
            "Processing page 4761...\n",
            "Finding apartments...\n",
            "Found 50 apartments on this page.\n",
            "Processing page 4762...\n",
            "Finding apartments...\n",
            "Found 50 apartments on this page.\n",
            "Processing page 4763...\n",
            "Finding apartments...\n",
            "Found 50 apartments on this page.\n",
            "Processing page 4764...\n",
            "Finding apartments...\n",
            "Found 50 apartments on this page.\n",
            "Processing page 4765...\n",
            "Finding apartments...\n",
            "Found 50 apartments on this page.\n",
            "Processing page 4766...\n",
            "Finding apartments...\n",
            "Found 50 apartments on this page.\n",
            "Processing page 4767...\n",
            "Finding apartments...\n",
            "Found 50 apartments on this page.\n",
            "Processing page 4768...\n",
            "Finding apartments...\n",
            "Found 50 apartments on this page.\n",
            "Processing page 4769...\n",
            "Finding apartments...\n",
            "Found 50 apartments on this page.\n",
            "Processing page 4770...\n",
            "Finding apartments...\n",
            "Found 50 apartments on this page.\n",
            "Processing page 4771...\n",
            "Finding apartments...\n",
            "Found 50 apartments on this page.\n",
            "Processing page 4772...\n",
            "Finding apartments...\n",
            "Found 50 apartments on this page.\n",
            "Processing page 4773...\n",
            "Finding apartments...\n",
            "Found 50 apartments on this page.\n",
            "Processing page 4774...\n",
            "Finding apartments...\n",
            "Found 50 apartments on this page.\n",
            "Processing page 4775...\n",
            "Finding apartments...\n",
            "Found 50 apartments on this page.\n",
            "Processing page 4776...\n",
            "Finding apartments...\n",
            "Found 50 apartments on this page.\n",
            "Processing page 4777...\n",
            "Finding apartments...\n",
            "Found 50 apartments on this page.\n",
            "Processing page 4778...\n",
            "Finding apartments...\n",
            "Found 50 apartments on this page.\n",
            "Processing page 4779...\n",
            "Finding apartments...\n",
            "Found 50 apartments on this page.\n",
            "Processing page 4780...\n",
            "Finding apartments...\n",
            "Found 50 apartments on this page.\n",
            "Processing page 4781...\n",
            "Finding apartments...\n",
            "Found 50 apartments on this page.\n",
            "Processing page 4782...\n",
            "Finding apartments...\n",
            "Found 50 apartments on this page.\n",
            "Processing page 4783...\n",
            "Finding apartments...\n",
            "Found 50 apartments on this page.\n",
            "Processing page 4784...\n",
            "Finding apartments...\n",
            "Found 50 apartments on this page.\n",
            "Processing page 4785...\n",
            "Finding apartments...\n",
            "Found 50 apartments on this page.\n",
            "Processing page 4786...\n",
            "Finding apartments...\n",
            "Found 50 apartments on this page.\n",
            "Processing page 4787...\n",
            "Finding apartments...\n",
            "Found 50 apartments on this page.\n",
            "Processing page 4788...\n",
            "Finding apartments...\n",
            "Found 50 apartments on this page.\n",
            "Processing page 4789...\n",
            "Finding apartments...\n",
            "Found 50 apartments on this page.\n",
            "Processing page 4790...\n",
            "Finding apartments...\n",
            "Found 50 apartments on this page.\n",
            "Processing page 4791...\n",
            "Finding apartments...\n",
            "Found 50 apartments on this page.\n",
            "Processing page 4792...\n",
            "Finding apartments...\n",
            "Found 50 apartments on this page.\n",
            "Processing page 4793...\n",
            "Finding apartments...\n",
            "Found 50 apartments on this page.\n",
            "Processing page 4794...\n",
            "Finding apartments...\n",
            "Found 50 apartments on this page.\n",
            "Processing page 4795...\n",
            "Finding apartments...\n",
            "Found 50 apartments on this page.\n",
            "Processing page 4796...\n",
            "Finding apartments...\n",
            "Found 50 apartments on this page.\n",
            "Processing page 4797...\n",
            "Finding apartments...\n",
            "Found 50 apartments on this page.\n",
            "Processing page 4798...\n",
            "Finding apartments...\n",
            "Found 50 apartments on this page.\n",
            "Processing page 4799...\n",
            "Finding apartments...\n",
            "Found 50 apartments on this page.\n",
            "Processing page 4800...\n",
            "Finding apartments...\n",
            "Found 50 apartments on this page.\n",
            "Processing page 4801...\n",
            "Finding apartments...\n",
            "Found 50 apartments on this page.\n",
            "Processing page 4802...\n",
            "Finding apartments...\n",
            "Found 50 apartments on this page.\n",
            "Processing page 4803...\n",
            "Finding apartments...\n",
            "Found 50 apartments on this page.\n",
            "Processing page 4804...\n",
            "Finding apartments...\n",
            "Found 50 apartments on this page.\n",
            "Processing page 4805...\n",
            "Finding apartments...\n",
            "Found 50 apartments on this page.\n",
            "Processing page 4806...\n",
            "Finding apartments...\n",
            "Found 50 apartments on this page.\n",
            "Processing page 4807...\n",
            "Finding apartments...\n",
            "Found 50 apartments on this page.\n",
            "Processing page 4808...\n",
            "Finding apartments...\n",
            "Found 50 apartments on this page.\n",
            "Processing page 4809...\n",
            "Finding apartments...\n",
            "Found 50 apartments on this page.\n",
            "Processing page 4810...\n",
            "Finding apartments...\n",
            "Found 50 apartments on this page.\n",
            "Processing page 4811...\n",
            "Finding apartments...\n",
            "Found 50 apartments on this page.\n",
            "Processing page 4812...\n",
            "Finding apartments...\n",
            "Found 50 apartments on this page.\n",
            "Processing page 4813...\n",
            "Finding apartments...\n",
            "Found 50 apartments on this page.\n",
            "Processing page 4814...\n",
            "Finding apartments...\n",
            "Found 50 apartments on this page.\n",
            "Processing page 4815...\n",
            "Finding apartments...\n",
            "Found 50 apartments on this page.\n",
            "Processing page 4816...\n",
            "Finding apartments...\n",
            "Found 50 apartments on this page.\n",
            "Processing page 4817...\n",
            "Finding apartments...\n",
            "Found 50 apartments on this page.\n",
            "Processing page 4818...\n",
            "Finding apartments...\n",
            "Found 50 apartments on this page.\n",
            "Processing page 4819...\n",
            "Finding apartments...\n",
            "Found 50 apartments on this page.\n",
            "Processing page 4820...\n",
            "Finding apartments...\n",
            "Found 50 apartments on this page.\n",
            "Processing page 4821...\n",
            "Finding apartments...\n",
            "Found 50 apartments on this page.\n",
            "Processing page 4822...\n",
            "Finding apartments...\n",
            "Found 50 apartments on this page.\n",
            "Processing page 4823...\n",
            "Finding apartments...\n",
            "Found 50 apartments on this page.\n",
            "Processing page 4824...\n",
            "Finding apartments...\n",
            "Found 50 apartments on this page.\n",
            "Processing page 4825...\n",
            "Finding apartments...\n",
            "Found 50 apartments on this page.\n",
            "Processing page 4826...\n",
            "Finding apartments...\n",
            "Found 50 apartments on this page.\n",
            "Processing page 4827...\n",
            "Finding apartments...\n",
            "Found 50 apartments on this page.\n",
            "Processing page 4828...\n",
            "Finding apartments...\n",
            "Found 50 apartments on this page.\n",
            "Processing page 4829...\n",
            "Finding apartments...\n",
            "Found 50 apartments on this page.\n",
            "Processing page 4830...\n",
            "Finding apartments...\n",
            "Found 50 apartments on this page.\n",
            "Processing page 4831...\n",
            "Finding apartments...\n",
            "Found 50 apartments on this page.\n",
            "Processing page 4832...\n",
            "Finding apartments...\n",
            "Found 50 apartments on this page.\n",
            "Processing page 4833...\n",
            "Finding apartments...\n",
            "Found 50 apartments on this page.\n",
            "Processing page 4834...\n",
            "Finding apartments...\n",
            "Found 50 apartments on this page.\n",
            "Processing page 4835...\n",
            "Finding apartments...\n",
            "Found 50 apartments on this page.\n",
            "Processing page 4836...\n",
            "Finding apartments...\n",
            "Found 50 apartments on this page.\n",
            "Processing page 4837...\n",
            "Finding apartments...\n",
            "Found 50 apartments on this page.\n",
            "Processing page 4838...\n",
            "Finding apartments...\n",
            "Found 50 apartments on this page.\n",
            "Processing page 4839...\n",
            "Finding apartments...\n",
            "Found 50 apartments on this page.\n",
            "Processing page 4840...\n",
            "Finding apartments...\n",
            "Found 50 apartments on this page.\n",
            "Processing page 4841...\n",
            "Finding apartments...\n",
            "Found 50 apartments on this page.\n",
            "Processing page 4842...\n",
            "Finding apartments...\n",
            "Found 50 apartments on this page.\n",
            "Processing page 4843...\n",
            "Finding apartments...\n",
            "Found 50 apartments on this page.\n",
            "Processing page 4844...\n",
            "Finding apartments...\n",
            "Found 50 apartments on this page.\n",
            "Processing page 4845...\n",
            "Finding apartments...\n",
            "Found 50 apartments on this page.\n",
            "Processing page 4846...\n",
            "Finding apartments...\n",
            "Found 50 apartments on this page.\n",
            "Processing page 4847...\n",
            "Finding apartments...\n",
            "Found 50 apartments on this page.\n",
            "Processing page 4848...\n",
            "Finding apartments...\n",
            "Found 50 apartments on this page.\n",
            "Processing page 4849...\n",
            "Finding apartments...\n",
            "Found 50 apartments on this page.\n",
            "Processing page 4850...\n",
            "Finding apartments...\n",
            "Found 50 apartments on this page.\n",
            "Processing page 4851...\n",
            "Finding apartments...\n",
            "Found 50 apartments on this page.\n",
            "Processing page 4852...\n",
            "Finding apartments...\n",
            "Found 50 apartments on this page.\n",
            "Processing page 4853...\n",
            "Finding apartments...\n",
            "Found 50 apartments on this page.\n",
            "Processing page 4854...\n",
            "Finding apartments...\n",
            "Found 50 apartments on this page.\n",
            "Processing page 4855...\n",
            "Finding apartments...\n",
            "Found 50 apartments on this page.\n",
            "Processing page 4856...\n",
            "Finding apartments...\n",
            "Found 50 apartments on this page.\n",
            "Processing page 4857...\n",
            "Finding apartments...\n",
            "Found 50 apartments on this page.\n",
            "Processing page 4858...\n",
            "Finding apartments...\n",
            "Found 50 apartments on this page.\n",
            "Processing page 4859...\n",
            "Finding apartments...\n",
            "Found 50 apartments on this page.\n",
            "Processing page 4860...\n",
            "Finding apartments...\n",
            "Found 50 apartments on this page.\n",
            "Processing page 4861...\n",
            "Finding apartments...\n",
            "Found 50 apartments on this page.\n",
            "Processing page 4862...\n",
            "Finding apartments...\n",
            "Found 50 apartments on this page.\n",
            "Processing page 4863...\n",
            "Finding apartments...\n",
            "Found 50 apartments on this page.\n",
            "Processing page 4864...\n",
            "Finding apartments...\n",
            "Found 50 apartments on this page.\n",
            "Processing page 4865...\n",
            "Finding apartments...\n",
            "Found 50 apartments on this page.\n",
            "Processing page 4866...\n",
            "Finding apartments...\n",
            "Found 50 apartments on this page.\n",
            "Processing page 4867...\n",
            "Finding apartments...\n",
            "Found 50 apartments on this page.\n",
            "Processing page 4868...\n",
            "Finding apartments...\n",
            "Found 50 apartments on this page.\n",
            "Processing page 4869...\n",
            "Finding apartments...\n",
            "Found 50 apartments on this page.\n",
            "Processing page 4870...\n",
            "Finding apartments...\n",
            "Found 50 apartments on this page.\n",
            "Processing page 4871...\n",
            "Finding apartments...\n",
            "Found 50 apartments on this page.\n",
            "Processing page 4872...\n",
            "Finding apartments...\n",
            "Found 50 apartments on this page.\n",
            "Processing page 4873...\n",
            "Finding apartments...\n",
            "Found 50 apartments on this page.\n",
            "Processing page 4874...\n",
            "Finding apartments...\n",
            "Found 50 apartments on this page.\n",
            "Processing page 4875...\n",
            "Finding apartments...\n",
            "Found 50 apartments on this page.\n",
            "Processing page 4876...\n",
            "Finding apartments...\n",
            "Found 50 apartments on this page.\n",
            "Processing page 4877...\n",
            "Finding apartments...\n",
            "Found 50 apartments on this page.\n",
            "Processing page 4878...\n",
            "Finding apartments...\n",
            "Found 50 apartments on this page.\n",
            "Processing page 4879...\n",
            "Finding apartments...\n",
            "Found 50 apartments on this page.\n",
            "Processing page 4880...\n",
            "Finding apartments...\n",
            "Found 50 apartments on this page.\n",
            "Processing page 4881...\n",
            "Finding apartments...\n",
            "Found 50 apartments on this page.\n",
            "Processing page 4882...\n",
            "Finding apartments...\n",
            "Found 50 apartments on this page.\n",
            "Processing page 4883...\n",
            "Finding apartments...\n",
            "Found 50 apartments on this page.\n",
            "Processing page 4884...\n",
            "Finding apartments...\n",
            "Found 50 apartments on this page.\n",
            "Processing page 4885...\n",
            "Finding apartments...\n",
            "Found 50 apartments on this page.\n",
            "Processing page 4886...\n",
            "Finding apartments...\n",
            "Found 50 apartments on this page.\n",
            "Processing page 4887...\n",
            "Finding apartments...\n",
            "Found 50 apartments on this page.\n",
            "Processing page 4888...\n",
            "Finding apartments...\n",
            "Found 50 apartments on this page.\n",
            "Processing page 4889...\n",
            "Finding apartments...\n",
            "Found 50 apartments on this page.\n",
            "Processing page 4890...\n",
            "Finding apartments...\n",
            "Found 50 apartments on this page.\n",
            "Processing page 4891...\n",
            "Finding apartments...\n",
            "Found 50 apartments on this page.\n",
            "Processing page 4892...\n",
            "Finding apartments...\n",
            "Found 50 apartments on this page.\n",
            "Processing page 4893...\n",
            "Finding apartments...\n",
            "Found 50 apartments on this page.\n",
            "Processing page 4894...\n",
            "Finding apartments...\n",
            "Found 50 apartments on this page.\n",
            "Processing page 4895...\n",
            "Finding apartments...\n",
            "Found 50 apartments on this page.\n",
            "Processing page 4896...\n",
            "Finding apartments...\n",
            "Found 50 apartments on this page.\n",
            "Processing page 4897...\n",
            "Finding apartments...\n",
            "Found 50 apartments on this page.\n",
            "Processing page 4898...\n",
            "Finding apartments...\n",
            "Found 50 apartments on this page.\n",
            "Processing page 4899...\n",
            "Finding apartments...\n",
            "Found 50 apartments on this page.\n",
            "Processing page 4900...\n",
            "Finding apartments...\n",
            "Found 50 apartments on this page.\n",
            "Processing page 4901...\n",
            "Finding apartments...\n",
            "Found 50 apartments on this page.\n",
            "Processing page 4902...\n",
            "Finding apartments...\n",
            "Found 50 apartments on this page.\n",
            "Processing page 4903...\n",
            "Finding apartments...\n",
            "Found 50 apartments on this page.\n",
            "Processing page 4904...\n",
            "Finding apartments...\n",
            "Found 50 apartments on this page.\n",
            "Processing page 4905...\n",
            "Finding apartments...\n",
            "Found 50 apartments on this page.\n",
            "Processing page 4906...\n",
            "Finding apartments...\n",
            "Found 50 apartments on this page.\n",
            "Processing page 4907...\n",
            "Finding apartments...\n",
            "Found 50 apartments on this page.\n",
            "Processing page 4908...\n",
            "Finding apartments...\n",
            "Found 50 apartments on this page.\n",
            "Processing page 4909...\n",
            "Finding apartments...\n",
            "Found 50 apartments on this page.\n",
            "Processing page 4910...\n",
            "Finding apartments...\n",
            "Found 50 apartments on this page.\n",
            "Processing page 4911...\n",
            "Finding apartments...\n",
            "Found 50 apartments on this page.\n",
            "Processing page 4912...\n",
            "Finding apartments...\n",
            "Found 50 apartments on this page.\n",
            "Processing page 4913...\n",
            "Finding apartments...\n",
            "Found 50 apartments on this page.\n",
            "Processing page 4914...\n",
            "Finding apartments...\n",
            "Found 50 apartments on this page.\n",
            "Processing page 4915...\n",
            "Finding apartments...\n",
            "Found 50 apartments on this page.\n",
            "Processing page 4916...\n",
            "Finding apartments...\n",
            "Found 50 apartments on this page.\n",
            "Processing page 4917...\n",
            "Finding apartments...\n",
            "Found 50 apartments on this page.\n",
            "Processing page 4918...\n",
            "Finding apartments...\n",
            "Found 50 apartments on this page.\n",
            "Processing page 4919...\n",
            "Finding apartments...\n",
            "Found 50 apartments on this page.\n",
            "Processing page 4920...\n",
            "Finding apartments...\n",
            "Found 50 apartments on this page.\n",
            "Processing page 4921...\n",
            "Finding apartments...\n",
            "Found 50 apartments on this page.\n",
            "Processing page 4922...\n",
            "Finding apartments...\n",
            "Found 50 apartments on this page.\n",
            "Processing page 4923...\n",
            "Finding apartments...\n",
            "Found 50 apartments on this page.\n",
            "Processing page 4924...\n",
            "Finding apartments...\n",
            "Found 50 apartments on this page.\n",
            "Processing page 4925...\n",
            "Finding apartments...\n",
            "Found 50 apartments on this page.\n",
            "Processing page 4926...\n",
            "Finding apartments...\n",
            "Found 50 apartments on this page.\n",
            "Processing page 4927...\n",
            "Finding apartments...\n",
            "Found 50 apartments on this page.\n",
            "Processing page 4928...\n",
            "Finding apartments...\n",
            "Found 50 apartments on this page.\n",
            "Processing page 4929...\n",
            "Finding apartments...\n",
            "Found 50 apartments on this page.\n",
            "Processing page 4930...\n",
            "Finding apartments...\n",
            "Found 50 apartments on this page.\n",
            "Processing page 4931...\n",
            "Finding apartments...\n",
            "Found 50 apartments on this page.\n",
            "Processing page 4932...\n",
            "Finding apartments...\n",
            "Found 50 apartments on this page.\n",
            "Processing page 4933...\n",
            "Finding apartments...\n",
            "Found 50 apartments on this page.\n",
            "Processing page 4934...\n",
            "Finding apartments...\n",
            "Found 50 apartments on this page.\n",
            "Processing page 4935...\n",
            "Finding apartments...\n",
            "Found 50 apartments on this page.\n",
            "Processing page 4936...\n",
            "Finding apartments...\n",
            "Found 50 apartments on this page.\n",
            "Processing page 4937...\n",
            "Finding apartments...\n",
            "Found 50 apartments on this page.\n",
            "Processing page 4938...\n",
            "Finding apartments...\n",
            "Found 50 apartments on this page.\n",
            "Processing page 4939...\n",
            "Finding apartments...\n",
            "Found 50 apartments on this page.\n",
            "Processing page 4940...\n",
            "Finding apartments...\n",
            "Found 50 apartments on this page.\n",
            "Processing page 4941...\n",
            "Finding apartments...\n",
            "Found 50 apartments on this page.\n",
            "Processing page 4942...\n",
            "Finding apartments...\n",
            "Found 50 apartments on this page.\n",
            "Processing page 4943...\n",
            "Finding apartments...\n",
            "Found 50 apartments on this page.\n",
            "Processing page 4944...\n",
            "Finding apartments...\n",
            "Found 50 apartments on this page.\n",
            "Processing page 4945...\n",
            "Finding apartments...\n",
            "Found 50 apartments on this page.\n",
            "Processing page 4946...\n",
            "Finding apartments...\n",
            "Found 50 apartments on this page.\n",
            "Processing page 4947...\n",
            "Finding apartments...\n",
            "Found 50 apartments on this page.\n",
            "Processing page 4948...\n",
            "Finding apartments...\n",
            "Found 50 apartments on this page.\n",
            "Processing page 4949...\n",
            "Finding apartments...\n",
            "Found 50 apartments on this page.\n",
            "Processing page 4950...\n",
            "Finding apartments...\n",
            "Found 50 apartments on this page.\n",
            "Processing page 4951...\n",
            "Finding apartments...\n",
            "Found 50 apartments on this page.\n",
            "Processing page 4952...\n",
            "Finding apartments...\n",
            "Found 50 apartments on this page.\n",
            "Processing page 4953...\n",
            "Finding apartments...\n",
            "Found 50 apartments on this page.\n",
            "Processing page 4954...\n",
            "Finding apartments...\n",
            "Found 50 apartments on this page.\n",
            "Processing page 4955...\n",
            "Finding apartments...\n",
            "Found 50 apartments on this page.\n",
            "Processing page 4956...\n",
            "Finding apartments...\n",
            "Found 50 apartments on this page.\n",
            "Processing page 4957...\n",
            "Finding apartments...\n",
            "Found 50 apartments on this page.\n",
            "Processing page 4958...\n",
            "Finding apartments...\n",
            "Found 50 apartments on this page.\n",
            "Processing page 4959...\n",
            "Finding apartments...\n",
            "Found 50 apartments on this page.\n",
            "Processing page 4960...\n",
            "Finding apartments...\n",
            "Found 50 apartments on this page.\n",
            "Processing page 4961...\n",
            "Finding apartments...\n",
            "Found 50 apartments on this page.\n",
            "Processing page 4962...\n",
            "Finding apartments...\n",
            "Found 50 apartments on this page.\n",
            "Processing page 4963...\n",
            "Finding apartments...\n",
            "Found 50 apartments on this page.\n",
            "Processing page 4964...\n",
            "Finding apartments...\n",
            "Found 50 apartments on this page.\n",
            "Processing page 4965...\n",
            "Finding apartments...\n",
            "Found 50 apartments on this page.\n",
            "Processing page 4966...\n",
            "Finding apartments...\n",
            "Found 50 apartments on this page.\n",
            "Processing page 4967...\n",
            "Finding apartments...\n",
            "Found 50 apartments on this page.\n",
            "Processing page 4968...\n",
            "Finding apartments...\n",
            "Found 50 apartments on this page.\n",
            "Processing page 4969...\n",
            "Finding apartments...\n",
            "Found 50 apartments on this page.\n",
            "Processing page 4970...\n",
            "Finding apartments...\n",
            "Found 50 apartments on this page.\n",
            "Processing page 4971...\n",
            "Finding apartments...\n",
            "Found 50 apartments on this page.\n",
            "Processing page 4972...\n",
            "Finding apartments...\n",
            "Found 50 apartments on this page.\n",
            "Processing page 4973...\n",
            "Finding apartments...\n",
            "Found 50 apartments on this page.\n",
            "Processing page 4974...\n",
            "Finding apartments...\n",
            "Found 50 apartments on this page.\n",
            "Processing page 4975...\n",
            "Finding apartments...\n",
            "Found 50 apartments on this page.\n",
            "Processing page 4976...\n",
            "Finding apartments...\n",
            "Found 50 apartments on this page.\n",
            "Processing page 4977...\n",
            "Finding apartments...\n",
            "Found 50 apartments on this page.\n",
            "Processing page 4978...\n",
            "Finding apartments...\n",
            "Found 50 apartments on this page.\n",
            "Processing page 4979...\n",
            "Finding apartments...\n",
            "Found 50 apartments on this page.\n",
            "Processing page 4980...\n",
            "Finding apartments...\n",
            "Found 50 apartments on this page.\n",
            "Processing page 4981...\n",
            "Finding apartments...\n",
            "Found 50 apartments on this page.\n",
            "Processing page 4982...\n",
            "Finding apartments...\n",
            "Found 50 apartments on this page.\n",
            "Processing page 4983...\n",
            "Finding apartments...\n",
            "Found 50 apartments on this page.\n",
            "Processing page 4984...\n",
            "Finding apartments...\n",
            "Found 50 apartments on this page.\n",
            "Processing page 4985...\n",
            "Finding apartments...\n",
            "Found 50 apartments on this page.\n",
            "Processing page 4986...\n",
            "Finding apartments...\n",
            "Found 50 apartments on this page.\n",
            "Processing page 4987...\n",
            "Finding apartments...\n",
            "Found 50 apartments on this page.\n",
            "Processing page 4988...\n",
            "Finding apartments...\n",
            "Found 50 apartments on this page.\n",
            "Processing page 4989...\n",
            "Finding apartments...\n",
            "Found 50 apartments on this page.\n",
            "Processing page 4990...\n",
            "Finding apartments...\n",
            "Found 50 apartments on this page.\n",
            "Processing page 4991...\n",
            "Finding apartments...\n",
            "Found 50 apartments on this page.\n",
            "Processing page 4992...\n",
            "Finding apartments...\n",
            "Found 50 apartments on this page.\n",
            "Processing page 4993...\n",
            "Finding apartments...\n",
            "Found 50 apartments on this page.\n",
            "Processing page 4994...\n",
            "Finding apartments...\n",
            "Found 50 apartments on this page.\n",
            "Processing page 4995...\n",
            "Finding apartments...\n",
            "Found 50 apartments on this page.\n",
            "Processing page 4996...\n",
            "Finding apartments...\n",
            "Found 50 apartments on this page.\n",
            "Processing page 4997...\n",
            "Finding apartments...\n",
            "Found 50 apartments on this page.\n",
            "Processing page 4998...\n",
            "Finding apartments...\n",
            "Found 50 apartments on this page.\n",
            "Processing page 4999...\n",
            "Finding apartments...\n",
            "Found 50 apartments on this page.\n",
            "Processing page 5000...\n",
            "Finding apartments...\n",
            "Found 50 apartments on this page.\n",
            "Processing page 5001...\n",
            "Finding apartments...\n",
            "Found 50 apartments on this page.\n",
            "Processing page 5002...\n",
            "Finding apartments...\n",
            "Found 50 apartments on this page.\n",
            "Processing page 5003...\n",
            "Finding apartments...\n",
            "Found 50 apartments on this page.\n",
            "Processing page 5004...\n",
            "Finding apartments...\n",
            "Found 50 apartments on this page.\n",
            "Processing page 5005...\n",
            "Finding apartments...\n",
            "Found 50 apartments on this page.\n",
            "Processing page 5006...\n",
            "Finding apartments...\n",
            "Found 50 apartments on this page.\n",
            "Processing page 5007...\n",
            "Finding apartments...\n",
            "Found 50 apartments on this page.\n",
            "Processing page 5008...\n",
            "Finding apartments...\n",
            "Found 50 apartments on this page.\n",
            "Processing page 5009...\n",
            "Finding apartments...\n",
            "Found 50 apartments on this page.\n",
            "Processing page 5010...\n",
            "Finding apartments...\n",
            "Found 50 apartments on this page.\n",
            "Processing page 5011...\n",
            "Finding apartments...\n",
            "Found 50 apartments on this page.\n",
            "Processing page 5012...\n",
            "Finding apartments...\n",
            "Found 50 apartments on this page.\n",
            "Processing page 5013...\n",
            "Finding apartments...\n",
            "Found 50 apartments on this page.\n",
            "Processing page 5014...\n",
            "Finding apartments...\n",
            "Found 50 apartments on this page.\n",
            "Processing page 5015...\n",
            "Finding apartments...\n",
            "Found 50 apartments on this page.\n",
            "Processing page 5016...\n",
            "Finding apartments...\n",
            "Found 50 apartments on this page.\n",
            "Processing page 5017...\n",
            "Finding apartments...\n",
            "Found 50 apartments on this page.\n",
            "Processing page 5018...\n",
            "Finding apartments...\n",
            "Found 50 apartments on this page.\n",
            "Processing page 5019...\n",
            "Finding apartments...\n",
            "Found 50 apartments on this page.\n",
            "Processing page 5020...\n",
            "Finding apartments...\n",
            "Found 50 apartments on this page.\n",
            "Processing page 5021...\n",
            "Finding apartments...\n",
            "Found 50 apartments on this page.\n",
            "Processing page 5022...\n",
            "Finding apartments...\n",
            "Found 50 apartments on this page.\n",
            "Processing page 5023...\n",
            "Finding apartments...\n",
            "Found 50 apartments on this page.\n",
            "Processing page 5024...\n",
            "Finding apartments...\n",
            "Found 50 apartments on this page.\n",
            "Processing page 5025...\n",
            "Finding apartments...\n",
            "Found 50 apartments on this page.\n",
            "Processing page 5026...\n",
            "Finding apartments...\n",
            "Found 50 apartments on this page.\n",
            "Processing page 5027...\n",
            "Finding apartments...\n",
            "Found 50 apartments on this page.\n",
            "Processing page 5028...\n",
            "Finding apartments...\n",
            "Found 50 apartments on this page.\n",
            "Processing page 5029...\n",
            "Finding apartments...\n",
            "Found 50 apartments on this page.\n",
            "Processing page 5030...\n",
            "Finding apartments...\n",
            "Found 50 apartments on this page.\n",
            "Processing page 5031...\n",
            "Finding apartments...\n",
            "Found 50 apartments on this page.\n",
            "Processing page 5032...\n",
            "Finding apartments...\n",
            "Found 50 apartments on this page.\n",
            "Processing page 5033...\n",
            "Finding apartments...\n",
            "Found 50 apartments on this page.\n",
            "Processing page 5034...\n",
            "Finding apartments...\n",
            "Found 50 apartments on this page.\n",
            "Processing page 5035...\n",
            "Finding apartments...\n",
            "Found 50 apartments on this page.\n",
            "Processing page 5036...\n",
            "Finding apartments...\n",
            "Found 50 apartments on this page.\n",
            "Processing page 5037...\n",
            "Finding apartments...\n",
            "Found 50 apartments on this page.\n",
            "Processing page 5038...\n",
            "Finding apartments...\n",
            "Found 50 apartments on this page.\n",
            "Processing page 5039...\n",
            "Finding apartments...\n",
            "Found 50 apartments on this page.\n",
            "Processing page 5040...\n",
            "Finding apartments...\n",
            "Found 50 apartments on this page.\n",
            "Processing page 5041...\n",
            "Finding apartments...\n",
            "Found 50 apartments on this page.\n",
            "Processing page 5042...\n",
            "Finding apartments...\n",
            "Found 50 apartments on this page.\n",
            "Processing page 5043...\n",
            "Finding apartments...\n",
            "Found 50 apartments on this page.\n",
            "Processing page 5044...\n",
            "Finding apartments...\n",
            "Found 50 apartments on this page.\n",
            "Processing page 5045...\n",
            "Finding apartments...\n",
            "Found 50 apartments on this page.\n",
            "Processing page 5046...\n",
            "Finding apartments...\n",
            "Found 50 apartments on this page.\n",
            "Processing page 5047...\n",
            "Finding apartments...\n",
            "Found 50 apartments on this page.\n",
            "Processing page 5048...\n",
            "Finding apartments...\n",
            "Found 50 apartments on this page.\n",
            "Processing page 5049...\n",
            "Finding apartments...\n",
            "Found 50 apartments on this page.\n",
            "Processing page 5050...\n",
            "Finding apartments...\n",
            "Found 50 apartments on this page.\n",
            "Processing page 5051...\n",
            "Finding apartments...\n",
            "Found 50 apartments on this page.\n",
            "Processing page 5052...\n",
            "Finding apartments...\n",
            "Found 50 apartments on this page.\n",
            "Processing page 5053...\n",
            "Finding apartments...\n",
            "Found 50 apartments on this page.\n",
            "Processing page 5054...\n",
            "Finding apartments...\n",
            "Found 50 apartments on this page.\n",
            "Processing page 5055...\n",
            "Finding apartments...\n",
            "Found 50 apartments on this page.\n",
            "Processing page 5056...\n",
            "Finding apartments...\n",
            "Found 50 apartments on this page.\n",
            "Processing page 5057...\n",
            "Finding apartments...\n",
            "Found 50 apartments on this page.\n",
            "Processing page 5058...\n",
            "Finding apartments...\n",
            "Found 50 apartments on this page.\n",
            "Processing page 5059...\n",
            "Finding apartments...\n",
            "Found 50 apartments on this page.\n",
            "Processing page 5060...\n",
            "Finding apartments...\n",
            "Found 50 apartments on this page.\n",
            "Processing page 5061...\n",
            "Finding apartments...\n",
            "Found 50 apartments on this page.\n",
            "Processing page 5062...\n",
            "Finding apartments...\n",
            "Found 50 apartments on this page.\n",
            "Processing page 5063...\n",
            "Finding apartments...\n",
            "Found 50 apartments on this page.\n",
            "Processing page 5064...\n",
            "Finding apartments...\n",
            "Found 50 apartments on this page.\n",
            "Processing page 5065...\n",
            "Finding apartments...\n",
            "Found 50 apartments on this page.\n",
            "Processing page 5066...\n",
            "Finding apartments...\n",
            "Found 50 apartments on this page.\n",
            "Processing page 5067...\n",
            "Finding apartments...\n",
            "Found 50 apartments on this page.\n",
            "Processing page 5068...\n",
            "Finding apartments...\n",
            "Found 50 apartments on this page.\n",
            "Processing page 5069...\n",
            "Finding apartments...\n",
            "Found 50 apartments on this page.\n",
            "Processing page 5070...\n",
            "Finding apartments...\n",
            "Found 50 apartments on this page.\n",
            "Processing page 5071...\n",
            "Finding apartments...\n",
            "Found 50 apartments on this page.\n",
            "Processing page 5072...\n",
            "Finding apartments...\n",
            "Found 50 apartments on this page.\n",
            "Processing page 5073...\n",
            "Finding apartments...\n",
            "Found 50 apartments on this page.\n",
            "Processing page 5074...\n",
            "Finding apartments...\n",
            "Found 50 apartments on this page.\n",
            "Processing page 5075...\n",
            "Finding apartments...\n",
            "Found 50 apartments on this page.\n",
            "Processing page 5076...\n",
            "Finding apartments...\n",
            "Found 50 apartments on this page.\n",
            "Processing page 5077...\n",
            "Finding apartments...\n",
            "Found 50 apartments on this page.\n",
            "Processing page 5078...\n",
            "Finding apartments...\n",
            "Found 50 apartments on this page.\n",
            "Processing page 5079...\n",
            "Finding apartments...\n",
            "Found 50 apartments on this page.\n",
            "Processing page 5080...\n",
            "Finding apartments...\n",
            "Found 50 apartments on this page.\n",
            "Processing page 5081...\n",
            "Finding apartments...\n",
            "Found 50 apartments on this page.\n",
            "Processing page 5082...\n",
            "Finding apartments...\n",
            "Found 50 apartments on this page.\n",
            "Processing page 5083...\n",
            "Finding apartments...\n",
            "Found 50 apartments on this page.\n",
            "Processing page 5084...\n",
            "Finding apartments...\n",
            "Found 50 apartments on this page.\n",
            "Processing page 5085...\n",
            "Finding apartments...\n",
            "Found 50 apartments on this page.\n",
            "Processing page 5086...\n",
            "Finding apartments...\n",
            "Found 50 apartments on this page.\n",
            "Processing page 5087...\n",
            "Finding apartments...\n",
            "Found 50 apartments on this page.\n",
            "Processing page 5088...\n",
            "Finding apartments...\n",
            "Found 50 apartments on this page.\n",
            "Processing page 5089...\n",
            "Finding apartments...\n",
            "Found 50 apartments on this page.\n",
            "Processing page 5090...\n",
            "Finding apartments...\n",
            "Found 50 apartments on this page.\n",
            "Processing page 5091...\n",
            "Finding apartments...\n",
            "Found 50 apartments on this page.\n",
            "Processing page 5092...\n",
            "Finding apartments...\n",
            "Found 50 apartments on this page.\n",
            "Processing page 5093...\n",
            "Finding apartments...\n",
            "Found 50 apartments on this page.\n",
            "Processing page 5094...\n",
            "Finding apartments...\n",
            "Found 50 apartments on this page.\n",
            "Processing page 5095...\n",
            "Finding apartments...\n",
            "Found 50 apartments on this page.\n",
            "Processing page 5096...\n",
            "Finding apartments...\n",
            "Found 50 apartments on this page.\n",
            "Processing page 5097...\n",
            "Finding apartments...\n",
            "Found 50 apartments on this page.\n",
            "Processing page 5098...\n",
            "Finding apartments...\n",
            "Found 50 apartments on this page.\n",
            "Processing page 5099...\n",
            "Finding apartments...\n",
            "Found 50 apartments on this page.\n",
            "Processing page 5100...\n",
            "Finding apartments...\n",
            "Found 50 apartments on this page.\n",
            "Processing page 5101...\n",
            "Finding apartments...\n",
            "Found 50 apartments on this page.\n",
            "Processing page 5102...\n",
            "Finding apartments...\n",
            "Found 50 apartments on this page.\n",
            "Processing page 5103...\n",
            "Finding apartments...\n",
            "Found 50 apartments on this page.\n",
            "Processing page 5104...\n",
            "Finding apartments...\n",
            "Found 50 apartments on this page.\n",
            "Processing page 5105...\n",
            "Finding apartments...\n",
            "Found 50 apartments on this page.\n",
            "Processing page 5106...\n",
            "Finding apartments...\n",
            "Found 50 apartments on this page.\n",
            "Processing page 5107...\n",
            "Finding apartments...\n",
            "Found 50 apartments on this page.\n",
            "Processing page 5108...\n",
            "Finding apartments...\n",
            "Found 50 apartments on this page.\n",
            "Processing page 5109...\n",
            "Finding apartments...\n",
            "Found 50 apartments on this page.\n",
            "Processing page 5110...\n",
            "Finding apartments...\n",
            "Found 50 apartments on this page.\n",
            "Processing page 5111...\n",
            "Finding apartments...\n",
            "Found 50 apartments on this page.\n",
            "Processing page 5112...\n",
            "Finding apartments...\n",
            "Found 50 apartments on this page.\n",
            "Processing page 5113...\n",
            "Finding apartments...\n",
            "Found 50 apartments on this page.\n",
            "Processing page 5114...\n",
            "Finding apartments...\n",
            "Found 50 apartments on this page.\n",
            "Processing page 5115...\n",
            "Finding apartments...\n",
            "Found 50 apartments on this page.\n",
            "Processing page 5116...\n",
            "Finding apartments...\n",
            "Found 50 apartments on this page.\n",
            "Processing page 5117...\n",
            "Finding apartments...\n",
            "Found 50 apartments on this page.\n",
            "Processing page 5118...\n",
            "Finding apartments...\n",
            "Found 50 apartments on this page.\n",
            "Processing page 5119...\n",
            "Finding apartments...\n",
            "Found 50 apartments on this page.\n",
            "Processing page 5120...\n",
            "Finding apartments...\n",
            "Found 50 apartments on this page.\n",
            "Processing page 5121...\n",
            "Finding apartments...\n",
            "Found 50 apartments on this page.\n",
            "Processing page 5122...\n",
            "Finding apartments...\n",
            "Found 50 apartments on this page.\n",
            "Processing page 5123...\n",
            "Finding apartments...\n",
            "Found 50 apartments on this page.\n",
            "Processing page 5124...\n",
            "Finding apartments...\n",
            "Found 50 apartments on this page.\n",
            "Processing page 5125...\n",
            "Finding apartments...\n",
            "Found 50 apartments on this page.\n",
            "Processing page 5126...\n",
            "Finding apartments...\n",
            "Found 50 apartments on this page.\n",
            "Processing page 5127...\n",
            "Finding apartments...\n",
            "Found 50 apartments on this page.\n",
            "Processing page 5128...\n",
            "Finding apartments...\n",
            "Found 50 apartments on this page.\n",
            "Processing page 5129...\n",
            "Finding apartments...\n",
            "Found 50 apartments on this page.\n",
            "Processing page 5130...\n",
            "Finding apartments...\n",
            "Found 50 apartments on this page.\n",
            "Processing page 5131...\n",
            "Finding apartments...\n",
            "Found 50 apartments on this page.\n",
            "Processing page 5132...\n",
            "Finding apartments...\n",
            "Found 50 apartments on this page.\n",
            "Processing page 5133...\n",
            "Finding apartments...\n",
            "Found 50 apartments on this page.\n",
            "Processing page 5134...\n",
            "Finding apartments...\n",
            "Found 50 apartments on this page.\n",
            "Processing page 5135...\n",
            "Finding apartments...\n",
            "Found 50 apartments on this page.\n",
            "Processing page 5136...\n",
            "Finding apartments...\n",
            "Found 50 apartments on this page.\n",
            "Processing page 5137...\n",
            "Finding apartments...\n",
            "Found 50 apartments on this page.\n",
            "Processing page 5138...\n",
            "Finding apartments...\n",
            "Found 50 apartments on this page.\n",
            "Processing page 5139...\n",
            "Finding apartments...\n",
            "Found 50 apartments on this page.\n",
            "Processing page 5140...\n",
            "Finding apartments...\n",
            "Found 50 apartments on this page.\n",
            "Processing page 5141...\n",
            "Finding apartments...\n",
            "Found 50 apartments on this page.\n",
            "Processing page 5142...\n",
            "Finding apartments...\n",
            "Found 50 apartments on this page.\n",
            "Processing page 5143...\n",
            "Finding apartments...\n",
            "Found 50 apartments on this page.\n",
            "Processing page 5144...\n",
            "Finding apartments...\n",
            "Found 50 apartments on this page.\n",
            "Processing page 5145...\n",
            "Finding apartments...\n",
            "Found 50 apartments on this page.\n",
            "Processing page 5146...\n",
            "Finding apartments...\n",
            "Found 50 apartments on this page.\n",
            "Processing page 5147...\n",
            "Finding apartments...\n",
            "Found 50 apartments on this page.\n",
            "Processing page 5148...\n",
            "Finding apartments...\n",
            "Found 50 apartments on this page.\n",
            "Processing page 5149...\n",
            "Finding apartments...\n",
            "Found 50 apartments on this page.\n",
            "Processing page 5150...\n",
            "Finding apartments...\n",
            "Found 50 apartments on this page.\n",
            "Processing page 5151...\n",
            "Finding apartments...\n",
            "Found 50 apartments on this page.\n",
            "Processing page 5152...\n",
            "Finding apartments...\n",
            "Found 50 apartments on this page.\n",
            "Processing page 5153...\n",
            "Finding apartments...\n",
            "Found 50 apartments on this page.\n",
            "Processing page 5154...\n",
            "Finding apartments...\n",
            "Found 50 apartments on this page.\n",
            "Processing page 5155...\n",
            "Finding apartments...\n",
            "Found 50 apartments on this page.\n",
            "Processing page 5156...\n",
            "Finding apartments...\n",
            "Found 50 apartments on this page.\n",
            "Processing page 5157...\n",
            "Finding apartments...\n",
            "Found 50 apartments on this page.\n",
            "Processing page 5158...\n",
            "Finding apartments...\n",
            "Found 50 apartments on this page.\n",
            "Processing page 5159...\n",
            "Finding apartments...\n",
            "Found 50 apartments on this page.\n",
            "Processing page 5160...\n",
            "Finding apartments...\n",
            "Found 50 apartments on this page.\n",
            "Processing page 5161...\n",
            "Finding apartments...\n",
            "Found 50 apartments on this page.\n",
            "Processing page 5162...\n",
            "Finding apartments...\n",
            "Found 50 apartments on this page.\n",
            "Processing page 5163...\n",
            "Finding apartments...\n",
            "Found 50 apartments on this page.\n",
            "Processing page 5164...\n",
            "Finding apartments...\n",
            "Found 50 apartments on this page.\n",
            "Processing page 5165...\n",
            "Finding apartments...\n",
            "Found 50 apartments on this page.\n",
            "Processing page 5166...\n",
            "Finding apartments...\n",
            "Found 50 apartments on this page.\n",
            "Processing page 5167...\n",
            "Finding apartments...\n",
            "Found 50 apartments on this page.\n",
            "Processing page 5168...\n",
            "Finding apartments...\n",
            "Found 50 apartments on this page.\n",
            "Processing page 5169...\n",
            "Finding apartments...\n",
            "Found 50 apartments on this page.\n",
            "Processing page 5170...\n",
            "Finding apartments...\n",
            "Found 50 apartments on this page.\n",
            "Processing page 5171...\n",
            "Finding apartments...\n",
            "Found 50 apartments on this page.\n",
            "Processing page 5172...\n",
            "Finding apartments...\n",
            "Found 50 apartments on this page.\n",
            "Processing page 5173...\n",
            "Finding apartments...\n",
            "Found 50 apartments on this page.\n",
            "Processing page 5174...\n",
            "Finding apartments...\n",
            "Found 50 apartments on this page.\n",
            "Processing page 5175...\n",
            "Finding apartments...\n",
            "Found 50 apartments on this page.\n",
            "Processing page 5176...\n",
            "Finding apartments...\n",
            "Found 50 apartments on this page.\n",
            "Processing page 5177...\n",
            "Finding apartments...\n",
            "Found 50 apartments on this page.\n",
            "Processing page 5178...\n",
            "Finding apartments...\n",
            "Found 50 apartments on this page.\n",
            "Processing page 5179...\n",
            "Finding apartments...\n",
            "Found 50 apartments on this page.\n",
            "Processing page 5180...\n",
            "Finding apartments...\n",
            "Found 50 apartments on this page.\n",
            "Processing page 5181...\n",
            "Finding apartments...\n",
            "Found 50 apartments on this page.\n",
            "Processing page 5182...\n",
            "Finding apartments...\n",
            "Found 50 apartments on this page.\n",
            "Processing page 5183...\n",
            "Finding apartments...\n",
            "Found 50 apartments on this page.\n",
            "Processing page 5184...\n",
            "Finding apartments...\n",
            "Found 50 apartments on this page.\n",
            "Processing page 5185...\n",
            "Finding apartments...\n",
            "Found 50 apartments on this page.\n",
            "Processing page 5186...\n",
            "Finding apartments...\n",
            "Found 50 apartments on this page.\n",
            "Processing page 5187...\n",
            "Finding apartments...\n",
            "Found 50 apartments on this page.\n",
            "Processing page 5188...\n",
            "Finding apartments...\n",
            "Found 50 apartments on this page.\n",
            "Processing page 5189...\n",
            "Finding apartments...\n",
            "Found 50 apartments on this page.\n",
            "Processing page 5190...\n",
            "Finding apartments...\n",
            "Found 50 apartments on this page.\n",
            "Processing page 5191...\n",
            "Finding apartments...\n",
            "Found 50 apartments on this page.\n",
            "Processing page 5192...\n",
            "Finding apartments...\n",
            "Found 50 apartments on this page.\n",
            "Processing page 5193...\n",
            "Finding apartments...\n",
            "Found 50 apartments on this page.\n",
            "Processing page 5194...\n",
            "Finding apartments...\n",
            "Found 50 apartments on this page.\n",
            "Processing page 5195...\n",
            "Finding apartments...\n",
            "Found 50 apartments on this page.\n",
            "Processing page 5196...\n",
            "Finding apartments...\n",
            "Found 50 apartments on this page.\n",
            "Processing page 5197...\n",
            "Finding apartments...\n",
            "Found 50 apartments on this page.\n",
            "Processing page 5198...\n",
            "Finding apartments...\n",
            "Found 50 apartments on this page.\n",
            "Processing page 5199...\n",
            "Finding apartments...\n",
            "Found 50 apartments on this page.\n",
            "Processing page 5200...\n",
            "Finding apartments...\n",
            "Found 50 apartments on this page.\n",
            "Processing page 5201...\n",
            "Finding apartments...\n",
            "Found 50 apartments on this page.\n",
            "Processing page 5202...\n",
            "Finding apartments...\n",
            "Found 50 apartments on this page.\n",
            "Processing page 5203...\n",
            "Finding apartments...\n",
            "Found 50 apartments on this page.\n",
            "Processing page 5204...\n",
            "Finding apartments...\n",
            "Found 50 apartments on this page.\n",
            "Processing page 5205...\n",
            "Finding apartments...\n",
            "Found 50 apartments on this page.\n",
            "Processing page 5206...\n",
            "Finding apartments...\n",
            "Found 50 apartments on this page.\n",
            "Processing page 5207...\n",
            "Finding apartments...\n",
            "Found 50 apartments on this page.\n",
            "Processing page 5208...\n",
            "Finding apartments...\n",
            "Found 50 apartments on this page.\n",
            "Processing page 5209...\n",
            "Finding apartments...\n",
            "Found 50 apartments on this page.\n",
            "Processing page 5210...\n",
            "Finding apartments...\n",
            "Found 50 apartments on this page.\n",
            "Processing page 5211...\n",
            "Finding apartments...\n",
            "Found 50 apartments on this page.\n",
            "Processing page 5212...\n",
            "Finding apartments...\n",
            "Found 50 apartments on this page.\n",
            "Processing page 5213...\n",
            "Finding apartments...\n",
            "Found 50 apartments on this page.\n",
            "Processing page 5214...\n",
            "Finding apartments...\n",
            "Found 50 apartments on this page.\n",
            "Processing page 5215...\n",
            "Finding apartments...\n",
            "Found 50 apartments on this page.\n",
            "Processing page 5216...\n",
            "Finding apartments...\n",
            "Found 50 apartments on this page.\n",
            "Processing page 5217...\n",
            "Finding apartments...\n",
            "Found 50 apartments on this page.\n",
            "Processing page 5218...\n",
            "Finding apartments...\n",
            "Found 50 apartments on this page.\n",
            "Processing page 5219...\n",
            "Finding apartments...\n",
            "Found 50 apartments on this page.\n",
            "Processing page 5220...\n",
            "Finding apartments...\n",
            "Found 50 apartments on this page.\n",
            "Processing page 5221...\n",
            "Finding apartments...\n",
            "Found 50 apartments on this page.\n",
            "Processing page 5222...\n",
            "Finding apartments...\n",
            "Found 50 apartments on this page.\n",
            "Processing page 5223...\n",
            "Finding apartments...\n",
            "Found 50 apartments on this page.\n",
            "Processing page 5224...\n",
            "Finding apartments...\n",
            "Found 50 apartments on this page.\n",
            "Processing page 5225...\n",
            "Finding apartments...\n",
            "Found 50 apartments on this page.\n",
            "Processing page 5226...\n",
            "Finding apartments...\n",
            "Found 50 apartments on this page.\n",
            "Processing page 5227...\n",
            "Finding apartments...\n",
            "Found 50 apartments on this page.\n",
            "Processing page 5228...\n",
            "Finding apartments...\n",
            "Found 50 apartments on this page.\n",
            "Processing page 5229...\n",
            "Finding apartments...\n",
            "Found 50 apartments on this page.\n",
            "Processing page 5230...\n",
            "Finding apartments...\n",
            "Found 50 apartments on this page.\n",
            "Processing page 5231...\n",
            "Finding apartments...\n",
            "Found 50 apartments on this page.\n",
            "Processing page 5232...\n",
            "Finding apartments...\n",
            "Found 50 apartments on this page.\n",
            "Processing page 5233...\n",
            "Finding apartments...\n",
            "Found 50 apartments on this page.\n",
            "Processing page 5234...\n",
            "Finding apartments...\n",
            "Found 50 apartments on this page.\n",
            "Processing page 5235...\n",
            "Finding apartments...\n",
            "Found 50 apartments on this page.\n",
            "Processing page 5236...\n",
            "Finding apartments...\n",
            "Found 50 apartments on this page.\n",
            "Processing page 5237...\n",
            "Finding apartments...\n",
            "Found 50 apartments on this page.\n",
            "Processing page 5238...\n",
            "Finding apartments...\n",
            "Found 50 apartments on this page.\n",
            "Processing page 5239...\n",
            "Finding apartments...\n",
            "Found 50 apartments on this page.\n",
            "Processing page 5240...\n",
            "Finding apartments...\n",
            "Found 50 apartments on this page.\n",
            "Processing page 5241...\n",
            "Finding apartments...\n",
            "Found 50 apartments on this page.\n",
            "Processing page 5242...\n",
            "Finding apartments...\n",
            "Found 50 apartments on this page.\n",
            "Processing page 5243...\n",
            "Finding apartments...\n",
            "Found 50 apartments on this page.\n",
            "Processing page 5244...\n",
            "Finding apartments...\n",
            "Found 50 apartments on this page.\n",
            "Processing page 5245...\n",
            "Finding apartments...\n",
            "Found 50 apartments on this page.\n",
            "Processing page 5246...\n",
            "Finding apartments...\n",
            "Found 50 apartments on this page.\n",
            "Processing page 5247...\n",
            "Finding apartments...\n",
            "Found 50 apartments on this page.\n",
            "Processing page 5248...\n",
            "Finding apartments...\n",
            "Found 50 apartments on this page.\n",
            "Processing page 5249...\n",
            "Finding apartments...\n",
            "Found 50 apartments on this page.\n",
            "Processing page 5250...\n",
            "Finding apartments...\n",
            "Found 50 apartments on this page.\n",
            "Processing page 5251...\n",
            "Finding apartments...\n",
            "Found 50 apartments on this page.\n",
            "Processing page 5252...\n",
            "Finding apartments...\n",
            "Found 50 apartments on this page.\n",
            "Processing page 5253...\n",
            "Finding apartments...\n",
            "Found 50 apartments on this page.\n",
            "Processing page 5254...\n",
            "Finding apartments...\n",
            "Found 50 apartments on this page.\n",
            "Processing page 5255...\n",
            "Finding apartments...\n",
            "Found 50 apartments on this page.\n",
            "Processing page 5256...\n",
            "Finding apartments...\n",
            "Found 50 apartments on this page.\n",
            "Processing page 5257...\n",
            "Finding apartments...\n",
            "Found 50 apartments on this page.\n",
            "Processing page 5258...\n",
            "Finding apartments...\n",
            "Found 50 apartments on this page.\n",
            "Processing page 5259...\n",
            "Finding apartments...\n",
            "Found 50 apartments on this page.\n",
            "Processing page 5260...\n",
            "Finding apartments...\n",
            "Found 50 apartments on this page.\n",
            "Processing page 5261...\n",
            "Finding apartments...\n",
            "Found 50 apartments on this page.\n",
            "Processing page 5262...\n",
            "Finding apartments...\n",
            "Found 50 apartments on this page.\n",
            "Processing page 5263...\n",
            "Finding apartments...\n",
            "Found 50 apartments on this page.\n",
            "Processing page 5264...\n",
            "Finding apartments...\n",
            "Found 50 apartments on this page.\n",
            "Processing page 5265...\n",
            "Finding apartments...\n",
            "Found 50 apartments on this page.\n",
            "Processing page 5266...\n",
            "Finding apartments...\n",
            "Found 50 apartments on this page.\n",
            "Processing page 5267...\n",
            "Finding apartments...\n",
            "Found 50 apartments on this page.\n",
            "Processing page 5268...\n",
            "Finding apartments...\n",
            "Found 50 apartments on this page.\n",
            "Processing page 5269...\n",
            "Finding apartments...\n",
            "Found 50 apartments on this page.\n",
            "Processing page 5270...\n",
            "Finding apartments...\n",
            "Found 50 apartments on this page.\n",
            "Processing page 5271...\n",
            "Finding apartments...\n",
            "Found 50 apartments on this page.\n",
            "Processing page 5272...\n",
            "Finding apartments...\n",
            "Found 50 apartments on this page.\n",
            "Processing page 5273...\n",
            "Finding apartments...\n",
            "Found 50 apartments on this page.\n",
            "Processing page 5274...\n",
            "Finding apartments...\n",
            "Found 50 apartments on this page.\n",
            "Processing page 5275...\n",
            "Finding apartments...\n",
            "Found 50 apartments on this page.\n",
            "Processing page 5276...\n",
            "Finding apartments...\n",
            "Found 50 apartments on this page.\n",
            "Processing page 5277...\n",
            "Finding apartments...\n",
            "Found 50 apartments on this page.\n",
            "Processing page 5278...\n",
            "Finding apartments...\n",
            "Found 50 apartments on this page.\n",
            "Processing page 5279...\n",
            "Finding apartments...\n",
            "Found 50 apartments on this page.\n",
            "Processing page 5280...\n",
            "Finding apartments...\n",
            "Found 50 apartments on this page.\n",
            "Processing page 5281...\n",
            "Finding apartments...\n",
            "Found 50 apartments on this page.\n",
            "Processing page 5282...\n",
            "Finding apartments...\n",
            "Found 50 apartments on this page.\n",
            "Processing page 5283...\n",
            "Finding apartments...\n",
            "Found 50 apartments on this page.\n",
            "Processing page 5284...\n",
            "Finding apartments...\n",
            "Found 50 apartments on this page.\n",
            "Processing page 5285...\n",
            "Finding apartments...\n",
            "Found 50 apartments on this page.\n",
            "Processing page 5286...\n",
            "Finding apartments...\n",
            "Found 50 apartments on this page.\n",
            "Processing page 5287...\n",
            "Finding apartments...\n",
            "Found 50 apartments on this page.\n",
            "Processing page 5288...\n",
            "Finding apartments...\n",
            "Found 50 apartments on this page.\n",
            "Processing page 5289...\n",
            "Finding apartments...\n",
            "Found 50 apartments on this page.\n",
            "Processing page 5290...\n",
            "Finding apartments...\n",
            "Found 50 apartments on this page.\n",
            "Processing page 5291...\n",
            "Finding apartments...\n",
            "Found 50 apartments on this page.\n",
            "Processing page 5292...\n",
            "Finding apartments...\n",
            "Found 50 apartments on this page.\n",
            "Processing page 5293...\n",
            "Finding apartments...\n",
            "Found 50 apartments on this page.\n",
            "Processing page 5294...\n",
            "Finding apartments...\n",
            "Found 50 apartments on this page.\n",
            "Processing page 5295...\n",
            "Finding apartments...\n",
            "Found 50 apartments on this page.\n",
            "Processing page 5296...\n",
            "Finding apartments...\n",
            "Found 50 apartments on this page.\n",
            "Processing page 5297...\n",
            "Finding apartments...\n",
            "Found 50 apartments on this page.\n",
            "Processing page 5298...\n",
            "Finding apartments...\n",
            "Found 50 apartments on this page.\n",
            "Processing page 5299...\n",
            "Finding apartments...\n",
            "Found 50 apartments on this page.\n",
            "Processing page 5300...\n",
            "Finding apartments...\n",
            "Found 50 apartments on this page.\n",
            "Processing page 5301...\n",
            "Finding apartments...\n",
            "Found 50 apartments on this page.\n",
            "Processing page 5302...\n",
            "Finding apartments...\n",
            "Found 50 apartments on this page.\n",
            "Processing page 5303...\n",
            "Finding apartments...\n",
            "Found 50 apartments on this page.\n",
            "Processing page 5304...\n",
            "Finding apartments...\n",
            "Found 50 apartments on this page.\n",
            "Processing page 5305...\n",
            "Finding apartments...\n",
            "Found 50 apartments on this page.\n",
            "Processing page 5306...\n",
            "Finding apartments...\n",
            "Found 50 apartments on this page.\n",
            "Processing page 5307...\n",
            "Finding apartments...\n",
            "Found 50 apartments on this page.\n",
            "Processing page 5308...\n",
            "Finding apartments...\n",
            "Found 50 apartments on this page.\n",
            "Processing page 5309...\n",
            "Finding apartments...\n",
            "Found 50 apartments on this page.\n",
            "Processing page 5310...\n",
            "Finding apartments...\n",
            "Found 50 apartments on this page.\n",
            "Processing page 5311...\n",
            "Finding apartments...\n",
            "Found 50 apartments on this page.\n",
            "Processing page 5312...\n",
            "Finding apartments...\n",
            "Found 50 apartments on this page.\n",
            "Processing page 5313...\n",
            "Finding apartments...\n",
            "Found 50 apartments on this page.\n",
            "Processing page 5314...\n",
            "Finding apartments...\n",
            "Found 50 apartments on this page.\n",
            "Processing page 5315...\n",
            "Finding apartments...\n",
            "Found 50 apartments on this page.\n",
            "Processing page 5316...\n",
            "Finding apartments...\n",
            "Found 50 apartments on this page.\n",
            "Processing page 5317...\n",
            "Finding apartments...\n",
            "Found 50 apartments on this page.\n",
            "Processing page 5318...\n",
            "Finding apartments...\n",
            "Found 50 apartments on this page.\n",
            "Processing page 5319...\n",
            "Finding apartments...\n",
            "Found 50 apartments on this page.\n",
            "Processing page 5320...\n",
            "Finding apartments...\n",
            "Found 50 apartments on this page.\n",
            "Processing page 5321...\n",
            "Finding apartments...\n",
            "Found 50 apartments on this page.\n",
            "Processing page 5322...\n",
            "Finding apartments...\n",
            "Found 50 apartments on this page.\n",
            "Processing page 5323...\n",
            "Finding apartments...\n",
            "Found 50 apartments on this page.\n",
            "Processing page 5324...\n",
            "Finding apartments...\n",
            "Found 50 apartments on this page.\n",
            "Processing page 5325...\n",
            "Finding apartments...\n",
            "Found 50 apartments on this page.\n",
            "Processing page 5326...\n",
            "Finding apartments...\n",
            "Found 50 apartments on this page.\n",
            "Processing page 5327...\n",
            "Finding apartments...\n",
            "Found 50 apartments on this page.\n",
            "Processing page 5328...\n",
            "Finding apartments...\n",
            "Found 50 apartments on this page.\n",
            "Processing page 5329...\n",
            "Finding apartments...\n",
            "Found 50 apartments on this page.\n",
            "Processing page 5330...\n",
            "Finding apartments...\n",
            "Found 50 apartments on this page.\n",
            "Processing page 5331...\n",
            "Finding apartments...\n",
            "Found 50 apartments on this page.\n",
            "Processing page 5332...\n",
            "Finding apartments...\n",
            "Found 50 apartments on this page.\n",
            "Processing page 5333...\n",
            "Finding apartments...\n",
            "Found 50 apartments on this page.\n",
            "Processing page 5334...\n",
            "Finding apartments...\n",
            "Found 50 apartments on this page.\n",
            "Processing page 5335...\n",
            "Finding apartments...\n",
            "Found 50 apartments on this page.\n",
            "Processing page 5336...\n",
            "Finding apartments...\n",
            "Found 50 apartments on this page.\n",
            "Processing page 5337...\n",
            "Finding apartments...\n",
            "Found 50 apartments on this page.\n",
            "Processing page 5338...\n",
            "Finding apartments...\n",
            "Found 50 apartments on this page.\n",
            "Processing page 5339...\n",
            "Finding apartments...\n",
            "Found 50 apartments on this page.\n",
            "Processing page 5340...\n",
            "Finding apartments...\n",
            "Found 50 apartments on this page.\n",
            "Processing page 5341...\n",
            "Finding apartments...\n",
            "Found 50 apartments on this page.\n",
            "Processing page 5342...\n",
            "Finding apartments...\n",
            "Found 50 apartments on this page.\n",
            "Processing page 5343...\n",
            "Finding apartments...\n",
            "Found 50 apartments on this page.\n",
            "Processing page 5344...\n",
            "Finding apartments...\n",
            "Found 50 apartments on this page.\n",
            "Processing page 5345...\n",
            "Finding apartments...\n",
            "Found 50 apartments on this page.\n",
            "Processing page 5346...\n",
            "Finding apartments...\n",
            "Found 50 apartments on this page.\n",
            "Processing page 5347...\n",
            "Finding apartments...\n",
            "Found 50 apartments on this page.\n",
            "Processing page 5348...\n",
            "Finding apartments...\n",
            "Found 50 apartments on this page.\n",
            "Processing page 5349...\n",
            "Finding apartments...\n",
            "Found 50 apartments on this page.\n",
            "Processing page 5350...\n",
            "Finding apartments...\n",
            "Found 50 apartments on this page.\n",
            "Processing page 5351...\n",
            "Finding apartments...\n",
            "Found 50 apartments on this page.\n",
            "Processing page 5352...\n",
            "Finding apartments...\n",
            "Found 50 apartments on this page.\n",
            "Processing page 5353...\n",
            "Finding apartments...\n",
            "Found 50 apartments on this page.\n",
            "Processing page 5354...\n",
            "Finding apartments...\n",
            "Found 50 apartments on this page.\n",
            "Processing page 5355...\n",
            "Finding apartments...\n",
            "Found 50 apartments on this page.\n",
            "Processing page 5356...\n",
            "Finding apartments...\n",
            "Found 50 apartments on this page.\n",
            "Processing page 5357...\n",
            "Finding apartments...\n",
            "Found 50 apartments on this page.\n",
            "Processing page 5358...\n",
            "Finding apartments...\n",
            "Found 50 apartments on this page.\n",
            "Processing page 5359...\n",
            "Finding apartments...\n",
            "Found 50 apartments on this page.\n",
            "Processing page 5360...\n"
          ]
        },
        {
          "output_type": "error",
          "ename": "KeyboardInterrupt",
          "evalue": "",
          "traceback": [
            "\u001b[0;31m---------------------------------------------------------------------------\u001b[0m",
            "\u001b[0;31mKeyboardInterrupt\u001b[0m                         Traceback (most recent call last)",
            "\u001b[0;32m<ipython-input-2-a8e6b38f35c3>\u001b[0m in \u001b[0;36m<cell line: 13>\u001b[0;34m()\u001b[0m\n\u001b[1;32m     15\u001b[0m     \u001b[0;31m# Request the page\u001b[0m\u001b[0;34m\u001b[0m\u001b[0;34m\u001b[0m\u001b[0m\n\u001b[1;32m     16\u001b[0m     \u001b[0murl\u001b[0m \u001b[0;34m=\u001b[0m \u001b[0mbase_url\u001b[0m\u001b[0;34m.\u001b[0m\u001b[0mformat\u001b[0m\u001b[0;34m(\u001b[0m\u001b[0mpage\u001b[0m\u001b[0;34m)\u001b[0m\u001b[0;34m\u001b[0m\u001b[0;34m\u001b[0m\u001b[0m\n\u001b[0;32m---> 17\u001b[0;31m     \u001b[0mresponse\u001b[0m \u001b[0;34m=\u001b[0m \u001b[0mrequests\u001b[0m\u001b[0;34m.\u001b[0m\u001b[0mget\u001b[0m\u001b[0;34m(\u001b[0m\u001b[0murl\u001b[0m\u001b[0;34m)\u001b[0m\u001b[0;34m\u001b[0m\u001b[0;34m\u001b[0m\u001b[0m\n\u001b[0m\u001b[1;32m     18\u001b[0m     \u001b[0msoup\u001b[0m \u001b[0;34m=\u001b[0m \u001b[0mBeautifulSoup\u001b[0m\u001b[0;34m(\u001b[0m\u001b[0mresponse\u001b[0m\u001b[0;34m.\u001b[0m\u001b[0mtext\u001b[0m\u001b[0;34m,\u001b[0m \u001b[0;34m'html.parser'\u001b[0m\u001b[0;34m)\u001b[0m\u001b[0;34m\u001b[0m\u001b[0;34m\u001b[0m\u001b[0m\n\u001b[1;32m     19\u001b[0m \u001b[0;34m\u001b[0m\u001b[0m\n",
            "\u001b[0;32m/usr/local/lib/python3.10/dist-packages/requests/api.py\u001b[0m in \u001b[0;36mget\u001b[0;34m(url, params, **kwargs)\u001b[0m\n\u001b[1;32m     71\u001b[0m     \"\"\"\n\u001b[1;32m     72\u001b[0m \u001b[0;34m\u001b[0m\u001b[0m\n\u001b[0;32m---> 73\u001b[0;31m     \u001b[0;32mreturn\u001b[0m \u001b[0mrequest\u001b[0m\u001b[0;34m(\u001b[0m\u001b[0;34m\"get\"\u001b[0m\u001b[0;34m,\u001b[0m \u001b[0murl\u001b[0m\u001b[0;34m,\u001b[0m \u001b[0mparams\u001b[0m\u001b[0;34m=\u001b[0m\u001b[0mparams\u001b[0m\u001b[0;34m,\u001b[0m \u001b[0;34m**\u001b[0m\u001b[0mkwargs\u001b[0m\u001b[0;34m)\u001b[0m\u001b[0;34m\u001b[0m\u001b[0;34m\u001b[0m\u001b[0m\n\u001b[0m\u001b[1;32m     74\u001b[0m \u001b[0;34m\u001b[0m\u001b[0m\n\u001b[1;32m     75\u001b[0m \u001b[0;34m\u001b[0m\u001b[0m\n",
            "\u001b[0;32m/usr/local/lib/python3.10/dist-packages/requests/api.py\u001b[0m in \u001b[0;36mrequest\u001b[0;34m(method, url, **kwargs)\u001b[0m\n\u001b[1;32m     57\u001b[0m     \u001b[0;31m# cases, and look like a memory leak in others.\u001b[0m\u001b[0;34m\u001b[0m\u001b[0;34m\u001b[0m\u001b[0m\n\u001b[1;32m     58\u001b[0m     \u001b[0;32mwith\u001b[0m \u001b[0msessions\u001b[0m\u001b[0;34m.\u001b[0m\u001b[0mSession\u001b[0m\u001b[0;34m(\u001b[0m\u001b[0;34m)\u001b[0m \u001b[0;32mas\u001b[0m \u001b[0msession\u001b[0m\u001b[0;34m:\u001b[0m\u001b[0;34m\u001b[0m\u001b[0;34m\u001b[0m\u001b[0m\n\u001b[0;32m---> 59\u001b[0;31m         \u001b[0;32mreturn\u001b[0m \u001b[0msession\u001b[0m\u001b[0;34m.\u001b[0m\u001b[0mrequest\u001b[0m\u001b[0;34m(\u001b[0m\u001b[0mmethod\u001b[0m\u001b[0;34m=\u001b[0m\u001b[0mmethod\u001b[0m\u001b[0;34m,\u001b[0m \u001b[0murl\u001b[0m\u001b[0;34m=\u001b[0m\u001b[0murl\u001b[0m\u001b[0;34m,\u001b[0m \u001b[0;34m**\u001b[0m\u001b[0mkwargs\u001b[0m\u001b[0;34m)\u001b[0m\u001b[0;34m\u001b[0m\u001b[0;34m\u001b[0m\u001b[0m\n\u001b[0m\u001b[1;32m     60\u001b[0m \u001b[0;34m\u001b[0m\u001b[0m\n\u001b[1;32m     61\u001b[0m \u001b[0;34m\u001b[0m\u001b[0m\n",
            "\u001b[0;32m/usr/local/lib/python3.10/dist-packages/requests/sessions.py\u001b[0m in \u001b[0;36mrequest\u001b[0;34m(self, method, url, params, data, headers, cookies, files, auth, timeout, allow_redirects, proxies, hooks, stream, verify, cert, json)\u001b[0m\n\u001b[1;32m    587\u001b[0m         }\n\u001b[1;32m    588\u001b[0m         \u001b[0msend_kwargs\u001b[0m\u001b[0;34m.\u001b[0m\u001b[0mupdate\u001b[0m\u001b[0;34m(\u001b[0m\u001b[0msettings\u001b[0m\u001b[0;34m)\u001b[0m\u001b[0;34m\u001b[0m\u001b[0;34m\u001b[0m\u001b[0m\n\u001b[0;32m--> 589\u001b[0;31m         \u001b[0mresp\u001b[0m \u001b[0;34m=\u001b[0m \u001b[0mself\u001b[0m\u001b[0;34m.\u001b[0m\u001b[0msend\u001b[0m\u001b[0;34m(\u001b[0m\u001b[0mprep\u001b[0m\u001b[0;34m,\u001b[0m \u001b[0;34m**\u001b[0m\u001b[0msend_kwargs\u001b[0m\u001b[0;34m)\u001b[0m\u001b[0;34m\u001b[0m\u001b[0;34m\u001b[0m\u001b[0m\n\u001b[0m\u001b[1;32m    590\u001b[0m \u001b[0;34m\u001b[0m\u001b[0m\n\u001b[1;32m    591\u001b[0m         \u001b[0;32mreturn\u001b[0m \u001b[0mresp\u001b[0m\u001b[0;34m\u001b[0m\u001b[0;34m\u001b[0m\u001b[0m\n",
            "\u001b[0;32m/usr/local/lib/python3.10/dist-packages/requests/sessions.py\u001b[0m in \u001b[0;36msend\u001b[0;34m(self, request, **kwargs)\u001b[0m\n\u001b[1;32m    722\u001b[0m             \u001b[0;31m# Redirect resolving generator.\u001b[0m\u001b[0;34m\u001b[0m\u001b[0;34m\u001b[0m\u001b[0m\n\u001b[1;32m    723\u001b[0m             \u001b[0mgen\u001b[0m \u001b[0;34m=\u001b[0m \u001b[0mself\u001b[0m\u001b[0;34m.\u001b[0m\u001b[0mresolve_redirects\u001b[0m\u001b[0;34m(\u001b[0m\u001b[0mr\u001b[0m\u001b[0;34m,\u001b[0m \u001b[0mrequest\u001b[0m\u001b[0;34m,\u001b[0m \u001b[0;34m**\u001b[0m\u001b[0mkwargs\u001b[0m\u001b[0;34m)\u001b[0m\u001b[0;34m\u001b[0m\u001b[0;34m\u001b[0m\u001b[0m\n\u001b[0;32m--> 724\u001b[0;31m             \u001b[0mhistory\u001b[0m \u001b[0;34m=\u001b[0m \u001b[0;34m[\u001b[0m\u001b[0mresp\u001b[0m \u001b[0;32mfor\u001b[0m \u001b[0mresp\u001b[0m \u001b[0;32min\u001b[0m \u001b[0mgen\u001b[0m\u001b[0;34m]\u001b[0m\u001b[0;34m\u001b[0m\u001b[0;34m\u001b[0m\u001b[0m\n\u001b[0m\u001b[1;32m    725\u001b[0m         \u001b[0;32melse\u001b[0m\u001b[0;34m:\u001b[0m\u001b[0;34m\u001b[0m\u001b[0;34m\u001b[0m\u001b[0m\n\u001b[1;32m    726\u001b[0m             \u001b[0mhistory\u001b[0m \u001b[0;34m=\u001b[0m \u001b[0;34m[\u001b[0m\u001b[0;34m]\u001b[0m\u001b[0;34m\u001b[0m\u001b[0;34m\u001b[0m\u001b[0m\n",
            "\u001b[0;32m/usr/local/lib/python3.10/dist-packages/requests/sessions.py\u001b[0m in \u001b[0;36m<listcomp>\u001b[0;34m(.0)\u001b[0m\n\u001b[1;32m    722\u001b[0m             \u001b[0;31m# Redirect resolving generator.\u001b[0m\u001b[0;34m\u001b[0m\u001b[0;34m\u001b[0m\u001b[0m\n\u001b[1;32m    723\u001b[0m             \u001b[0mgen\u001b[0m \u001b[0;34m=\u001b[0m \u001b[0mself\u001b[0m\u001b[0;34m.\u001b[0m\u001b[0mresolve_redirects\u001b[0m\u001b[0;34m(\u001b[0m\u001b[0mr\u001b[0m\u001b[0;34m,\u001b[0m \u001b[0mrequest\u001b[0m\u001b[0;34m,\u001b[0m \u001b[0;34m**\u001b[0m\u001b[0mkwargs\u001b[0m\u001b[0;34m)\u001b[0m\u001b[0;34m\u001b[0m\u001b[0;34m\u001b[0m\u001b[0m\n\u001b[0;32m--> 724\u001b[0;31m             \u001b[0mhistory\u001b[0m \u001b[0;34m=\u001b[0m \u001b[0;34m[\u001b[0m\u001b[0mresp\u001b[0m \u001b[0;32mfor\u001b[0m \u001b[0mresp\u001b[0m \u001b[0;32min\u001b[0m \u001b[0mgen\u001b[0m\u001b[0;34m]\u001b[0m\u001b[0;34m\u001b[0m\u001b[0;34m\u001b[0m\u001b[0m\n\u001b[0m\u001b[1;32m    725\u001b[0m         \u001b[0;32melse\u001b[0m\u001b[0;34m:\u001b[0m\u001b[0;34m\u001b[0m\u001b[0;34m\u001b[0m\u001b[0m\n\u001b[1;32m    726\u001b[0m             \u001b[0mhistory\u001b[0m \u001b[0;34m=\u001b[0m \u001b[0;34m[\u001b[0m\u001b[0;34m]\u001b[0m\u001b[0;34m\u001b[0m\u001b[0;34m\u001b[0m\u001b[0m\n",
            "\u001b[0;32m/usr/local/lib/python3.10/dist-packages/requests/sessions.py\u001b[0m in \u001b[0;36mresolve_redirects\u001b[0;34m(self, resp, req, stream, timeout, verify, cert, proxies, yield_requests, **adapter_kwargs)\u001b[0m\n\u001b[1;32m    263\u001b[0m                 \u001b[0;32myield\u001b[0m \u001b[0mreq\u001b[0m\u001b[0;34m\u001b[0m\u001b[0;34m\u001b[0m\u001b[0m\n\u001b[1;32m    264\u001b[0m             \u001b[0;32melse\u001b[0m\u001b[0;34m:\u001b[0m\u001b[0;34m\u001b[0m\u001b[0;34m\u001b[0m\u001b[0m\n\u001b[0;32m--> 265\u001b[0;31m                 resp = self.send(\n\u001b[0m\u001b[1;32m    266\u001b[0m                     \u001b[0mreq\u001b[0m\u001b[0;34m,\u001b[0m\u001b[0;34m\u001b[0m\u001b[0;34m\u001b[0m\u001b[0m\n\u001b[1;32m    267\u001b[0m                     \u001b[0mstream\u001b[0m\u001b[0;34m=\u001b[0m\u001b[0mstream\u001b[0m\u001b[0;34m,\u001b[0m\u001b[0;34m\u001b[0m\u001b[0;34m\u001b[0m\u001b[0m\n",
            "\u001b[0;32m/usr/local/lib/python3.10/dist-packages/requests/sessions.py\u001b[0m in \u001b[0;36msend\u001b[0;34m(self, request, **kwargs)\u001b[0m\n\u001b[1;32m    701\u001b[0m \u001b[0;34m\u001b[0m\u001b[0m\n\u001b[1;32m    702\u001b[0m         \u001b[0;31m# Send the request\u001b[0m\u001b[0;34m\u001b[0m\u001b[0;34m\u001b[0m\u001b[0m\n\u001b[0;32m--> 703\u001b[0;31m         \u001b[0mr\u001b[0m \u001b[0;34m=\u001b[0m \u001b[0madapter\u001b[0m\u001b[0;34m.\u001b[0m\u001b[0msend\u001b[0m\u001b[0;34m(\u001b[0m\u001b[0mrequest\u001b[0m\u001b[0;34m,\u001b[0m \u001b[0;34m**\u001b[0m\u001b[0mkwargs\u001b[0m\u001b[0;34m)\u001b[0m\u001b[0;34m\u001b[0m\u001b[0;34m\u001b[0m\u001b[0m\n\u001b[0m\u001b[1;32m    704\u001b[0m \u001b[0;34m\u001b[0m\u001b[0m\n\u001b[1;32m    705\u001b[0m         \u001b[0;31m# Total elapsed time of the request (approximately)\u001b[0m\u001b[0;34m\u001b[0m\u001b[0;34m\u001b[0m\u001b[0m\n",
            "\u001b[0;32m/usr/local/lib/python3.10/dist-packages/requests/adapters.py\u001b[0m in \u001b[0;36msend\u001b[0;34m(self, request, stream, timeout, verify, cert, proxies)\u001b[0m\n\u001b[1;32m    665\u001b[0m \u001b[0;34m\u001b[0m\u001b[0m\n\u001b[1;32m    666\u001b[0m         \u001b[0;32mtry\u001b[0m\u001b[0;34m:\u001b[0m\u001b[0;34m\u001b[0m\u001b[0;34m\u001b[0m\u001b[0m\n\u001b[0;32m--> 667\u001b[0;31m             resp = conn.urlopen(\n\u001b[0m\u001b[1;32m    668\u001b[0m                 \u001b[0mmethod\u001b[0m\u001b[0;34m=\u001b[0m\u001b[0mrequest\u001b[0m\u001b[0;34m.\u001b[0m\u001b[0mmethod\u001b[0m\u001b[0;34m,\u001b[0m\u001b[0;34m\u001b[0m\u001b[0;34m\u001b[0m\u001b[0m\n\u001b[1;32m    669\u001b[0m                 \u001b[0murl\u001b[0m\u001b[0;34m=\u001b[0m\u001b[0murl\u001b[0m\u001b[0;34m,\u001b[0m\u001b[0;34m\u001b[0m\u001b[0;34m\u001b[0m\u001b[0m\n",
            "\u001b[0;32m/usr/local/lib/python3.10/dist-packages/urllib3/connectionpool.py\u001b[0m in \u001b[0;36murlopen\u001b[0;34m(self, method, url, body, headers, retries, redirect, assert_same_host, timeout, pool_timeout, release_conn, chunked, body_pos, preload_content, decode_content, **response_kw)\u001b[0m\n\u001b[1;32m    789\u001b[0m \u001b[0;34m\u001b[0m\u001b[0m\n\u001b[1;32m    790\u001b[0m             \u001b[0;31m# Make the request on the HTTPConnection object\u001b[0m\u001b[0;34m\u001b[0m\u001b[0;34m\u001b[0m\u001b[0m\n\u001b[0;32m--> 791\u001b[0;31m             response = self._make_request(\n\u001b[0m\u001b[1;32m    792\u001b[0m                 \u001b[0mconn\u001b[0m\u001b[0;34m,\u001b[0m\u001b[0;34m\u001b[0m\u001b[0;34m\u001b[0m\u001b[0m\n\u001b[1;32m    793\u001b[0m                 \u001b[0mmethod\u001b[0m\u001b[0;34m,\u001b[0m\u001b[0;34m\u001b[0m\u001b[0;34m\u001b[0m\u001b[0m\n",
            "\u001b[0;32m/usr/local/lib/python3.10/dist-packages/urllib3/connectionpool.py\u001b[0m in \u001b[0;36m_make_request\u001b[0;34m(self, conn, method, url, body, headers, retries, timeout, chunked, response_conn, preload_content, decode_content, enforce_content_length)\u001b[0m\n\u001b[1;32m    535\u001b[0m         \u001b[0;31m# Receive the response from the server\u001b[0m\u001b[0;34m\u001b[0m\u001b[0;34m\u001b[0m\u001b[0m\n\u001b[1;32m    536\u001b[0m         \u001b[0;32mtry\u001b[0m\u001b[0;34m:\u001b[0m\u001b[0;34m\u001b[0m\u001b[0;34m\u001b[0m\u001b[0m\n\u001b[0;32m--> 537\u001b[0;31m             \u001b[0mresponse\u001b[0m \u001b[0;34m=\u001b[0m \u001b[0mconn\u001b[0m\u001b[0;34m.\u001b[0m\u001b[0mgetresponse\u001b[0m\u001b[0;34m(\u001b[0m\u001b[0;34m)\u001b[0m\u001b[0;34m\u001b[0m\u001b[0;34m\u001b[0m\u001b[0m\n\u001b[0m\u001b[1;32m    538\u001b[0m         \u001b[0;32mexcept\u001b[0m \u001b[0;34m(\u001b[0m\u001b[0mBaseSSLError\u001b[0m\u001b[0;34m,\u001b[0m \u001b[0mOSError\u001b[0m\u001b[0;34m)\u001b[0m \u001b[0;32mas\u001b[0m \u001b[0me\u001b[0m\u001b[0;34m:\u001b[0m\u001b[0;34m\u001b[0m\u001b[0;34m\u001b[0m\u001b[0m\n\u001b[1;32m    539\u001b[0m             \u001b[0mself\u001b[0m\u001b[0;34m.\u001b[0m\u001b[0m_raise_timeout\u001b[0m\u001b[0;34m(\u001b[0m\u001b[0merr\u001b[0m\u001b[0;34m=\u001b[0m\u001b[0me\u001b[0m\u001b[0;34m,\u001b[0m \u001b[0murl\u001b[0m\u001b[0;34m=\u001b[0m\u001b[0murl\u001b[0m\u001b[0;34m,\u001b[0m \u001b[0mtimeout_value\u001b[0m\u001b[0;34m=\u001b[0m\u001b[0mread_timeout\u001b[0m\u001b[0;34m)\u001b[0m\u001b[0;34m\u001b[0m\u001b[0;34m\u001b[0m\u001b[0m\n",
            "\u001b[0;32m/usr/local/lib/python3.10/dist-packages/urllib3/connection.py\u001b[0m in \u001b[0;36mgetresponse\u001b[0;34m(self)\u001b[0m\n\u001b[1;32m    459\u001b[0m \u001b[0;34m\u001b[0m\u001b[0m\n\u001b[1;32m    460\u001b[0m         \u001b[0;31m# Get the response from http.client.HTTPConnection\u001b[0m\u001b[0;34m\u001b[0m\u001b[0;34m\u001b[0m\u001b[0m\n\u001b[0;32m--> 461\u001b[0;31m         \u001b[0mhttplib_response\u001b[0m \u001b[0;34m=\u001b[0m \u001b[0msuper\u001b[0m\u001b[0;34m(\u001b[0m\u001b[0;34m)\u001b[0m\u001b[0;34m.\u001b[0m\u001b[0mgetresponse\u001b[0m\u001b[0;34m(\u001b[0m\u001b[0;34m)\u001b[0m\u001b[0;34m\u001b[0m\u001b[0;34m\u001b[0m\u001b[0m\n\u001b[0m\u001b[1;32m    462\u001b[0m \u001b[0;34m\u001b[0m\u001b[0m\n\u001b[1;32m    463\u001b[0m         \u001b[0;32mtry\u001b[0m\u001b[0;34m:\u001b[0m\u001b[0;34m\u001b[0m\u001b[0;34m\u001b[0m\u001b[0m\n",
            "\u001b[0;32m/usr/lib/python3.10/http/client.py\u001b[0m in \u001b[0;36mgetresponse\u001b[0;34m(self)\u001b[0m\n\u001b[1;32m   1373\u001b[0m         \u001b[0;32mtry\u001b[0m\u001b[0;34m:\u001b[0m\u001b[0;34m\u001b[0m\u001b[0;34m\u001b[0m\u001b[0m\n\u001b[1;32m   1374\u001b[0m             \u001b[0;32mtry\u001b[0m\u001b[0;34m:\u001b[0m\u001b[0;34m\u001b[0m\u001b[0;34m\u001b[0m\u001b[0m\n\u001b[0;32m-> 1375\u001b[0;31m                 \u001b[0mresponse\u001b[0m\u001b[0;34m.\u001b[0m\u001b[0mbegin\u001b[0m\u001b[0;34m(\u001b[0m\u001b[0;34m)\u001b[0m\u001b[0;34m\u001b[0m\u001b[0;34m\u001b[0m\u001b[0m\n\u001b[0m\u001b[1;32m   1376\u001b[0m             \u001b[0;32mexcept\u001b[0m \u001b[0mConnectionError\u001b[0m\u001b[0;34m:\u001b[0m\u001b[0;34m\u001b[0m\u001b[0;34m\u001b[0m\u001b[0m\n\u001b[1;32m   1377\u001b[0m                 \u001b[0mself\u001b[0m\u001b[0;34m.\u001b[0m\u001b[0mclose\u001b[0m\u001b[0;34m(\u001b[0m\u001b[0;34m)\u001b[0m\u001b[0;34m\u001b[0m\u001b[0;34m\u001b[0m\u001b[0m\n",
            "\u001b[0;32m/usr/lib/python3.10/http/client.py\u001b[0m in \u001b[0;36mbegin\u001b[0;34m(self)\u001b[0m\n\u001b[1;32m    316\u001b[0m         \u001b[0;31m# read until we get a non-100 response\u001b[0m\u001b[0;34m\u001b[0m\u001b[0;34m\u001b[0m\u001b[0m\n\u001b[1;32m    317\u001b[0m         \u001b[0;32mwhile\u001b[0m \u001b[0;32mTrue\u001b[0m\u001b[0;34m:\u001b[0m\u001b[0;34m\u001b[0m\u001b[0;34m\u001b[0m\u001b[0m\n\u001b[0;32m--> 318\u001b[0;31m             \u001b[0mversion\u001b[0m\u001b[0;34m,\u001b[0m \u001b[0mstatus\u001b[0m\u001b[0;34m,\u001b[0m \u001b[0mreason\u001b[0m \u001b[0;34m=\u001b[0m \u001b[0mself\u001b[0m\u001b[0;34m.\u001b[0m\u001b[0m_read_status\u001b[0m\u001b[0;34m(\u001b[0m\u001b[0;34m)\u001b[0m\u001b[0;34m\u001b[0m\u001b[0;34m\u001b[0m\u001b[0m\n\u001b[0m\u001b[1;32m    319\u001b[0m             \u001b[0;32mif\u001b[0m \u001b[0mstatus\u001b[0m \u001b[0;34m!=\u001b[0m \u001b[0mCONTINUE\u001b[0m\u001b[0;34m:\u001b[0m\u001b[0;34m\u001b[0m\u001b[0;34m\u001b[0m\u001b[0m\n\u001b[1;32m    320\u001b[0m                 \u001b[0;32mbreak\u001b[0m\u001b[0;34m\u001b[0m\u001b[0;34m\u001b[0m\u001b[0m\n",
            "\u001b[0;32m/usr/lib/python3.10/http/client.py\u001b[0m in \u001b[0;36m_read_status\u001b[0;34m(self)\u001b[0m\n\u001b[1;32m    277\u001b[0m \u001b[0;34m\u001b[0m\u001b[0m\n\u001b[1;32m    278\u001b[0m     \u001b[0;32mdef\u001b[0m \u001b[0m_read_status\u001b[0m\u001b[0;34m(\u001b[0m\u001b[0mself\u001b[0m\u001b[0;34m)\u001b[0m\u001b[0;34m:\u001b[0m\u001b[0;34m\u001b[0m\u001b[0;34m\u001b[0m\u001b[0m\n\u001b[0;32m--> 279\u001b[0;31m         \u001b[0mline\u001b[0m \u001b[0;34m=\u001b[0m \u001b[0mstr\u001b[0m\u001b[0;34m(\u001b[0m\u001b[0mself\u001b[0m\u001b[0;34m.\u001b[0m\u001b[0mfp\u001b[0m\u001b[0;34m.\u001b[0m\u001b[0mreadline\u001b[0m\u001b[0;34m(\u001b[0m\u001b[0m_MAXLINE\u001b[0m \u001b[0;34m+\u001b[0m \u001b[0;36m1\u001b[0m\u001b[0;34m)\u001b[0m\u001b[0;34m,\u001b[0m \u001b[0;34m\"iso-8859-1\"\u001b[0m\u001b[0;34m)\u001b[0m\u001b[0;34m\u001b[0m\u001b[0;34m\u001b[0m\u001b[0m\n\u001b[0m\u001b[1;32m    280\u001b[0m         \u001b[0;32mif\u001b[0m \u001b[0mlen\u001b[0m\u001b[0;34m(\u001b[0m\u001b[0mline\u001b[0m\u001b[0;34m)\u001b[0m \u001b[0;34m>\u001b[0m \u001b[0m_MAXLINE\u001b[0m\u001b[0;34m:\u001b[0m\u001b[0;34m\u001b[0m\u001b[0;34m\u001b[0m\u001b[0m\n\u001b[1;32m    281\u001b[0m             \u001b[0;32mraise\u001b[0m \u001b[0mLineTooLong\u001b[0m\u001b[0;34m(\u001b[0m\u001b[0;34m\"status line\"\u001b[0m\u001b[0;34m)\u001b[0m\u001b[0;34m\u001b[0m\u001b[0;34m\u001b[0m\u001b[0m\n",
            "\u001b[0;32m/usr/lib/python3.10/socket.py\u001b[0m in \u001b[0;36mreadinto\u001b[0;34m(self, b)\u001b[0m\n\u001b[1;32m    703\u001b[0m         \u001b[0;32mwhile\u001b[0m \u001b[0;32mTrue\u001b[0m\u001b[0;34m:\u001b[0m\u001b[0;34m\u001b[0m\u001b[0;34m\u001b[0m\u001b[0m\n\u001b[1;32m    704\u001b[0m             \u001b[0;32mtry\u001b[0m\u001b[0;34m:\u001b[0m\u001b[0;34m\u001b[0m\u001b[0;34m\u001b[0m\u001b[0m\n\u001b[0;32m--> 705\u001b[0;31m                 \u001b[0;32mreturn\u001b[0m \u001b[0mself\u001b[0m\u001b[0;34m.\u001b[0m\u001b[0m_sock\u001b[0m\u001b[0;34m.\u001b[0m\u001b[0mrecv_into\u001b[0m\u001b[0;34m(\u001b[0m\u001b[0mb\u001b[0m\u001b[0;34m)\u001b[0m\u001b[0;34m\u001b[0m\u001b[0;34m\u001b[0m\u001b[0m\n\u001b[0m\u001b[1;32m    706\u001b[0m             \u001b[0;32mexcept\u001b[0m \u001b[0mtimeout\u001b[0m\u001b[0;34m:\u001b[0m\u001b[0;34m\u001b[0m\u001b[0;34m\u001b[0m\u001b[0m\n\u001b[1;32m    707\u001b[0m                 \u001b[0mself\u001b[0m\u001b[0;34m.\u001b[0m\u001b[0m_timeout_occurred\u001b[0m \u001b[0;34m=\u001b[0m \u001b[0;32mTrue\u001b[0m\u001b[0;34m\u001b[0m\u001b[0;34m\u001b[0m\u001b[0m\n",
            "\u001b[0;32m/usr/lib/python3.10/ssl.py\u001b[0m in \u001b[0;36mrecv_into\u001b[0;34m(self, buffer, nbytes, flags)\u001b[0m\n\u001b[1;32m   1301\u001b[0m                   \u001b[0;34m\"non-zero flags not allowed in calls to recv_into() on %s\"\u001b[0m \u001b[0;34m%\u001b[0m\u001b[0;34m\u001b[0m\u001b[0;34m\u001b[0m\u001b[0m\n\u001b[1;32m   1302\u001b[0m                   self.__class__)\n\u001b[0;32m-> 1303\u001b[0;31m             \u001b[0;32mreturn\u001b[0m \u001b[0mself\u001b[0m\u001b[0;34m.\u001b[0m\u001b[0mread\u001b[0m\u001b[0;34m(\u001b[0m\u001b[0mnbytes\u001b[0m\u001b[0;34m,\u001b[0m \u001b[0mbuffer\u001b[0m\u001b[0;34m)\u001b[0m\u001b[0;34m\u001b[0m\u001b[0;34m\u001b[0m\u001b[0m\n\u001b[0m\u001b[1;32m   1304\u001b[0m         \u001b[0;32melse\u001b[0m\u001b[0;34m:\u001b[0m\u001b[0;34m\u001b[0m\u001b[0;34m\u001b[0m\u001b[0m\n\u001b[1;32m   1305\u001b[0m             \u001b[0;32mreturn\u001b[0m \u001b[0msuper\u001b[0m\u001b[0;34m(\u001b[0m\u001b[0;34m)\u001b[0m\u001b[0;34m.\u001b[0m\u001b[0mrecv_into\u001b[0m\u001b[0;34m(\u001b[0m\u001b[0mbuffer\u001b[0m\u001b[0;34m,\u001b[0m \u001b[0mnbytes\u001b[0m\u001b[0;34m,\u001b[0m \u001b[0mflags\u001b[0m\u001b[0;34m)\u001b[0m\u001b[0;34m\u001b[0m\u001b[0;34m\u001b[0m\u001b[0m\n",
            "\u001b[0;32m/usr/lib/python3.10/ssl.py\u001b[0m in \u001b[0;36mread\u001b[0;34m(self, len, buffer)\u001b[0m\n\u001b[1;32m   1157\u001b[0m         \u001b[0;32mtry\u001b[0m\u001b[0;34m:\u001b[0m\u001b[0;34m\u001b[0m\u001b[0;34m\u001b[0m\u001b[0m\n\u001b[1;32m   1158\u001b[0m             \u001b[0;32mif\u001b[0m \u001b[0mbuffer\u001b[0m \u001b[0;32mis\u001b[0m \u001b[0;32mnot\u001b[0m \u001b[0;32mNone\u001b[0m\u001b[0;34m:\u001b[0m\u001b[0;34m\u001b[0m\u001b[0;34m\u001b[0m\u001b[0m\n\u001b[0;32m-> 1159\u001b[0;31m                 \u001b[0;32mreturn\u001b[0m \u001b[0mself\u001b[0m\u001b[0;34m.\u001b[0m\u001b[0m_sslobj\u001b[0m\u001b[0;34m.\u001b[0m\u001b[0mread\u001b[0m\u001b[0;34m(\u001b[0m\u001b[0mlen\u001b[0m\u001b[0;34m,\u001b[0m \u001b[0mbuffer\u001b[0m\u001b[0;34m)\u001b[0m\u001b[0;34m\u001b[0m\u001b[0;34m\u001b[0m\u001b[0m\n\u001b[0m\u001b[1;32m   1160\u001b[0m             \u001b[0;32melse\u001b[0m\u001b[0;34m:\u001b[0m\u001b[0;34m\u001b[0m\u001b[0;34m\u001b[0m\u001b[0m\n\u001b[1;32m   1161\u001b[0m                 \u001b[0;32mreturn\u001b[0m \u001b[0mself\u001b[0m\u001b[0;34m.\u001b[0m\u001b[0m_sslobj\u001b[0m\u001b[0;34m.\u001b[0m\u001b[0mread\u001b[0m\u001b[0;34m(\u001b[0m\u001b[0mlen\u001b[0m\u001b[0;34m)\u001b[0m\u001b[0;34m\u001b[0m\u001b[0;34m\u001b[0m\u001b[0m\n",
            "\u001b[0;31mKeyboardInterrupt\u001b[0m: "
          ]
        }
      ],
      "source": [
        "import requests\n",
        "from bs4 import BeautifulSoup\n",
        "import pandas as pd\n",
        "\n",
        "# Base URL\n",
        "base_url = \"https://www.dubizzle.com.eg/en/properties/apartments-duplex-for-sale/?page={}\"\n",
        "\n",
        "# Initialize lists to store scraped data\n",
        "apartments_links = []\n",
        "\n",
        "# Pagination loop\n",
        "page = 1\n",
        "while True:\n",
        "    print(f\"Processing page {page}...\")\n",
        "    # Request the page\n",
        "    url = base_url.format(page)\n",
        "    response = requests.get(url)\n",
        "    soup = BeautifulSoup(response.text, 'html.parser')\n",
        "\n",
        "    # Find all product containers\n",
        "    print(\"Finding apartments...\")\n",
        "    apartments = soup.find_all('div', class_='_637fa00f')\n",
        "\n",
        "    if not apartments:\n",
        "        print(\"No apartments found on this page. Stopping.\")\n",
        "        break  # Stop if no products found on the page\n",
        "\n",
        "    print(f\"Found {len(apartments)} apartments on this page.\")\n",
        "    for apartment in apartments:\n",
        "        # Extract product link\n",
        "        link = apartment.find('a', href=True)['href']\n",
        "        full_link = f\"https://www.dubizzle.com.eg{link}\"  # Make sure the URL is complete\n",
        "        apartments_links.append(full_link)\n",
        "\n",
        "    # Increment page count\n",
        "    page += 1\n",
        "\n",
        "print(\"Scraping complete. Creating DataFrame...\")\n",
        "# Create DataFrame\n",
        "df = pd.DataFrame({\n",
        "\n",
        "    'Apartment Link': apartments_links\n",
        "})\n",
        "\n",
        "print(\"DataFrame created. Exporting to CSV...\")\n",
        "# Export to CSV\n",
        "df.to_csv('dubizzle_apartments_links.csv', index=False)\n",
        "print(\"CSV exported successfully!\")"
      ]
    },
    {
      "cell_type": "code",
      "source": [
        "# Create DataFrame\n",
        "df = pd.DataFrame({\n",
        "\n",
        "    'Apartment Link': apartments_links\n",
        "})\n",
        "\n",
        "# Export to CSV\n",
        "df.to_csv('dubizzle_apartments_links.csv', index=False)"
      ],
      "metadata": {
        "id": "vVF6REpSmBFL"
      },
      "execution_count": null,
      "outputs": []
    },
    {
      "cell_type": "code",
      "source": [
        "import requests\n",
        "from bs4 import BeautifulSoup\n",
        "import pandas as pd\n",
        "from tqdm import tqdm\n",
        "\n",
        "df=pd.read_csv('/content/dubizzle_apartments_links.csv')\n",
        "apartments_links=df['Apartment Link'].tolist()\n",
        "\n",
        "\n",
        "apartments_data = []\n",
        "\n",
        "\n",
        "for link in tqdm(apartments_links, desc=\"Apartments Products\", unit=\"Apartment\"):\n",
        "    response = requests.get(link)\n",
        "    soup = BeautifulSoup(response.text, 'html.parser')\n",
        "\n",
        "    # Extract apartment details\n",
        "    Highlights = soup.find_all('div', class_='_948d9e0a e655db77 _371e9918 _95d4067f')\n",
        "    details = soup.find_all('div', class_='_9a8eacd9')\n",
        "    location =  soup.find('span', {'aria-label': 'Location'})\n",
        "    listing_date=soup.find('span', {'aria-label': 'Creation date'})\n",
        "    price=soup.find('span', {'aria-label': 'Price'})\n",
        "    down_payment=soup.find('span', {'aria-label': 'Price Info'})\n",
        "    amenities=soup.find_all('span', class_='_241f82d9') + soup.find_all('span', class_='c327b807')\n",
        "\n",
        "    apartment_data = {}\n",
        "\n",
        "    for Highlight in Highlights:\n",
        "        label = Highlight.find_all('span')[0].text.strip()\n",
        "        value = Highlight.find_all('span')[1].text.strip()\n",
        "\n",
        "        if label == 'Type':\n",
        "            apartment_data['Type'] = value\n",
        "        elif label == 'Ownership':\n",
        "            apartment_data['Ownership'] = value\n",
        "        elif label == 'Area (m²)':\n",
        "            apartment_data['Area (m²)'] = value\n",
        "        elif label == 'Bedrooms':\n",
        "            apartment_data['Bedrooms'] = value\n",
        "        elif label == 'Bathrooms':\n",
        "            apartment_data['Bathrooms'] = value\n",
        "        elif label == 'Furnished':\n",
        "            apartment_data['Furnished'] = value\n",
        "\n",
        "\n",
        "    for detail in details:\n",
        "        label = detail.find_all('span')[0].text.strip()\n",
        "        value = detail.find_all('span')[1].text.strip()\n",
        "\n",
        "        if label == 'Payment Option':\n",
        "            apartment_data['Payment Option'] = value\n",
        "        elif label == 'Delivery Date':\n",
        "            apartment_data['Delivery Date'] = value\n",
        "        elif label == 'Level':\n",
        "            apartment_data['Level'] = value\n",
        "        elif label == 'Completion status':\n",
        "            apartment_data['Completion status'] = value\n",
        "        elif label == 'Delivery Term':\n",
        "            apartment_data['Delivery Term'] = value\n",
        "\n",
        "        apartment_data['Location'] = location.text.strip()\n",
        "        apartment_data['Listing date'] = listing_date.text.strip()\n",
        "        apartment_data['Price'] = price.text.strip()\n",
        "        apartment_data['Down Payment'] = down_payment.text.strip() if down_payment else None\n",
        "        apartment_data['Amenities'] = [amenity.text.strip() for amenity in amenities]\n",
        "\n",
        "    apartments_data.append(apartment_data)\n",
        "\n",
        "\n",
        "# Create DataFrame\n",
        "    df = pd.DataFrame(apartments_data)\n",
        "\n",
        "\n",
        "# Export to CSV\n",
        "df.to_csv('dubizzle_apartments_data.csv', index=False)"
      ],
      "metadata": {
        "id": "VFu0Xb_agyeB",
        "colab": {
          "base_uri": "https://localhost:8080/",
          "height": 389
        },
        "outputId": "868e5904-593c-4b4a-ca81-5e087f2c9dbc"
      },
      "execution_count": null,
      "outputs": [
        {
          "output_type": "stream",
          "name": "stderr",
          "text": [
            "Apartments Products:   0%|          | 498/267950 [05:19<47:39:30,  1.56Apartment/s]\n"
          ]
        },
        {
          "output_type": "error",
          "ename": "KeyboardInterrupt",
          "evalue": "",
          "traceback": [
            "\u001b[0;31m---------------------------------------------------------------------------\u001b[0m",
            "\u001b[0;31mKeyboardInterrupt\u001b[0m                         Traceback (most recent call last)",
            "\u001b[0;32m<ipython-input-35-6d6ee26040cb>\u001b[0m in \u001b[0;36m<cell line: 16>\u001b[0;34m()\u001b[0m\n\u001b[1;32m     15\u001b[0m \u001b[0;34m\u001b[0m\u001b[0m\n\u001b[1;32m     16\u001b[0m \u001b[0;32mfor\u001b[0m \u001b[0mlink\u001b[0m \u001b[0;32min\u001b[0m \u001b[0mtqdm\u001b[0m\u001b[0;34m(\u001b[0m\u001b[0mapartments_links\u001b[0m\u001b[0;34m,\u001b[0m \u001b[0mdesc\u001b[0m\u001b[0;34m=\u001b[0m\u001b[0;34m\"Apartments Products\"\u001b[0m\u001b[0;34m,\u001b[0m \u001b[0munit\u001b[0m\u001b[0;34m=\u001b[0m\u001b[0;34m\"Apartment\"\u001b[0m\u001b[0;34m)\u001b[0m\u001b[0;34m:\u001b[0m\u001b[0;34m\u001b[0m\u001b[0;34m\u001b[0m\u001b[0m\n\u001b[0;32m---> 17\u001b[0;31m     \u001b[0mresponse\u001b[0m \u001b[0;34m=\u001b[0m \u001b[0mrequests\u001b[0m\u001b[0;34m.\u001b[0m\u001b[0mget\u001b[0m\u001b[0;34m(\u001b[0m\u001b[0mlink\u001b[0m\u001b[0;34m)\u001b[0m\u001b[0;34m\u001b[0m\u001b[0;34m\u001b[0m\u001b[0m\n\u001b[0m\u001b[1;32m     18\u001b[0m     \u001b[0msoup\u001b[0m \u001b[0;34m=\u001b[0m \u001b[0mBeautifulSoup\u001b[0m\u001b[0;34m(\u001b[0m\u001b[0mresponse\u001b[0m\u001b[0;34m.\u001b[0m\u001b[0mtext\u001b[0m\u001b[0;34m,\u001b[0m \u001b[0;34m'html.parser'\u001b[0m\u001b[0;34m)\u001b[0m\u001b[0;34m\u001b[0m\u001b[0;34m\u001b[0m\u001b[0m\n\u001b[1;32m     19\u001b[0m \u001b[0;34m\u001b[0m\u001b[0m\n",
            "\u001b[0;32m/usr/local/lib/python3.10/dist-packages/requests/api.py\u001b[0m in \u001b[0;36mget\u001b[0;34m(url, params, **kwargs)\u001b[0m\n\u001b[1;32m     71\u001b[0m     \"\"\"\n\u001b[1;32m     72\u001b[0m \u001b[0;34m\u001b[0m\u001b[0m\n\u001b[0;32m---> 73\u001b[0;31m     \u001b[0;32mreturn\u001b[0m \u001b[0mrequest\u001b[0m\u001b[0;34m(\u001b[0m\u001b[0;34m\"get\"\u001b[0m\u001b[0;34m,\u001b[0m \u001b[0murl\u001b[0m\u001b[0;34m,\u001b[0m \u001b[0mparams\u001b[0m\u001b[0;34m=\u001b[0m\u001b[0mparams\u001b[0m\u001b[0;34m,\u001b[0m \u001b[0;34m**\u001b[0m\u001b[0mkwargs\u001b[0m\u001b[0;34m)\u001b[0m\u001b[0;34m\u001b[0m\u001b[0;34m\u001b[0m\u001b[0m\n\u001b[0m\u001b[1;32m     74\u001b[0m \u001b[0;34m\u001b[0m\u001b[0m\n\u001b[1;32m     75\u001b[0m \u001b[0;34m\u001b[0m\u001b[0m\n",
            "\u001b[0;32m/usr/local/lib/python3.10/dist-packages/requests/api.py\u001b[0m in \u001b[0;36mrequest\u001b[0;34m(method, url, **kwargs)\u001b[0m\n\u001b[1;32m     57\u001b[0m     \u001b[0;31m# cases, and look like a memory leak in others.\u001b[0m\u001b[0;34m\u001b[0m\u001b[0;34m\u001b[0m\u001b[0m\n\u001b[1;32m     58\u001b[0m     \u001b[0;32mwith\u001b[0m \u001b[0msessions\u001b[0m\u001b[0;34m.\u001b[0m\u001b[0mSession\u001b[0m\u001b[0;34m(\u001b[0m\u001b[0;34m)\u001b[0m \u001b[0;32mas\u001b[0m \u001b[0msession\u001b[0m\u001b[0;34m:\u001b[0m\u001b[0;34m\u001b[0m\u001b[0;34m\u001b[0m\u001b[0m\n\u001b[0;32m---> 59\u001b[0;31m         \u001b[0;32mreturn\u001b[0m \u001b[0msession\u001b[0m\u001b[0;34m.\u001b[0m\u001b[0mrequest\u001b[0m\u001b[0;34m(\u001b[0m\u001b[0mmethod\u001b[0m\u001b[0;34m=\u001b[0m\u001b[0mmethod\u001b[0m\u001b[0;34m,\u001b[0m \u001b[0murl\u001b[0m\u001b[0;34m=\u001b[0m\u001b[0murl\u001b[0m\u001b[0;34m,\u001b[0m \u001b[0;34m**\u001b[0m\u001b[0mkwargs\u001b[0m\u001b[0;34m)\u001b[0m\u001b[0;34m\u001b[0m\u001b[0;34m\u001b[0m\u001b[0m\n\u001b[0m\u001b[1;32m     60\u001b[0m \u001b[0;34m\u001b[0m\u001b[0m\n\u001b[1;32m     61\u001b[0m \u001b[0;34m\u001b[0m\u001b[0m\n",
            "\u001b[0;32m/usr/local/lib/python3.10/dist-packages/requests/sessions.py\u001b[0m in \u001b[0;36mrequest\u001b[0;34m(self, method, url, params, data, headers, cookies, files, auth, timeout, allow_redirects, proxies, hooks, stream, verify, cert, json)\u001b[0m\n\u001b[1;32m    587\u001b[0m         }\n\u001b[1;32m    588\u001b[0m         \u001b[0msend_kwargs\u001b[0m\u001b[0;34m.\u001b[0m\u001b[0mupdate\u001b[0m\u001b[0;34m(\u001b[0m\u001b[0msettings\u001b[0m\u001b[0;34m)\u001b[0m\u001b[0;34m\u001b[0m\u001b[0;34m\u001b[0m\u001b[0m\n\u001b[0;32m--> 589\u001b[0;31m         \u001b[0mresp\u001b[0m \u001b[0;34m=\u001b[0m \u001b[0mself\u001b[0m\u001b[0;34m.\u001b[0m\u001b[0msend\u001b[0m\u001b[0;34m(\u001b[0m\u001b[0mprep\u001b[0m\u001b[0;34m,\u001b[0m \u001b[0;34m**\u001b[0m\u001b[0msend_kwargs\u001b[0m\u001b[0;34m)\u001b[0m\u001b[0;34m\u001b[0m\u001b[0;34m\u001b[0m\u001b[0m\n\u001b[0m\u001b[1;32m    590\u001b[0m \u001b[0;34m\u001b[0m\u001b[0m\n\u001b[1;32m    591\u001b[0m         \u001b[0;32mreturn\u001b[0m \u001b[0mresp\u001b[0m\u001b[0;34m\u001b[0m\u001b[0;34m\u001b[0m\u001b[0m\n",
            "\u001b[0;32m/usr/local/lib/python3.10/dist-packages/requests/sessions.py\u001b[0m in \u001b[0;36msend\u001b[0;34m(self, request, **kwargs)\u001b[0m\n\u001b[1;32m    701\u001b[0m \u001b[0;34m\u001b[0m\u001b[0m\n\u001b[1;32m    702\u001b[0m         \u001b[0;31m# Send the request\u001b[0m\u001b[0;34m\u001b[0m\u001b[0;34m\u001b[0m\u001b[0m\n\u001b[0;32m--> 703\u001b[0;31m         \u001b[0mr\u001b[0m \u001b[0;34m=\u001b[0m \u001b[0madapter\u001b[0m\u001b[0;34m.\u001b[0m\u001b[0msend\u001b[0m\u001b[0;34m(\u001b[0m\u001b[0mrequest\u001b[0m\u001b[0;34m,\u001b[0m \u001b[0;34m**\u001b[0m\u001b[0mkwargs\u001b[0m\u001b[0;34m)\u001b[0m\u001b[0;34m\u001b[0m\u001b[0;34m\u001b[0m\u001b[0m\n\u001b[0m\u001b[1;32m    704\u001b[0m \u001b[0;34m\u001b[0m\u001b[0m\n\u001b[1;32m    705\u001b[0m         \u001b[0;31m# Total elapsed time of the request (approximately)\u001b[0m\u001b[0;34m\u001b[0m\u001b[0;34m\u001b[0m\u001b[0m\n",
            "\u001b[0;32m/usr/local/lib/python3.10/dist-packages/requests/adapters.py\u001b[0m in \u001b[0;36msend\u001b[0;34m(self, request, stream, timeout, verify, cert, proxies)\u001b[0m\n\u001b[1;32m    665\u001b[0m \u001b[0;34m\u001b[0m\u001b[0m\n\u001b[1;32m    666\u001b[0m         \u001b[0;32mtry\u001b[0m\u001b[0;34m:\u001b[0m\u001b[0;34m\u001b[0m\u001b[0;34m\u001b[0m\u001b[0m\n\u001b[0;32m--> 667\u001b[0;31m             resp = conn.urlopen(\n\u001b[0m\u001b[1;32m    668\u001b[0m                 \u001b[0mmethod\u001b[0m\u001b[0;34m=\u001b[0m\u001b[0mrequest\u001b[0m\u001b[0;34m.\u001b[0m\u001b[0mmethod\u001b[0m\u001b[0;34m,\u001b[0m\u001b[0;34m\u001b[0m\u001b[0;34m\u001b[0m\u001b[0m\n\u001b[1;32m    669\u001b[0m                 \u001b[0murl\u001b[0m\u001b[0;34m=\u001b[0m\u001b[0murl\u001b[0m\u001b[0;34m,\u001b[0m\u001b[0;34m\u001b[0m\u001b[0;34m\u001b[0m\u001b[0m\n",
            "\u001b[0;32m/usr/local/lib/python3.10/dist-packages/urllib3/connectionpool.py\u001b[0m in \u001b[0;36murlopen\u001b[0;34m(self, method, url, body, headers, retries, redirect, assert_same_host, timeout, pool_timeout, release_conn, chunked, body_pos, preload_content, decode_content, **response_kw)\u001b[0m\n\u001b[1;32m    789\u001b[0m \u001b[0;34m\u001b[0m\u001b[0m\n\u001b[1;32m    790\u001b[0m             \u001b[0;31m# Make the request on the HTTPConnection object\u001b[0m\u001b[0;34m\u001b[0m\u001b[0;34m\u001b[0m\u001b[0m\n\u001b[0;32m--> 791\u001b[0;31m             response = self._make_request(\n\u001b[0m\u001b[1;32m    792\u001b[0m                 \u001b[0mconn\u001b[0m\u001b[0;34m,\u001b[0m\u001b[0;34m\u001b[0m\u001b[0;34m\u001b[0m\u001b[0m\n\u001b[1;32m    793\u001b[0m                 \u001b[0mmethod\u001b[0m\u001b[0;34m,\u001b[0m\u001b[0;34m\u001b[0m\u001b[0;34m\u001b[0m\u001b[0m\n",
            "\u001b[0;32m/usr/local/lib/python3.10/dist-packages/urllib3/connectionpool.py\u001b[0m in \u001b[0;36m_make_request\u001b[0;34m(self, conn, method, url, body, headers, retries, timeout, chunked, response_conn, preload_content, decode_content, enforce_content_length)\u001b[0m\n\u001b[1;32m    535\u001b[0m         \u001b[0;31m# Receive the response from the server\u001b[0m\u001b[0;34m\u001b[0m\u001b[0;34m\u001b[0m\u001b[0m\n\u001b[1;32m    536\u001b[0m         \u001b[0;32mtry\u001b[0m\u001b[0;34m:\u001b[0m\u001b[0;34m\u001b[0m\u001b[0;34m\u001b[0m\u001b[0m\n\u001b[0;32m--> 537\u001b[0;31m             \u001b[0mresponse\u001b[0m \u001b[0;34m=\u001b[0m \u001b[0mconn\u001b[0m\u001b[0;34m.\u001b[0m\u001b[0mgetresponse\u001b[0m\u001b[0;34m(\u001b[0m\u001b[0;34m)\u001b[0m\u001b[0;34m\u001b[0m\u001b[0;34m\u001b[0m\u001b[0m\n\u001b[0m\u001b[1;32m    538\u001b[0m         \u001b[0;32mexcept\u001b[0m \u001b[0;34m(\u001b[0m\u001b[0mBaseSSLError\u001b[0m\u001b[0;34m,\u001b[0m \u001b[0mOSError\u001b[0m\u001b[0;34m)\u001b[0m \u001b[0;32mas\u001b[0m \u001b[0me\u001b[0m\u001b[0;34m:\u001b[0m\u001b[0;34m\u001b[0m\u001b[0;34m\u001b[0m\u001b[0m\n\u001b[1;32m    539\u001b[0m             \u001b[0mself\u001b[0m\u001b[0;34m.\u001b[0m\u001b[0m_raise_timeout\u001b[0m\u001b[0;34m(\u001b[0m\u001b[0merr\u001b[0m\u001b[0;34m=\u001b[0m\u001b[0me\u001b[0m\u001b[0;34m,\u001b[0m \u001b[0murl\u001b[0m\u001b[0;34m=\u001b[0m\u001b[0murl\u001b[0m\u001b[0;34m,\u001b[0m \u001b[0mtimeout_value\u001b[0m\u001b[0;34m=\u001b[0m\u001b[0mread_timeout\u001b[0m\u001b[0;34m)\u001b[0m\u001b[0;34m\u001b[0m\u001b[0;34m\u001b[0m\u001b[0m\n",
            "\u001b[0;32m/usr/local/lib/python3.10/dist-packages/urllib3/connection.py\u001b[0m in \u001b[0;36mgetresponse\u001b[0;34m(self)\u001b[0m\n\u001b[1;32m    459\u001b[0m \u001b[0;34m\u001b[0m\u001b[0m\n\u001b[1;32m    460\u001b[0m         \u001b[0;31m# Get the response from http.client.HTTPConnection\u001b[0m\u001b[0;34m\u001b[0m\u001b[0;34m\u001b[0m\u001b[0m\n\u001b[0;32m--> 461\u001b[0;31m         \u001b[0mhttplib_response\u001b[0m \u001b[0;34m=\u001b[0m \u001b[0msuper\u001b[0m\u001b[0;34m(\u001b[0m\u001b[0;34m)\u001b[0m\u001b[0;34m.\u001b[0m\u001b[0mgetresponse\u001b[0m\u001b[0;34m(\u001b[0m\u001b[0;34m)\u001b[0m\u001b[0;34m\u001b[0m\u001b[0;34m\u001b[0m\u001b[0m\n\u001b[0m\u001b[1;32m    462\u001b[0m \u001b[0;34m\u001b[0m\u001b[0m\n\u001b[1;32m    463\u001b[0m         \u001b[0;32mtry\u001b[0m\u001b[0;34m:\u001b[0m\u001b[0;34m\u001b[0m\u001b[0;34m\u001b[0m\u001b[0m\n",
            "\u001b[0;32m/usr/lib/python3.10/http/client.py\u001b[0m in \u001b[0;36mgetresponse\u001b[0;34m(self)\u001b[0m\n\u001b[1;32m   1373\u001b[0m         \u001b[0;32mtry\u001b[0m\u001b[0;34m:\u001b[0m\u001b[0;34m\u001b[0m\u001b[0;34m\u001b[0m\u001b[0m\n\u001b[1;32m   1374\u001b[0m             \u001b[0;32mtry\u001b[0m\u001b[0;34m:\u001b[0m\u001b[0;34m\u001b[0m\u001b[0;34m\u001b[0m\u001b[0m\n\u001b[0;32m-> 1375\u001b[0;31m                 \u001b[0mresponse\u001b[0m\u001b[0;34m.\u001b[0m\u001b[0mbegin\u001b[0m\u001b[0;34m(\u001b[0m\u001b[0;34m)\u001b[0m\u001b[0;34m\u001b[0m\u001b[0;34m\u001b[0m\u001b[0m\n\u001b[0m\u001b[1;32m   1376\u001b[0m             \u001b[0;32mexcept\u001b[0m \u001b[0mConnectionError\u001b[0m\u001b[0;34m:\u001b[0m\u001b[0;34m\u001b[0m\u001b[0;34m\u001b[0m\u001b[0m\n\u001b[1;32m   1377\u001b[0m                 \u001b[0mself\u001b[0m\u001b[0;34m.\u001b[0m\u001b[0mclose\u001b[0m\u001b[0;34m(\u001b[0m\u001b[0;34m)\u001b[0m\u001b[0;34m\u001b[0m\u001b[0;34m\u001b[0m\u001b[0m\n",
            "\u001b[0;32m/usr/lib/python3.10/http/client.py\u001b[0m in \u001b[0;36mbegin\u001b[0;34m(self)\u001b[0m\n\u001b[1;32m    316\u001b[0m         \u001b[0;31m# read until we get a non-100 response\u001b[0m\u001b[0;34m\u001b[0m\u001b[0;34m\u001b[0m\u001b[0m\n\u001b[1;32m    317\u001b[0m         \u001b[0;32mwhile\u001b[0m \u001b[0;32mTrue\u001b[0m\u001b[0;34m:\u001b[0m\u001b[0;34m\u001b[0m\u001b[0;34m\u001b[0m\u001b[0m\n\u001b[0;32m--> 318\u001b[0;31m             \u001b[0mversion\u001b[0m\u001b[0;34m,\u001b[0m \u001b[0mstatus\u001b[0m\u001b[0;34m,\u001b[0m \u001b[0mreason\u001b[0m \u001b[0;34m=\u001b[0m \u001b[0mself\u001b[0m\u001b[0;34m.\u001b[0m\u001b[0m_read_status\u001b[0m\u001b[0;34m(\u001b[0m\u001b[0;34m)\u001b[0m\u001b[0;34m\u001b[0m\u001b[0;34m\u001b[0m\u001b[0m\n\u001b[0m\u001b[1;32m    319\u001b[0m             \u001b[0;32mif\u001b[0m \u001b[0mstatus\u001b[0m \u001b[0;34m!=\u001b[0m \u001b[0mCONTINUE\u001b[0m\u001b[0;34m:\u001b[0m\u001b[0;34m\u001b[0m\u001b[0;34m\u001b[0m\u001b[0m\n\u001b[1;32m    320\u001b[0m                 \u001b[0;32mbreak\u001b[0m\u001b[0;34m\u001b[0m\u001b[0;34m\u001b[0m\u001b[0m\n",
            "\u001b[0;32m/usr/lib/python3.10/http/client.py\u001b[0m in \u001b[0;36m_read_status\u001b[0;34m(self)\u001b[0m\n\u001b[1;32m    277\u001b[0m \u001b[0;34m\u001b[0m\u001b[0m\n\u001b[1;32m    278\u001b[0m     \u001b[0;32mdef\u001b[0m \u001b[0m_read_status\u001b[0m\u001b[0;34m(\u001b[0m\u001b[0mself\u001b[0m\u001b[0;34m)\u001b[0m\u001b[0;34m:\u001b[0m\u001b[0;34m\u001b[0m\u001b[0;34m\u001b[0m\u001b[0m\n\u001b[0;32m--> 279\u001b[0;31m         \u001b[0mline\u001b[0m \u001b[0;34m=\u001b[0m \u001b[0mstr\u001b[0m\u001b[0;34m(\u001b[0m\u001b[0mself\u001b[0m\u001b[0;34m.\u001b[0m\u001b[0mfp\u001b[0m\u001b[0;34m.\u001b[0m\u001b[0mreadline\u001b[0m\u001b[0;34m(\u001b[0m\u001b[0m_MAXLINE\u001b[0m \u001b[0;34m+\u001b[0m \u001b[0;36m1\u001b[0m\u001b[0;34m)\u001b[0m\u001b[0;34m,\u001b[0m \u001b[0;34m\"iso-8859-1\"\u001b[0m\u001b[0;34m)\u001b[0m\u001b[0;34m\u001b[0m\u001b[0;34m\u001b[0m\u001b[0m\n\u001b[0m\u001b[1;32m    280\u001b[0m         \u001b[0;32mif\u001b[0m \u001b[0mlen\u001b[0m\u001b[0;34m(\u001b[0m\u001b[0mline\u001b[0m\u001b[0;34m)\u001b[0m \u001b[0;34m>\u001b[0m \u001b[0m_MAXLINE\u001b[0m\u001b[0;34m:\u001b[0m\u001b[0;34m\u001b[0m\u001b[0;34m\u001b[0m\u001b[0m\n\u001b[1;32m    281\u001b[0m             \u001b[0;32mraise\u001b[0m \u001b[0mLineTooLong\u001b[0m\u001b[0;34m(\u001b[0m\u001b[0;34m\"status line\"\u001b[0m\u001b[0;34m)\u001b[0m\u001b[0;34m\u001b[0m\u001b[0;34m\u001b[0m\u001b[0m\n",
            "\u001b[0;32m/usr/lib/python3.10/socket.py\u001b[0m in \u001b[0;36mreadinto\u001b[0;34m(self, b)\u001b[0m\n\u001b[1;32m    703\u001b[0m         \u001b[0;32mwhile\u001b[0m \u001b[0;32mTrue\u001b[0m\u001b[0;34m:\u001b[0m\u001b[0;34m\u001b[0m\u001b[0;34m\u001b[0m\u001b[0m\n\u001b[1;32m    704\u001b[0m             \u001b[0;32mtry\u001b[0m\u001b[0;34m:\u001b[0m\u001b[0;34m\u001b[0m\u001b[0;34m\u001b[0m\u001b[0m\n\u001b[0;32m--> 705\u001b[0;31m                 \u001b[0;32mreturn\u001b[0m \u001b[0mself\u001b[0m\u001b[0;34m.\u001b[0m\u001b[0m_sock\u001b[0m\u001b[0;34m.\u001b[0m\u001b[0mrecv_into\u001b[0m\u001b[0;34m(\u001b[0m\u001b[0mb\u001b[0m\u001b[0;34m)\u001b[0m\u001b[0;34m\u001b[0m\u001b[0;34m\u001b[0m\u001b[0m\n\u001b[0m\u001b[1;32m    706\u001b[0m             \u001b[0;32mexcept\u001b[0m \u001b[0mtimeout\u001b[0m\u001b[0;34m:\u001b[0m\u001b[0;34m\u001b[0m\u001b[0;34m\u001b[0m\u001b[0m\n\u001b[1;32m    707\u001b[0m                 \u001b[0mself\u001b[0m\u001b[0;34m.\u001b[0m\u001b[0m_timeout_occurred\u001b[0m \u001b[0;34m=\u001b[0m \u001b[0;32mTrue\u001b[0m\u001b[0;34m\u001b[0m\u001b[0;34m\u001b[0m\u001b[0m\n",
            "\u001b[0;32m/usr/lib/python3.10/ssl.py\u001b[0m in \u001b[0;36mrecv_into\u001b[0;34m(self, buffer, nbytes, flags)\u001b[0m\n\u001b[1;32m   1301\u001b[0m                   \u001b[0;34m\"non-zero flags not allowed in calls to recv_into() on %s\"\u001b[0m \u001b[0;34m%\u001b[0m\u001b[0;34m\u001b[0m\u001b[0;34m\u001b[0m\u001b[0m\n\u001b[1;32m   1302\u001b[0m                   self.__class__)\n\u001b[0;32m-> 1303\u001b[0;31m             \u001b[0;32mreturn\u001b[0m \u001b[0mself\u001b[0m\u001b[0;34m.\u001b[0m\u001b[0mread\u001b[0m\u001b[0;34m(\u001b[0m\u001b[0mnbytes\u001b[0m\u001b[0;34m,\u001b[0m \u001b[0mbuffer\u001b[0m\u001b[0;34m)\u001b[0m\u001b[0;34m\u001b[0m\u001b[0;34m\u001b[0m\u001b[0m\n\u001b[0m\u001b[1;32m   1304\u001b[0m         \u001b[0;32melse\u001b[0m\u001b[0;34m:\u001b[0m\u001b[0;34m\u001b[0m\u001b[0;34m\u001b[0m\u001b[0m\n\u001b[1;32m   1305\u001b[0m             \u001b[0;32mreturn\u001b[0m \u001b[0msuper\u001b[0m\u001b[0;34m(\u001b[0m\u001b[0;34m)\u001b[0m\u001b[0;34m.\u001b[0m\u001b[0mrecv_into\u001b[0m\u001b[0;34m(\u001b[0m\u001b[0mbuffer\u001b[0m\u001b[0;34m,\u001b[0m \u001b[0mnbytes\u001b[0m\u001b[0;34m,\u001b[0m \u001b[0mflags\u001b[0m\u001b[0;34m)\u001b[0m\u001b[0;34m\u001b[0m\u001b[0;34m\u001b[0m\u001b[0m\n",
            "\u001b[0;32m/usr/lib/python3.10/ssl.py\u001b[0m in \u001b[0;36mread\u001b[0;34m(self, len, buffer)\u001b[0m\n\u001b[1;32m   1157\u001b[0m         \u001b[0;32mtry\u001b[0m\u001b[0;34m:\u001b[0m\u001b[0;34m\u001b[0m\u001b[0;34m\u001b[0m\u001b[0m\n\u001b[1;32m   1158\u001b[0m             \u001b[0;32mif\u001b[0m \u001b[0mbuffer\u001b[0m \u001b[0;32mis\u001b[0m \u001b[0;32mnot\u001b[0m \u001b[0;32mNone\u001b[0m\u001b[0;34m:\u001b[0m\u001b[0;34m\u001b[0m\u001b[0;34m\u001b[0m\u001b[0m\n\u001b[0;32m-> 1159\u001b[0;31m                 \u001b[0;32mreturn\u001b[0m \u001b[0mself\u001b[0m\u001b[0;34m.\u001b[0m\u001b[0m_sslobj\u001b[0m\u001b[0;34m.\u001b[0m\u001b[0mread\u001b[0m\u001b[0;34m(\u001b[0m\u001b[0mlen\u001b[0m\u001b[0;34m,\u001b[0m \u001b[0mbuffer\u001b[0m\u001b[0;34m)\u001b[0m\u001b[0;34m\u001b[0m\u001b[0;34m\u001b[0m\u001b[0m\n\u001b[0m\u001b[1;32m   1160\u001b[0m             \u001b[0;32melse\u001b[0m\u001b[0;34m:\u001b[0m\u001b[0;34m\u001b[0m\u001b[0;34m\u001b[0m\u001b[0m\n\u001b[1;32m   1161\u001b[0m                 \u001b[0;32mreturn\u001b[0m \u001b[0mself\u001b[0m\u001b[0;34m.\u001b[0m\u001b[0m_sslobj\u001b[0m\u001b[0;34m.\u001b[0m\u001b[0mread\u001b[0m\u001b[0;34m(\u001b[0m\u001b[0mlen\u001b[0m\u001b[0;34m)\u001b[0m\u001b[0;34m\u001b[0m\u001b[0;34m\u001b[0m\u001b[0m\n",
            "\u001b[0;31mKeyboardInterrupt\u001b[0m: "
          ]
        }
      ]
    },
    {
      "cell_type": "code",
      "source": [
        "import requests\n",
        "from bs4 import BeautifulSoup\n",
        "import pandas as pd\n",
        "from tqdm import tqdm\n",
        "from concurrent.futures import ThreadPoolExecutor, as_completed\n",
        "\n",
        "# Read the CSV file\n",
        "df = pd.read_csv('/content/dubizzle_apartments_links.csv')\n",
        "apartments_links = df['Apartment Link'].tolist()\n",
        "\n",
        "# Function to extract data from a link\n",
        "def extract_apartment_data(link):\n",
        "    response = requests.get(link)\n",
        "    soup = BeautifulSoup(response.text, 'html.parser')\n",
        "\n",
        "    # Extract apartment details\n",
        "    Highlights = soup.find_all('div', class_='_948d9e0a e655db77 _371e9918 _95d4067f')\n",
        "    details = soup.find_all('div', class_='_9a8eacd9')\n",
        "    location = soup.find('span', {'aria-label': 'Location'})\n",
        "    listing_date = soup.find('span', {'aria-label': 'Creation date'})\n",
        "    price = soup.find('span', {'aria-label': 'Price'})\n",
        "    down_payment = soup.find('span', {'aria-label': 'Price Info'})\n",
        "    amenities = soup.find_all('span', class_='_241f82d9') + soup.find_all('span', class_='c327b807')\n",
        "\n",
        "    apartment_data = {}\n",
        "\n",
        "    for Highlight in Highlights:\n",
        "        label = Highlight.find_all('span')[0].text.strip()\n",
        "        value = Highlight.find_all('span')[1].text.strip()\n",
        "\n",
        "        if label == 'Type':\n",
        "            apartment_data['Type'] = value\n",
        "        elif label == 'Ownership':\n",
        "            apartment_data['Ownership'] = value\n",
        "        elif label == 'Area (m²)':\n",
        "            apartment_data['Area (m²)'] = value\n",
        "        elif label == 'Bedrooms':\n",
        "            apartment_data['Bedrooms'] = value\n",
        "        elif label == 'Bathrooms':\n",
        "            apartment_data['Bathrooms'] = value\n",
        "        elif label == 'Furnished':\n",
        "            apartment_data['Furnished'] = value\n",
        "\n",
        "    for detail in details:\n",
        "        label = detail.find_all('span')[0].text.strip()\n",
        "        value = detail.find_all('span')[1].text.strip()\n",
        "\n",
        "        if label == 'Payment Option':\n",
        "            apartment_data['Payment Option'] = value\n",
        "        elif label == 'Delivery Date':\n",
        "            apartment_data['Delivery Date'] = value\n",
        "        elif label == 'Level':\n",
        "            apartment_data['Level'] = value\n",
        "        elif label == 'Completion status':\n",
        "            apartment_data['Completion status'] = value\n",
        "        elif label == 'Delivery Term':\n",
        "            apartment_data['Delivery Term'] = value\n",
        "\n",
        "    apartment_data['Location'] = location.text.strip() if location else None\n",
        "    apartment_data['Listing date'] = listing_date.text.strip() if listing_date else None\n",
        "    apartment_data['Price'] = price.text.strip() if price else None\n",
        "    apartment_data['Down Payment'] = down_payment.text.strip() if down_payment else None\n",
        "    apartment_data['Amenities'] = [amenity.text.strip() for amenity in amenities]\n",
        "\n",
        "    return apartment_data\n",
        "\n",
        "# Create a list to store apartment data\n",
        "apartments_data = []\n",
        "\n",
        "# Use ThreadPoolExecutor to make requests in parallel\n",
        "with ThreadPoolExecutor(max_workers=10) as executor:\n",
        "    future_to_link = {executor.submit(extract_apartment_data, link): link for link in apartments_links}\n",
        "    for future in tqdm(as_completed(future_to_link), total=len(apartments_links), desc=\"Apartments Products\", unit=\"Apartment\"):\n",
        "        try:\n",
        "            data = future.result()\n",
        "            apartments_data.append(data)\n",
        "        except Exception as e:\n",
        "            print(f\"Error processing link {future_to_link[future]}: {e}\")\n",
        "\n",
        "# Create DataFrame\n",
        "df = pd.DataFrame(apartments_data)\n",
        "\n",
        "# Export to CSV\n",
        "df.to_csv('dubizzle_apartments_data.csv', index=False)"
      ],
      "metadata": {
        "colab": {
          "base_uri": "https://localhost:8080/",
          "height": 444
        },
        "id": "2jGxOMWnWlOG",
        "outputId": "01a62638-ae34-4d41-a6f2-722a90d1d5df"
      },
      "execution_count": null,
      "outputs": [
        {
          "output_type": "stream",
          "name": "stderr",
          "text": [
            "Apartments Products:   0%|          | 921/267950 [06:06<29:29:16,  2.52Apartment/s]\n"
          ]
        },
        {
          "output_type": "error",
          "ename": "KeyboardInterrupt",
          "evalue": "",
          "traceback": [
            "\u001b[0;31m---------------------------------------------------------------------------\u001b[0m",
            "\u001b[0;31mKeyboardInterrupt\u001b[0m                         Traceback (most recent call last)",
            "\u001b[0;32m<ipython-input-42-3fb683f87c86>\u001b[0m in \u001b[0;36m<cell line: 71>\u001b[0;34m()\u001b[0m\n\u001b[1;32m     72\u001b[0m     \u001b[0mfuture_to_link\u001b[0m \u001b[0;34m=\u001b[0m \u001b[0;34m{\u001b[0m\u001b[0mexecutor\u001b[0m\u001b[0;34m.\u001b[0m\u001b[0msubmit\u001b[0m\u001b[0;34m(\u001b[0m\u001b[0mextract_apartment_data\u001b[0m\u001b[0;34m,\u001b[0m \u001b[0mlink\u001b[0m\u001b[0;34m)\u001b[0m\u001b[0;34m:\u001b[0m \u001b[0mlink\u001b[0m \u001b[0;32mfor\u001b[0m \u001b[0mlink\u001b[0m \u001b[0;32min\u001b[0m \u001b[0mapartments_links\u001b[0m\u001b[0;34m}\u001b[0m\u001b[0;34m\u001b[0m\u001b[0;34m\u001b[0m\u001b[0m\n\u001b[0;32m---> 73\u001b[0;31m     \u001b[0;32mfor\u001b[0m \u001b[0mfuture\u001b[0m \u001b[0;32min\u001b[0m \u001b[0mtqdm\u001b[0m\u001b[0;34m(\u001b[0m\u001b[0mas_completed\u001b[0m\u001b[0;34m(\u001b[0m\u001b[0mfuture_to_link\u001b[0m\u001b[0;34m)\u001b[0m\u001b[0;34m,\u001b[0m \u001b[0mtotal\u001b[0m\u001b[0;34m=\u001b[0m\u001b[0mlen\u001b[0m\u001b[0;34m(\u001b[0m\u001b[0mapartments_links\u001b[0m\u001b[0;34m)\u001b[0m\u001b[0;34m,\u001b[0m \u001b[0mdesc\u001b[0m\u001b[0;34m=\u001b[0m\u001b[0;34m\"Apartments Products\"\u001b[0m\u001b[0;34m,\u001b[0m \u001b[0munit\u001b[0m\u001b[0;34m=\u001b[0m\u001b[0;34m\"Apartment\"\u001b[0m\u001b[0;34m)\u001b[0m\u001b[0;34m:\u001b[0m\u001b[0;34m\u001b[0m\u001b[0;34m\u001b[0m\u001b[0m\n\u001b[0m\u001b[1;32m     74\u001b[0m         \u001b[0;32mtry\u001b[0m\u001b[0;34m:\u001b[0m\u001b[0;34m\u001b[0m\u001b[0;34m\u001b[0m\u001b[0m\n",
            "\u001b[0;32m/usr/local/lib/python3.10/dist-packages/tqdm/std.py\u001b[0m in \u001b[0;36m__iter__\u001b[0;34m(self)\u001b[0m\n\u001b[1;32m   1180\u001b[0m         \u001b[0;32mtry\u001b[0m\u001b[0;34m:\u001b[0m\u001b[0;34m\u001b[0m\u001b[0;34m\u001b[0m\u001b[0m\n\u001b[0;32m-> 1181\u001b[0;31m             \u001b[0;32mfor\u001b[0m \u001b[0mobj\u001b[0m \u001b[0;32min\u001b[0m \u001b[0miterable\u001b[0m\u001b[0;34m:\u001b[0m\u001b[0;34m\u001b[0m\u001b[0;34m\u001b[0m\u001b[0m\n\u001b[0m\u001b[1;32m   1182\u001b[0m                 \u001b[0;32myield\u001b[0m \u001b[0mobj\u001b[0m\u001b[0;34m\u001b[0m\u001b[0;34m\u001b[0m\u001b[0m\n",
            "\u001b[0;32m/usr/lib/python3.10/concurrent/futures/_base.py\u001b[0m in \u001b[0;36mas_completed\u001b[0;34m(fs, timeout)\u001b[0m\n\u001b[1;32m    244\u001b[0m \u001b[0;34m\u001b[0m\u001b[0m\n\u001b[0;32m--> 245\u001b[0;31m             \u001b[0mwaiter\u001b[0m\u001b[0;34m.\u001b[0m\u001b[0mevent\u001b[0m\u001b[0;34m.\u001b[0m\u001b[0mwait\u001b[0m\u001b[0;34m(\u001b[0m\u001b[0mwait_timeout\u001b[0m\u001b[0;34m)\u001b[0m\u001b[0;34m\u001b[0m\u001b[0;34m\u001b[0m\u001b[0m\n\u001b[0m\u001b[1;32m    246\u001b[0m \u001b[0;34m\u001b[0m\u001b[0m\n",
            "\u001b[0;32m/usr/lib/python3.10/threading.py\u001b[0m in \u001b[0;36mwait\u001b[0;34m(self, timeout)\u001b[0m\n\u001b[1;32m    606\u001b[0m             \u001b[0;32mif\u001b[0m \u001b[0;32mnot\u001b[0m \u001b[0msignaled\u001b[0m\u001b[0;34m:\u001b[0m\u001b[0;34m\u001b[0m\u001b[0;34m\u001b[0m\u001b[0m\n\u001b[0;32m--> 607\u001b[0;31m                 \u001b[0msignaled\u001b[0m \u001b[0;34m=\u001b[0m \u001b[0mself\u001b[0m\u001b[0;34m.\u001b[0m\u001b[0m_cond\u001b[0m\u001b[0;34m.\u001b[0m\u001b[0mwait\u001b[0m\u001b[0;34m(\u001b[0m\u001b[0mtimeout\u001b[0m\u001b[0;34m)\u001b[0m\u001b[0;34m\u001b[0m\u001b[0;34m\u001b[0m\u001b[0m\n\u001b[0m\u001b[1;32m    608\u001b[0m             \u001b[0;32mreturn\u001b[0m \u001b[0msignaled\u001b[0m\u001b[0;34m\u001b[0m\u001b[0;34m\u001b[0m\u001b[0m\n",
            "\u001b[0;32m/usr/lib/python3.10/threading.py\u001b[0m in \u001b[0;36mwait\u001b[0;34m(self, timeout)\u001b[0m\n\u001b[1;32m    319\u001b[0m             \u001b[0;32mif\u001b[0m \u001b[0mtimeout\u001b[0m \u001b[0;32mis\u001b[0m \u001b[0;32mNone\u001b[0m\u001b[0;34m:\u001b[0m\u001b[0;34m\u001b[0m\u001b[0;34m\u001b[0m\u001b[0m\n\u001b[0;32m--> 320\u001b[0;31m                 \u001b[0mwaiter\u001b[0m\u001b[0;34m.\u001b[0m\u001b[0macquire\u001b[0m\u001b[0;34m(\u001b[0m\u001b[0;34m)\u001b[0m\u001b[0;34m\u001b[0m\u001b[0;34m\u001b[0m\u001b[0m\n\u001b[0m\u001b[1;32m    321\u001b[0m                 \u001b[0mgotit\u001b[0m \u001b[0;34m=\u001b[0m \u001b[0;32mTrue\u001b[0m\u001b[0;34m\u001b[0m\u001b[0;34m\u001b[0m\u001b[0m\n",
            "\u001b[0;31mKeyboardInterrupt\u001b[0m: ",
            "\nDuring handling of the above exception, another exception occurred:\n",
            "\u001b[0;31mKeyboardInterrupt\u001b[0m                         Traceback (most recent call last)",
            "\u001b[0;32m<ipython-input-42-3fb683f87c86>\u001b[0m in \u001b[0;36m<cell line: 71>\u001b[0;34m()\u001b[0m\n\u001b[1;32m     69\u001b[0m \u001b[0;34m\u001b[0m\u001b[0m\n\u001b[1;32m     70\u001b[0m \u001b[0;31m# Use ThreadPoolExecutor to make requests in parallel\u001b[0m\u001b[0;34m\u001b[0m\u001b[0;34m\u001b[0m\u001b[0m\n\u001b[0;32m---> 71\u001b[0;31m \u001b[0;32mwith\u001b[0m \u001b[0mThreadPoolExecutor\u001b[0m\u001b[0;34m(\u001b[0m\u001b[0mmax_workers\u001b[0m\u001b[0;34m=\u001b[0m\u001b[0;36m10\u001b[0m\u001b[0;34m)\u001b[0m \u001b[0;32mas\u001b[0m \u001b[0mexecutor\u001b[0m\u001b[0;34m:\u001b[0m\u001b[0;34m\u001b[0m\u001b[0;34m\u001b[0m\u001b[0m\n\u001b[0m\u001b[1;32m     72\u001b[0m     \u001b[0mfuture_to_link\u001b[0m \u001b[0;34m=\u001b[0m \u001b[0;34m{\u001b[0m\u001b[0mexecutor\u001b[0m\u001b[0;34m.\u001b[0m\u001b[0msubmit\u001b[0m\u001b[0;34m(\u001b[0m\u001b[0mextract_apartment_data\u001b[0m\u001b[0;34m,\u001b[0m \u001b[0mlink\u001b[0m\u001b[0;34m)\u001b[0m\u001b[0;34m:\u001b[0m \u001b[0mlink\u001b[0m \u001b[0;32mfor\u001b[0m \u001b[0mlink\u001b[0m \u001b[0;32min\u001b[0m \u001b[0mapartments_links\u001b[0m\u001b[0;34m}\u001b[0m\u001b[0;34m\u001b[0m\u001b[0;34m\u001b[0m\u001b[0m\n\u001b[1;32m     73\u001b[0m     \u001b[0;32mfor\u001b[0m \u001b[0mfuture\u001b[0m \u001b[0;32min\u001b[0m \u001b[0mtqdm\u001b[0m\u001b[0;34m(\u001b[0m\u001b[0mas_completed\u001b[0m\u001b[0;34m(\u001b[0m\u001b[0mfuture_to_link\u001b[0m\u001b[0;34m)\u001b[0m\u001b[0;34m,\u001b[0m \u001b[0mtotal\u001b[0m\u001b[0;34m=\u001b[0m\u001b[0mlen\u001b[0m\u001b[0;34m(\u001b[0m\u001b[0mapartments_links\u001b[0m\u001b[0;34m)\u001b[0m\u001b[0;34m,\u001b[0m \u001b[0mdesc\u001b[0m\u001b[0;34m=\u001b[0m\u001b[0;34m\"Apartments Products\"\u001b[0m\u001b[0;34m,\u001b[0m \u001b[0munit\u001b[0m\u001b[0;34m=\u001b[0m\u001b[0;34m\"Apartment\"\u001b[0m\u001b[0;34m)\u001b[0m\u001b[0;34m:\u001b[0m\u001b[0;34m\u001b[0m\u001b[0;34m\u001b[0m\u001b[0m\n",
            "\u001b[0;32m/usr/lib/python3.10/concurrent/futures/_base.py\u001b[0m in \u001b[0;36m__exit__\u001b[0;34m(self, exc_type, exc_val, exc_tb)\u001b[0m\n\u001b[1;32m    647\u001b[0m \u001b[0;34m\u001b[0m\u001b[0m\n\u001b[1;32m    648\u001b[0m     \u001b[0;32mdef\u001b[0m \u001b[0m__exit__\u001b[0m\u001b[0;34m(\u001b[0m\u001b[0mself\u001b[0m\u001b[0;34m,\u001b[0m \u001b[0mexc_type\u001b[0m\u001b[0;34m,\u001b[0m \u001b[0mexc_val\u001b[0m\u001b[0;34m,\u001b[0m \u001b[0mexc_tb\u001b[0m\u001b[0;34m)\u001b[0m\u001b[0;34m:\u001b[0m\u001b[0;34m\u001b[0m\u001b[0;34m\u001b[0m\u001b[0m\n\u001b[0;32m--> 649\u001b[0;31m         \u001b[0mself\u001b[0m\u001b[0;34m.\u001b[0m\u001b[0mshutdown\u001b[0m\u001b[0;34m(\u001b[0m\u001b[0mwait\u001b[0m\u001b[0;34m=\u001b[0m\u001b[0;32mTrue\u001b[0m\u001b[0;34m)\u001b[0m\u001b[0;34m\u001b[0m\u001b[0;34m\u001b[0m\u001b[0m\n\u001b[0m\u001b[1;32m    650\u001b[0m         \u001b[0;32mreturn\u001b[0m \u001b[0;32mFalse\u001b[0m\u001b[0;34m\u001b[0m\u001b[0;34m\u001b[0m\u001b[0m\n\u001b[1;32m    651\u001b[0m \u001b[0;34m\u001b[0m\u001b[0m\n",
            "\u001b[0;32m/usr/lib/python3.10/concurrent/futures/thread.py\u001b[0m in \u001b[0;36mshutdown\u001b[0;34m(self, wait, cancel_futures)\u001b[0m\n\u001b[1;32m    233\u001b[0m         \u001b[0;32mif\u001b[0m \u001b[0mwait\u001b[0m\u001b[0;34m:\u001b[0m\u001b[0;34m\u001b[0m\u001b[0;34m\u001b[0m\u001b[0m\n\u001b[1;32m    234\u001b[0m             \u001b[0;32mfor\u001b[0m \u001b[0mt\u001b[0m \u001b[0;32min\u001b[0m \u001b[0mself\u001b[0m\u001b[0;34m.\u001b[0m\u001b[0m_threads\u001b[0m\u001b[0;34m:\u001b[0m\u001b[0;34m\u001b[0m\u001b[0;34m\u001b[0m\u001b[0m\n\u001b[0;32m--> 235\u001b[0;31m                 \u001b[0mt\u001b[0m\u001b[0;34m.\u001b[0m\u001b[0mjoin\u001b[0m\u001b[0;34m(\u001b[0m\u001b[0;34m)\u001b[0m\u001b[0;34m\u001b[0m\u001b[0;34m\u001b[0m\u001b[0m\n\u001b[0m\u001b[1;32m    236\u001b[0m     \u001b[0mshutdown\u001b[0m\u001b[0;34m.\u001b[0m\u001b[0m__doc__\u001b[0m \u001b[0;34m=\u001b[0m \u001b[0m_base\u001b[0m\u001b[0;34m.\u001b[0m\u001b[0mExecutor\u001b[0m\u001b[0;34m.\u001b[0m\u001b[0mshutdown\u001b[0m\u001b[0;34m.\u001b[0m\u001b[0m__doc__\u001b[0m\u001b[0;34m\u001b[0m\u001b[0;34m\u001b[0m\u001b[0m\n",
            "\u001b[0;32m/usr/lib/python3.10/threading.py\u001b[0m in \u001b[0;36mjoin\u001b[0;34m(self, timeout)\u001b[0m\n\u001b[1;32m   1094\u001b[0m \u001b[0;34m\u001b[0m\u001b[0m\n\u001b[1;32m   1095\u001b[0m         \u001b[0;32mif\u001b[0m \u001b[0mtimeout\u001b[0m \u001b[0;32mis\u001b[0m \u001b[0;32mNone\u001b[0m\u001b[0;34m:\u001b[0m\u001b[0;34m\u001b[0m\u001b[0;34m\u001b[0m\u001b[0m\n\u001b[0;32m-> 1096\u001b[0;31m             \u001b[0mself\u001b[0m\u001b[0;34m.\u001b[0m\u001b[0m_wait_for_tstate_lock\u001b[0m\u001b[0;34m(\u001b[0m\u001b[0;34m)\u001b[0m\u001b[0;34m\u001b[0m\u001b[0;34m\u001b[0m\u001b[0m\n\u001b[0m\u001b[1;32m   1097\u001b[0m         \u001b[0;32melse\u001b[0m\u001b[0;34m:\u001b[0m\u001b[0;34m\u001b[0m\u001b[0;34m\u001b[0m\u001b[0m\n\u001b[1;32m   1098\u001b[0m             \u001b[0;31m# the behavior of a negative timeout isn't documented, but\u001b[0m\u001b[0;34m\u001b[0m\u001b[0;34m\u001b[0m\u001b[0m\n",
            "\u001b[0;32m/usr/lib/python3.10/threading.py\u001b[0m in \u001b[0;36m_wait_for_tstate_lock\u001b[0;34m(self, block, timeout)\u001b[0m\n\u001b[1;32m   1114\u001b[0m \u001b[0;34m\u001b[0m\u001b[0m\n\u001b[1;32m   1115\u001b[0m         \u001b[0;32mtry\u001b[0m\u001b[0;34m:\u001b[0m\u001b[0;34m\u001b[0m\u001b[0;34m\u001b[0m\u001b[0m\n\u001b[0;32m-> 1116\u001b[0;31m             \u001b[0;32mif\u001b[0m \u001b[0mlock\u001b[0m\u001b[0;34m.\u001b[0m\u001b[0macquire\u001b[0m\u001b[0;34m(\u001b[0m\u001b[0mblock\u001b[0m\u001b[0;34m,\u001b[0m \u001b[0mtimeout\u001b[0m\u001b[0;34m)\u001b[0m\u001b[0;34m:\u001b[0m\u001b[0;34m\u001b[0m\u001b[0;34m\u001b[0m\u001b[0m\n\u001b[0m\u001b[1;32m   1117\u001b[0m                 \u001b[0mlock\u001b[0m\u001b[0;34m.\u001b[0m\u001b[0mrelease\u001b[0m\u001b[0;34m(\u001b[0m\u001b[0;34m)\u001b[0m\u001b[0;34m\u001b[0m\u001b[0;34m\u001b[0m\u001b[0m\n\u001b[1;32m   1118\u001b[0m                 \u001b[0mself\u001b[0m\u001b[0;34m.\u001b[0m\u001b[0m_stop\u001b[0m\u001b[0;34m(\u001b[0m\u001b[0;34m)\u001b[0m\u001b[0;34m\u001b[0m\u001b[0;34m\u001b[0m\u001b[0m\n",
            "\u001b[0;31mKeyboardInterrupt\u001b[0m: "
          ]
        }
      ]
    },
    {
      "cell_type": "code",
      "source": [
        "import aiohttp\n",
        "import asyncio\n",
        "from bs4 import BeautifulSoup\n",
        "import pandas as pd\n",
        "from tqdm.asyncio import tqdm as tqdm_asyncio\n",
        "import time\n",
        "\n",
        "# Read the CSV file\n",
        "df = pd.read_csv('/content/dubizzle_apartments_links.csv')\n",
        "apartments_links = df['Apartment Link'].tolist()\n",
        "\n",
        "# Asynchronous function to extract data from a link\n",
        "async def fetch(session, link):\n",
        "    try:\n",
        "        async with session.get(link) as response:\n",
        "            if response.status == 200:\n",
        "                response_text = await response.text()\n",
        "                return response_text\n",
        "            else:\n",
        "                print(f\"Failed to fetch {link}, Status Code: {response.status}\")\n",
        "                return None\n",
        "    except Exception as e:\n",
        "        print(f\"Error fetching {link}: {e}\")\n",
        "        return None\n",
        "\n",
        "# Function to parse apartment data from HTML content\n",
        "def parse_apartment_data(html_content):\n",
        "    soup = BeautifulSoup(html_content, 'html.parser')\n",
        "\n",
        "    # Extract apartment details\n",
        "    Highlights = soup.find_all('div', class_='_948d9e0a e655db77 _371e9918 _95d4067f')\n",
        "    details = soup.find_all('div', class_='_9a8eacd9')\n",
        "    location = soup.find('span', {'aria-label': 'Location'})\n",
        "    listing_date = soup.find('span', {'aria-label': 'Creation date'})\n",
        "    price = soup.find('span', {'aria-label': 'Price'})\n",
        "    down_payment = soup.find('span', {'aria-label': 'Price Info'})\n",
        "    amenities = soup.find_all('span', class_='_241f82d9') + soup.find_all('span', class_='c327b807')\n",
        "\n",
        "    apartment_data = {}\n",
        "\n",
        "    for Highlight in Highlights:\n",
        "        spans = Highlight.find_all('span')\n",
        "        if len(spans) >= 2:\n",
        "            label = spans[0].text.strip()\n",
        "            value = spans[1].text.strip()\n",
        "            apartment_data[label] = value\n",
        "\n",
        "    for detail in details:\n",
        "        spans = detail.find_all('span')\n",
        "        if len(spans) >= 2:\n",
        "            label = spans[0].text.strip()\n",
        "            value = spans[1].text.strip()\n",
        "            apartment_data[label] = value\n",
        "\n",
        "    apartment_data['Location'] = location.text.strip() if location else None\n",
        "    apartment_data['Listing date'] = listing_date.text.strip() if listing_date else None\n",
        "    apartment_data['Price'] = price.text.strip() if price else None\n",
        "    apartment_data['Down Payment'] = down_payment.text.strip() if down_payment else None\n",
        "    apartment_data['Amenities'] = [amenity.text.strip() for amenity in amenities]\n",
        "\n",
        "    return apartment_data\n",
        "\n",
        "# Function to handle scraping with rate limiting and batch processing\n",
        "async def scrape_apartment_data(links, batch_size=1000, max_workers=50):\n",
        "    apartments_data = []\n",
        "\n",
        "    # Process links in batches\n",
        "    for i in range(0, len(links), batch_size):\n",
        "        batch_links = links[i:i + batch_size]\n",
        "        print(f\"Processing batch {i // batch_size + 1} / {len(links) // batch_size + 1}\")\n",
        "\n",
        "        async with aiohttp.ClientSession() as session:\n",
        "            tasks = []\n",
        "            for link in batch_links:\n",
        "                tasks.append(fetch(session, link))\n",
        "\n",
        "            # Gather the responses asynchronously with a limit on concurrency\n",
        "            for task in tqdm_asyncio.as_completed(tasks, total=len(tasks), desc=\"Apartments Products\", unit=\"Apartment\"):\n",
        "                try:\n",
        "                    html_content = await task\n",
        "                    if html_content:\n",
        "                        data = parse_apartment_data(html_content)\n",
        "                        apartments_data.append(data)\n",
        "                except Exception as e:\n",
        "                    print(f\"Error processing task: {e}\")\n",
        "\n",
        "        # Save progress after each batch to prevent data loss\n",
        "        df = pd.DataFrame(apartments_data)\n",
        "        df.to_csv(f'dubizzle_apartments_data_batch_{i // batch_size + 1}.csv', index=False)\n",
        "        print(f\"Batch {i // batch_size + 1} saved!\")\n",
        "\n",
        "        # Sleep for a few seconds to prevent overwhelming the server\n",
        "        await asyncio.sleep(5)\n",
        "\n",
        "    return apartments_data\n",
        "\n",
        "# Run the scraping and save the data to a CSV file\n",
        "async def main():\n",
        "    # Set batch size and max concurrent workers (tune these values based on your system and server load)\n",
        "    batch_size = 1000  # Number of links processed in each batch\n",
        "    max_workers = 50   # Max concurrent requests at a time\n",
        "\n",
        "    apartments_data = await scrape_apartment_data(apartments_links, batch_size=batch_size, max_workers=max_workers)\n",
        "\n",
        "    # Create final DataFrame and export to CSV\n",
        "    df = pd.DataFrame(apartments_data)\n",
        "    df.to_csv('dubizzle_apartments_data_full.csv', index=False)\n",
        "\n",
        "# In Google Colab, use await directly to execute the main function\n",
        "await main()\n"
      ],
      "metadata": {
        "colab": {
          "base_uri": "https://localhost:8080/",
          "height": 1000
        },
        "id": "ud7lQVxsX5Yp",
        "outputId": "fe50633c-928a-43c8-adb3-6115f4a49034"
      },
      "execution_count": null,
      "outputs": [
        {
          "metadata": {
            "tags": null
          },
          "name": "stdout",
          "output_type": "stream",
          "text": [
            "Processing batch 1 / 268\n"
          ]
        },
        {
          "metadata": {
            "tags": null
          },
          "name": "stderr",
          "output_type": "stream",
          "text": [
            "Apartments Products:   0%|          | 1/1000 [00:01<17:02,  1.02s/Apartment]"
          ]
        },
        {
          "metadata": {
            "tags": null
          },
          "name": "stdout",
          "output_type": "stream",
          "text": [
            "Failed to fetch https://www.dubizzle.com.eg/en/ad/%D8%B4%D9%82%D8%A9-%D9%84%D9%84%D8%A8%D9%8A%D8%B9176%D9%85-%D8%A8%D9%83%D9%85%D8%A8%D9%88%D9%86%D8%AF-%D8%A7%D9%84%D9%85%D8%B9%D8%A7%D8%AF%D9%8A-%D8%AC%D8%A7%D8%B1%D8%AF%D9%86%D8%B2-%D8%A7%D9%88%D9%84-%D8%B3%D9%83%D9%86-ID202489797.html, Status Code: 404\n"
          ]
        },
        {
          "metadata": {
            "tags": null
          },
          "name": "stderr",
          "output_type": "stream",
          "text": [
            "Apartments Products:  14%|█▍        | 141/1000 [00:20<01:32,  9.29Apartment/s]"
          ]
        },
        {
          "metadata": {
            "tags": null
          },
          "name": "stdout",
          "output_type": "stream",
          "text": [
            "Failed to fetch https://www.dubizzle.com.eg/en/ad/%D8%B4%D9%82%D8%A9-%D9%84%D9%84%D8%A8%D9%8A%D8%B9-%D8%A8%D9%85%D8%AF%D9%8A%D9%86%D8%A9-%D8%A7%D9%84%D8%B4%D8%B1%D9%88%D9%82-%D9%85%D9%86%D8%B7%D9%82%D8%A9-%D8%A7%D9%8470-%D9%85%D8%AA%D8%B1-ID202509689.html, Status Code: 404\n"
          ]
        },
        {
          "metadata": {
            "tags": null
          },
          "name": "stderr",
          "output_type": "stream",
          "text": [
            "Apartments Products:  35%|███▍      | 347/1000 [00:45<01:31,  7.13Apartment/s]"
          ]
        },
        {
          "metadata": {
            "tags": null
          },
          "name": "stdout",
          "output_type": "stream",
          "text": [
            "Failed to fetch https://www.dubizzle.com.eg/en/ad/%D8%B4%D9%82%D9%87-%D9%84%D9%84%D8%A8%D9%8A%D8%B9-%D9%81%D9%8A-%D8%A8%D8%AF%D8%B1-190%D9%85-%D8%A7%D9%84%D8%AD%D9%8A-%D8%A7%D9%84%D9%85%D8%AA%D9%85%D9%8A%D8%B2-%D9%85%D8%AA%D9%83%D8%A7%D9%85%D9%84%D9%87-%D8%A7%D9%84%D8%AE%D8%AF%D9%85%D8%A7%D8%AA-ID202272930.html, Status Code: 404\n"
          ]
        },
        {
          "metadata": {
            "tags": null
          },
          "name": "stderr",
          "output_type": "stream",
          "text": [
            "Apartments Products:  45%|████▌     | 453/1000 [00:58<01:55,  4.73Apartment/s]"
          ]
        },
        {
          "metadata": {
            "tags": null
          },
          "name": "stdout",
          "output_type": "stream",
          "text": [
            "Failed to fetch https://www.dubizzle.com.eg/en/ad/%D8%B4%D9%82%D8%A9-%D9%81%D8%A7%D8%AE%D8%B1%D8%A9-%D8%A8%D9%85%D8%B5%D8%B1-%D8%A7%D9%84%D8%AC%D8%AF%D9%8A%D8%AF%D9%87-ID202472032.html, Status Code: 404\n"
          ]
        },
        {
          "metadata": {
            "tags": null
          },
          "name": "stderr",
          "output_type": "stream",
          "text": [
            "Apartments Products:  72%|███████▏  | 716/1000 [01:30<00:34,  8.15Apartment/s]"
          ]
        },
        {
          "metadata": {
            "tags": null
          },
          "name": "stdout",
          "output_type": "stream",
          "text": [
            "Failed to fetch https://www.dubizzle.com.eg/en/ad/for-sale-apartment-127m-view-lake-finished-super-lux-under-market-price-with-installment-in-palm-hills-new-cairo-ID500991768.html, Status Code: 404\n"
          ]
        },
        {
          "metadata": {
            "tags": null
          },
          "name": "stderr",
          "output_type": "stream",
          "text": [
            "Apartments Products:  81%|████████  | 808/1000 [01:41<00:22,  8.49Apartment/s]"
          ]
        },
        {
          "metadata": {
            "tags": null
          },
          "name": "stdout",
          "output_type": "stream",
          "text": [
            "Failed to fetch https://www.dubizzle.com.eg/en/ad/%D9%84%D9%84%D8%A8%D9%8A%D8%B9-%D9%81%D9%89-b11-%D8%A8%D8%A7%D8%B1%D9%82%D9%89-%D9%85%D9%86%D8%B7%D9%82%D8%A9-%D9%81%D9%89-%D9%85%D8%AF%D9%8A%D9%86%D8%AA%D9%89-ID202494404.html, Status Code: 404\n",
            "Failed to fetch https://www.dubizzle.com.eg/en/ad/%D8%B4%D9%82%D9%87-%D8%AA%D9%85%D9%84%D9%8A%D9%83-%D9%84%D9%84%D8%A8%D9%8A%D8%B9-%D8%B4%D8%A7%D8%B1%D8%B9-%D9%88%D9%86%D8%AC%D8%AA-ID200495585.html, Status Code: 404\n"
          ]
        },
        {
          "metadata": {
            "tags": null
          },
          "name": "stderr",
          "output_type": "stream",
          "text": [
            "Apartments Products:  90%|████████▉ | 896/1000 [01:52<00:15,  6.59Apartment/s]"
          ]
        },
        {
          "metadata": {
            "tags": null
          },
          "name": "stdout",
          "output_type": "stream",
          "text": [
            "Failed to fetch https://www.dubizzle.com.eg/en/ad/immediately-receive-a-furnished-apartment-acs-directly-on-maadi-nile-corniche-in-installments-of-up-to-5-years-ID501005082.html, Status Code: 404\n",
            "Failed to fetch https://www.dubizzle.com.eg/en/ad/resale-ready-to-move-prime-location-fully-finished-ID500913128.html, Status Code: 404\n"
          ]
        },
        {
          "metadata": {
            "tags": null
          },
          "name": "stderr",
          "output_type": "stream",
          "text": [
            "Apartments Products: 100%|██████████| 1000/1000 [05:00<00:00,  3.33Apartment/s]"
          ]
        },
        {
          "metadata": {
            "tags": null
          },
          "name": "stdout",
          "output_type": "stream",
          "text": [
            "Error fetching https://www.dubizzle.com.eg/en/ad/in-a-very-distinguished-location-in-addition-to-the-services-and-fantastic-prices-book-a-studio-in-taj-city-ID500771910.html: \n",
            "Error fetching https://www.dubizzle.com.eg/en/ad/%D8%B4%D9%82%D8%A9-%D9%84%D9%84%D8%A8%D9%8A%D8%B9-%D9%85%D8%B7%D9%84-%D8%A8%D9%88%D8%A7%D8%A8%D9%87-%D8%AA%D9%88%D8%B4%D9%83%D9%8A-%D8%A7%D9%84%D8%B1%D8%A6%D9%8A%D8%B3%D9%8A-%D8%AD%D9%8A-%D8%A7%D9%84%D8%AC%D8%A7%D9%85%D8%B9%D9%87-%D8%A7%D9%84%D9%85%D9%86%D8%B5%D9%88%D8%B1%D9%87-ID202496167.html: \n",
            "Error fetching https://www.dubizzle.com.eg/en/ad/apartment-for-sale-on-suez-road-in-front-of-madinaty-in-palm-island-ID202372172.html: \n",
            "Error fetching https://www.dubizzle.com.eg/en/ad/apartment-134m-veiw-lagoon-at-lumia-lagoon-new-capital-ID500962028.html: \n",
            "Error fetching https://www.dubizzle.com.eg/en/ad/%D8%B4%D9%82%D9%87-%D9%84%D9%84%D8%A8%D9%8A%D8%B9-%D9%81%D9%8A-%D9%85%D8%AF%D9%8A%D9%86%D8%AA%D9%8A-%D8%A8%D8%A3%D8%AC%D8%AF%D8%AF-%D9%85%D8%B1%D8%A7%D8%AD%D9%84-%D9%85%D8%AF%D9%8A%D9%86%D8%AA%D9%89-ID202504235.html: \n",
            "Error fetching https://www.dubizzle.com.eg/en/ad/%D8%B4%D9%82%D9%87-%D9%84%D9%84%D8%A8%D9%8A%D8%B9-%D8%AA%D8%B4%D8%B7%D9%8A%D8%A8-%D9%84%D9%88%D9%83%D8%B3-%D9%86%D8%B5%D9%8A%D8%AA%D9%8A%D9%86-%D8%A8%D9%81%D9%8A%D8%B5%D9%84-%D9%85%D8%AF%D9%83%D9%88%D8%B1-ID202494997.html: \n",
            "Batch 1 saved!\n"
          ]
        },
        {
          "metadata": {
            "tags": null
          },
          "name": "stderr",
          "output_type": "stream",
          "text": [
            "\n"
          ]
        },
        {
          "metadata": {
            "tags": null
          },
          "name": "stdout",
          "output_type": "stream",
          "text": [
            "Processing batch 2 / 268\n"
          ]
        },
        {
          "metadata": {
            "tags": null
          },
          "name": "stderr",
          "output_type": "stream",
          "text": [
            "Apartments Products:  12%|█▏        | 124/1000 [00:17<01:23, 10.44Apartment/s]"
          ]
        },
        {
          "metadata": {
            "tags": null
          },
          "name": "stdout",
          "output_type": "stream",
          "text": [
            "Failed to fetch https://www.dubizzle.com.eg/en/ad/%D8%B4%D9%82%D8%A9-%D9%85%D8%AA%D8%B4%D8%B7%D8%A8%D8%A9-%D9%84%D9%84%D8%A8%D9%8A%D8%B9-%D9%81%D8%A7%D9%8A-%D8%A7%D9%84%D8%B4%D9%8A%D8%AE-%D8%B2%D8%A7%D9%8A%D8%AF-%D8%A7%D9%84%D8%AC%D8%AF%D9%8A%D8%AF%D8%A9-%D9%85%D9%82%D8%AF%D9%85-10-%D9%88%D8%AA%D9%82%D8%B3%D9%8A%D8%B7-%D8%B9%D9%84%D9%8A-7-%D8%B3%D9%86%D9%8A%D9%86-sodic-vye-new-zayed-ID500930919.html, Status Code: 404\n"
          ]
        },
        {
          "metadata": {
            "tags": null
          },
          "name": "stderr",
          "output_type": "stream",
          "text": [
            "Apartments Products:  23%|██▎       | 234/1000 [00:31<01:47,  7.12Apartment/s]"
          ]
        },
        {
          "metadata": {
            "tags": null
          },
          "name": "stdout",
          "output_type": "stream",
          "text": [
            "Failed to fetch https://www.dubizzle.com.eg/en/ad/%D8%B4%D9%82%D8%A9-%D9%84%D9%84%D8%A8%D9%8A%D8%B9-%D8%A8%D9%83%D9%85%D8%A8%D9%88%D9%86%D8%AF-%D8%A7%D9%85%D9%86%D8%AD%D8%AA%D8%A8-%D8%B9%D9%84%D9%8A-%D8%B7%D8%B1%D9%8A%D9%82-%D9%85%D8%B5%D8%B1-%D8%A7%D8%B3%D9%85%D8%A7%D8%B9%D9%84%D9%8A%D8%A9-%D8%A8%D8%AF%D9%88%D9%86-%D9%88%D8%B3%D9%8A%D8%B7-ID202460981.html, Status Code: 404\n"
          ]
        },
        {
          "metadata": {
            "tags": null
          },
          "name": "stderr",
          "output_type": "stream",
          "text": [
            "Apartments Products:  55%|█████▍    | 548/1000 [01:10<01:11,  6.37Apartment/s]"
          ]
        },
        {
          "metadata": {
            "tags": null
          },
          "name": "stdout",
          "output_type": "stream",
          "text": [
            "Failed to fetch https://www.dubizzle.com.eg/en/ad/%D9%84%D9%84%D8%A8%D9%8A%D8%B9-%D8%B1%D9%88%D9%81-%D8%B9%D9%84%D9%8A-%D8%A7%D9%84%D8%B3%D9%88%D9%8A%D8%B3-%D9%85%D8%A8%D8%A7%D8%B4%D8%B1-%D8%A8%D8%B3%D8%B9%D8%B1-%D9%85%D9%85%D9%8A%D8%B2-%D8%AC%D8%AF%D8%A7-ID202504208.html, Status Code: 404\n",
            "Failed to fetch https://www.dubizzle.com.eg/en/ad/%D8%A7%D8%B3%D8%AA%D9%81%D9%8A%D8%AF-%D8%A8%D8%B3%D8%B9%D8%B1-%D8%A7%D9%84%D9%84%D9%88%D9%86%D8%B4-%D9%88%D8%A7%D8%AA%D8%B3%D9%83%D9%86-%D9%81-%D8%A7%D9%84%D9%84%D9%88%D9%83%D9%8A%D8%B4%D9%86-%D8%A7%D9%84%D9%84%D9%8A-%D8%AA%D8%AD%D8%A8%D9%87-%D8%A8%D9%85%D9%82%D8%AF%D9%85-50-%D8%A7%D9%84%D9%81-ID500991234.html, Status Code: 404\n"
          ]
        },
        {
          "metadata": {
            "tags": null
          },
          "name": "stderr",
          "output_type": "stream",
          "text": [
            "Apartments Products:  86%|████████▌ | 858/1000 [01:47<00:16,  8.51Apartment/s]"
          ]
        },
        {
          "metadata": {
            "tags": null
          },
          "name": "stdout",
          "output_type": "stream",
          "text": [
            "Failed to fetch https://www.dubizzle.com.eg/en/ad/%D8%B4%D9%82%D8%A9-182-%D9%85-%D9%85-%D9%84%D9%84%D8%A8%D9%8A%D8%B9-%D8%A8%D9%86%D8%B8%D8%A7%D9%85-%D8%A7%D9%84%D8%AA%D9%82%D8%B3%D9%8A%D8%B7-%D8%A7%D9%84%D9%85%D8%B1%D9%8A%D8%AD-%D8%B9%D9%84%D9%8A-8-%D8%B3%D9%86%D9%88%D8%A7%D8%AA-%D9%81%D9%8A-%D8%A7%D9%84%D8%AA%D8%AC%D9%85%D8%B9-ID193678274.html, Status Code: 404\n"
          ]
        },
        {
          "metadata": {
            "tags": null
          },
          "name": "stderr",
          "output_type": "stream",
          "text": [
            "Apartments Products: 100%|██████████| 1000/1000 [05:00<00:00,  3.32Apartment/s]"
          ]
        },
        {
          "metadata": {
            "tags": null
          },
          "name": "stdout",
          "output_type": "stream",
          "text": [
            "Error fetching https://www.dubizzle.com.eg/en/ad/%D9%85%D8%AF%D9%8A%D9%86%D8%AA%D9%89-%D8%B4%D9%82%D9%87-%D9%84%D9%84%D8%A8%D9%8A%D8%B9-%D9%81%D9%8A-%D8%A7%D9%84-b8-ID202503878.html: \n",
            "Error fetching https://www.dubizzle.com.eg/en/ad/%D8%B4%D9%82%D8%A9-%D9%A2%D9%A3%D9%A0-%D9%85-%D9%84%D9%84%D8%A8%D9%8A%D8%B9-%D9%81%D9%89-%D8%A7%D9%84%D8%B4%D9%8A%D8%AE-%D8%B2%D8%A7%D9%8A%D8%AF-%D9%A4-%D8%BA%D8%B1%D9%81-%D8%B9%D9%84%D9%89-%D8%B4%D8%A7%D8%B1%D8%B9-%D8%B1%D8%A6%D9%8A%D8%B3%D9%8A-%D8%A7%D9%88%D9%84-%D8%A8%D9%84%D9%83%D9%88%D9%86%D8%A9-ID202504824.html: \n",
            "Error fetching https://www.dubizzle.com.eg/en/ad/duplex-with-garden-for-sale-immediate-receipt-and-finished-in-al-shorouk-directly-in-front-of-the-international-medical-center-al-burouj-compound-ID500671055.html: \n",
            "Error fetching https://www.dubizzle.com.eg/en/ad/%D8%B4%D9%82%D9%87-145-%D9%85-%D8%A7%D8%B3%D8%AA%D9%84%D8%A7%D9%85-%D9%81%D9%88%D9%88%D9%88%D9%88%D8%B1%D9%89-34-%D8%AA%D8%B4%D8%B7%D9%8A%D8%A8-%D9%81%D9%89-%D8%A7%D9%84%D8%B3%D9%8A%D8%A7%D8%AD%D9%8A%D9%87-%D8%A8-%D8%AD%D8%AF%D8%A7%D8%A6%D9%82-%D8%A7%D9%83%D8%AA%D9%88%D8%A8%D8%B1-ID202480524.html: \n",
            "Error fetching https://www.dubizzle.com.eg/en/ad/fully-finished-apartment-140-m-in-stone-residence-with-a-wide-view-at-a-special-price-ID500684617.html: \n",
            "Batch 2 saved!\n"
          ]
        },
        {
          "metadata": {
            "tags": null
          },
          "name": "stderr",
          "output_type": "stream",
          "text": [
            "\n"
          ]
        },
        {
          "metadata": {
            "tags": null
          },
          "name": "stdout",
          "output_type": "stream",
          "text": [
            "Processing batch 3 / 268\n"
          ]
        },
        {
          "metadata": {
            "tags": null
          },
          "name": "stderr",
          "output_type": "stream",
          "text": [
            "Apartments Products:  77%|███████▋  | 768/1000 [01:41<00:21, 10.60Apartment/s]"
          ]
        },
        {
          "metadata": {
            "tags": null
          },
          "name": "stdout",
          "output_type": "stream",
          "text": [
            "Failed to fetch https://www.dubizzle.com.eg/en/ad/%D8%A8%D8%AC%D9%88%D8%A7%D8%B1-%D9%85%D8%AF%D9%8A%D9%86%D8%AA%D9%8A-%D8%B4%D9%82%D8%A9-%D9%84%D9%84%D8%A8%D9%8A%D8%B9-%D8%A8%D8%A7%D9%84%D8%AA%D9%82%D8%B3%D9%8A%D8%B7-%D8%A7%D9%84%D9%85%D8%B1%D9%8A%D8%AD-%D9%81%D9%8A-%D9%83%D9%85%D8%A8%D9%88%D9%86%D8%AF-sarai-ID190997036.html, Status Code: 404\n"
          ]
        },
        {
          "metadata": {
            "tags": null
          },
          "name": "stderr",
          "output_type": "stream",
          "text": [
            "Apartments Products:  79%|███████▉  | 792/1000 [01:44<00:22,  9.11Apartment/s]"
          ]
        },
        {
          "metadata": {
            "tags": null
          },
          "name": "stdout",
          "output_type": "stream",
          "text": [
            "Failed to fetch https://www.dubizzle.com.eg/en/ad/%D8%B4%D9%82%D8%A9-%D8%A7%D8%B3%D8%AA%D9%84%D8%A7%D9%85-%D9%81%D9%88%D8%B1%D9%8A-%D9%84%D9%84%D8%A8%D9%8A%D8%B9-%D9%85%D8%AA%D8%B4%D8%B7%D8%A8%D8%A9-%D8%A8%D8%A7%D9%84%D8%AA%D9%83%D9%8A%D9%81%D8%A7%D8%AA-%D8%AA%D9%82%D8%B3%D9%8A%D8%B7-%D9%81%D9%8A-%D8%A7%D9%84%D8%B4%D9%8A%D8%AE-%D8%B2%D8%A7%D9%8A%D8%AF-%D8%A8%D9%8A%D9%81%D8%B1%D9%84%D9%8A-%D9%87%D9%8A%D9%84%D8%B2-six-west-sodic-ID500771218.html, Status Code: 404\n"
          ]
        },
        {
          "metadata": {
            "tags": null
          },
          "name": "stderr",
          "output_type": "stream",
          "text": [
            "Apartments Products: 100%|██████████| 1000/1000 [05:00<00:00,  3.32Apartment/s]"
          ]
        },
        {
          "metadata": {
            "tags": null
          },
          "name": "stdout",
          "output_type": "stream",
          "text": [
            "Error fetching https://www.dubizzle.com.eg/en/ad/%D8%A7%D9%8A-%D9%81%D9%8A%D9%84%D8%A7-%D8%B1%D9%88%D9%81-%D8%A8%D8%B1%D8%A7%D9%8A%D9%85-%D9%84%D9%88%D9%83%D9%8A%D8%B4%D9%86-%D9%81%D9%8A-%D9%85%D8%A7%D9%88%D9%86%D8%AA%D9%86-%D9%81%D9%8A%D9%88-%D8%A7%D9%8A-%D8%B3%D9%8A%D8%AA%D9%8A-%D8%A7%D9%83%D8%AA%D9%88%D8%A8%D8%B1-ID202500549.html: \n",
            "Error fetching https://www.dubizzle.com.eg/en/ad/%D8%B4%D9%82%D8%A9-%D8%A3%D8%B1%D8%B6%D9%8A-%D8%A8%D8%AC%D8%A7%D8%B1%D8%AF%D9%86-%D9%84%D9%84%D8%A8%D9%8A%D8%B9-%D9%81%D9%8A%D9%88-%D8%A8%D8%AD%D8%B1-%D9%82%D8%B1%D9%8A%D8%A9-%D8%A3%D8%B1%D9%8A%D8%A8%D8%A7-%D9%83%D9%8A%D9%84%D9%88-90-%D8%B9%D9%84%D9%8A-%D8%A7%D9%84%D8%A8%D8%AD%D8%B1-%D9%85%D8%A8%D8%A7%D8%B4%D8%B1%D8%A9-ID202495044.html: \n",
            "Batch 3 saved!\n"
          ]
        },
        {
          "metadata": {
            "tags": null
          },
          "name": "stderr",
          "output_type": "stream",
          "text": [
            "\n"
          ]
        },
        {
          "metadata": {
            "tags": null
          },
          "name": "stdout",
          "output_type": "stream",
          "text": [
            "Processing batch 4 / 268\n"
          ]
        },
        {
          "metadata": {
            "tags": null
          },
          "name": "stderr",
          "output_type": "stream",
          "text": [
            "Apartments Products:   0%|          | 2/1000 [00:00<06:24,  2.59Apartment/s]"
          ]
        },
        {
          "metadata": {
            "tags": null
          },
          "name": "stdout",
          "output_type": "stream",
          "text": [
            "Failed to fetch https://www.dubizzle.com.eg/en/ad/%D8%B4%D9%82%D8%A9-127m-%D9%81%D9%8A-%D8%B2%D9%87%D8%B1%D8%A7%D8%A1-%D8%A7%D9%84%D9%85%D8%B9%D8%A7%D8%AF%D9%8A-%D8%AE%D9%84%D9%81-%D9%86%D8%A7%D8%AF%D9%8A-%D9%88%D8%A7%D8%AF%D9%8A-%D8%AF%D8%AC%D9%84%D8%A9%D8%A7%D8%B3%D8%AA%D9%84%D8%A7%D9%85-%D9%81%D9%88%D8%B1%D9%89-ID201812257.html, Status Code: 404\n"
          ]
        },
        {
          "metadata": {
            "tags": null
          },
          "name": "stderr",
          "output_type": "stream",
          "text": [
            "Apartments Products:  22%|██▏       | 224/1000 [00:30<02:08,  6.05Apartment/s]"
          ]
        },
        {
          "metadata": {
            "tags": null
          },
          "name": "stdout",
          "output_type": "stream",
          "text": [
            "Failed to fetch https://www.dubizzle.com.eg/en/ad/%D8%B4%D9%82%D8%A9-%D8%A5%D8%B3%D9%83%D8%A7%D9%86-%D8%A5%D8%AC%D8%AA%D9%85%D8%A7%D8%B9%D9%8A-%D9%84%D9%84%D8%A8%D9%8A%D8%B9-%D8%A8%D8%A7%D9%84%D8%B9%D8%A7%D8%B4%D8%B1-%D9%85%D9%86-%D8%B1%D9%85%D8%A7%D9%86-ID202492212.html, Status Code: 404\n"
          ]
        },
        {
          "metadata": {
            "tags": null
          },
          "name": "stderr",
          "output_type": "stream",
          "text": [
            "Apartments Products:  32%|███▏      | 320/1000 [00:43<02:54,  3.91Apartment/s]"
          ]
        },
        {
          "metadata": {
            "tags": null
          },
          "name": "stdout",
          "output_type": "stream",
          "text": [
            "Failed to fetch https://www.dubizzle.com.eg/en/ad/%D8%B4%D9%82%D9%87-%D9%A1%D9%A5%D9%A5-%D9%85%D8%AA%D8%B1-%D9%84%D9%84%D8%A8%D9%8A%D8%B9-%D8%B4%D8%A7%D8%B1%D8%B9-%D8%B9%D9%85%D8%B1-%D8%A8%D9%86-%D8%B9%D8%A8%D8%AF-%D8%A7%D9%84%D8%B9%D8%B2%D9%8A%D8%B2-ID202222350.html, Status Code: 404\n"
          ]
        },
        {
          "metadata": {
            "tags": null
          },
          "name": "stderr",
          "output_type": "stream",
          "text": [
            "Apartments Products:  41%|████▏     | 414/1000 [00:55<01:00,  9.74Apartment/s]"
          ]
        },
        {
          "metadata": {
            "tags": null
          },
          "name": "stdout",
          "output_type": "stream",
          "text": [
            "Failed to fetch https://www.dubizzle.com.eg/en/ad/%D8%B4%D9%82%D8%A9-%D9%81%D9%8A-%D9%82%D9%84%D8%A8-%D8%A7%D9%84%D8%B4%D9%8A%D8%AE-%D8%B2%D8%A7%D9%8A%D8%AF-%D8%A8%D8%AC%D9%88%D8%A7%D8%B1-%D8%A7%D8%A8%D8%B1%D8%A7%D8%AC-%D8%B2%D8%AF-zed-towers-%D8%AA%D8%B4%D8%B7%D9%8A%D8%A8-%D8%B3%D9%88%D8%A8%D8%B1-%D9%84%D9%88%D9%83%D8%B3-%D8%A8%D8%AA%D9%82%D8%B3%D9%8A%D8%B7-%D8%B9%D9%84%D9%89-8-%D8%B3%D9%86%D9%8A%D9%86-ID500988345.html, Status Code: 404\n"
          ]
        },
        {
          "metadata": {
            "tags": null
          },
          "name": "stderr",
          "output_type": "stream",
          "text": [
            "Apartments Products:  80%|███████▉  | 796/1000 [01:44<00:20,  9.99Apartment/s]"
          ]
        },
        {
          "metadata": {
            "tags": null
          },
          "name": "stdout",
          "output_type": "stream",
          "text": [
            "Failed to fetch https://www.dubizzle.com.eg/en/ad/%D8%B4%D9%82%D9%87-%D8%AA%D8%AD%D9%81%D9%87-%D9%A1%D9%A0%D9%A5-%D9%85-%D8%A7%D9%84%D8%AA%D8%B1%D8%A7-%D8%B3%D9%88%D8%A8%D8%B1-%D9%84%D9%88%D9%83%D8%B3-%D8%A8%D9%85%D8%AF%D9%8A%D9%86%D9%87-%D8%A7%D9%84%D8%B9%D8%A8%D9%88%D8%B1-%D8%A7%D9%84%D8%AB%D8%A7%D9%85%D9%86-%D8%A7%D9%84%D8%B9%D8%A7%D8%A6%D9%84%D9%8A-%D8%A7%D9%84%D9%85%D8%AA%D9%85%D9%8A%D8%B2-ID199994678.html, Status Code: 404\n",
            "Failed to fetch https://www.dubizzle.com.eg/en/ad/luxurious-penthouse-tiba-gardens-ID201931882.html, Status Code: 404\n",
            "Failed to fetch https://www.dubizzle.com.eg/en/ad/%D8%B4%D9%82%D9%87-%D8%AA%D8%AD%D9%81%D9%87-%D9%A1%D9%A0%D9%A5-%D9%85-%D8%A7%D9%84%D8%AA%D8%B1%D8%A7-%D8%B3%D9%88%D8%A8%D8%B1-%D9%84%D9%88%D9%83%D8%B3-%D8%A8%D9%85%D8%AF%D9%8A%D9%86%D9%87-%D8%A7%D9%84%D8%B9%D8%A8%D9%88%D8%B1-%D8%A7%D9%84%D8%AB%D8%A7%D9%85%D9%86-%D8%A7%D9%84%D8%B9%D8%A7%D8%A6%D9%84%D9%8A-%D8%A7%D9%84%D9%85%D8%AA%D9%85%D9%8A%D8%B2-ID199994678.html, Status Code: 404\n",
            "Failed to fetch https://www.dubizzle.com.eg/en/ad/%D8%B4%D9%82%D8%A9-%D9%84%D9%84%D8%A8%D9%8A%D8%B9-%D9%81%D9%8A-%D9%85%D9%8A%D8%A7%D9%85%D9%8A-ID202447934.html, Status Code: 404\n"
          ]
        },
        {
          "metadata": {
            "tags": null
          },
          "name": "stderr",
          "output_type": "stream",
          "text": [
            "Apartments Products: 100%|██████████| 1000/1000 [05:00<00:00,  3.32Apartment/s]"
          ]
        },
        {
          "metadata": {
            "tags": null
          },
          "name": "stdout",
          "output_type": "stream",
          "text": [
            "Error fetching https://www.dubizzle.com.eg/en/ad/apartment-finished-with-air-conditioners-and-kitchen-for-sale-in-a-compound-by-hassan-allam-direct-on-south-90th-street-ID500931159.html: \n",
            "Error fetching https://www.dubizzle.com.eg/en/ad/0-%D9%85%D9%82%D8%AF%D9%85-%D8%B4%D9%82%D8%A9-161-%D9%85-%D9%85%D8%AA%D8%B4%D8%B7%D8%A8%D9%87-%D9%84%D9%84%D8%A8%D9%8A%D8%B9-%D8%AC%D8%A7%D8%B1%D9%86%D9%8A%D8%AA-%D8%A7%D9%84%D8%AA%D8%AC%D9%85%D8%B9-%D8%A7%D9%84%D8%AE%D8%A7%D9%85%D8%B3-ID202486047.html: \n",
            "Error fetching https://www.dubizzle.com.eg/en/ad/%D8%B4%D9%82%D9%87-%D9%84%D9%82%D8%B7%D9%87-%D9%84%D9%84%D8%A8%D9%8A%D8%B9-%D9%85%D8%B3%D8%A7%D8%AD%D8%A9-190%D9%85-%D8%AA%D8%B4%D8%B7%D9%8A%D8%A8-%D8%A7%D9%84%D8%AA%D8%B1%D8%A7-%D8%B3%D9%88%D8%A8%D8%B1-%D9%84%D9%88%D9%83%D8%B3-%D8%AF%D9%88%D8%B1-%D9%85%D8%AA%D9%83%D8%B1%D8%B1-%D8%A7%D8%B3%D8%AA%D9%84%D8%A7%D9%85-%D9%81%D9%88%D8%B1%D9%8A-%D9%84%D9%88%D9%83%D9%8A%D8%B4%D9%86-%D9%85%D9%85%D9%8A%D8%B2-%D9%81%D9%8A-%D8%A7%D9%84%D8%A3%D9%86%D8%AF%D9%84%D8%B3-2-%D8%A8%D8%A7%D9%84%D9%82%D8%A7%D9%87%D8%B1%D9%87-%D8%A7%D9%84%D8%AC%D8%AF%D9%8A%D8%AF%D9%87-ID500987493.html: \n",
            "Error fetching https://www.dubizzle.com.eg/en/ad/%D8%B4%D9%82%D8%A9-%D9%85%D8%AA%D8%B4%D8%B7%D8%A8%D8%A9-%D8%A8%D8%A7%D9%84%D9%83%D8%A7%D9%85%D9%84-%D9%81%D9%8A-wbr1-%D8%B3%D9%88%D8%B1-%D8%A8%D8%B3%D9%88%D8%B1-%D9%85%D8%B9-%D9%83%D9%85%D8%A8%D9%88%D9%86%D8%AF-%D8%A7%D9%84%D8%B5%D9%81%D9%88%D9%87-%D8%A7%D9%84%D8%B4%D9%88%D9%8A%D9%81%D8%A7%D8%AA-%D8%A7%D9%84%D8%AA%D8%AC%D9%85%D8%B9-ID202463523.html: \n",
            "Error fetching https://www.dubizzle.com.eg/en/ad/apartment-for-sale-165m-in-taj-city-open-view-ID500987445.html: \n",
            "Error fetching https://www.dubizzle.com.eg/en/ad/%D8%B4%D9%82%D9%87-%D9%84%D9%82%D8%B7%D9%87-%D9%84%D9%84%D8%A8%D9%8A%D8%B9-%D9%85%D8%B3%D8%A7%D8%AD%D8%A9-165-%D9%85-%D8%AA%D8%B4%D8%B7%D9%8A%D8%A8-%D8%A7%D9%84%D8%AA%D8%B1%D8%A7-%D8%B3%D9%88%D8%A8%D8%B1-%D9%84%D9%88%D9%83%D8%B3-%D8%AF%D9%88%D8%B1-%D9%85%D8%AA%D9%83%D8%B1%D8%B1-%D8%A7%D8%B3%D8%AA%D9%84%D8%A7%D9%85-%D9%81%D9%88%D8%B1%D9%8A-%D9%84%D9%88%D9%83%D9%8A%D8%B4%D9%86-%D9%85%D9%85%D9%8A%D8%B2-%D9%81%D9%8A-%D8%A7%D9%84%D8%A3%D9%86%D8%AF%D9%84%D8%B3-2-%D8%A8%D8%A7%D9%84%D9%82%D8%A7%D9%87%D8%B1%D9%87-%D8%A7%D9%84%D8%AC%D8%AF%D9%8A%D8%AF%D9%87-ID500987166.html: \n",
            "Error fetching https://www.dubizzle.com.eg/en/ad/%D9%84%D9%84%D8%A8%D9%8A%D8%B9-%D8%A8%D9%81%D9%8A%D9%88-%D8%A7%D9%84%D9%86%D9%8A%D9%84-100-%D9%88%D8%A3%D8%B9%D9%84%D9%89-%D8%B9%D8%A7%D8%A6%D8%AF-%D8%A7%D8%B3%D8%AA%D8%AB%D9%85%D8%A7%D8%B1%D9%8A-%D8%B4%D9%82%D8%A9-%D8%AA%D8%B4%D8%B7%D9%8A%D8%A8-%D9%81%D9%86%D8%AF%D9%82%D9%8A-%D8%A8%D8%A7%D9%84%D9%81%D8%B1%D8%B4-%D9%88%D8%A7%D9%84%D8%A7%D8%AC%D9%87%D8%B2%D8%A9-38%D9%85-%D9%81%D9%80-reve-du-nil-maadi-%D9%83%D9%88%D8%B1%D9%86%D9%8A%D8%B4-%D8%A7%D9%84%D9%85%D8%B9%D8%A7%D8%AF%D9%8A-%D8%A8%D8%A7%D9%84%D8%AA%D9%82%D8%B3%D9%8A%D8%B7-ID500986288.html: \n",
            "Batch 4 saved!\n"
          ]
        },
        {
          "metadata": {
            "tags": null
          },
          "name": "stderr",
          "output_type": "stream",
          "text": [
            "\n"
          ]
        },
        {
          "metadata": {
            "tags": null
          },
          "name": "stdout",
          "output_type": "stream",
          "text": [
            "Processing batch 5 / 268\n"
          ]
        },
        {
          "metadata": {
            "tags": null
          },
          "name": "stderr",
          "output_type": "stream",
          "text": [
            "Apartments Products:   1%|          | 10/1000 [00:02<01:55,  8.56Apartment/s]"
          ]
        },
        {
          "metadata": {
            "tags": null
          },
          "name": "stdout",
          "output_type": "stream",
          "text": [
            "Failed to fetch https://www.dubizzle.com.eg/en/ad/%D8%B4%D9%82%D8%A9-%D9%84%D9%84%D8%A8%D9%8A%D8%B9-%D8%A8%D8%A7%D9%84%D8%B9%D8%B5%D8%A7%D9%81%D8%B1%D8%A9-%D8%A8%D8%AD%D8%B1%D9%8A-%D8%B9%D9%84%D9%8A-%D8%B4%D8%A7%D8%B1%D8%B9-%D8%AC%D9%85%D8%A7%D9%84-%D8%B9%D8%A8%D8%AF%D8%A7%D9%84%D9%86%D8%A7%D8%B5%D8%B1-%D9%85%D8%A8%D8%A7%D8%B4%D8%B1%D8%A9-ID202481190.html, Status Code: 404\n"
          ]
        },
        {
          "metadata": {
            "tags": null
          },
          "name": "stderr",
          "output_type": "stream",
          "text": [
            "Apartments Products:  42%|████▎     | 425/1000 [00:56<01:15,  7.60Apartment/s]"
          ]
        },
        {
          "metadata": {
            "tags": null
          },
          "name": "stdout",
          "output_type": "stream",
          "text": [
            "Failed to fetch https://www.dubizzle.com.eg/en/ad/%D8%B4%D9%82%D8%A9-%D9%84%D9%84%D8%A8%D9%8A%D8%B9-%D9%81%D9%8A-%D8%AD%D8%AF%D8%A7%D8%A6%D9%82-%D8%A7%D9%84%D8%A3%D9%87%D8%B1%D8%A7%D9%85-%D9%85%D9%86%D8%B7%D9%82%D8%A9-%D9%88-%D8%A7%D9%84%D8%A8%D9%88%D8%A7%D8%A8%D8%A9-%D8%A7%D9%84%D8%AB%D8%A7%D9%86%D9%8A%D8%A9-ID202460027.html, Status Code: 404\n"
          ]
        },
        {
          "metadata": {
            "tags": null
          },
          "name": "stderr",
          "output_type": "stream",
          "text": [
            "Apartments Products: 100%|██████████| 1000/1000 [05:00<00:00,  3.32Apartment/s]"
          ]
        },
        {
          "metadata": {
            "tags": null
          },
          "name": "stdout",
          "output_type": "stream",
          "text": [
            "Error fetching https://www.dubizzle.com.eg/en/ad/166-sqm-apartment-in-amorada-compound-on-the-main-90th-street-ID190958219.html: \n",
            "Batch 5 saved!\n"
          ]
        },
        {
          "metadata": {
            "tags": null
          },
          "name": "stderr",
          "output_type": "stream",
          "text": [
            "\n"
          ]
        },
        {
          "metadata": {
            "tags": null
          },
          "name": "stdout",
          "output_type": "stream",
          "text": [
            "Processing batch 6 / 268\n"
          ]
        },
        {
          "metadata": {
            "tags": null
          },
          "name": "stderr",
          "output_type": "stream",
          "text": [
            "Apartments Products:  24%|██▍       | 241/1000 [00:32<01:26,  8.77Apartment/s]"
          ]
        },
        {
          "metadata": {
            "tags": null
          },
          "name": "stdout",
          "output_type": "stream",
          "text": [
            "Failed to fetch https://www.dubizzle.com.eg/en/ad/%D8%B4%D9%82%D9%87-%D8%AF%D9%88%D8%A8%D9%84%D9%83%D8%B3-%D9%84%D9%84%D8%A8%D9%8A%D8%B9-%D9%81%D9%8A-%D9%83%D9%85%D8%A8%D9%88%D9%86%D8%AF-%D8%A8%D8%B1%D9%88%D9%85%D9%8A%D9%86%D8%A7%D8%AF-%D8%A7%D9%84%D8%B4%D9%8A%D8%AE-%D8%B2%D8%A7%D9%8A%D8%AF-ID202474607.html, Status Code: 404\n",
            "Failed to fetch https://www.dubizzle.com.eg/en/ad/%D8%A8%D9%88%D8%B1%D9%81%D8%A4%D8%A7%D8%AF-ID202332846.html, Status Code: 404\n"
          ]
        },
        {
          "metadata": {
            "tags": null
          },
          "name": "stderr",
          "output_type": "stream",
          "text": [
            "Apartments Products:  40%|███▉      | 399/1000 [00:54<01:16,  7.83Apartment/s]"
          ]
        },
        {
          "metadata": {
            "tags": null
          },
          "name": "stdout",
          "output_type": "stream",
          "text": [
            "Failed to fetch https://www.dubizzle.com.eg/en/ad/%D8%B4%D9%82%D8%A9-%D9%85%D9%86-%D8%A7%D9%84%D9%85%D8%A7%D9%84%D9%83-%D8%A8%D8%AF%D9%88%D9%86-%D8%B9%D9%85%D9%88%D9%84%D9%87-%D9%84%D9%84%D8%A8%D9%8A%D8%B9-%D9%A3-%D8%BA%D8%B1%D9%81-%D9%88%D8%AD%D9%85%D8%A7%D9%85%D9%8A%D9%86-%D8%A8%D9%85%D8%AF%D9%8A%D9%86%D8%A9-%D8%A8%D8%AF%D8%B1-ID201480037.html, Status Code: 404\n"
          ]
        },
        {
          "metadata": {
            "tags": null
          },
          "name": "stderr",
          "output_type": "stream",
          "text": [
            "Apartments Products:  42%|████▎     | 425/1000 [00:57<01:07,  8.56Apartment/s]"
          ]
        },
        {
          "metadata": {
            "tags": null
          },
          "name": "stdout",
          "output_type": "stream",
          "text": [
            "Failed to fetch https://www.dubizzle.com.eg/en/ad/%D8%B4%D9%82%D9%87-%D9%84%D9%84%D8%A8%D9%8A%D8%B9-%D9%81%D9%8A-%D8%B3%D9%8A%D8%AF%D9%8A-%D8%A8%D8%B4%D8%B1-%D8%A8%D8%AD%D8%B1%D9%8A-%D8%B4%D8%A7%D8%B1%D8%B9-%D8%AE%D9%8A%D8%B1%D8%AA-%D8%A7%D9%84%D8%BA%D9%86%D8%AF%D9%88%D8%B1-%D9%82%D8%B1%D9%8A%D8%A8%D9%87-%D9%85%D9%86-%D8%A7%D9%84%D8%B9%D8%B3%D9%8A%D9%88%D9%8A-ID202338499.html, Status Code: 404\n"
          ]
        },
        {
          "metadata": {
            "tags": null
          },
          "name": "stderr",
          "output_type": "stream",
          "text": [
            "Apartments Products:  83%|████████▎ | 831/1000 [01:50<00:22,  7.62Apartment/s]"
          ]
        },
        {
          "metadata": {
            "tags": null
          },
          "name": "stdout",
          "output_type": "stream",
          "text": [
            "Failed to fetch https://www.dubizzle.com.eg/en/ad/the-last-apartment-for-sale-directly-in-front-of-cairo-international-airport-with-a-cash-discount-a-very-special-landscape-view-in-taj-city-fifth-ID500981611.html, Status Code: 404\n"
          ]
        },
        {
          "metadata": {
            "tags": null
          },
          "name": "stderr",
          "output_type": "stream",
          "text": [
            "Apartments Products: 100%|██████████| 1000/1000 [05:00<00:00,  3.32Apartment/s]"
          ]
        },
        {
          "metadata": {
            "tags": null
          },
          "name": "stdout",
          "output_type": "stream",
          "text": [
            "Error fetching https://www.dubizzle.com.eg/en/ad/apartment-for-sale-in-valencia-valley-compound-in-the-heart-of-the-fifth-settlement-with-only-10-down-payment-valenc-ID500984816.html: \n",
            "Error fetching https://www.dubizzle.com.eg/en/ad/%D8%B4%D9%82%D8%A9-%D9%85%D8%AA%D8%B4%D8%B7%D8%A8%D8%A9-%D9%84%D9%84%D8%A8%D9%8A%D8%B9-%D9%81%D9%8A-%D9%83%D9%85%D8%A8%D9%88%D9%86%D8%AF-%D8%A7%D9%84%D8%A8%D8%B1%D9%88%D8%AC-al-burouj-%D8%A7%D9%84%D8%B4%D8%B1%D9%88%D9%82-%D8%A8%D8%AC%D9%88%D8%A7%D8%B1-%D8%A7%D9%84%D9%85%D8%B1%D9%83%D8%B2-%D8%A7%D9%84%D8%B7%D8%A8%D9%8A-ID198465025.html: \n",
            "Error fetching https://www.dubizzle.com.eg/en/ad/with-a-5-down-payment-own-a-fully-finished-apartment-installments-over-10-years-with-a-30-cash-discount-in-the-fifth-settlement-in-sodic-east-ID500984624.html: \n",
            "Error fetching https://www.dubizzle.com.eg/en/ad/%D9%84%D9%84%D8%A8%D9%8A%D8%B9-%D8%A8%D9%85%D8%AF%D9%8A%D9%86%D8%A9-%D9%86%D9%88%D8%B1-%D9%A9%D9%A8-%D9%85-%D8%A7%D9%88%D9%84-%D8%B3%D9%85%D8%A7%D8%B1%D8%AA-%D8%B3%D9%8A%D8%AA%D9%8A-%D8%A8%D9%85%D8%B5%D8%B1-ID202458178.html: \n",
            "Error fetching https://www.dubizzle.com.eg/en/ad/%D9%84%D9%84%D8%A8%D9%8A%D8%B9-%D9%85%D9%88%D9%82%D8%B9-%D9%85%D9%85%D9%8A%D8%B2-%D8%AC%D8%AF%D8%A7-%D9%81%D9%89-c2-%D8%A7%D8%B3%D8%AA%D9%84%D8%A7%D9%85-%D8%A2%D8%AE%D8%B1-2025-ID202471614.html: \n",
            "Batch 6 saved!\n"
          ]
        },
        {
          "metadata": {
            "tags": null
          },
          "name": "stderr",
          "output_type": "stream",
          "text": [
            "\n"
          ]
        },
        {
          "metadata": {
            "tags": null
          },
          "name": "stdout",
          "output_type": "stream",
          "text": [
            "Processing batch 7 / 268\n"
          ]
        },
        {
          "metadata": {
            "tags": null
          },
          "name": "stderr",
          "output_type": "stream",
          "text": [
            "Apartments Products:  10%|█         | 102/1000 [00:14<01:32,  9.67Apartment/s]"
          ]
        },
        {
          "metadata": {
            "tags": null
          },
          "name": "stdout",
          "output_type": "stream",
          "text": [
            "Failed to fetch https://www.dubizzle.com.eg/en/ad/i-villa-roof-240m-direct-lagoon-for-sale-in-mountain-view-i-city-new-cairo-%D9%85%D8%A7%D9%88%D9%86%D8%AA%D9%86-%D9%81%D9%8A%D9%88-%D8%A7%D9%8A-%D8%B3%D9%8A%D8%AA%D9%8A-%D8%A7%D9%84%D8%AA%D8%AC%D9%85%D8%B9-%D8%A7%D9%84%D8%AE%D8%A7%D9%85%D8%B3-ID500984404.html, Status Code: 404\n"
          ]
        },
        {
          "metadata": {
            "tags": null
          },
          "name": "stderr",
          "output_type": "stream",
          "text": [
            "Apartments Products:  32%|███▎      | 325/1000 [00:43<01:10,  9.52Apartment/s]"
          ]
        },
        {
          "metadata": {
            "tags": null
          },
          "name": "stdout",
          "output_type": "stream",
          "text": [
            "Failed to fetch https://www.dubizzle.com.eg/en/ad/hotel-apartment-for-sale-next-to-city-center-almaza-fully-finished-with-kitchen-and-air-conditioners-in-valore-sheraton-view-landscape-compound-ID500936800.html, Status Code: 404\n"
          ]
        },
        {
          "metadata": {
            "tags": null
          },
          "name": "stderr",
          "output_type": "stream",
          "text": [
            "Apartments Products:  71%|███████   | 712/1000 [01:34<00:28, 10.11Apartment/s]"
          ]
        },
        {
          "metadata": {
            "tags": null
          },
          "name": "stdout",
          "output_type": "stream",
          "text": [
            "Failed to fetch https://www.dubizzle.com.eg/en/ad/%D8%B4%D9%82%D8%A9-%D9%84%D9%82%D8%B7%D8%A9-%D9%81%D9%8A-%D8%A3%D8%AD%D8%B3%D9%86-%D9%85%D9%86%D8%B7%D9%82%D8%A9-%D9%81%D9%8A-%D9%85%D9%83%D8%B1%D9%85-%D8%B9%D8%A8%D9%8A%D8%AF-ID202461201.html, Status Code: 404\n"
          ]
        },
        {
          "metadata": {
            "tags": null
          },
          "name": "stderr",
          "output_type": "stream",
          "text": [
            "Apartments Products: 100%|██████████| 1000/1000 [05:00<00:00,  3.32Apartment/s]"
          ]
        },
        {
          "metadata": {
            "tags": null
          },
          "name": "stdout",
          "output_type": "stream",
          "text": [
            "Error fetching https://www.dubizzle.com.eg/en/ad/%D8%B4%D9%82%D9%87-177%D9%85-%D8%A7%D8%B3%D8%AA%D9%84%D8%A7%D9%85-%D9%81%D9%88%D8%B1%D9%89-%D8%AE%D9%84%D9%81-%D8%A7%D9%84%D8%AC%D8%A7%D9%85%D8%B9%D9%87-%D8%A7%D9%84%D8%A7%D9%85%D8%B1%D9%8A%D9%83%D9%8A%D9%87-%D8%A7%D9%84%D8%AA%D8%AC%D9%85%D8%B9-%D8%A7%D9%84%D8%AE%D8%A7%D9%85%D8%B3-%D8%A7%D8%B2%D8%A7%D8%AF-azad-ID195797624.html: \n",
            "Error fetching https://www.dubizzle.com.eg/en/ad/for-sale-apartment-ready-to-move-145m-2-bedrooms-view-landscape-in-compound-hyde-park-ID500983712.html: \n",
            "Error fetching https://www.dubizzle.com.eg/en/ad/apartment-for-sale-by-the-owner-193-meters-in-new-lotus-with-a-payment-period-of-up-to-48-months-fifth-settlement-ID500766349.html: \n",
            "Batch 7 saved!\n"
          ]
        },
        {
          "metadata": {
            "tags": null
          },
          "name": "stderr",
          "output_type": "stream",
          "text": [
            "\n"
          ]
        },
        {
          "metadata": {
            "tags": null
          },
          "name": "stdout",
          "output_type": "stream",
          "text": [
            "Processing batch 8 / 268\n"
          ]
        },
        {
          "metadata": {
            "tags": null
          },
          "name": "stderr",
          "output_type": "stream",
          "text": [
            "Apartments Products:   0%|          | 1/1000 [00:00<13:29,  1.23Apartment/s]"
          ]
        },
        {
          "metadata": {
            "tags": null
          },
          "name": "stdout",
          "output_type": "stream",
          "text": [
            "Failed to fetch https://www.dubizzle.com.eg/en/ad/%D8%B4%D9%82%D8%A9-%D8%BA%D8%B1%D9%81%D8%AA%D9%8A%D9%86-%D9%88-%D8%B1%D9%8A%D8%B3%D8%A8%D8%B4%D9%86-%D8%AB%D9%84%D8%A7%D8%AB-%D9%82%D8%B7%D8%B9-%D8%A8%D8%AC%D9%88%D8%A7%D8%B1-%D9%83%D9%88%D8%A8%D8%B1%D9%8A-45-%D8%A7%D9%84%D8%AC%D8%AF%D9%8A%D8%AF-%D8%A7%D8%B3%D9%83%D9%88%D8%AA-ID202324068.html, Status Code: 404\n"
          ]
        },
        {
          "metadata": {
            "tags": null
          },
          "name": "stderr",
          "output_type": "stream",
          "text": [
            "Apartments Products:  34%|███▎      | 336/1000 [00:46<01:13,  9.07Apartment/s]"
          ]
        },
        {
          "metadata": {
            "tags": null
          },
          "name": "stdout",
          "output_type": "stream",
          "text": [
            "Failed to fetch https://www.dubizzle.com.eg/en/ad/duplex-in-telal-east-by-lowest-price-in-new-cairo-by-installments-ID500971379.html, Status Code: 404\n"
          ]
        },
        {
          "metadata": {
            "tags": null
          },
          "name": "stderr",
          "output_type": "stream",
          "text": [
            "Apartments Products: 100%|██████████| 1000/1000 [05:00<00:00,  3.32Apartment/s]"
          ]
        },
        {
          "metadata": {
            "tags": null
          },
          "name": "stdout",
          "output_type": "stream",
          "text": [
            "Error fetching https://www.dubizzle.com.eg/en/ad/3-bedroom-apartment-for-sale-in-monarch-compound-mostakbal-city-with-installments-over-10-years-ID500900581.html: \n"
          ]
        },
        {
          "metadata": {
            "tags": null
          },
          "name": "stderr",
          "output_type": "stream",
          "text": [
            "\n"
          ]
        },
        {
          "metadata": {
            "tags": null
          },
          "name": "stdout",
          "output_type": "stream",
          "text": [
            "Batch 8 saved!\n",
            "Processing batch 9 / 268\n"
          ]
        },
        {
          "metadata": {
            "tags": null
          },
          "name": "stderr",
          "output_type": "stream",
          "text": [
            "Apartments Products:  78%|███████▊  | 781/1000 [01:46<00:31,  6.95Apartment/s]"
          ]
        },
        {
          "metadata": {
            "tags": null
          },
          "name": "stdout",
          "output_type": "stream",
          "text": [
            "Failed to fetch https://www.dubizzle.com.eg/en/ad/apartment-for-sale-121m-new-capital-almaqsid-park-ID500969785.html, Status Code: 404\n"
          ]
        },
        {
          "metadata": {
            "tags": null
          },
          "name": "stderr",
          "output_type": "stream",
          "text": [
            "Apartments Products:  90%|████████▉ | 896/1000 [02:01<00:11,  8.73Apartment/s]"
          ]
        },
        {
          "metadata": {
            "tags": null
          },
          "name": "stdout",
          "output_type": "stream",
          "text": [
            "Failed to fetch https://www.dubizzle.com.eg/en/ad/%D8%B4%D9%82%D9%87-%D9%84%D9%84%D8%A8%D9%8A%D8%B9-%D8%B7%D9%88%D8%A8-%D8%A7%D8%AD%D9%85%D8%B1-%D8%A8%D8%B4%D8%A7%D8%B1%D8%B9-%D8%A7%D9%84%D9%85%D9%86%D8%B4%D9%8A%D8%A9-ID202414327.html, Status Code: 404\n"
          ]
        },
        {
          "metadata": {
            "tags": null
          },
          "name": "stderr",
          "output_type": "stream",
          "text": [
            "Apartments Products: 100%|██████████| 1000/1000 [05:00<00:00,  3.33Apartment/s]"
          ]
        },
        {
          "metadata": {
            "tags": null
          },
          "name": "stdout",
          "output_type": "stream",
          "text": [
            "Error fetching https://www.dubizzle.com.eg/en/ad/in-installments-over-8-years-a-furnished-hotel-unit-for-sale-in-concord-el-salam-hotel-in-the-heart-of-downtown-in-the-capital-ID500967598.html: \n"
          ]
        },
        {
          "metadata": {
            "tags": null
          },
          "name": "stderr",
          "output_type": "stream",
          "text": [
            "\n"
          ]
        },
        {
          "metadata": {
            "tags": null
          },
          "name": "stdout",
          "output_type": "stream",
          "text": [
            "Batch 9 saved!\n",
            "Processing batch 10 / 268\n"
          ]
        },
        {
          "metadata": {
            "tags": null
          },
          "name": "stderr",
          "output_type": "stream",
          "text": [
            "Apartments Products:  17%|█▋        | 171/1000 [00:24<01:38,  8.40Apartment/s]"
          ]
        },
        {
          "metadata": {
            "tags": null
          },
          "name": "stdout",
          "output_type": "stream",
          "text": [
            "Failed to fetch https://www.dubizzle.com.eg/en/ad/%D8%B4%D9%82%D8%A9-%D9%84%D9%84%D8%A8%D9%8A%D8%B9-%D9%81%D9%8A-%D8%A7%D9%84%D9%A7%D9%A7%D9%A7-%D8%B4%D8%A7%D8%B1%D8%B9-%D8%A7%D9%84%D9%86%D8%B2%D9%87%D8%A9-%D8%B3%D8%AA%D9%8A-%D8%B3%D8%AA%D8%A7%D8%B1%D8%B2-ID201383525.html, Status Code: 404\n"
          ]
        },
        {
          "metadata": {
            "tags": null
          },
          "name": "stderr",
          "output_type": "stream",
          "text": [
            "Apartments Products:  43%|████▎     | 426/1000 [00:57<00:55, 10.27Apartment/s]"
          ]
        },
        {
          "metadata": {
            "tags": null
          },
          "name": "stdout",
          "output_type": "stream",
          "text": [
            "Failed to fetch https://www.dubizzle.com.eg/en/ad/%D8%B4%D9%82%D8%A9-%D9%84%D9%84%D8%A8%D9%8A%D8%B9-%D9%81%D9%8A-%D8%A7%D9%84%D9%A7%D9%A7%D9%A7-%D8%B4%D8%A7%D8%B1%D8%B9-%D8%A7%D9%84%D9%86%D8%B2%D9%87%D8%A9-%D8%B3%D8%AA%D9%8A-%D8%B3%D8%AA%D8%A7%D8%B1%D8%B2-ID201383525.html, Status Code: 404\n"
          ]
        },
        {
          "metadata": {
            "tags": null
          },
          "name": "stderr",
          "output_type": "stream",
          "text": [
            "Apartments Products: 100%|██████████| 1000/1000 [05:00<00:00,  3.32Apartment/s]"
          ]
        },
        {
          "metadata": {
            "tags": null
          },
          "name": "stdout",
          "output_type": "stream",
          "text": [
            "Error fetching https://www.dubizzle.com.eg/en/ad/%D8%B4%D9%82%D9%87-%D9%84%D9%84%D8%A8%D9%8A%D8%B9-%D9%81%D9%89-%D8%A7%D9%84%D8%AD%D9%89-%D8%A7%D9%84%D9%85%D8%AA%D9%85%D9%8A%D8%B2-%D8%A8920-%D8%A7%D9%84%D9%81-%D9%81%D9%82%D8%B7%D8%B7%D8%B7%D8%B7%D8%B7-%D9%84%D8%B3%D8%B1%D8%B9%D9%87-%D8%A7%D9%84%D8%A8%D9%8A%D8%B9-ID202380947.html: \n",
            "Error fetching https://www.dubizzle.com.eg/en/ad/resale-unit-for-sale-in-grand-view-smouha-ID500663619.html: \n",
            "Batch 10 saved!\n"
          ]
        },
        {
          "metadata": {
            "tags": null
          },
          "name": "stderr",
          "output_type": "stream",
          "text": [
            "\n"
          ]
        },
        {
          "metadata": {
            "tags": null
          },
          "name": "stdout",
          "output_type": "stream",
          "text": [
            "Processing batch 11 / 268\n"
          ]
        },
        {
          "metadata": {
            "tags": null
          },
          "name": "stderr",
          "output_type": "stream",
          "text": [
            "Apartments Products:   0%|          | 1/1000 [00:00<15:31,  1.07Apartment/s]"
          ]
        },
        {
          "metadata": {
            "tags": null
          },
          "name": "stdout",
          "output_type": "stream",
          "text": [
            "Failed to fetch https://www.dubizzle.com.eg/en/ad/the-last-apartment-for-sale-directly-in-front-of-cairo-international-airport-with-a-cash-discount-a-very-special-landscape-view-in-taj-city-fifth-ID500981611.html, Status Code: 404\n"
          ]
        },
        {
          "metadata": {
            "tags": null
          },
          "name": "stderr",
          "output_type": "stream",
          "text": [
            "Apartments Products:  11%|█         | 109/1000 [00:15<01:24, 10.58Apartment/s]"
          ]
        },
        {
          "metadata": {
            "tags": null
          },
          "name": "stdout",
          "output_type": "stream",
          "text": [
            "Failed to fetch https://www.dubizzle.com.eg/en/ad/apartment-for-sale-in-the-settlement-on-the-landscape-in-the-taj-city-compound-directly-in-front-of-the-airport-ID500669205.html, Status Code: 404\n"
          ]
        },
        {
          "metadata": {
            "tags": null
          },
          "name": "stderr",
          "output_type": "stream",
          "text": [
            "Apartments Products:  21%|██        | 207/1000 [00:28<01:24,  9.37Apartment/s]"
          ]
        },
        {
          "metadata": {
            "tags": null
          },
          "name": "stdout",
          "output_type": "stream",
          "text": [
            "Failed to fetch https://www.dubizzle.com.eg/en/ad/%D8%B4%D9%82%D9%87-%D9%A1%D9%A5%D9%A5-%D9%85%D8%AA%D8%B1-%D9%84%D9%84%D8%A8%D9%8A%D8%B9-%D8%B4%D8%A7%D8%B1%D8%B9-%D8%B9%D9%85%D8%B1-%D8%A8%D9%86-%D8%B9%D8%A8%D8%AF-%D8%A7%D9%84%D8%B9%D8%B2%D9%8A%D8%B2-ID202222350.html, Status Code: 404\n",
            "Failed to fetch https://www.dubizzle.com.eg/en/ad/%D8%A7%D8%B3%D8%AA%D9%84%D9%85-%D8%B4%D8%A7%D9%84%D9%8A%D9%87-%D9%81%D9%8A%D9%84%D8%A7-%D9%85%D8%AA%D8%B4%D8%B7%D8%A8-%D8%B5%D9%81-%D8%A7%D9%88%D9%84-%D9%84%D8%A7%D8%AC%D9%88%D9%86%D8%B2-%D9%88%D8%A7%D8%A8%D8%B1%D8%A7%D8%AC-%D8%A7%D9%84%D8%B9%D8%A7%D9%84%D9%85%D9%8A%D9%86-%D9%81-%D9%85%D8%A7%D8%B2%D8%B1%D9%8A%D9%86-%D9%88%D9%82%D8%B3%D8%B7-%D8%B9-7-%D8%B3%D9%86%D9%8A%D9%86-receive-chalet-villa-finished-first-row-lagoons-and-alamein-towers-in-ma-ID500864360.html, Status Code: 404\n"
          ]
        },
        {
          "metadata": {
            "tags": null
          },
          "name": "stderr",
          "output_type": "stream",
          "text": [
            "Apartments Products:  44%|████▎     | 435/1000 [00:57<01:08,  8.31Apartment/s]"
          ]
        },
        {
          "metadata": {
            "tags": null
          },
          "name": "stdout",
          "output_type": "stream",
          "text": [
            "Failed to fetch https://www.dubizzle.com.eg/en/ad/the-last-apartment-for-sale-directly-in-front-of-cairo-international-airport-with-a-cash-discount-a-very-special-landscape-view-in-taj-city-fifth-ID500981611.html, Status Code: 404\n"
          ]
        },
        {
          "metadata": {
            "tags": null
          },
          "name": "stderr",
          "output_type": "stream",
          "text": [
            "Apartments Products:  71%|███████   | 711/1000 [01:34<00:45,  6.36Apartment/s]"
          ]
        },
        {
          "metadata": {
            "tags": null
          },
          "name": "stdout",
          "output_type": "stream",
          "text": [
            "Failed to fetch https://www.dubizzle.com.eg/en/ad/%D8%B4%D9%82%D8%A9-%D9%85%D9%86-%D8%A7%D9%84%D9%85%D8%A7%D9%84%D9%83-%D8%A8%D8%AF%D9%88%D9%86-%D8%B9%D9%85%D9%88%D9%84%D9%87-%D9%84%D9%84%D8%A8%D9%8A%D8%B9-%D9%A3-%D8%BA%D8%B1%D9%81-%D9%88%D8%AD%D9%85%D8%A7%D9%85%D9%8A%D9%86-%D8%A8%D9%85%D8%AF%D9%8A%D9%86%D8%A9-%D8%A8%D8%AF%D8%B1-ID201480037.html, Status Code: 404\n"
          ]
        },
        {
          "metadata": {
            "tags": null
          },
          "name": "stderr",
          "output_type": "stream",
          "text": [
            "Apartments Products:  84%|████████▍ | 845/1000 [01:51<00:19,  7.88Apartment/s]"
          ]
        },
        {
          "metadata": {
            "tags": null
          },
          "name": "stdout",
          "output_type": "stream",
          "text": [
            "Failed to fetch https://www.dubizzle.com.eg/en/ad/the-last-apartment-for-sale-directly-in-front-of-cairo-international-airport-with-a-cash-discount-a-very-special-landscape-view-in-taj-city-fifth-ID500981611.html, Status Code: 404\n"
          ]
        },
        {
          "metadata": {
            "tags": null
          },
          "name": "stderr",
          "output_type": "stream",
          "text": [
            "Apartments Products:  87%|████████▋ | 869/1000 [01:54<00:13, 10.03Apartment/s]"
          ]
        },
        {
          "metadata": {
            "tags": null
          },
          "name": "stdout",
          "output_type": "stream",
          "text": [
            "Failed to fetch https://www.dubizzle.com.eg/en/ad/apartment-for-sale-in-the-settlement-on-the-landscape-in-the-taj-city-compound-directly-in-front-of-the-airport-ID500669205.html, Status Code: 404\n"
          ]
        },
        {
          "metadata": {
            "tags": null
          },
          "name": "stderr",
          "output_type": "stream",
          "text": [
            "Apartments Products: 100%|██████████| 1000/1000 [05:00<00:00,  3.32Apartment/s]"
          ]
        },
        {
          "metadata": {
            "tags": null
          },
          "name": "stdout",
          "output_type": "stream",
          "text": [
            "Error fetching https://www.dubizzle.com.eg/en/ad/for-sale-an-apartment-in-the-heart-of-mostaqbal-city-with-a-10-down-payment-next-to-madinaty-in-the-sarai-compound-a-42-discount-on-cash-is-ava-ID500835967.html: \n",
            "Error fetching https://www.dubizzle.com.eg/en/ad/%D8%B4%D9%82%D8%A9-%D8%A8%D8%A7%D9%82%D9%84-%D8%B3%D8%B9%D8%B1-%D9%84%D9%84%D9%85%D8%AA%D8%B1-%D8%A8%D8%A7%D9%84%D8%B4%D8%B1%D9%88%D9%82-%D8%A8%D9%85%D9%82%D8%AF%D9%85-740000-%D9%88%D8%A7%D9%82%D8%B3%D8%A7%D8%B7-%D8%B9%D9%84%D9%8A-10-%D8%B3%D9%86%D9%88%D8%A7%D8%AA-ID201947261.html: \n",
            "Error fetching https://www.dubizzle.com.eg/en/ad/%D8%B4%D9%82%D8%A9-%D9%84%D9%82%D8%B7%D9%87-%D9%85%D8%A8%D8%A7%D9%86%D9%8A2020%D9%85-%D9%84%D9%84%D8%A8%D9%8A%D8%B9-%D8%A8%D8%B4%D8%A7%D8%B1%D8%B9-%D9%85%D8%B5%D8%B7%D9%81%D9%8A-%D8%A7%D9%84%D9%86%D8%AD%D8%A7%D8%B3-%D8%A7%D9%84%D8%B1%D8%A6%D9%8A%D8%B3%D9%8A-%D8%A8%D8%A7%D9%84%D9%85%D9%86%D8%B7%D9%82%D8%A9-%D8%A7%D9%84%D8%B3%D8%A7%D8%AF%D8%B3%D8%A9-ID500964984.html: \n",
            "Error fetching https://www.dubizzle.com.eg/en/ad/distinctive-view-apartment-in-zedd-settlement-naguib-sawiros-compound-finished-with-air-conditioners-with-a-room-for-the-nanny-ID500990599.html: \n",
            "Error fetching https://www.dubizzle.com.eg/en/ad/90-avenue-%D8%B4%D9%82%D8%A9-%D9%84%D9%84%D8%A8%D9%8A%D8%B9-%D8%A7%D8%B3%D8%AA%D9%84%D8%A7%D9%85-%D9%81%D9%88%D8%B1%D9%8A-%D9%85%D8%AA%D8%B4%D8%B7%D8%A8%D8%A9-%D8%A8%D8%A7%D9%84%D9%83%D8%A7%D9%85%D9%84-%D8%A8%D8%A7%D9%84%D8%AA%D8%AC%D9%85%D8%B9-%D8%A7%D9%84%D8%AE%D8%A7%D9%85%D8%B3-%D8%A8%D8%AC%D9%88%D8%A7%D8%B1-%D8%A7%D9%84%D8%AC%D8%A7%D9%85%D8%B9%D8%A9-%D8%A7%D9%84%D8%A7%D9%85%D8%B1%D9%8A%D9%83%D9%8A%D8%A9-%D9%83%D9%85%D8%A8%D9%88%D9%86%D8%AF-ID500848088.html: \n"
          ]
        },
        {
          "metadata": {
            "tags": null
          },
          "name": "stderr",
          "output_type": "stream",
          "text": [
            "\n"
          ]
        },
        {
          "metadata": {
            "tags": null
          },
          "name": "stdout",
          "output_type": "stream",
          "text": [
            "Batch 11 saved!\n",
            "Processing batch 12 / 268\n"
          ]
        },
        {
          "metadata": {
            "tags": null
          },
          "name": "stderr",
          "output_type": "stream",
          "text": [
            "Apartments Products:   0%|          | 1/1000 [00:00<15:37,  1.07Apartment/s]"
          ]
        },
        {
          "metadata": {
            "tags": null
          },
          "name": "stdout",
          "output_type": "stream",
          "text": [
            "Failed to fetch https://www.dubizzle.com.eg/en/ad/%D8%B4%D9%82%D9%87-%D9%A1%D9%A5%D9%A5-%D9%85%D8%AA%D8%B1-%D9%84%D9%84%D8%A8%D9%8A%D8%B9-%D8%B4%D8%A7%D8%B1%D8%B9-%D8%B9%D9%85%D8%B1-%D8%A8%D9%86-%D8%B9%D8%A8%D8%AF-%D8%A7%D9%84%D8%B9%D8%B2%D9%8A%D8%B2-ID202222350.html, Status Code: 404\n"
          ]
        },
        {
          "metadata": {
            "tags": null
          },
          "name": "stderr",
          "output_type": "stream",
          "text": [
            "Apartments Products:  20%|██        | 204/1000 [00:28<01:34,  8.46Apartment/s]"
          ]
        },
        {
          "metadata": {
            "tags": null
          },
          "name": "stdout",
          "output_type": "stream",
          "text": [
            "Failed to fetch https://www.dubizzle.com.eg/en/ad/apartment-for-sale-in-the-settlement-on-the-landscape-in-the-taj-city-compound-directly-in-front-of-the-airport-ID500669205.html, Status Code: 404\n"
          ]
        },
        {
          "metadata": {
            "tags": null
          },
          "name": "stderr",
          "output_type": "stream",
          "text": [
            "Apartments Products:  60%|█████▉    | 596/1000 [01:21<00:53,  7.52Apartment/s]"
          ]
        },
        {
          "metadata": {
            "tags": null
          },
          "name": "stdout",
          "output_type": "stream",
          "text": [
            "Failed to fetch https://www.dubizzle.com.eg/en/ad/apartment-for-sale-in-the-settlement-on-the-landscape-in-the-taj-city-compound-directly-in-front-of-the-airport-ID500669205.html, Status Code: 404\n"
          ]
        },
        {
          "metadata": {
            "tags": null
          },
          "name": "stderr",
          "output_type": "stream",
          "text": [
            "Apartments Products: 100%|██████████| 1000/1000 [05:00<00:00,  3.33Apartment/s]"
          ]
        },
        {
          "metadata": {
            "tags": null
          },
          "name": "stdout",
          "output_type": "stream",
          "text": [
            "Error fetching https://www.dubizzle.com.eg/en/ad/with-down-payment-and-installments-in-compound-hyde-park-for-sale-in-best-location-duplex-216m-ready-to-move-ID500984291.html: \n",
            "Error fetching https://www.dubizzle.com.eg/en/ad/%D8%B4%D9%82%D9%87-%D9%84%D9%84%D8%A8%D9%8A%D8%B9-%D8%A7%D9%84%D8%A7%D9%86%D8%AF%D9%84%D8%B3-2-%D8%AA%D8%A7%D9%86%D9%89-%D9%86%D9%85%D8%B1%D9%87-%D9%85%D9%86-%D8%A7%D9%84%D8%AA%D8%B3%D8%B9%D9%8A%D9%86-%D9%85%D8%B3%D8%A7%D8%AD%D8%A7%D8%AA-%D9%83%D8%A8%D9%8A%D8%B1%D9%87-ID202055664.html: \n"
          ]
        },
        {
          "metadata": {
            "tags": null
          },
          "name": "stderr",
          "output_type": "stream",
          "text": [
            "\n"
          ]
        },
        {
          "metadata": {
            "tags": null
          },
          "name": "stdout",
          "output_type": "stream",
          "text": [
            "Batch 12 saved!\n",
            "Processing batch 13 / 268\n"
          ]
        },
        {
          "metadata": {
            "tags": null
          },
          "name": "stderr",
          "output_type": "stream",
          "text": [
            "Apartments Products:  12%|█▏        | 120/1000 [00:17<01:50,  7.98Apartment/s]"
          ]
        },
        {
          "metadata": {
            "tags": null
          },
          "name": "stdout",
          "output_type": "stream",
          "text": [
            "Failed to fetch https://www.dubizzle.com.eg/en/ad/apartment-for-sale-in-the-settlement-on-the-landscape-in-the-taj-city-compound-directly-in-front-of-the-airport-ID500669205.html, Status Code: 404\n"
          ]
        },
        {
          "metadata": {
            "tags": null
          },
          "name": "stderr",
          "output_type": "stream",
          "text": [
            "Apartments Products:  60%|█████▉    | 595/1000 [01:21<00:46,  8.71Apartment/s]"
          ]
        },
        {
          "metadata": {
            "tags": null
          },
          "name": "stdout",
          "output_type": "stream",
          "text": [
            "Failed to fetch https://www.dubizzle.com.eg/en/ad/%D8%B4%D9%82%D9%87-%D9%84%D9%84%D8%A8%D9%8A%D8%B9-%D9%81%D9%8A-%D8%B3%D9%8A%D8%AF%D9%8A-%D8%A8%D8%B4%D8%B1-%D8%A8%D8%AD%D8%B1%D9%8A-%D8%B4%D8%A7%D8%B1%D8%B9-%D8%AE%D9%8A%D8%B1%D8%AA-%D8%A7%D9%84%D8%BA%D9%86%D8%AF%D9%88%D8%B1-%D9%82%D8%B1%D9%8A%D8%A8%D9%87-%D9%85%D9%86-%D8%A7%D9%84%D8%B9%D8%B3%D9%8A%D9%88%D9%8A-ID202338499.html, Status Code: 404\n"
          ]
        },
        {
          "metadata": {
            "tags": null
          },
          "name": "stderr",
          "output_type": "stream",
          "text": [
            "Apartments Products:  90%|█████████ | 900/1000 [02:02<00:10,  9.58Apartment/s]"
          ]
        },
        {
          "metadata": {
            "tags": null
          },
          "name": "stdout",
          "output_type": "stream",
          "text": [
            "Failed to fetch https://www.dubizzle.com.eg/en/ad/apartment-for-sale-in-the-settlement-on-the-landscape-in-the-taj-city-compound-directly-in-front-of-the-airport-ID500669205.html, Status Code: 404\n"
          ]
        },
        {
          "metadata": {
            "tags": null
          },
          "name": "stderr",
          "output_type": "stream",
          "text": [
            "Apartments Products: 100%|██████████| 1000/1000 [05:00<00:00,  3.32Apartment/s]"
          ]
        },
        {
          "metadata": {
            "tags": null
          },
          "name": "stdout",
          "output_type": "stream",
          "text": [
            "Error fetching https://www.dubizzle.com.eg/en/ad/apartment-for-sale-in-el-banafsag-fully-finished-ready-to-move-prime-location-ID500968331.html: \n",
            "Error fetching https://www.dubizzle.com.eg/en/ad/apartment-fully-finished-installment-10years-tatweer-misr-mostakbal-city-ID500981784.html: \n"
          ]
        },
        {
          "metadata": {
            "tags": null
          },
          "name": "stderr",
          "output_type": "stream",
          "text": [
            "\n"
          ]
        },
        {
          "metadata": {
            "tags": null
          },
          "name": "stdout",
          "output_type": "stream",
          "text": [
            "Batch 13 saved!\n",
            "Processing batch 14 / 268\n"
          ]
        },
        {
          "metadata": {
            "tags": null
          },
          "name": "stderr",
          "output_type": "stream",
          "text": [
            "Apartments Products:  21%|██        | 209/1000 [00:29<01:23,  9.50Apartment/s]"
          ]
        },
        {
          "metadata": {
            "tags": null
          },
          "name": "stdout",
          "output_type": "stream",
          "text": [
            "Failed to fetch https://www.dubizzle.com.eg/en/ad/i-villa-roof-240m-direct-lagoon-for-sale-in-mountain-view-i-city-new-cairo-%D9%85%D8%A7%D9%88%D9%86%D8%AA%D9%86-%D9%81%D9%8A%D9%88-%D8%A7%D9%8A-%D8%B3%D9%8A%D8%AA%D9%8A-%D8%A7%D9%84%D8%AA%D8%AC%D9%85%D8%B9-%D8%A7%D9%84%D8%AE%D8%A7%D9%85%D8%B3-ID500984404.html, Status Code: 404\n"
          ]
        },
        {
          "metadata": {
            "tags": null
          },
          "name": "stderr",
          "output_type": "stream",
          "text": [
            "Apartments Products:  26%|██▌       | 255/1000 [00:34<01:32,  8.09Apartment/s]"
          ]
        },
        {
          "metadata": {
            "tags": null
          },
          "name": "stdout",
          "output_type": "stream",
          "text": [
            "Failed to fetch https://www.dubizzle.com.eg/en/ad/apartment-for-sale-in-the-settlement-on-the-landscape-in-the-taj-city-compound-directly-in-front-of-the-airport-ID500669205.html, Status Code: 404\n"
          ]
        },
        {
          "metadata": {
            "tags": null
          },
          "name": "stderr",
          "output_type": "stream",
          "text": [
            "Apartments Products:  83%|████████▎ | 832/1000 [01:51<00:21,  7.94Apartment/s]"
          ]
        },
        {
          "metadata": {
            "tags": null
          },
          "name": "stdout",
          "output_type": "stream",
          "text": [
            "Failed to fetch https://www.dubizzle.com.eg/en/ad/%D8%B4%D9%82%D8%A9-%D9%85%D9%86-%D8%A7%D9%84%D9%85%D8%A7%D9%84%D9%83-%D8%A8%D8%AF%D9%88%D9%86-%D8%B9%D9%85%D9%88%D9%84%D9%87-%D9%84%D9%84%D8%A8%D9%8A%D8%B9-%D9%A3-%D8%BA%D8%B1%D9%81-%D9%88%D8%AD%D9%85%D8%A7%D9%85%D9%8A%D9%86-%D8%A8%D9%85%D8%AF%D9%8A%D9%86%D8%A9-%D8%A8%D8%AF%D8%B1-ID201480037.html, Status Code: 404\n"
          ]
        },
        {
          "metadata": {
            "tags": null
          },
          "name": "stderr",
          "output_type": "stream",
          "text": [
            "Apartments Products: 100%|██████████| 1000/1000 [05:00<00:00,  3.33Apartment/s]"
          ]
        },
        {
          "metadata": {
            "tags": null
          },
          "name": "stdout",
          "output_type": "stream",
          "text": [
            "Error fetching https://www.dubizzle.com.eg/en/ad/for-sale-apartment-in-al-sheikha-zayed-fully-finished-very-prime-location-2-br-in-zed-west-with-lowest-down-payment-ID500969185.html: \n",
            "Error fetching https://www.dubizzle.com.eg/en/ad/resale-apartment-in-a-prime-location-in-al-maqsad-compound-administrative-capital-ID500727516.html: \n"
          ]
        },
        {
          "metadata": {
            "tags": null
          },
          "name": "stderr",
          "output_type": "stream",
          "text": [
            "\n"
          ]
        },
        {
          "metadata": {
            "tags": null
          },
          "name": "stdout",
          "output_type": "stream",
          "text": [
            "Batch 14 saved!\n",
            "Processing batch 15 / 268\n"
          ]
        },
        {
          "metadata": {
            "tags": null
          },
          "name": "stderr",
          "output_type": "stream",
          "text": [
            "Apartments Products:   0%|          | 2/1000 [00:01<09:12,  1.81Apartment/s]"
          ]
        },
        {
          "metadata": {
            "tags": null
          },
          "name": "stdout",
          "output_type": "stream",
          "text": [
            "Failed to fetch https://www.dubizzle.com.eg/en/ad/the-last-apartment-for-sale-directly-in-front-of-cairo-international-airport-with-a-cash-discount-a-very-special-landscape-view-in-taj-city-fifth-ID500981611.html, Status Code: 404\n"
          ]
        },
        {
          "metadata": {
            "tags": null
          },
          "name": "stderr",
          "output_type": "stream",
          "text": [
            "Apartments Products:  53%|█████▎    | 531/1000 [01:11<01:02,  7.48Apartment/s]"
          ]
        },
        {
          "metadata": {
            "tags": null
          },
          "name": "stdout",
          "output_type": "stream",
          "text": [
            "Failed to fetch https://www.dubizzle.com.eg/en/ad/%D8%B4%D9%82%D9%87-%D9%84%D9%84%D8%A8%D9%8A%D8%B9-%D9%81%D9%8A-%D8%B3%D9%8A%D8%AF%D9%8A-%D8%A8%D8%B4%D8%B1-%D8%A8%D8%AD%D8%B1%D9%8A-%D8%B4%D8%A7%D8%B1%D8%B9-%D8%AE%D9%8A%D8%B1%D8%AA-%D8%A7%D9%84%D8%BA%D9%86%D8%AF%D9%88%D8%B1-%D9%82%D8%B1%D9%8A%D8%A8%D9%87-%D9%85%D9%86-%D8%A7%D9%84%D8%B9%D8%B3%D9%8A%D9%88%D9%8A-ID202338499.html, Status Code: 404\n"
          ]
        },
        {
          "metadata": {
            "tags": null
          },
          "name": "stderr",
          "output_type": "stream",
          "text": [
            "Apartments Products:  62%|██████▏   | 615/1000 [01:22<00:43,  8.76Apartment/s]"
          ]
        },
        {
          "metadata": {
            "tags": null
          },
          "name": "stdout",
          "output_type": "stream",
          "text": [
            "Failed to fetch https://www.dubizzle.com.eg/en/ad/apartment-for-sale-in-the-settlement-on-the-landscape-in-the-taj-city-compound-directly-in-front-of-the-airport-ID500669205.html, Status Code: 404\n"
          ]
        },
        {
          "metadata": {
            "tags": null
          },
          "name": "stderr",
          "output_type": "stream",
          "text": [
            "Apartments Products:  63%|██████▎   | 632/1000 [01:25<00:58,  6.27Apartment/s]"
          ]
        },
        {
          "metadata": {
            "tags": null
          },
          "name": "stdout",
          "output_type": "stream",
          "text": [
            "Failed to fetch https://www.dubizzle.com.eg/en/ad/%D8%B4%D9%82%D9%87-%D9%84%D9%84%D8%A8%D9%8A%D8%B9-%D9%81%D9%8A-%D8%B3%D9%8A%D8%AF%D9%8A-%D8%A8%D8%B4%D8%B1-%D8%A8%D8%AD%D8%B1%D9%8A-%D8%B4%D8%A7%D8%B1%D8%B9-%D8%AE%D9%8A%D8%B1%D8%AA-%D8%A7%D9%84%D8%BA%D9%86%D8%AF%D9%88%D8%B1-%D9%82%D8%B1%D9%8A%D8%A8%D9%87-%D9%85%D9%86-%D8%A7%D9%84%D8%B9%D8%B3%D9%8A%D9%88%D9%8A-ID202338499.html, Status Code: 404\n"
          ]
        },
        {
          "metadata": {
            "tags": null
          },
          "name": "stderr",
          "output_type": "stream",
          "text": [
            "Apartments Products:  71%|███████   | 711/1000 [01:35<00:30,  9.42Apartment/s]"
          ]
        },
        {
          "metadata": {
            "tags": null
          },
          "name": "stdout",
          "output_type": "stream",
          "text": [
            "Failed to fetch https://www.dubizzle.com.eg/en/ad/apartment-for-sale-in-the-settlement-on-the-landscape-in-the-taj-city-compound-directly-in-front-of-the-airport-ID500669205.html, Status Code: 404\n"
          ]
        },
        {
          "metadata": {
            "tags": null
          },
          "name": "stderr",
          "output_type": "stream",
          "text": [
            "Apartments Products:  73%|███████▎  | 728/1000 [01:38<00:37,  7.27Apartment/s]"
          ]
        },
        {
          "metadata": {
            "tags": null
          },
          "name": "stdout",
          "output_type": "stream",
          "text": [
            "Failed to fetch https://www.dubizzle.com.eg/en/ad/i-villa-roof-240m-direct-lagoon-for-sale-in-mountain-view-i-city-new-cairo-%D9%85%D8%A7%D9%88%D9%86%D8%AA%D9%86-%D9%81%D9%8A%D9%88-%D8%A7%D9%8A-%D8%B3%D9%8A%D8%AA%D9%8A-%D8%A7%D9%84%D8%AA%D8%AC%D9%85%D8%B9-%D8%A7%D9%84%D8%AE%D8%A7%D9%85%D8%B3-ID500984404.html, Status Code: 404\n"
          ]
        },
        {
          "metadata": {
            "tags": null
          },
          "name": "stderr",
          "output_type": "stream",
          "text": [
            "Apartments Products: 100%|██████████| 1000/1000 [05:00<00:00,  3.33Apartment/s]"
          ]
        },
        {
          "metadata": {
            "tags": null
          },
          "name": "stdout",
          "output_type": "stream",
          "text": [
            "Error fetching https://www.dubizzle.com.eg/en/ad/%D8%B4%D9%82%D9%87-%D9%84%D9%84%D8%A8%D9%8A%D8%B9-%D9%81%D9%8A-%D8%A7%D9%84%D8%B3%D9%8A%D9%88%D9%81-%D8%A7%D8%B3%D8%AA%D9%84%D8%A7%D9%85-%D9%81%D9%88%D8%B1%D9%8A-%D9%88%D8%AA%D9%82%D8%B3%D9%8A%D8%B7-%D8%B9%D9%84%D9%8A-%D8%B3%D9%86%D8%AA%D9%8A%D9%86-%D8%A8%D8%AF%D9%88%D9%86-%D9%81%D9%88%D8%A7%D9%8A%D8%AF-ID202336662.html: \n",
            "Error fetching https://www.dubizzle.com.eg/en/ad/for-the-first-time-at-sodic-west-karmell-sheikh-zayed-two-bedrooms-apartment-for-sale-with-only-5-down-payment-over-a-10-years-payment-plan-ID501004905.html: \n",
            "Error fetching https://www.dubizzle.com.eg/en/ad/el-yasmin-7-new-cairo-%D8%B4%D9%82%D9%87-%D9%84%D9%84%D8%A8%D9%8A%D8%B9-200%D9%85-%D9%81%D9%89-%D8%A7%D9%84%D9%8A%D8%A7%D8%B3%D9%85%D9%8A%D9%867-%D8%A7%D9%84%D9%82%D8%A7%D9%87%D8%B1%D8%A9-%D8%A7%D9%84%D8%AC%D8%AF%D9%8A%D8%AF%D8%A9-ID202493178.html: \n",
            "Error fetching https://www.dubizzle.com.eg/en/ad/%D8%B4%D9%82%D8%A9-%D9%84%D9%84%D8%A8%D9%8A%D8%B9-%D9%85%D8%AA%D8%B4%D8%B7%D8%A8%D8%A9-%D8%B3%D9%85%D8%A7%D8%B1%D8%AA-%D9%87%D9%88%D9%85-%D9%85%D8%B9-%D8%A7%D9%84%D9%85%D8%B7%D8%A8%D8%AE-%D9%81%D9%8A-%D8%A7%D9%84%D8%AA%D8%AC%D9%85%D8%B9-%D8%A7%D9%84%D8%AE%D8%A7%D9%85%D8%B3-%D8%A7%D8%B3%D8%AA%D9%84%D8%A7%D9%85-%D9%81%D9%88%D8%B1%D9%8A-ID200361107.html: \n",
            "Error fetching https://www.dubizzle.com.eg/en/ad/for-sale-an-apartmenta-135m-at-a-very-special-price-in-b3-wide-garden-view-in-madinaty-ID500962652.html: \n"
          ]
        },
        {
          "metadata": {
            "tags": null
          },
          "name": "stderr",
          "output_type": "stream",
          "text": [
            "\n"
          ]
        },
        {
          "metadata": {
            "tags": null
          },
          "name": "stdout",
          "output_type": "stream",
          "text": [
            "Batch 15 saved!\n",
            "Processing batch 16 / 268\n"
          ]
        },
        {
          "metadata": {
            "tags": null
          },
          "name": "stderr",
          "output_type": "stream",
          "text": [
            "Apartments Products:  10%|▉         | 95/1000 [00:15<01:32,  9.80Apartment/s]"
          ]
        },
        {
          "metadata": {
            "tags": null
          },
          "name": "stdout",
          "output_type": "stream",
          "text": [
            "Failed to fetch https://www.dubizzle.com.eg/en/ad/the-last-apartment-for-sale-directly-in-front-of-cairo-international-airport-with-a-cash-discount-a-very-special-landscape-view-in-taj-city-fifth-ID500981611.html, Status Code: 404\n"
          ]
        },
        {
          "metadata": {
            "tags": null
          },
          "name": "stderr",
          "output_type": "stream",
          "text": [
            "Apartments Products:  14%|█▎        | 135/1000 [00:20<01:26, 10.02Apartment/s]"
          ]
        },
        {
          "metadata": {
            "tags": null
          },
          "name": "stdout",
          "output_type": "stream",
          "text": [
            "Failed to fetch https://www.dubizzle.com.eg/en/ad/the-last-apartment-for-sale-directly-in-front-of-cairo-international-airport-with-a-cash-discount-a-very-special-landscape-view-in-taj-city-fifth-ID500981611.html, Status Code: 404\n"
          ]
        },
        {
          "metadata": {
            "tags": null
          },
          "name": "stderr",
          "output_type": "stream",
          "text": [
            "Apartments Products:  39%|███▉      | 389/1000 [00:56<01:01,  9.86Apartment/s]"
          ]
        },
        {
          "metadata": {
            "tags": null
          },
          "name": "stdout",
          "output_type": "stream",
          "text": [
            "Failed to fetch https://www.dubizzle.com.eg/en/ad/%D8%A7%D8%B3%D8%AA%D9%84%D9%85-%D8%B4%D8%A7%D9%84%D9%8A%D9%87-%D9%81%D9%8A%D9%84%D8%A7-%D9%85%D8%AA%D8%B4%D8%B7%D8%A8-%D8%B5%D9%81-%D8%A7%D9%88%D9%84-%D9%84%D8%A7%D8%AC%D9%88%D9%86%D8%B2-%D9%88%D8%A7%D8%A8%D8%B1%D8%A7%D8%AC-%D8%A7%D9%84%D8%B9%D8%A7%D9%84%D9%85%D9%8A%D9%86-%D9%81-%D9%85%D8%A7%D8%B2%D8%B1%D9%8A%D9%86-%D9%88%D9%82%D8%B3%D8%B7-%D8%B9-7-%D8%B3%D9%86%D9%8A%D9%86-receive-chalet-villa-finished-first-row-lagoons-and-alamein-towers-in-ma-ID500864360.html, Status Code: 404\n"
          ]
        },
        {
          "metadata": {
            "tags": null
          },
          "name": "stderr",
          "output_type": "stream",
          "text": [
            "Apartments Products:  77%|███████▋  | 773/1000 [01:51<00:25,  8.84Apartment/s]"
          ]
        },
        {
          "metadata": {
            "tags": null
          },
          "name": "stdout",
          "output_type": "stream",
          "text": [
            "Failed to fetch https://www.dubizzle.com.eg/en/ad/i-villa-roof-240m-direct-lagoon-for-sale-in-mountain-view-i-city-new-cairo-%D9%85%D8%A7%D9%88%D9%86%D8%AA%D9%86-%D9%81%D9%8A%D9%88-%D8%A7%D9%8A-%D8%B3%D9%8A%D8%AA%D9%8A-%D8%A7%D9%84%D8%AA%D8%AC%D9%85%D8%B9-%D8%A7%D9%84%D8%AE%D8%A7%D9%85%D8%B3-ID500984404.html, Status Code: 404\n"
          ]
        },
        {
          "metadata": {
            "tags": null
          },
          "name": "stderr",
          "output_type": "stream",
          "text": [
            "Apartments Products: 100%|██████████| 1000/1000 [05:00<00:00,  3.33Apartment/s]"
          ]
        },
        {
          "metadata": {
            "tags": null
          },
          "name": "stdout",
          "output_type": "stream",
          "text": [
            "Error fetching https://www.dubizzle.com.eg/en/ad/apratment-108-m-installment-till-2031-under-market-price-hyde-park-new-cairo-ID500953149.html: \n",
            "Error fetching https://www.dubizzle.com.eg/en/ad/3-room-apartment-finished-with-air-conditioners-next-to-mivida-in-installments-over-10-years-ID500969342.html: \n",
            "Error fetching https://www.dubizzle.com.eg/en/ad/%D8%AF%D9%88%D8%A8%D9%84%D9%83%D8%B3-190%D9%85-%D8%A8%D8%AC%D8%A7%D8%B1%D8%AF%D9%86-110%D9%85-%D9%85%D8%AA%D8%B4%D8%B7%D8%A8%D8%A9-%D8%A8%D8%A3%D9%82%D9%84-%D8%B3%D8%B9%D8%B1-%D9%84%D9%84%D8%A8%D9%8A%D8%B9-%D9%81-%D8%A7%D9%8A%D8%B3%D8%AA%D8%A7%D9%88%D9%86-eastown-%D8%A7%D9%84%D8%AA%D8%AC%D9%85%D8%B9-ID202488850.html: \n",
            "Error fetching https://www.dubizzle.com.eg/en/ad/take-advantage-of-the-opportunity-and-book-the-first-offer-at-the-first-price-per-meter-in-the-crest-with-il-cazar-company-and-installments-till-8-yea-ID500991392.html: \n"
          ]
        },
        {
          "metadata": {
            "tags": null
          },
          "name": "stderr",
          "output_type": "stream",
          "text": [
            "\n"
          ]
        },
        {
          "metadata": {
            "tags": null
          },
          "name": "stdout",
          "output_type": "stream",
          "text": [
            "Batch 16 saved!\n",
            "Processing batch 17 / 268\n"
          ]
        },
        {
          "metadata": {
            "tags": null
          },
          "name": "stderr",
          "output_type": "stream",
          "text": [
            "Apartments Products:  38%|███▊      | 379/1000 [00:53<01:19,  7.83Apartment/s]"
          ]
        },
        {
          "metadata": {
            "tags": null
          },
          "name": "stdout",
          "output_type": "stream",
          "text": [
            "Failed to fetch https://www.dubizzle.com.eg/en/ad/%D8%B4%D9%82%D9%87-%D9%84%D9%84%D8%A8%D9%8A%D8%B9-%D9%81%D9%8A-%D8%B3%D9%8A%D8%AF%D9%8A-%D8%A8%D8%B4%D8%B1-%D8%A8%D8%AD%D8%B1%D9%8A-%D8%B4%D8%A7%D8%B1%D8%B9-%D8%AE%D9%8A%D8%B1%D8%AA-%D8%A7%D9%84%D8%BA%D9%86%D8%AF%D9%88%D8%B1-%D9%82%D8%B1%D9%8A%D8%A8%D9%87-%D9%85%D9%86-%D8%A7%D9%84%D8%B9%D8%B3%D9%8A%D9%88%D9%8A-ID202338499.html, Status Code: 404\n"
          ]
        },
        {
          "metadata": {
            "tags": null
          },
          "name": "stderr",
          "output_type": "stream",
          "text": [
            "Apartments Products:  57%|█████▋    | 570/1000 [01:19<00:45,  9.53Apartment/s]"
          ]
        },
        {
          "metadata": {
            "tags": null
          },
          "name": "stdout",
          "output_type": "stream",
          "text": [
            "Failed to fetch https://www.dubizzle.com.eg/en/ad/i-villa-roof-240m-direct-lagoon-for-sale-in-mountain-view-i-city-new-cairo-%D9%85%D8%A7%D9%88%D9%86%D8%AA%D9%86-%D9%81%D9%8A%D9%88-%D8%A7%D9%8A-%D8%B3%D9%8A%D8%AA%D9%8A-%D8%A7%D9%84%D8%AA%D8%AC%D9%85%D8%B9-%D8%A7%D9%84%D8%AE%D8%A7%D9%85%D8%B3-ID500984404.html, Status Code: 404\n"
          ]
        },
        {
          "metadata": {
            "tags": null
          },
          "name": "stderr",
          "output_type": "stream",
          "text": [
            "Apartments Products:  67%|██████▋   | 667/1000 [01:33<01:27,  3.79Apartment/s]"
          ]
        },
        {
          "metadata": {
            "tags": null
          },
          "name": "stdout",
          "output_type": "stream",
          "text": [
            "Failed to fetch https://www.dubizzle.com.eg/en/ad/%D8%B4%D9%82%D9%87-%D9%84%D9%84%D8%A8%D9%8A%D8%B9-%D9%81%D9%8A-%D8%B3%D9%8A%D8%AF%D9%8A-%D8%A8%D8%B4%D8%B1-%D8%A8%D8%AD%D8%B1%D9%8A-%D8%B4%D8%A7%D8%B1%D8%B9-%D8%AE%D9%8A%D8%B1%D8%AA-%D8%A7%D9%84%D8%BA%D9%86%D8%AF%D9%88%D8%B1-%D9%82%D8%B1%D9%8A%D8%A8%D9%87-%D9%85%D9%86-%D8%A7%D9%84%D8%B9%D8%B3%D9%8A%D9%88%D9%8A-ID202338499.html, Status Code: 404\n"
          ]
        },
        {
          "metadata": {
            "tags": null
          },
          "name": "stderr",
          "output_type": "stream",
          "text": [
            "Apartments Products:  86%|████████▌ | 856/1000 [01:58<00:13, 10.31Apartment/s]"
          ]
        },
        {
          "metadata": {
            "tags": null
          },
          "name": "stdout",
          "output_type": "stream",
          "text": [
            "Failed to fetch https://www.dubizzle.com.eg/en/ad/apartment-for-sale-in-the-settlement-on-the-landscape-in-the-taj-city-compound-directly-in-front-of-the-airport-ID500669205.html, Status Code: 404\n"
          ]
        },
        {
          "metadata": {
            "tags": null
          },
          "name": "stderr",
          "output_type": "stream",
          "text": [
            "Apartments Products: 100%|██████████| 1000/1000 [05:00<00:00,  3.33Apartment/s]"
          ]
        },
        {
          "metadata": {
            "tags": null
          },
          "name": "stdout",
          "output_type": "stream",
          "text": [
            "Error fetching https://www.dubizzle.com.eg/en/ad/resale-apartment-in-a-prime-location-in-al-maqsad-compound-administrative-capital-ID500727516.html: \n",
            "Error fetching https://www.dubizzle.com.eg/en/ad/apartment-for-sale150m-in-new-cairo-silvia-compound-ID500983579.html: \n",
            "Error fetching https://www.dubizzle.com.eg/en/ad/%D8%A8%D8%AF%D9%88%D9%86-%D9%85%D9%82%D8%AF%D9%85-%D9%84%D9%81%D8%AA%D8%B1%D8%A9-%D9%85%D8%AD%D8%AF%D9%88%D8%AF%D8%A9-%D8%B4%D9%82%D8%A9-117%D9%85-%D8%AC%D8%A7%D8%B1%D9%86%D9%8A%D8%AA-%D8%A7%D9%84%D8%AA%D8%AC%D9%85%D8%B9-%D8%A7%D9%84%D8%AE%D8%A7%D9%85%D8%B3-%D8%A8%D8%AA%D8%B3%D9%87%D9%8A%D9%84%D8%A7%D8%AA-%D8%AD%D8%B5%D8%B1%D9%8A%D8%A7-ID202486097.html: \n"
          ]
        },
        {
          "metadata": {
            "tags": null
          },
          "name": "stderr",
          "output_type": "stream",
          "text": [
            "\n"
          ]
        },
        {
          "metadata": {
            "tags": null
          },
          "name": "stdout",
          "output_type": "stream",
          "text": [
            "Batch 17 saved!\n",
            "Processing batch 18 / 268\n"
          ]
        },
        {
          "metadata": {
            "tags": null
          },
          "name": "stderr",
          "output_type": "stream",
          "text": [
            "Apartments Products:  36%|███▌      | 356/1000 [00:51<01:06,  9.74Apartment/s]"
          ]
        },
        {
          "metadata": {
            "tags": null
          },
          "name": "stdout",
          "output_type": "stream",
          "text": [
            "Failed to fetch https://www.dubizzle.com.eg/en/ad/%D8%B4%D9%82%D8%A9-%D9%85%D9%86-%D8%A7%D9%84%D9%85%D8%A7%D9%84%D9%83-%D8%A8%D8%AF%D9%88%D9%86-%D8%B9%D9%85%D9%88%D9%84%D9%87-%D9%84%D9%84%D8%A8%D9%8A%D8%B9-%D9%A3-%D8%BA%D8%B1%D9%81-%D9%88%D8%AD%D9%85%D8%A7%D9%85%D9%8A%D9%86-%D8%A8%D9%85%D8%AF%D9%8A%D9%86%D8%A9-%D8%A8%D8%AF%D8%B1-ID201480037.html, Status Code: 404\n"
          ]
        },
        {
          "metadata": {
            "tags": null
          },
          "name": "stderr",
          "output_type": "stream",
          "text": [
            "Apartments Products:  40%|████      | 402/1000 [00:57<01:19,  7.56Apartment/s]"
          ]
        },
        {
          "metadata": {
            "tags": null
          },
          "name": "stdout",
          "output_type": "stream",
          "text": [
            "Failed to fetch https://www.dubizzle.com.eg/en/ad/%D8%B4%D9%82%D9%87-%D9%A1%D9%A5%D9%A5-%D9%85%D8%AA%D8%B1-%D9%84%D9%84%D8%A8%D9%8A%D8%B9-%D8%B4%D8%A7%D8%B1%D8%B9-%D8%B9%D9%85%D8%B1-%D8%A8%D9%86-%D8%B9%D8%A8%D8%AF-%D8%A7%D9%84%D8%B9%D8%B2%D9%8A%D8%B2-ID202222350.html, Status Code: 404\n"
          ]
        },
        {
          "metadata": {
            "tags": null
          },
          "name": "stderr",
          "output_type": "stream",
          "text": [
            "Apartments Products:  74%|███████▍  | 741/1000 [01:46<00:40,  6.35Apartment/s]"
          ]
        },
        {
          "metadata": {
            "tags": null
          },
          "name": "stdout",
          "output_type": "stream",
          "text": [
            "Failed to fetch https://www.dubizzle.com.eg/en/ad/%D8%B4%D9%82%D9%87-%D9%84%D9%84%D8%A8%D9%8A%D8%B9-%D9%81%D9%8A-%D8%B3%D9%8A%D8%AF%D9%8A-%D8%A8%D8%B4%D8%B1-%D8%A8%D8%AD%D8%B1%D9%8A-%D8%B4%D8%A7%D8%B1%D8%B9-%D8%AE%D9%8A%D8%B1%D8%AA-%D8%A7%D9%84%D8%BA%D9%86%D8%AF%D9%88%D8%B1-%D9%82%D8%B1%D9%8A%D8%A8%D9%87-%D9%85%D9%86-%D8%A7%D9%84%D8%B9%D8%B3%D9%8A%D9%88%D9%8A-ID202338499.html, Status Code: 404\n"
          ]
        },
        {
          "metadata": {
            "tags": null
          },
          "name": "stderr",
          "output_type": "stream",
          "text": [
            "Apartments Products:  83%|████████▎ | 831/1000 [01:57<00:25,  6.62Apartment/s]"
          ]
        },
        {
          "metadata": {
            "tags": null
          },
          "name": "stdout",
          "output_type": "stream",
          "text": [
            "Failed to fetch https://www.dubizzle.com.eg/en/ad/apartment-for-sale-in-the-settlement-on-the-landscape-in-the-taj-city-compound-directly-in-front-of-the-airport-ID500669205.html, Status Code: 404\n"
          ]
        },
        {
          "metadata": {
            "tags": null
          },
          "name": "stderr",
          "output_type": "stream",
          "text": [
            "Apartments Products: 100%|██████████| 1000/1000 [05:00<00:00,  3.33Apartment/s]"
          ]
        },
        {
          "metadata": {
            "tags": null
          },
          "name": "stdout",
          "output_type": "stream",
          "text": [
            "Error fetching https://www.dubizzle.com.eg/en/ad/%D8%B4%D9%82%D9%87-%D8%BA%D8%B1%D9%81%D8%AA%D9%8A%D9%86-%D8%A8%D9%83%D9%85%D8%A8%D9%88%D9%86%D8%AF-%D8%B3%D8%A7%D9%83%D9%86-%D9%88%D8%A7%D8%B3%D8%AA%D9%84%D8%A7%D9%85-%D9%81%D9%88%D8%B1%D9%8A-%D8%A8%D9%85%D9%82%D8%AF-15-%D9%81%D9%82%D8%B7-%D8%B9%D9%84%D9%8A-5-%D8%B3%D9%86%D9%8A%D9%86-%D8%A8%D8%A7%D9%84%D9%82%D8%B1%D8%A8-%D9%85%D9%86-%D8%A7%D9%84%D8%AC%D8%A7%D9%85%D8%B9%D9%87-%D8%A7%D9%84%D8%A7%D9%85%D9%8A%D8%B1%D9%8A%D9%83%D9%8A%D9%87-%D9%88%D9%85%D8%AA%D8%A7%D8%AD-3-%D8%BA%D8%B1%D9%81-ID500984231.html: \n",
            "Error fetching https://www.dubizzle.com.eg/en/ad/apartment-for-sale-at-a-very-special-price-152-meters-ultra-super-luxury-finished-and-immediate-receipt-with-a-cash-discount-a-very-special-view-ID500984852.html: \n",
            "Error fetching https://www.dubizzle.com.eg/en/ad/apartment-for-sale-156m-in-sarai-compound-madinat-masr-development-ID500891860.html: \n",
            "Error fetching https://www.dubizzle.com.eg/en/ad/3-room-apartment-finished-with-air-conditioners-next-to-mivida-in-installments-over-10-years-ID500969342.html: \n"
          ]
        },
        {
          "metadata": {
            "tags": null
          },
          "name": "stderr",
          "output_type": "stream",
          "text": [
            "\n"
          ]
        },
        {
          "metadata": {
            "tags": null
          },
          "name": "stdout",
          "output_type": "stream",
          "text": [
            "Batch 18 saved!\n",
            "Processing batch 19 / 268\n"
          ]
        },
        {
          "metadata": {
            "tags": null
          },
          "name": "stderr",
          "output_type": "stream",
          "text": [
            "Apartments Products:  72%|███████▎  | 725/1000 [01:42<00:28,  9.53Apartment/s]"
          ]
        },
        {
          "metadata": {
            "tags": null
          },
          "name": "stdout",
          "output_type": "stream",
          "text": [
            "Failed to fetch https://www.dubizzle.com.eg/en/ad/the-last-apartment-for-sale-directly-in-front-of-cairo-international-airport-with-a-cash-discount-a-very-special-landscape-view-in-taj-city-fifth-ID500981611.html, Status Code: 404\n"
          ]
        },
        {
          "metadata": {
            "tags": null
          },
          "name": "stderr",
          "output_type": "stream",
          "text": [
            "Apartments Products:  82%|████████▏ | 823/1000 [01:56<00:43,  4.06Apartment/s]"
          ]
        },
        {
          "metadata": {
            "tags": null
          },
          "name": "stdout",
          "output_type": "stream",
          "text": [
            "Failed to fetch https://www.dubizzle.com.eg/en/ad/i-villa-roof-240m-direct-lagoon-for-sale-in-mountain-view-i-city-new-cairo-%D9%85%D8%A7%D9%88%D9%86%D8%AA%D9%86-%D9%81%D9%8A%D9%88-%D8%A7%D9%8A-%D8%B3%D9%8A%D8%AA%D9%8A-%D8%A7%D9%84%D8%AA%D8%AC%D9%85%D8%B9-%D8%A7%D9%84%D8%AE%D8%A7%D9%85%D8%B3-ID500984404.html, Status Code: 404\n"
          ]
        },
        {
          "metadata": {
            "tags": null
          },
          "name": "stderr",
          "output_type": "stream",
          "text": [
            "Apartments Products: 100%|██████████| 1000/1000 [05:00<00:00,  3.33Apartment/s]"
          ]
        },
        {
          "metadata": {
            "tags": null
          },
          "name": "stdout",
          "output_type": "stream",
          "text": [
            "Error fetching https://www.dubizzle.com.eg/en/ad/fully-finished-apartment-1-year-delivery-and-payment-over-10-years-lowest-down-payment-in-new-cairo-mostakbal-city-ID500987224.html: \n"
          ]
        },
        {
          "metadata": {
            "tags": null
          },
          "name": "stderr",
          "output_type": "stream",
          "text": [
            "\n"
          ]
        },
        {
          "metadata": {
            "tags": null
          },
          "name": "stdout",
          "output_type": "stream",
          "text": [
            "Batch 19 saved!\n",
            "Processing batch 20 / 268\n"
          ]
        },
        {
          "metadata": {
            "tags": null
          },
          "name": "stderr",
          "output_type": "stream",
          "text": [
            "\rApartments Products:   0%|          | 0/1000 [00:00<?, ?Apartment/s]"
          ]
        },
        {
          "metadata": {
            "tags": null
          },
          "name": "stdout",
          "output_type": "stream",
          "text": [
            "Failed to fetch https://www.dubizzle.com.eg/en/ad/i-villa-roof-240m-direct-lagoon-for-sale-in-mountain-view-i-city-new-cairo-%D9%85%D8%A7%D9%88%D9%86%D8%AA%D9%86-%D9%81%D9%8A%D9%88-%D8%A7%D9%8A-%D8%B3%D9%8A%D8%AA%D9%8A-%D8%A7%D9%84%D8%AA%D8%AC%D9%85%D8%B9-%D8%A7%D9%84%D8%AE%D8%A7%D9%85%D8%B3-ID500984404.html, Status Code: 404\n"
          ]
        },
        {
          "metadata": {
            "tags": null
          },
          "name": "stderr",
          "output_type": "stream",
          "text": [
            "Apartments Products:  78%|███████▊  | 782/1000 [01:52<00:26,  8.29Apartment/s]"
          ]
        },
        {
          "metadata": {
            "tags": null
          },
          "name": "stdout",
          "output_type": "stream",
          "text": [
            "Failed to fetch https://www.dubizzle.com.eg/en/ad/i-villa-roof-240m-direct-lagoon-for-sale-in-mountain-view-i-city-new-cairo-%D9%85%D8%A7%D9%88%D9%86%D8%AA%D9%86-%D9%81%D9%8A%D9%88-%D8%A7%D9%8A-%D8%B3%D9%8A%D8%AA%D9%8A-%D8%A7%D9%84%D8%AA%D8%AC%D9%85%D8%B9-%D8%A7%D9%84%D8%AE%D8%A7%D9%85%D8%B3-ID500984404.html, Status Code: 404\n"
          ]
        },
        {
          "metadata": {
            "tags": null
          },
          "name": "stderr",
          "output_type": "stream",
          "text": [
            "Apartments Products:  88%|████████▊ | 881/1000 [02:06<00:15,  7.81Apartment/s]"
          ]
        },
        {
          "metadata": {
            "tags": null
          },
          "name": "stdout",
          "output_type": "stream",
          "text": [
            "Failed to fetch https://www.dubizzle.com.eg/en/ad/the-last-apartment-for-sale-directly-in-front-of-cairo-international-airport-with-a-cash-discount-a-very-special-landscape-view-in-taj-city-fifth-ID500981611.html, Status Code: 404\n"
          ]
        },
        {
          "metadata": {
            "tags": null
          },
          "name": "stderr",
          "output_type": "stream",
          "text": [
            "Apartments Products: 100%|██████████| 1000/1000 [05:00<00:00,  3.33Apartment/s]"
          ]
        },
        {
          "metadata": {
            "tags": null
          },
          "name": "stdout",
          "output_type": "stream",
          "text": [
            "Error fetching https://www.dubizzle.com.eg/en/ad/studio-for-sale-with-garden-79m-sarai-new-cairo-mostakbal-city-next-to-madinaty-with-42-discount-for-cash-ID500966411.html: \n"
          ]
        },
        {
          "metadata": {
            "tags": null
          },
          "name": "stderr",
          "output_type": "stream",
          "text": [
            "\n"
          ]
        },
        {
          "metadata": {
            "tags": null
          },
          "name": "stdout",
          "output_type": "stream",
          "text": [
            "Batch 20 saved!\n",
            "Processing batch 21 / 268\n"
          ]
        },
        {
          "metadata": {
            "tags": null
          },
          "name": "stderr",
          "output_type": "stream",
          "text": [
            "Apartments Products:  22%|██▏       | 222/1000 [00:31<01:25,  9.06Apartment/s]"
          ]
        },
        {
          "metadata": {
            "tags": null
          },
          "name": "stdout",
          "output_type": "stream",
          "text": [
            "Failed to fetch https://www.dubizzle.com.eg/en/ad/%D8%B4%D9%82%D9%87-%D9%A1%D9%A5%D9%A5-%D9%85%D8%AA%D8%B1-%D9%84%D9%84%D8%A8%D9%8A%D8%B9-%D8%B4%D8%A7%D8%B1%D8%B9-%D8%B9%D9%85%D8%B1-%D8%A8%D9%86-%D8%B9%D8%A8%D8%AF-%D8%A7%D9%84%D8%B9%D8%B2%D9%8A%D8%B2-ID202222350.html, Status Code: 404\n"
          ]
        },
        {
          "metadata": {
            "tags": null
          },
          "name": "stderr",
          "output_type": "stream",
          "text": [
            "Apartments Products:  30%|██▉       | 298/1000 [00:41<01:15,  9.29Apartment/s]"
          ]
        },
        {
          "metadata": {
            "tags": null
          },
          "name": "stdout",
          "output_type": "stream",
          "text": [
            "Failed to fetch https://www.dubizzle.com.eg/en/ad/apartment-for-sale-in-the-settlement-on-the-landscape-in-the-taj-city-compound-directly-in-front-of-the-airport-ID500669205.html, Status Code: 404\n",
            "Failed to fetch https://www.dubizzle.com.eg/en/ad/%D8%B4%D9%82%D9%87-%D9%A1%D9%A5%D9%A5-%D9%85%D8%AA%D8%B1-%D9%84%D9%84%D8%A8%D9%8A%D8%B9-%D8%B4%D8%A7%D8%B1%D8%B9-%D8%B9%D9%85%D8%B1-%D8%A8%D9%86-%D8%B9%D8%A8%D8%AF-%D8%A7%D9%84%D8%B9%D8%B2%D9%8A%D8%B2-ID202222350.html, Status Code: 404\n"
          ]
        },
        {
          "metadata": {
            "tags": null
          },
          "name": "stderr",
          "output_type": "stream",
          "text": [
            "Apartments Products:  40%|███▉      | 397/1000 [00:55<01:23,  7.26Apartment/s]"
          ]
        },
        {
          "metadata": {
            "tags": null
          },
          "name": "stdout",
          "output_type": "stream",
          "text": [
            "Failed to fetch https://www.dubizzle.com.eg/en/ad/apartment-for-sale-in-the-settlement-on-the-landscape-in-the-taj-city-compound-directly-in-front-of-the-airport-ID500669205.html, Status Code: 404\n"
          ]
        },
        {
          "metadata": {
            "tags": null
          },
          "name": "stderr",
          "output_type": "stream",
          "text": [
            "Apartments Products:  58%|█████▊    | 585/1000 [01:21<01:07,  6.15Apartment/s]"
          ]
        },
        {
          "metadata": {
            "tags": null
          },
          "name": "stdout",
          "output_type": "stream",
          "text": [
            "Failed to fetch https://www.dubizzle.com.eg/en/ad/%D8%B4%D9%82%D8%A9-%D9%85%D9%86-%D8%A7%D9%84%D9%85%D8%A7%D9%84%D9%83-%D8%A8%D8%AF%D9%88%D9%86-%D8%B9%D9%85%D9%88%D9%84%D9%87-%D9%84%D9%84%D8%A8%D9%8A%D8%B9-%D9%A3-%D8%BA%D8%B1%D9%81-%D9%88%D8%AD%D9%85%D8%A7%D9%85%D9%8A%D9%86-%D8%A8%D9%85%D8%AF%D9%8A%D9%86%D8%A9-%D8%A8%D8%AF%D8%B1-ID201480037.html, Status Code: 404\n"
          ]
        },
        {
          "metadata": {
            "tags": null
          },
          "name": "stderr",
          "output_type": "stream",
          "text": [
            "Apartments Products:  79%|███████▊  | 786/1000 [01:49<00:31,  6.69Apartment/s]"
          ]
        },
        {
          "metadata": {
            "tags": null
          },
          "name": "stdout",
          "output_type": "stream",
          "text": [
            "Failed to fetch https://www.dubizzle.com.eg/en/ad/%D8%B4%D9%82%D9%87-%D9%A1%D9%A5%D9%A5-%D9%85%D8%AA%D8%B1-%D9%84%D9%84%D8%A8%D9%8A%D8%B9-%D8%B4%D8%A7%D8%B1%D8%B9-%D8%B9%D9%85%D8%B1-%D8%A8%D9%86-%D8%B9%D8%A8%D8%AF-%D8%A7%D9%84%D8%B9%D8%B2%D9%8A%D8%B2-ID202222350.html, Status Code: 404\n",
            "Failed to fetch https://www.dubizzle.com.eg/en/ad/%D8%A7%D8%B3%D8%AA%D9%84%D9%85-%D8%B4%D8%A7%D9%84%D9%8A%D9%87-%D9%81%D9%8A%D9%84%D8%A7-%D9%85%D8%AA%D8%B4%D8%B7%D8%A8-%D8%B5%D9%81-%D8%A7%D9%88%D9%84-%D9%84%D8%A7%D8%AC%D9%88%D9%86%D8%B2-%D9%88%D8%A7%D8%A8%D8%B1%D8%A7%D8%AC-%D8%A7%D9%84%D8%B9%D8%A7%D9%84%D9%85%D9%8A%D9%86-%D9%81-%D9%85%D8%A7%D8%B2%D8%B1%D9%8A%D9%86-%D9%88%D9%82%D8%B3%D8%B7-%D8%B9-7-%D8%B3%D9%86%D9%8A%D9%86-receive-chalet-villa-finished-first-row-lagoons-and-alamein-towers-in-ma-ID500864360.html, Status Code: 404\n"
          ]
        },
        {
          "metadata": {
            "tags": null
          },
          "name": "stderr",
          "output_type": "stream",
          "text": [
            "Apartments Products: 100%|██████████| 1000/1000 [05:00<00:00,  3.33Apartment/s]"
          ]
        },
        {
          "metadata": {
            "tags": null
          },
          "name": "stdout",
          "output_type": "stream",
          "text": [
            "Error fetching https://www.dubizzle.com.eg/en/ad/lowest-price-semi-funished-apartment-198m-sale-compound-cairo-festival-city-cfc-ID500989129.html: \n",
            "Error fetching https://www.dubizzle.com.eg/en/ad/3-bedrooms-apartment-for-sale-in-belva-compound-infront-of-zed-towers-and-minutes-from-hyper-one-sheikh-zayed-351k-down-payment-over-6-years-plan-ID500966371.html: \n",
            "Error fetching https://www.dubizzle.com.eg/en/ad/are-you-looking-for-luxury-and-comfort-discover-your-ideal-unit-in-uptown-6th-of-october-at-a-competitive-price-ID500969941.html: \n",
            "Error fetching https://www.dubizzle.com.eg/en/ad/the-lowest-down-payment-is-only-10-and-get-a-10-discount-and-own-your-unit-in-the-i-sheraton-compound-ID500991217.html: \n",
            "Error fetching https://www.dubizzle.com.eg/en/ad/apartment-162m-in-taj-city-new-cairo-with-only-10-down-payment-and-the-rest-over-8-years-ID500867601.html: \n",
            "Error fetching https://www.dubizzle.com.eg/en/ad/%D8%B4%D9%82%D8%A9-%D9%84%D9%84%D8%A8%D9%8A%D8%B9-%D8%A8%D8%AC%D9%84%D9%8A%D9%85-%D8%B5%D9%81-%D8%A3%D9%88%D9%84-%D9%81%D9%8A%D9%88-%D8%A8%D8%AD%D8%B1-%D9%85%D8%A8%D8%A7%D8%B4%D8%B1-315%D9%85%D8%AA%D8%B1-%D8%A7%D9%84%D8%AA%D8%B1%D8%A7-%D8%B3%D9%88%D8%A8%D8%B1-%D9%84%D9%88%D9%83%D8%B3-ID202444534.html: \n",
            "Error fetching https://www.dubizzle.com.eg/en/ad/apartment-for-sale-121m-in-prime-location-maksed-new-capital-ID500969335.html: \n"
          ]
        },
        {
          "metadata": {
            "tags": null
          },
          "name": "stderr",
          "output_type": "stream",
          "text": [
            "\n"
          ]
        },
        {
          "metadata": {
            "tags": null
          },
          "name": "stdout",
          "output_type": "stream",
          "text": [
            "Batch 21 saved!\n",
            "Processing batch 22 / 268\n"
          ]
        },
        {
          "metadata": {
            "tags": null
          },
          "name": "stderr",
          "output_type": "stream",
          "text": [
            "Apartments Products:  11%|█         | 110/1000 [00:18<03:01,  4.91Apartment/s]"
          ]
        },
        {
          "metadata": {
            "tags": null
          },
          "name": "stdout",
          "output_type": "stream",
          "text": [
            "Failed to fetch https://www.dubizzle.com.eg/en/ad/i-villa-roof-240m-direct-lagoon-for-sale-in-mountain-view-i-city-new-cairo-%D9%85%D8%A7%D9%88%D9%86%D8%AA%D9%86-%D9%81%D9%8A%D9%88-%D8%A7%D9%8A-%D8%B3%D9%8A%D8%AA%D9%8A-%D8%A7%D9%84%D8%AA%D8%AC%D9%85%D8%B9-%D8%A7%D9%84%D8%AE%D8%A7%D9%85%D8%B3-ID500984404.html, Status Code: 404\n"
          ]
        },
        {
          "metadata": {
            "tags": null
          },
          "name": "stderr",
          "output_type": "stream",
          "text": [
            "Apartments Products:  28%|██▊       | 285/1000 [00:42<01:58,  6.01Apartment/s]"
          ]
        },
        {
          "metadata": {
            "tags": null
          },
          "name": "stdout",
          "output_type": "stream",
          "text": [
            "Failed to fetch https://www.dubizzle.com.eg/en/ad/apartment-for-sale-in-the-settlement-on-the-landscape-in-the-taj-city-compound-directly-in-front-of-the-airport-ID500669205.html, Status Code: 404\n"
          ]
        },
        {
          "metadata": {
            "tags": null
          },
          "name": "stderr",
          "output_type": "stream",
          "text": [
            "Apartments Products:  48%|████▊     | 477/1000 [01:09<01:19,  6.55Apartment/s]"
          ]
        },
        {
          "metadata": {
            "tags": null
          },
          "name": "stdout",
          "output_type": "stream",
          "text": [
            "Failed to fetch https://www.dubizzle.com.eg/en/ad/the-last-apartment-for-sale-directly-in-front-of-cairo-international-airport-with-a-cash-discount-a-very-special-landscape-view-in-taj-city-fifth-ID500981611.html, Status Code: 404\n"
          ]
        },
        {
          "metadata": {
            "tags": null
          },
          "name": "stderr",
          "output_type": "stream",
          "text": [
            "Apartments Products:  96%|█████████▌| 956/1000 [02:16<00:06,  7.32Apartment/s]"
          ]
        },
        {
          "metadata": {
            "tags": null
          },
          "name": "stdout",
          "output_type": "stream",
          "text": [
            "Failed to fetch https://www.dubizzle.com.eg/en/ad/%D8%B4%D9%82%D8%A9-%D9%85%D9%86-%D8%A7%D9%84%D9%85%D8%A7%D9%84%D9%83-%D8%A8%D8%AF%D9%88%D9%86-%D8%B9%D9%85%D9%88%D9%84%D9%87-%D9%84%D9%84%D8%A8%D9%8A%D8%B9-%D9%A3-%D8%BA%D8%B1%D9%81-%D9%88%D8%AD%D9%85%D8%A7%D9%85%D9%8A%D9%86-%D8%A8%D9%85%D8%AF%D9%8A%D9%86%D8%A9-%D8%A8%D8%AF%D8%B1-ID201480037.html, Status Code: 404\n"
          ]
        },
        {
          "metadata": {
            "tags": null
          },
          "name": "stderr",
          "output_type": "stream",
          "text": [
            "Apartments Products: 100%|██████████| 1000/1000 [05:00<00:00,  3.33Apartment/s]"
          ]
        },
        {
          "metadata": {
            "tags": null
          },
          "name": "stdout",
          "output_type": "stream",
          "text": [
            "Error fetching https://www.dubizzle.com.eg/en/ad/%D8%B4%D9%82%D8%A9-%D9%84%D9%84%D8%A8%D9%8A%D8%B9-160%D9%85-%D8%A8%D8%A7%D9%84%D8%AA%D9%82%D8%B3%D9%8A%D8%B7-%D9%81%D9%8A%D9%88-%D9%85%D9%81%D8%AA%D9%88%D8%AD-%D8%A7%D9%84%D9%87%D8%B6%D8%A8%D9%87-%D8%A7%D9%84%D9%88%D8%B3%D8%B7%D9%89-%D8%A7%D9%84%D9%85%D9%82%D8%B7%D9%85-ID202447638.html: \n",
            "Error fetching https://www.dubizzle.com.eg/en/ad/%D8%B4%D9%82%D8%A9-%D9%84%D9%82%D8%B7%D8%B7%D8%B7%D8%A9-%D9%84%D9%84%D8%A8%D9%8A%D8%B9-%D9%83%D8%A7%D8%B4-%D9%81%D9%8A-%D9%85%D8%AF%D9%8A%D9%86%D8%AA%D9%8A-135-%D9%85%D8%AA%D8%B1-%D9%86%D9%85%D9%88%D8%B0%D8%AC-200-%D9%81%D9%8A-b2-ID500990198.html: \n",
            "Error fetching https://www.dubizzle.com.eg/en/ad/%D8%B4%D9%82%D9%87-%D9%84%D9%82%D8%B7%D9%87-%D9%84%D9%84%D8%A8%D9%8A%D8%B9-%D9%81%D9%8A-%D9%86%D9%88%D8%B1-98-%D9%85%D8%AA%D8%B1-%D8%A3%D9%82%D9%84-%D9%85%D9%86-%D8%A7%D9%84%D8%B4%D8%B1%D9%83%D9%87-5-%D9%85%D9%84%D9%8A%D9%88%D9%86-ID202460785.html: \n"
          ]
        },
        {
          "metadata": {
            "tags": null
          },
          "name": "stderr",
          "output_type": "stream",
          "text": [
            "\n"
          ]
        },
        {
          "metadata": {
            "tags": null
          },
          "name": "stdout",
          "output_type": "stream",
          "text": [
            "Batch 22 saved!\n",
            "Processing batch 23 / 268\n"
          ]
        },
        {
          "metadata": {
            "tags": null
          },
          "name": "stderr",
          "output_type": "stream",
          "text": [
            "Apartments Products:   0%|          | 1/1000 [00:01<17:14,  1.04s/Apartment]"
          ]
        },
        {
          "metadata": {
            "tags": null
          },
          "name": "stdout",
          "output_type": "stream",
          "text": [
            "Failed to fetch https://www.dubizzle.com.eg/en/ad/i-villa-roof-240m-direct-lagoon-for-sale-in-mountain-view-i-city-new-cairo-%D9%85%D8%A7%D9%88%D9%86%D8%AA%D9%86-%D9%81%D9%8A%D9%88-%D8%A7%D9%8A-%D8%B3%D9%8A%D8%AA%D9%8A-%D8%A7%D9%84%D8%AA%D8%AC%D9%85%D8%B9-%D8%A7%D9%84%D8%AE%D8%A7%D9%85%D8%B3-ID500984404.html, Status Code: 404\n",
            "Failed to fetch https://www.dubizzle.com.eg/en/ad/the-last-apartment-for-sale-directly-in-front-of-cairo-international-airport-with-a-cash-discount-a-very-special-landscape-view-in-taj-city-fifth-ID500981611.html, Status Code: 404\n"
          ]
        },
        {
          "metadata": {
            "tags": null
          },
          "name": "stderr",
          "output_type": "stream",
          "text": [
            "Apartments Products:  20%|██        | 203/1000 [00:29<01:36,  8.23Apartment/s]"
          ]
        },
        {
          "metadata": {
            "tags": null
          },
          "name": "stdout",
          "output_type": "stream",
          "text": [
            "Failed to fetch https://www.dubizzle.com.eg/en/ad/i-villa-roof-240m-direct-lagoon-for-sale-in-mountain-view-i-city-new-cairo-%D9%85%D8%A7%D9%88%D9%86%D8%AA%D9%86-%D9%81%D9%8A%D9%88-%D8%A7%D9%8A-%D8%B3%D9%8A%D8%AA%D9%8A-%D8%A7%D9%84%D8%AA%D8%AC%D9%85%D8%B9-%D8%A7%D9%84%D8%AE%D8%A7%D9%85%D8%B3-ID500984404.html, Status Code: 404\n"
          ]
        },
        {
          "metadata": {
            "tags": null
          },
          "name": "stderr",
          "output_type": "stream",
          "text": [
            "Apartments Products:  25%|██▍       | 247/1000 [00:35<01:25,  8.77Apartment/s]"
          ]
        },
        {
          "metadata": {
            "tags": null
          },
          "name": "stdout",
          "output_type": "stream",
          "text": [
            "Failed to fetch https://www.dubizzle.com.eg/en/ad/apartment-for-sale-in-the-settlement-on-the-landscape-in-the-taj-city-compound-directly-in-front-of-the-airport-ID500669205.html, Status Code: 404\n"
          ]
        },
        {
          "metadata": {
            "tags": null
          },
          "name": "stderr",
          "output_type": "stream",
          "text": [
            "Apartments Products:  53%|█████▎    | 528/1000 [01:15<01:01,  7.67Apartment/s]"
          ]
        },
        {
          "metadata": {
            "tags": null
          },
          "name": "stdout",
          "output_type": "stream",
          "text": [
            "Failed to fetch https://www.dubizzle.com.eg/en/ad/%D8%B4%D9%82%D9%87-%D9%A1%D9%A5%D9%A5-%D9%85%D8%AA%D8%B1-%D9%84%D9%84%D8%A8%D9%8A%D8%B9-%D8%B4%D8%A7%D8%B1%D8%B9-%D8%B9%D9%85%D8%B1-%D8%A8%D9%86-%D8%B9%D8%A8%D8%AF-%D8%A7%D9%84%D8%B9%D8%B2%D9%8A%D8%B2-ID202222350.html, Status Code: 404\n"
          ]
        },
        {
          "metadata": {
            "tags": null
          },
          "name": "stderr",
          "output_type": "stream",
          "text": [
            "Apartments Products:  79%|███████▉  | 788/1000 [01:51<00:29,  7.17Apartment/s]"
          ]
        },
        {
          "metadata": {
            "tags": null
          },
          "name": "stdout",
          "output_type": "stream",
          "text": [
            "Failed to fetch https://www.dubizzle.com.eg/en/ad/%D8%A7%D8%B3%D8%AA%D9%84%D9%85-%D8%B4%D8%A7%D9%84%D9%8A%D9%87-%D9%81%D9%8A%D9%84%D8%A7-%D9%85%D8%AA%D8%B4%D8%B7%D8%A8-%D8%B5%D9%81-%D8%A7%D9%88%D9%84-%D9%84%D8%A7%D8%AC%D9%88%D9%86%D8%B2-%D9%88%D8%A7%D8%A8%D8%B1%D8%A7%D8%AC-%D8%A7%D9%84%D8%B9%D8%A7%D9%84%D9%85%D9%8A%D9%86-%D9%81-%D9%85%D8%A7%D8%B2%D8%B1%D9%8A%D9%86-%D9%88%D9%82%D8%B3%D8%B7-%D8%B9-7-%D8%B3%D9%86%D9%8A%D9%86-receive-chalet-villa-finished-first-row-lagoons-and-alamein-towers-in-ma-ID500864360.html, Status Code: 404\n",
            "Failed to fetch https://www.dubizzle.com.eg/en/ad/%D8%B4%D9%82%D9%87-%D9%A1%D9%A5%D9%A5-%D9%85%D8%AA%D8%B1-%D9%84%D9%84%D8%A8%D9%8A%D8%B9-%D8%B4%D8%A7%D8%B1%D8%B9-%D8%B9%D9%85%D8%B1-%D8%A8%D9%86-%D8%B9%D8%A8%D8%AF-%D8%A7%D9%84%D8%B9%D8%B2%D9%8A%D8%B2-ID202222350.html, Status Code: 404\n"
          ]
        },
        {
          "metadata": {
            "tags": null
          },
          "name": "stderr",
          "output_type": "stream",
          "text": [
            "Apartments Products: 100%|██████████| 1000/1000 [05:00<00:00,  3.33Apartment/s]"
          ]
        },
        {
          "metadata": {
            "tags": null
          },
          "name": "stdout",
          "output_type": "stream",
          "text": [
            "Error fetching https://www.dubizzle.com.eg/en/ad/%D8%B4%D9%82%D8%A9-%D8%B1%D9%8A%D8%B3%D9%8A%D9%84-%D9%81%D9%8A-%D9%85%D8%AF%D9%8A%D9%86%D8%AA%D9%8A-%D8%AA%D9%83%D9%85%D9%84%D8%A9-%D8%A7%D9%82%D8%B3%D8%A7%D8%B7-b8-a3-ID202476026.html: \n",
            "Error fetching https://www.dubizzle.com.eg/en/ad/%D8%B4%D9%82%D9%87-%D9%84%D9%84%D8%A8%D9%8A%D8%B9-90-%D9%85%D8%AA%D8%B1-%D9%81%D9%8A-%D9%85%D8%AF%D9%8A%D9%86%D9%87-%D8%A7%D9%84%D8%B1%D8%AD%D8%A7%D8%A8-%D8%A7%D9%84%D9%85%D8%B1%D8%AD%D9%84%D9%87-%D8%A7%D9%84%D8%AE%D8%A7%D9%85%D8%B3%D9%87-ID202504671.html: \n",
            "Error fetching https://www.dubizzle.com.eg/en/ad/%D9%84%D9%82%D8%B7%D9%87-%D9%84%D9%84%D8%A8%D9%8A%D8%B9-%D9%81%D9%8A-%D9%85%D8%AF%D9%8A%D9%86%D8%AA%D9%8A-175-%D9%85-%D8%A8%D8%A3%D9%83%D8%A8%D8%B1-%D9%81%D9%8A%D9%88-%D8%AC%D8%A7%D8%B1%D8%AF%D9%86-%D8%A3%D8%AE%D8%B6%D8%B1-%D8%AE%D9%84%D8%A7%D8%A8-ID202485803.html: \n",
            "Error fetching https://www.dubizzle.com.eg/en/ad/two-bedroom-apartment-in-a-garden-in-installments-over-9-years-and-a-minute-from-al-marasem-and-the-northern-90th-ID500968260.html: \n",
            "Error fetching https://www.dubizzle.com.eg/en/ad/apartment-for-sale-prime-location-view-landscape-in-fifth-square-almarasem-ID500982709.html: \n"
          ]
        },
        {
          "metadata": {
            "tags": null
          },
          "name": "stderr",
          "output_type": "stream",
          "text": [
            "\n"
          ]
        },
        {
          "metadata": {
            "tags": null
          },
          "name": "stdout",
          "output_type": "stream",
          "text": [
            "Batch 23 saved!\n",
            "Processing batch 24 / 268\n"
          ]
        },
        {
          "metadata": {
            "tags": null
          },
          "name": "stderr",
          "output_type": "stream",
          "text": [
            "Apartments Products:  24%|██▍       | 245/1000 [00:36<01:23,  9.06Apartment/s]"
          ]
        },
        {
          "metadata": {
            "tags": null
          },
          "name": "stdout",
          "output_type": "stream",
          "text": [
            "Failed to fetch https://www.dubizzle.com.eg/en/ad/apartment-for-sale-in-the-settlement-on-the-landscape-in-the-taj-city-compound-directly-in-front-of-the-airport-ID500669205.html, Status Code: 404\n"
          ]
        },
        {
          "metadata": {
            "tags": null
          },
          "name": "stderr",
          "output_type": "stream",
          "text": [
            "Apartments Products:  43%|████▎     | 428/1000 [01:03<01:08,  8.39Apartment/s]"
          ]
        },
        {
          "metadata": {
            "tags": null
          },
          "name": "stdout",
          "output_type": "stream",
          "text": [
            "Failed to fetch https://www.dubizzle.com.eg/en/ad/%D8%B4%D9%82%D9%87-%D9%A1%D9%A5%D9%A5-%D9%85%D8%AA%D8%B1-%D9%84%D9%84%D8%A8%D9%8A%D8%B9-%D8%B4%D8%A7%D8%B1%D8%B9-%D8%B9%D9%85%D8%B1-%D8%A8%D9%86-%D8%B9%D8%A8%D8%AF-%D8%A7%D9%84%D8%B9%D8%B2%D9%8A%D8%B2-ID202222350.html, Status Code: 404\n"
          ]
        },
        {
          "metadata": {
            "tags": null
          },
          "name": "stderr",
          "output_type": "stream",
          "text": [
            "Apartments Products: 100%|██████████| 1000/1000 [05:00<00:00,  3.33Apartment/s]"
          ]
        },
        {
          "metadata": {
            "tags": null
          },
          "name": "stdout",
          "output_type": "stream",
          "text": [
            "Error fetching https://www.dubizzle.com.eg/en/ad/apartment-for-sale-in-bloomfields-compound-mostaqbal-city-from-tatweer-misr-in-installments-over-8-years-ID500568493.html: \n",
            "Error fetching https://www.dubizzle.com.eg/en/ad/first-row-apartment-with-100-open-nile-view-ready-for-inspection-fully-finished-and-furnished-with-appliances-and-air-conditioners-for-sale-ID500958175.html: \n"
          ]
        },
        {
          "metadata": {
            "tags": null
          },
          "name": "stderr",
          "output_type": "stream",
          "text": [
            "\n"
          ]
        },
        {
          "metadata": {
            "tags": null
          },
          "name": "stdout",
          "output_type": "stream",
          "text": [
            "Batch 24 saved!\n",
            "Processing batch 25 / 268\n"
          ]
        },
        {
          "metadata": {
            "tags": null
          },
          "name": "stderr",
          "output_type": "stream",
          "text": [
            "Apartments Products:  22%|██▏       | 216/1000 [00:31<01:17, 10.09Apartment/s]"
          ]
        },
        {
          "metadata": {
            "tags": null
          },
          "name": "stdout",
          "output_type": "stream",
          "text": [
            "Failed to fetch https://www.dubizzle.com.eg/en/ad/%D8%B4%D9%82%D8%A9-%D9%85%D9%86-%D8%A7%D9%84%D9%85%D8%A7%D9%84%D9%83-%D8%A8%D8%AF%D9%88%D9%86-%D8%B9%D9%85%D9%88%D9%84%D9%87-%D9%84%D9%84%D8%A8%D9%8A%D8%B9-%D9%A3-%D8%BA%D8%B1%D9%81-%D9%88%D8%AD%D9%85%D8%A7%D9%85%D9%8A%D9%86-%D8%A8%D9%85%D8%AF%D9%8A%D9%86%D8%A9-%D8%A8%D8%AF%D8%B1-ID201480037.html, Status Code: 404\n"
          ]
        },
        {
          "metadata": {
            "tags": null
          },
          "name": "stderr",
          "output_type": "stream",
          "text": [
            "Apartments Products:  26%|██▌       | 261/1000 [00:37<01:47,  6.86Apartment/s]"
          ]
        },
        {
          "metadata": {
            "tags": null
          },
          "name": "stdout",
          "output_type": "stream",
          "text": [
            "Failed to fetch https://www.dubizzle.com.eg/en/ad/%D8%B4%D9%82%D9%87-%D9%84%D9%84%D8%A8%D9%8A%D8%B9-%D9%81%D9%8A-%D8%B3%D9%8A%D8%AF%D9%8A-%D8%A8%D8%B4%D8%B1-%D8%A8%D8%AD%D8%B1%D9%8A-%D8%B4%D8%A7%D8%B1%D8%B9-%D8%AE%D9%8A%D8%B1%D8%AA-%D8%A7%D9%84%D8%BA%D9%86%D8%AF%D9%88%D8%B1-%D9%82%D8%B1%D9%8A%D8%A8%D9%87-%D9%85%D9%86-%D8%A7%D9%84%D8%B9%D8%B3%D9%8A%D9%88%D9%8A-ID202338499.html, Status Code: 404\n"
          ]
        },
        {
          "metadata": {
            "tags": null
          },
          "name": "stderr",
          "output_type": "stream",
          "text": [
            "Apartments Products:  92%|█████████▎| 925/1000 [02:10<00:07, 10.15Apartment/s]"
          ]
        },
        {
          "metadata": {
            "tags": null
          },
          "name": "stdout",
          "output_type": "stream",
          "text": [
            "Failed to fetch https://www.dubizzle.com.eg/en/ad/%D8%B4%D9%82%D9%87-%D9%84%D9%84%D8%A8%D9%8A%D8%B9-%D9%81%D9%8A-%D8%B3%D9%8A%D8%AF%D9%8A-%D8%A8%D8%B4%D8%B1-%D8%A8%D8%AD%D8%B1%D9%8A-%D8%B4%D8%A7%D8%B1%D8%B9-%D8%AE%D9%8A%D8%B1%D8%AA-%D8%A7%D9%84%D8%BA%D9%86%D8%AF%D9%88%D8%B1-%D9%82%D8%B1%D9%8A%D8%A8%D9%87-%D9%85%D9%86-%D8%A7%D9%84%D8%B9%D8%B3%D9%8A%D9%88%D9%8A-ID202338499.html, Status Code: 404\n"
          ]
        },
        {
          "metadata": {
            "tags": null
          },
          "name": "stderr",
          "output_type": "stream",
          "text": [
            "Apartments Products: 100%|██████████| 1000/1000 [05:00<00:00,  3.33Apartment/s]"
          ]
        },
        {
          "metadata": {
            "tags": null
          },
          "name": "stdout",
          "output_type": "stream",
          "text": [
            "Error fetching https://www.dubizzle.com.eg/en/ad/apartment-for-sale-miami-area-of-135-square-meters-ID500880149.html: \n",
            "Error fetching https://www.dubizzle.com.eg/en/ad/%D8%A7%D8%B7%D9%84%D8%A7%D9%84%D8%A9-%D9%85%D8%A8%D8%A7%D8%B4%D8%B1%D8%A9-%D8%B9%D9%84%D9%89-%D8%A7%D9%84%D8%A8%D8%AD%D8%B1-ID500982211.html: \n"
          ]
        },
        {
          "metadata": {
            "tags": null
          },
          "name": "stderr",
          "output_type": "stream",
          "text": [
            "\n"
          ]
        },
        {
          "metadata": {
            "tags": null
          },
          "name": "stdout",
          "output_type": "stream",
          "text": [
            "Batch 25 saved!\n",
            "Processing batch 26 / 268\n"
          ]
        },
        {
          "metadata": {
            "tags": null
          },
          "name": "stderr",
          "output_type": "stream",
          "text": [
            "Apartments Products:  18%|█▊        | 176/1000 [00:27<01:23,  9.83Apartment/s]"
          ]
        },
        {
          "metadata": {
            "tags": null
          },
          "name": "stdout",
          "output_type": "stream",
          "text": [
            "Failed to fetch https://www.dubizzle.com.eg/en/ad/%D8%B4%D9%82%D8%A9-%D9%85%D9%86-%D8%A7%D9%84%D9%85%D8%A7%D9%84%D9%83-%D8%A8%D8%AF%D9%88%D9%86-%D8%B9%D9%85%D9%88%D9%84%D9%87-%D9%84%D9%84%D8%A8%D9%8A%D8%B9-%D9%A3-%D8%BA%D8%B1%D9%81-%D9%88%D8%AD%D9%85%D8%A7%D9%85%D9%8A%D9%86-%D8%A8%D9%85%D8%AF%D9%8A%D9%86%D8%A9-%D8%A8%D8%AF%D8%B1-ID201480037.html, Status Code: 404\n"
          ]
        },
        {
          "metadata": {
            "tags": null
          },
          "name": "stderr",
          "output_type": "stream",
          "text": [
            "Apartments Products:  29%|██▊       | 287/1000 [00:43<01:15,  9.43Apartment/s]"
          ]
        },
        {
          "metadata": {
            "tags": null
          },
          "name": "stdout",
          "output_type": "stream",
          "text": [
            "Failed to fetch https://www.dubizzle.com.eg/en/ad/%D8%B4%D9%82%D9%87-%D9%84%D9%84%D8%A8%D9%8A%D8%B9-%D9%81%D9%8A-%D8%B3%D9%8A%D8%AF%D9%8A-%D8%A8%D8%B4%D8%B1-%D8%A8%D8%AD%D8%B1%D9%8A-%D8%B4%D8%A7%D8%B1%D8%B9-%D8%AE%D9%8A%D8%B1%D8%AA-%D8%A7%D9%84%D8%BA%D9%86%D8%AF%D9%88%D8%B1-%D9%82%D8%B1%D9%8A%D8%A8%D9%87-%D9%85%D9%86-%D8%A7%D9%84%D8%B9%D8%B3%D9%8A%D9%88%D9%8A-ID202338499.html, Status Code: 404\n"
          ]
        },
        {
          "metadata": {
            "tags": null
          },
          "name": "stderr",
          "output_type": "stream",
          "text": [
            "Apartments Products:  45%|████▌     | 451/1000 [01:07<00:56,  9.69Apartment/s]"
          ]
        },
        {
          "metadata": {
            "tags": null
          },
          "name": "stdout",
          "output_type": "stream",
          "text": [
            "Failed to fetch https://www.dubizzle.com.eg/en/ad/%D8%B4%D9%82%D9%87-%D9%84%D9%84%D8%A8%D9%8A%D8%B9-%D9%81%D9%8A-%D8%B3%D9%8A%D8%AF%D9%8A-%D8%A8%D8%B4%D8%B1-%D8%A8%D8%AD%D8%B1%D9%8A-%D8%B4%D8%A7%D8%B1%D8%B9-%D8%AE%D9%8A%D8%B1%D8%AA-%D8%A7%D9%84%D8%BA%D9%86%D8%AF%D9%88%D8%B1-%D9%82%D8%B1%D9%8A%D8%A8%D9%87-%D9%85%D9%86-%D8%A7%D9%84%D8%B9%D8%B3%D9%8A%D9%88%D9%8A-ID202338499.html, Status Code: 404\n"
          ]
        },
        {
          "metadata": {
            "tags": null
          },
          "name": "stderr",
          "output_type": "stream",
          "text": [
            "Apartments Products:  66%|██████▋   | 665/1000 [01:38<00:48,  6.90Apartment/s]"
          ]
        },
        {
          "metadata": {
            "tags": null
          },
          "name": "stdout",
          "output_type": "stream",
          "text": [
            "Failed to fetch https://www.dubizzle.com.eg/en/ad/the-last-apartment-for-sale-directly-in-front-of-cairo-international-airport-with-a-cash-discount-a-very-special-landscape-view-in-taj-city-fifth-ID500981611.html, Status Code: 404\n"
          ]
        },
        {
          "metadata": {
            "tags": null
          },
          "name": "stderr",
          "output_type": "stream",
          "text": [
            "Apartments Products:  84%|████████▍ | 840/1000 [02:03<00:24,  6.43Apartment/s]"
          ]
        },
        {
          "metadata": {
            "tags": null
          },
          "name": "stdout",
          "output_type": "stream",
          "text": [
            "Failed to fetch https://www.dubizzle.com.eg/en/ad/the-last-apartment-for-sale-directly-in-front-of-cairo-international-airport-with-a-cash-discount-a-very-special-landscape-view-in-taj-city-fifth-ID500981611.html, Status Code: 404\n"
          ]
        },
        {
          "metadata": {
            "tags": null
          },
          "name": "stderr",
          "output_type": "stream",
          "text": [
            "Apartments Products: 100%|██████████| 1000/1000 [05:01<00:00,  3.32Apartment/s]"
          ]
        },
        {
          "metadata": {
            "tags": null
          },
          "name": "stdout",
          "output_type": "stream",
          "text": [
            "Error fetching https://www.dubizzle.com.eg/en/ad/furnished-resale-duplex-ready-to-move-at-less-than-the-company-price-in-trio-gardens-new-cairo-ID500686145.html: \n",
            "Error fetching https://www.dubizzle.com.eg/en/ad/apartment-165m-ready-to-move-for-sale-under-market-price-in-mountain-view-icity-ID500984273.html: \n",
            "Error fetching https://www.dubizzle.com.eg/en/ad/for-sale-80-sqm-apartment-with-installments-prime-view-old-booking-special-offer-in-b14-ID500986879.html: \n",
            "Error fetching https://www.dubizzle.com.eg/en/ad/penthouse-ready-to-move-in-sarai-214m-4-bedrooms-mostakbal-city-ID500953298.html: \n",
            "Error fetching https://www.dubizzle.com.eg/en/ad/%D8%B3%D8%AA%D9%88%D8%AF%D9%8A%D9%88-%D8%B1%D9%8A%D8%B3%D9%8A%D9%84-%D9%81%D9%8A-%D8%AA%D8%A7%D8%AC-%D8%B3%D9%8A%D8%AA%D9%8A-%D8%A7%D9%88%D8%B1%D9%8A%D8%AC%D8%A7%D9%85%D9%8A-58%D9%85-%D9%85%D9%82%D8%AF%D9%85-800000%D8%AC-%D9%88%D8%A7%D9%84%D8%A8%D8%A7%D9%82%D9%8A-%D8%AA%D9%82%D8%B3%D9%8A%D8%B7-ID202485278.html: \n"
          ]
        },
        {
          "metadata": {
            "tags": null
          },
          "name": "stderr",
          "output_type": "stream",
          "text": [
            "\n"
          ]
        },
        {
          "metadata": {
            "tags": null
          },
          "name": "stdout",
          "output_type": "stream",
          "text": [
            "Batch 26 saved!\n",
            "Processing batch 27 / 268\n"
          ]
        },
        {
          "metadata": {
            "tags": null
          },
          "name": "stderr",
          "output_type": "stream",
          "text": [
            "Apartments Products:   0%|          | 5/1000 [00:01<03:57,  4.19Apartment/s]"
          ]
        },
        {
          "metadata": {
            "tags": null
          },
          "name": "stdout",
          "output_type": "stream",
          "text": [
            "Failed to fetch https://www.dubizzle.com.eg/en/ad/%D8%A7%D8%B3%D8%AA%D9%84%D9%85-%D8%B4%D8%A7%D9%84%D9%8A%D9%87-%D9%81%D9%8A%D9%84%D8%A7-%D9%85%D8%AA%D8%B4%D8%B7%D8%A8-%D8%B5%D9%81-%D8%A7%D9%88%D9%84-%D9%84%D8%A7%D8%AC%D9%88%D9%86%D8%B2-%D9%88%D8%A7%D8%A8%D8%B1%D8%A7%D8%AC-%D8%A7%D9%84%D8%B9%D8%A7%D9%84%D9%85%D9%8A%D9%86-%D9%81-%D9%85%D8%A7%D8%B2%D8%B1%D9%8A%D9%86-%D9%88%D9%82%D8%B3%D8%B7-%D8%B9-7-%D8%B3%D9%86%D9%8A%D9%86-receive-chalet-villa-finished-first-row-lagoons-and-alamein-towers-in-ma-ID500864360.html, Status Code: 404\n"
          ]
        },
        {
          "metadata": {
            "tags": null
          },
          "name": "stderr",
          "output_type": "stream",
          "text": [
            "Apartments Products:  28%|██▊       | 282/1000 [00:42<01:11, 10.00Apartment/s]"
          ]
        },
        {
          "metadata": {
            "tags": null
          },
          "name": "stdout",
          "output_type": "stream",
          "text": [
            "Failed to fetch https://www.dubizzle.com.eg/en/ad/%D8%B4%D9%82%D9%87-%D9%A1%D9%A5%D9%A5-%D9%85%D8%AA%D8%B1-%D9%84%D9%84%D8%A8%D9%8A%D8%B9-%D8%B4%D8%A7%D8%B1%D8%B9-%D8%B9%D9%85%D8%B1-%D8%A8%D9%86-%D8%B9%D8%A8%D8%AF-%D8%A7%D9%84%D8%B9%D8%B2%D9%8A%D8%B2-ID202222350.html, Status Code: 404\n"
          ]
        },
        {
          "metadata": {
            "tags": null
          },
          "name": "stderr",
          "output_type": "stream",
          "text": [
            "Apartments Products:  72%|███████▏  | 723/1000 [01:46<00:30,  9.12Apartment/s]"
          ]
        },
        {
          "metadata": {
            "tags": null
          },
          "name": "stdout",
          "output_type": "stream",
          "text": [
            "Failed to fetch https://www.dubizzle.com.eg/en/ad/the-last-apartment-for-sale-directly-in-front-of-cairo-international-airport-with-a-cash-discount-a-very-special-landscape-view-in-taj-city-fifth-ID500981611.html, Status Code: 404\n"
          ]
        },
        {
          "metadata": {
            "tags": null
          },
          "name": "stderr",
          "output_type": "stream",
          "text": [
            "Apartments Products: 100%|██████████| 1000/1000 [05:00<00:00,  3.33Apartment/s]"
          ]
        },
        {
          "metadata": {
            "tags": null
          },
          "name": "stdout",
          "output_type": "stream",
          "text": [
            "Error fetching https://www.dubizzle.com.eg/en/ad/apartment-100m-with-garden-50m-prime-location-ID500770036.html: \n",
            "Error fetching https://www.dubizzle.com.eg/en/ad/for-sale-apartment-200m-prime-location-with-down-payment-and-installments-view-landscape-in-hyde-park-compound-ID500963644.html: \n"
          ]
        },
        {
          "metadata": {
            "tags": null
          },
          "name": "stderr",
          "output_type": "stream",
          "text": [
            "\n"
          ]
        },
        {
          "metadata": {
            "tags": null
          },
          "name": "stdout",
          "output_type": "stream",
          "text": [
            "Batch 27 saved!\n",
            "Processing batch 28 / 268\n"
          ]
        },
        {
          "metadata": {
            "tags": null
          },
          "name": "stderr",
          "output_type": "stream",
          "text": [
            "Apartments Products:   0%|          | 3/1000 [00:02<10:27,  1.59Apartment/s]"
          ]
        },
        {
          "metadata": {
            "tags": null
          },
          "name": "stdout",
          "output_type": "stream",
          "text": [
            "Failed to fetch https://www.dubizzle.com.eg/en/ad/the-last-apartment-for-sale-directly-in-front-of-cairo-international-airport-with-a-cash-discount-a-very-special-landscape-view-in-taj-city-fifth-ID500981611.html, Status Code: 404\n"
          ]
        },
        {
          "metadata": {
            "tags": null
          },
          "name": "stderr",
          "output_type": "stream",
          "text": [
            "Apartments Products:   3%|▎         | 26/1000 [00:06<01:51,  8.72Apartment/s]"
          ]
        },
        {
          "metadata": {
            "tags": null
          },
          "name": "stdout",
          "output_type": "stream",
          "text": [
            "Failed to fetch https://www.dubizzle.com.eg/en/ad/%D8%B4%D9%82%D8%A9-%D9%85%D9%86-%D8%A7%D9%84%D9%85%D8%A7%D9%84%D9%83-%D8%A8%D8%AF%D9%88%D9%86-%D8%B9%D9%85%D9%88%D9%84%D9%87-%D9%84%D9%84%D8%A8%D9%8A%D8%B9-%D9%A3-%D8%BA%D8%B1%D9%81-%D9%88%D8%AD%D9%85%D8%A7%D9%85%D9%8A%D9%86-%D8%A8%D9%85%D8%AF%D9%8A%D9%86%D8%A9-%D8%A8%D8%AF%D8%B1-ID201480037.html, Status Code: 404\n"
          ]
        },
        {
          "metadata": {
            "tags": null
          },
          "name": "stderr",
          "output_type": "stream",
          "text": [
            "Apartments Products:  80%|████████  | 804/1000 [02:00<00:53,  3.64Apartment/s]"
          ]
        },
        {
          "metadata": {
            "tags": null
          },
          "name": "stdout",
          "output_type": "stream",
          "text": [
            "Failed to fetch https://www.dubizzle.com.eg/en/ad/the-last-apartment-for-sale-directly-in-front-of-cairo-international-airport-with-a-cash-discount-a-very-special-landscape-view-in-taj-city-fifth-ID500981611.html, Status Code: 404\n"
          ]
        },
        {
          "metadata": {
            "tags": null
          },
          "name": "stderr",
          "output_type": "stream",
          "text": [
            "Apartments Products: 100%|██████████| 1000/1000 [05:00<00:00,  3.33Apartment/s]"
          ]
        },
        {
          "metadata": {
            "tags": null
          },
          "name": "stdout",
          "output_type": "stream",
          "text": [
            "Error fetching https://www.dubizzle.com.eg/en/ad/%D8%B4%D9%82%D8%A9-3-%D8%BA%D8%B1%D9%81-%D8%A8%D8%AC%D9%88%D8%A7%D8%B1-%D9%86%D9%8A%D9%88-%D8%AC%D9%8A%D8%B2%D8%A9-%D8%AA%D9%82%D8%B3%D9%8A%D8%B7-%D8%B9%D9%84%D9%8A-10-%D8%B3%D9%86%D9%8A%D9%86-%D9%86%D8%B5%D9%81-%D8%AA%D8%B4%D8%B7%D9%8A%D8%A8-%D8%A8%D8%A7%D9%84%D8%AA%D9%88%D8%B3%D8%B9%D8%A7%D8%AA-%D8%A7%D9%84%D8%B4%D8%B1%D9%82%D9%8A%D8%A9-%D8%A7%D9%84%D8%B4%D9%8A%D8%AE-%D8%B2%D8%A7%D9%8A%D8%AF-leaves-sheikh-zayed-ID500915576.html: \n"
          ]
        },
        {
          "metadata": {
            "tags": null
          },
          "name": "stderr",
          "output_type": "stream",
          "text": [
            "\n"
          ]
        },
        {
          "metadata": {
            "tags": null
          },
          "name": "stdout",
          "output_type": "stream",
          "text": [
            "Batch 28 saved!\n",
            "Processing batch 29 / 268\n"
          ]
        },
        {
          "metadata": {
            "tags": null
          },
          "name": "stderr",
          "output_type": "stream",
          "text": [
            "Apartments Products:   2%|▏         | 20/1000 [00:05<02:17,  7.11Apartment/s]"
          ]
        },
        {
          "metadata": {
            "tags": null
          },
          "name": "stdout",
          "output_type": "stream",
          "text": [
            "Failed to fetch https://www.dubizzle.com.eg/en/ad/%D8%A7%D8%B3%D8%AA%D9%84%D9%85-%D8%B4%D8%A7%D9%84%D9%8A%D9%87-%D9%81%D9%8A%D9%84%D8%A7-%D9%85%D8%AA%D8%B4%D8%B7%D8%A8-%D8%B5%D9%81-%D8%A7%D9%88%D9%84-%D9%84%D8%A7%D8%AC%D9%88%D9%86%D8%B2-%D9%88%D8%A7%D8%A8%D8%B1%D8%A7%D8%AC-%D8%A7%D9%84%D8%B9%D8%A7%D9%84%D9%85%D9%8A%D9%86-%D9%81-%D9%85%D8%A7%D8%B2%D8%B1%D9%8A%D9%86-%D9%88%D9%82%D8%B3%D8%B7-%D8%B9-7-%D8%B3%D9%86%D9%8A%D9%86-receive-chalet-villa-finished-first-row-lagoons-and-alamein-towers-in-ma-ID500864360.html, Status Code: 404\n"
          ]
        },
        {
          "metadata": {
            "tags": null
          },
          "name": "stderr",
          "output_type": "stream",
          "text": [
            "Apartments Products:  23%|██▎       | 227/1000 [00:35<02:50,  4.53Apartment/s]"
          ]
        },
        {
          "metadata": {
            "tags": null
          },
          "name": "stdout",
          "output_type": "stream",
          "text": [
            "Failed to fetch https://www.dubizzle.com.eg/en/ad/the-last-apartment-for-sale-directly-in-front-of-cairo-international-airport-with-a-cash-discount-a-very-special-landscape-view-in-taj-city-fifth-ID500981611.html, Status Code: 404\n"
          ]
        },
        {
          "metadata": {
            "tags": null
          },
          "name": "stderr",
          "output_type": "stream",
          "text": [
            "Apartments Products:  34%|███▎      | 335/1000 [00:51<02:01,  5.47Apartment/s]"
          ]
        },
        {
          "metadata": {
            "tags": null
          },
          "name": "stdout",
          "output_type": "stream",
          "text": [
            "Failed to fetch https://www.dubizzle.com.eg/en/ad/%D8%A7%D8%B3%D8%AA%D9%84%D9%85-%D8%B4%D8%A7%D9%84%D9%8A%D9%87-%D9%81%D9%8A%D9%84%D8%A7-%D9%85%D8%AA%D8%B4%D8%B7%D8%A8-%D8%B5%D9%81-%D8%A7%D9%88%D9%84-%D9%84%D8%A7%D8%AC%D9%88%D9%86%D8%B2-%D9%88%D8%A7%D8%A8%D8%B1%D8%A7%D8%AC-%D8%A7%D9%84%D8%B9%D8%A7%D9%84%D9%85%D9%8A%D9%86-%D9%81-%D9%85%D8%A7%D8%B2%D8%B1%D9%8A%D9%86-%D9%88%D9%82%D8%B3%D8%B7-%D8%B9-7-%D8%B3%D9%86%D9%8A%D9%86-receive-chalet-villa-finished-first-row-lagoons-and-alamein-towers-in-ma-ID500864360.html, Status Code: 404\n"
          ]
        },
        {
          "metadata": {
            "tags": null
          },
          "name": "stderr",
          "output_type": "stream",
          "text": [
            "Apartments Products:  52%|█████▎    | 525/1000 [01:19<01:36,  4.94Apartment/s]"
          ]
        },
        {
          "metadata": {
            "tags": null
          },
          "name": "stdout",
          "output_type": "stream",
          "text": [
            "Failed to fetch https://www.dubizzle.com.eg/en/ad/the-last-apartment-for-sale-directly-in-front-of-cairo-international-airport-with-a-cash-discount-a-very-special-landscape-view-in-taj-city-fifth-ID500981611.html, Status Code: 404\n"
          ]
        },
        {
          "metadata": {
            "tags": null
          },
          "name": "stderr",
          "output_type": "stream",
          "text": [
            "Apartments Products:  71%|███████   | 710/1000 [01:45<00:31,  9.28Apartment/s]"
          ]
        },
        {
          "metadata": {
            "tags": null
          },
          "name": "stdout",
          "output_type": "stream",
          "text": [
            "Failed to fetch https://www.dubizzle.com.eg/en/ad/i-villa-roof-240m-direct-lagoon-for-sale-in-mountain-view-i-city-new-cairo-%D9%85%D8%A7%D9%88%D9%86%D8%AA%D9%86-%D9%81%D9%8A%D9%88-%D8%A7%D9%8A-%D8%B3%D9%8A%D8%AA%D9%8A-%D8%A7%D9%84%D8%AA%D8%AC%D9%85%D8%B9-%D8%A7%D9%84%D8%AE%D8%A7%D9%85%D8%B3-ID500984404.html, Status Code: 404\n"
          ]
        },
        {
          "metadata": {
            "tags": null
          },
          "name": "stderr",
          "output_type": "stream",
          "text": [
            "Apartments Products:  90%|████████▉ | 897/1000 [02:13<00:18,  5.53Apartment/s]"
          ]
        },
        {
          "metadata": {
            "tags": null
          },
          "name": "stdout",
          "output_type": "stream",
          "text": [
            "Failed to fetch https://www.dubizzle.com.eg/en/ad/i-villa-roof-240m-direct-lagoon-for-sale-in-mountain-view-i-city-new-cairo-%D9%85%D8%A7%D9%88%D9%86%D8%AA%D9%86-%D9%81%D9%8A%D9%88-%D8%A7%D9%8A-%D8%B3%D9%8A%D8%AA%D9%8A-%D8%A7%D9%84%D8%AA%D8%AC%D9%85%D8%B9-%D8%A7%D9%84%D8%AE%D8%A7%D9%85%D8%B3-ID500984404.html, Status Code: 404\n"
          ]
        },
        {
          "metadata": {
            "tags": null
          },
          "name": "stderr",
          "output_type": "stream",
          "text": [
            "Apartments Products: 100%|██████████| 1000/1000 [05:01<00:00,  3.32Apartment/s]"
          ]
        },
        {
          "metadata": {
            "tags": null
          },
          "name": "stdout",
          "output_type": "stream",
          "text": [
            "Error fetching https://www.dubizzle.com.eg/en/ad/125%D9%85-%D9%83%D9%85%D8%A8%D8%A7%D9%88%D9%86%D8%AF-%D8%A7%D8%A8%D9%87%D9%89-%D8%AD%D9%8A%D8%A7%D9%87-%D8%AA%D9%82%D8%B3%D9%8A%D8%B7-%D8%A7%D8%B1%D8%A8%D8%B9-%D8%B3%D9%86%D9%88%D8%A7%D8%A7%D8%A7%D8%AA-ID500695648.html: \n",
            "Error fetching https://www.dubizzle.com.eg/en/ad/fully-finished-apartment-near-the-american-university-with-installments-over-10-years-and-delivery-soon-ready-for-inspection-in-bloomfields-compound-ID500991367.html: \n",
            "Error fetching https://www.dubizzle.com.eg/en/ad/%D8%B4%D9%82%D8%A9-%D9%84%D9%84%D8%A8%D9%8A%D8%B9-150%D9%85-%D9%85%D8%AA%D8%B4%D8%B7%D8%A8%D8%A9-%D9%81%D9%8A%D9%88-%D8%B1%D8%A7%D8%A6%D8%B9-%D8%A8%D8%A7%D9%84%D8%AD%D9%89-%D8%A7%D9%84%D8%A7%D9%88%D9%84-%D8%A7%D9%84%D9%87%D8%B6%D8%A8%D8%A9-%D8%A7%D9%84%D9%88%D8%B3%D8%B7%D9%89-%D8%A7%D9%84%D9%85%D9%82%D8%B7%D9%85-ID201866056.html: \n",
            "Error fetching https://www.dubizzle.com.eg/en/ad/apartment-for-sale-two-rooms-with-a-10-down-payment-and-10-year-installments-without-payments-with-a-distinctive-view-next-to-the-kempinski-hotel-ID500965829.html: \n"
          ]
        },
        {
          "metadata": {
            "tags": null
          },
          "name": "stderr",
          "output_type": "stream",
          "text": [
            "\n"
          ]
        },
        {
          "metadata": {
            "tags": null
          },
          "name": "stdout",
          "output_type": "stream",
          "text": [
            "Batch 29 saved!\n",
            "Processing batch 30 / 268\n"
          ]
        },
        {
          "metadata": {
            "tags": null
          },
          "name": "stderr",
          "output_type": "stream",
          "text": [
            "Apartments Products:  62%|██████▏   | 619/1000 [01:32<00:40,  9.32Apartment/s]"
          ]
        },
        {
          "metadata": {
            "tags": null
          },
          "name": "stdout",
          "output_type": "stream",
          "text": [
            "Failed to fetch https://www.dubizzle.com.eg/en/ad/i-villa-roof-240m-direct-lagoon-for-sale-in-mountain-view-i-city-new-cairo-%D9%85%D8%A7%D9%88%D9%86%D8%AA%D9%86-%D9%81%D9%8A%D9%88-%D8%A7%D9%8A-%D8%B3%D9%8A%D8%AA%D9%8A-%D8%A7%D9%84%D8%AA%D8%AC%D9%85%D8%B9-%D8%A7%D9%84%D8%AE%D8%A7%D9%85%D8%B3-ID500984404.html, Status Code: 404\n"
          ]
        },
        {
          "metadata": {
            "tags": null
          },
          "name": "stderr",
          "output_type": "stream",
          "text": [
            "Apartments Products:  72%|███████▏  | 716/1000 [01:48<01:18,  3.60Apartment/s]"
          ]
        },
        {
          "metadata": {
            "tags": null
          },
          "name": "stdout",
          "output_type": "stream",
          "text": [
            "Failed to fetch https://www.dubizzle.com.eg/en/ad/apartment-for-sale-in-the-settlement-on-the-landscape-in-the-taj-city-compound-directly-in-front-of-the-airport-ID500669205.html, Status Code: 404\n"
          ]
        },
        {
          "metadata": {
            "tags": null
          },
          "name": "stderr",
          "output_type": "stream",
          "text": [
            "Apartments Products:  81%|████████  | 810/1000 [02:00<00:17, 10.66Apartment/s]"
          ]
        },
        {
          "metadata": {
            "tags": null
          },
          "name": "stdout",
          "output_type": "stream",
          "text": [
            "Failed to fetch https://www.dubizzle.com.eg/en/ad/apartment-for-sale-in-the-settlement-on-the-landscape-in-the-taj-city-compound-directly-in-front-of-the-airport-ID500669205.html, Status Code: 404\n"
          ]
        },
        {
          "metadata": {
            "tags": null
          },
          "name": "stderr",
          "output_type": "stream",
          "text": [
            "Apartments Products: 100%|██████████| 1000/1000 [05:00<00:00,  3.33Apartment/s]"
          ]
        },
        {
          "metadata": {
            "tags": null
          },
          "name": "stdout",
          "output_type": "stream",
          "text": [
            "Error fetching https://www.dubizzle.com.eg/en/ad/%D9%84%D9%84%D8%A8%D9%8A%D8%B9-%D8%B4%D9%82%D8%A9-160%D9%85-%D9%84%D9%82%D8%B7%D8%A9-%D9%81%D9%89-%D8%A7%D8%B1%D9%82%D9%89-%D9%83%D9%85%D8%A8%D9%88%D9%86%D8%AF-%D8%A8%D9%82%D9%84%D8%A8-%D9%85%D8%AF%D9%8A%D9%86%D8%A9-%D8%A7%D9%84%D8%B4%D9%8A%D8%AE-%D8%B2%D8%A7%D9%8A%D8%AF-for-sale-apartment-160m-in-the-finest-compound-in-the-old-sheikh-zayed-city-ID500962949.html: \n",
            "Error fetching https://www.dubizzle.com.eg/en/ad/%D8%B4%D9%82%D8%A9-%D9%84%D9%84%D8%A8%D9%8A%D8%B9-%D9%81%D9%8A-%D8%A8%D8%AF%D8%B1-145%D9%85-%D9%85%D9%82%D8%AF%D9%85-532000-%D8%A8%D8%A7%D9%84%D8%AA%D9%82%D8%B3%D9%8A%D8%B7-%D8%AF%D9%88%D9%86-%D9%81%D9%88%D8%A7%D8%A6%D8%AF-ID202272985.html: \n"
          ]
        },
        {
          "metadata": {
            "tags": null
          },
          "name": "stderr",
          "output_type": "stream",
          "text": [
            "\n"
          ]
        },
        {
          "metadata": {
            "tags": null
          },
          "name": "stdout",
          "output_type": "stream",
          "text": [
            "Batch 30 saved!\n",
            "Processing batch 31 / 268\n"
          ]
        },
        {
          "metadata": {
            "tags": null
          },
          "name": "stderr",
          "output_type": "stream",
          "text": [
            "Apartments Products:  34%|███▍      | 342/1000 [00:52<01:08,  9.58Apartment/s]"
          ]
        },
        {
          "metadata": {
            "tags": null
          },
          "name": "stdout",
          "output_type": "stream",
          "text": [
            "Failed to fetch https://www.dubizzle.com.eg/en/ad/%D8%A7%D8%B3%D8%AA%D9%84%D9%85-%D8%B4%D8%A7%D9%84%D9%8A%D9%87-%D9%81%D9%8A%D9%84%D8%A7-%D9%85%D8%AA%D8%B4%D8%B7%D8%A8-%D8%B5%D9%81-%D8%A7%D9%88%D9%84-%D9%84%D8%A7%D8%AC%D9%88%D9%86%D8%B2-%D9%88%D8%A7%D8%A8%D8%B1%D8%A7%D8%AC-%D8%A7%D9%84%D8%B9%D8%A7%D9%84%D9%85%D9%8A%D9%86-%D9%81-%D9%85%D8%A7%D8%B2%D8%B1%D9%8A%D9%86-%D9%88%D9%82%D8%B3%D8%B7-%D8%B9-7-%D8%B3%D9%86%D9%8A%D9%86-receive-chalet-villa-finished-first-row-lagoons-and-alamein-towers-in-ma-ID500864360.html, Status Code: 404\n"
          ]
        },
        {
          "metadata": {
            "tags": null
          },
          "name": "stderr",
          "output_type": "stream",
          "text": [
            "Apartments Products:  37%|███▋      | 368/1000 [00:55<01:32,  6.80Apartment/s]"
          ]
        },
        {
          "metadata": {
            "tags": null
          },
          "name": "stdout",
          "output_type": "stream",
          "text": [
            "Failed to fetch https://www.dubizzle.com.eg/en/ad/%D8%B4%D9%82%D9%87-%D9%A1%D9%A5%D9%A5-%D9%85%D8%AA%D8%B1-%D9%84%D9%84%D8%A8%D9%8A%D8%B9-%D8%B4%D8%A7%D8%B1%D8%B9-%D8%B9%D9%85%D8%B1-%D8%A8%D9%86-%D8%B9%D8%A8%D8%AF-%D8%A7%D9%84%D8%B9%D8%B2%D9%8A%D8%B2-ID202222350.html, Status Code: 404\n"
          ]
        },
        {
          "metadata": {
            "tags": null
          },
          "name": "stderr",
          "output_type": "stream",
          "text": [
            "Apartments Products:  44%|████▍     | 438/1000 [01:06<01:19,  7.08Apartment/s]"
          ]
        },
        {
          "metadata": {
            "tags": null
          },
          "name": "stdout",
          "output_type": "stream",
          "text": [
            "Failed to fetch https://www.dubizzle.com.eg/en/ad/%D8%B4%D9%82%D9%87-%D9%84%D9%84%D8%A8%D9%8A%D8%B9-%D9%81%D9%8A-%D8%B3%D9%8A%D8%AF%D9%8A-%D8%A8%D8%B4%D8%B1-%D8%A8%D8%AD%D8%B1%D9%8A-%D8%B4%D8%A7%D8%B1%D8%B9-%D8%AE%D9%8A%D8%B1%D8%AA-%D8%A7%D9%84%D8%BA%D9%86%D8%AF%D9%88%D8%B1-%D9%82%D8%B1%D9%8A%D8%A8%D9%87-%D9%85%D9%86-%D8%A7%D9%84%D8%B9%D8%B3%D9%8A%D9%88%D9%8A-ID202338499.html, Status Code: 404\n"
          ]
        },
        {
          "metadata": {
            "tags": null
          },
          "name": "stderr",
          "output_type": "stream",
          "text": [
            "Apartments Products:  65%|██████▍   | 648/1000 [01:36<00:36,  9.72Apartment/s]"
          ]
        },
        {
          "metadata": {
            "tags": null
          },
          "name": "stdout",
          "output_type": "stream",
          "text": [
            "Failed to fetch https://www.dubizzle.com.eg/en/ad/apartment-for-sale-in-the-settlement-on-the-landscape-in-the-taj-city-compound-directly-in-front-of-the-airport-ID500669205.html, Status Code: 404\n"
          ]
        },
        {
          "metadata": {
            "tags": null
          },
          "name": "stderr",
          "output_type": "stream",
          "text": [
            "Apartments Products:  88%|████████▊ | 885/1000 [02:10<00:14,  7.74Apartment/s]"
          ]
        },
        {
          "metadata": {
            "tags": null
          },
          "name": "stdout",
          "output_type": "stream",
          "text": [
            "Failed to fetch https://www.dubizzle.com.eg/en/ad/%D8%A7%D8%B3%D8%AA%D9%84%D9%85-%D8%B4%D8%A7%D9%84%D9%8A%D9%87-%D9%81%D9%8A%D9%84%D8%A7-%D9%85%D8%AA%D8%B4%D8%B7%D8%A8-%D8%B5%D9%81-%D8%A7%D9%88%D9%84-%D9%84%D8%A7%D8%AC%D9%88%D9%86%D8%B2-%D9%88%D8%A7%D8%A8%D8%B1%D8%A7%D8%AC-%D8%A7%D9%84%D8%B9%D8%A7%D9%84%D9%85%D9%8A%D9%86-%D9%81-%D9%85%D8%A7%D8%B2%D8%B1%D9%8A%D9%86-%D9%88%D9%82%D8%B3%D8%B7-%D8%B9-7-%D8%B3%D9%86%D9%8A%D9%86-receive-chalet-villa-finished-first-row-lagoons-and-alamein-towers-in-ma-ID500864360.html, Status Code: 404\n"
          ]
        },
        {
          "metadata": {
            "tags": null
          },
          "name": "stderr",
          "output_type": "stream",
          "text": [
            "Apartments Products:  91%|█████████ | 906/1000 [02:15<00:18,  5.06Apartment/s]"
          ]
        },
        {
          "metadata": {
            "tags": null
          },
          "name": "stdout",
          "output_type": "stream",
          "text": [
            "Failed to fetch https://www.dubizzle.com.eg/en/ad/i-villa-roof-240m-direct-lagoon-for-sale-in-mountain-view-i-city-new-cairo-%D9%85%D8%A7%D9%88%D9%86%D8%AA%D9%86-%D9%81%D9%8A%D9%88-%D8%A7%D9%8A-%D8%B3%D9%8A%D8%AA%D9%8A-%D8%A7%D9%84%D8%AA%D8%AC%D9%85%D8%B9-%D8%A7%D9%84%D8%AE%D8%A7%D9%85%D8%B3-ID500984404.html, Status Code: 404\n"
          ]
        },
        {
          "metadata": {
            "tags": null
          },
          "name": "stderr",
          "output_type": "stream",
          "text": [
            "Apartments Products: 100%|██████████| 1000/1000 [05:00<00:00,  3.33Apartment/s]"
          ]
        },
        {
          "metadata": {
            "tags": null
          },
          "name": "stdout",
          "output_type": "stream",
          "text": [
            "Error fetching https://www.dubizzle.com.eg/en/ad/for-sale-apartment-open-view-hot-price-in-telal-east-new-cairo-ID500971074.html: \n",
            "Error fetching https://www.dubizzle.com.eg/en/ad/apartment-for-sale-fully-finished-immediate-receipt-with-0-down-payment-in-al-burouj-compound-view-landscape-ID500957686.html: \n",
            "Error fetching https://www.dubizzle.com.eg/en/ad/apartment-for-sale-fully-finished-in-bloomfields-compound-next-to-madinaty-minutes-from-golden-square-ID500967099.html: \n",
            "Error fetching https://www.dubizzle.com.eg/en/ad/%D8%B4%D9%82%D9%87-%D9%84%D9%84%D8%A8%D9%8A%D8%B9-%D9%81%D9%8A-%D8%A7%D9%84%D8%AD%D9%8A-%D8%A7%D9%84%D9%85%D8%AA%D9%85%D9%8A%D8%B2-%D8%A8%D9%85%D8%AF%D9%8A%D9%86%D8%A9-%D8%A8%D8%AF%D8%B1-%D8%A8%D8%A3%D9%82%D9%84-%D9%85%D9%82%D8%AF%D9%85-%D9%88%D8%A7%D8%B7%D9%88%D9%84-%D9%81%D8%AA%D8%B1%D8%A9-%D8%B3%D8%AF%D8%A7%D8%AF-ID202484301.html: \n"
          ]
        },
        {
          "metadata": {
            "tags": null
          },
          "name": "stderr",
          "output_type": "stream",
          "text": [
            "\n"
          ]
        },
        {
          "metadata": {
            "tags": null
          },
          "name": "stdout",
          "output_type": "stream",
          "text": [
            "Batch 31 saved!\n",
            "Processing batch 32 / 268\n"
          ]
        },
        {
          "metadata": {
            "tags": null
          },
          "name": "stderr",
          "output_type": "stream",
          "text": [
            "Apartments Products:  15%|█▌        | 151/1000 [00:24<02:10,  6.51Apartment/s]"
          ]
        },
        {
          "metadata": {
            "tags": null
          },
          "name": "stdout",
          "output_type": "stream",
          "text": [
            "Failed to fetch https://www.dubizzle.com.eg/en/ad/i-villa-roof-240m-direct-lagoon-for-sale-in-mountain-view-i-city-new-cairo-%D9%85%D8%A7%D9%88%D9%86%D8%AA%D9%86-%D9%81%D9%8A%D9%88-%D8%A7%D9%8A-%D8%B3%D9%8A%D8%AA%D9%8A-%D8%A7%D9%84%D8%AA%D8%AC%D9%85%D8%B9-%D8%A7%D9%84%D8%AE%D8%A7%D9%85%D8%B3-ID500984404.html, Status Code: 404\n"
          ]
        },
        {
          "metadata": {
            "tags": null
          },
          "name": "stderr",
          "output_type": "stream",
          "text": [
            "Apartments Products:  36%|███▌      | 362/1000 [00:55<01:07,  9.40Apartment/s]"
          ]
        },
        {
          "metadata": {
            "tags": null
          },
          "name": "stdout",
          "output_type": "stream",
          "text": [
            "Failed to fetch https://www.dubizzle.com.eg/en/ad/apartment-for-sale-in-the-settlement-on-the-landscape-in-the-taj-city-compound-directly-in-front-of-the-airport-ID500669205.html, Status Code: 404\n"
          ]
        },
        {
          "metadata": {
            "tags": null
          },
          "name": "stderr",
          "output_type": "stream",
          "text": [
            "Apartments Products: 100%|██████████| 1000/1000 [05:00<00:00,  3.33Apartment/s]"
          ]
        },
        {
          "metadata": {
            "tags": null
          },
          "name": "stdout",
          "output_type": "stream",
          "text": [
            "Error fetching https://www.dubizzle.com.eg/en/ad/amazing-apartment-for-sale-ready-to-move-with-best-price-in-palm-hills-new-cairo-ID500982460.html: \n",
            "Error fetching https://www.dubizzle.com.eg/en/ad/apartment-for-sale-next-to-city-center-almaza-great-location-in-al-jar-sheraton-ID500968216.html: \n"
          ]
        },
        {
          "metadata": {
            "tags": null
          },
          "name": "stderr",
          "output_type": "stream",
          "text": [
            "\n"
          ]
        },
        {
          "metadata": {
            "tags": null
          },
          "name": "stdout",
          "output_type": "stream",
          "text": [
            "Batch 32 saved!\n",
            "Processing batch 33 / 268\n"
          ]
        },
        {
          "metadata": {
            "tags": null
          },
          "name": "stderr",
          "output_type": "stream",
          "text": [
            "Apartments Products:  10%|▉         | 99/1000 [00:16<02:00,  7.50Apartment/s]"
          ]
        },
        {
          "metadata": {
            "tags": null
          },
          "name": "stdout",
          "output_type": "stream",
          "text": [
            "Failed to fetch https://www.dubizzle.com.eg/en/ad/%D8%A7%D8%B3%D8%AA%D9%84%D9%85-%D8%B4%D8%A7%D9%84%D9%8A%D9%87-%D9%81%D9%8A%D9%84%D8%A7-%D9%85%D8%AA%D8%B4%D8%B7%D8%A8-%D8%B5%D9%81-%D8%A7%D9%88%D9%84-%D9%84%D8%A7%D8%AC%D9%88%D9%86%D8%B2-%D9%88%D8%A7%D8%A8%D8%B1%D8%A7%D8%AC-%D8%A7%D9%84%D8%B9%D8%A7%D9%84%D9%85%D9%8A%D9%86-%D9%81-%D9%85%D8%A7%D8%B2%D8%B1%D9%8A%D9%86-%D9%88%D9%82%D8%B3%D8%B7-%D8%B9-7-%D8%B3%D9%86%D9%8A%D9%86-receive-chalet-villa-finished-first-row-lagoons-and-alamein-towers-in-ma-ID500864360.html, Status Code: 404\n"
          ]
        },
        {
          "metadata": {
            "tags": null
          },
          "name": "stderr",
          "output_type": "stream",
          "text": [
            "Apartments Products:  82%|████████▏ | 815/1000 [02:02<00:23,  7.84Apartment/s]"
          ]
        },
        {
          "metadata": {
            "tags": null
          },
          "name": "stdout",
          "output_type": "stream",
          "text": [
            "Failed to fetch https://www.dubizzle.com.eg/en/ad/%D8%B4%D9%82%D9%87-%D9%A1%D9%A5%D9%A5-%D9%85%D8%AA%D8%B1-%D9%84%D9%84%D8%A8%D9%8A%D8%B9-%D8%B4%D8%A7%D8%B1%D8%B9-%D8%B9%D9%85%D8%B1-%D8%A8%D9%86-%D8%B9%D8%A8%D8%AF-%D8%A7%D9%84%D8%B9%D8%B2%D9%8A%D8%B2-ID202222350.html, Status Code: 404\n"
          ]
        },
        {
          "metadata": {
            "tags": null
          },
          "name": "stderr",
          "output_type": "stream",
          "text": [
            "Apartments Products: 100%|██████████| 1000/1000 [05:01<00:00,  3.32Apartment/s]"
          ]
        },
        {
          "metadata": {
            "tags": null
          },
          "name": "stdout",
          "output_type": "stream",
          "text": [
            "Error fetching https://www.dubizzle.com.eg/en/ad/%D8%A8%D9%85%D9%82%D8%AF%D9%858%D9%81-%D8%A7%D9%84%D8%AA%D8%AC%D9%85%D8%B9-%D8%B4%D9%82%D9%87%D8%A7%D9%84%D9%86%D8%A7%D8%AF%D9%8A-%D9%85%D8%AC%D8%A7%D9%86%D8%A7-%D9%84%D9%84%D8%A8%D9%8A%D8%B9-%D8%A8%D8%A7%D9%84%D8%B3%D8%B9%D8%B1-%D8%A7%D9%84%D9%82%D8%AF%D9%8A%D9%85-%D9%88%D8%A8%D8%A3%D9%82%D9%84-%D9%82%D8%B3%D8%B7-%D8%B4%D9%87%D8%B1%D9%8A-ID200046979.html: \n",
            "Error fetching https://www.dubizzle.com.eg/en/ad/%D8%B4%D9%82%D9%87-%D9%84%D9%82%D8%B7%D9%87-%D9%84%D9%84%D8%A8%D9%8A%D8%B9-%D8%A8%D9%85%D8%AF%D9%8A%D9%86%D8%AA%D9%8A-131%D9%85-%D8%A2%D8%B1%D9%82%D9%8A-%D9%85%D8%B1%D8%A7%D8%AD%D9%84-b15-%D8%A7%D8%B3%D8%AA%D9%84%D8%A7%D9%85-%D9%81%D9%88%D8%B1%D9%8A-%D9%88%D8%A8%D8%A7%D9%82%D9%84-%D8%A7%D9%88%D9%81%D8%B1-ID202480759.html: \n"
          ]
        },
        {
          "metadata": {
            "tags": null
          },
          "name": "stderr",
          "output_type": "stream",
          "text": [
            "\n"
          ]
        },
        {
          "metadata": {
            "tags": null
          },
          "name": "stdout",
          "output_type": "stream",
          "text": [
            "Batch 33 saved!\n",
            "Processing batch 34 / 268\n"
          ]
        },
        {
          "metadata": {
            "tags": null
          },
          "name": "stderr",
          "output_type": "stream",
          "text": [
            "Apartments Products:  33%|███▎      | 326/1000 [00:49<01:45,  6.38Apartment/s]"
          ]
        },
        {
          "metadata": {
            "tags": null
          },
          "name": "stdout",
          "output_type": "stream",
          "text": [
            "Failed to fetch https://www.dubizzle.com.eg/en/ad/i-villa-roof-240m-direct-lagoon-for-sale-in-mountain-view-i-city-new-cairo-%D9%85%D8%A7%D9%88%D9%86%D8%AA%D9%86-%D9%81%D9%8A%D9%88-%D8%A7%D9%8A-%D8%B3%D9%8A%D8%AA%D9%8A-%D8%A7%D9%84%D8%AA%D8%AC%D9%85%D8%B9-%D8%A7%D9%84%D8%AE%D8%A7%D9%85%D8%B3-ID500984404.html, Status Code: 404\n"
          ]
        },
        {
          "metadata": {
            "tags": null
          },
          "name": "stderr",
          "output_type": "stream",
          "text": [
            "Apartments Products:  43%|████▎     | 427/1000 [01:04<01:11,  8.02Apartment/s]"
          ]
        },
        {
          "metadata": {
            "tags": null
          },
          "name": "stdout",
          "output_type": "stream",
          "text": [
            "Failed to fetch https://www.dubizzle.com.eg/en/ad/%D8%B4%D9%82%D9%87-%D9%A1%D9%A5%D9%A5-%D9%85%D8%AA%D8%B1-%D9%84%D9%84%D8%A8%D9%8A%D8%B9-%D8%B4%D8%A7%D8%B1%D8%B9-%D8%B9%D9%85%D8%B1-%D8%A8%D9%86-%D8%B9%D8%A8%D8%AF-%D8%A7%D9%84%D8%B9%D8%B2%D9%8A%D8%B2-ID202222350.html, Status Code: 404\n"
          ]
        },
        {
          "metadata": {
            "tags": null
          },
          "name": "stderr",
          "output_type": "stream",
          "text": [
            "\rApartments Products:  43%|████▎     | 429/1000 [01:05<01:38,  5.80Apartment/s]"
          ]
        },
        {
          "metadata": {
            "tags": null
          },
          "name": "stdout",
          "output_type": "stream",
          "text": [
            "Failed to fetch https://www.dubizzle.com.eg/en/ad/%D8%A7%D8%B3%D8%AA%D9%84%D9%85-%D8%B4%D8%A7%D9%84%D9%8A%D9%87-%D9%81%D9%8A%D9%84%D8%A7-%D9%85%D8%AA%D8%B4%D8%B7%D8%A8-%D8%B5%D9%81-%D8%A7%D9%88%D9%84-%D9%84%D8%A7%D8%AC%D9%88%D9%86%D8%B2-%D9%88%D8%A7%D8%A8%D8%B1%D8%A7%D8%AC-%D8%A7%D9%84%D8%B9%D8%A7%D9%84%D9%85%D9%8A%D9%86-%D9%81-%D9%85%D8%A7%D8%B2%D8%B1%D9%8A%D9%86-%D9%88%D9%82%D8%B3%D8%B7-%D8%B9-7-%D8%B3%D9%86%D9%8A%D9%86-receive-chalet-villa-finished-first-row-lagoons-and-alamein-towers-in-ma-ID500864360.html, Status Code: 404\n",
            "Failed to fetch https://www.dubizzle.com.eg/en/ad/%D8%B4%D9%82%D9%87-%D9%84%D9%84%D8%A8%D9%8A%D8%B9-%D9%81%D9%8A-%D8%B3%D9%8A%D8%AF%D9%8A-%D8%A8%D8%B4%D8%B1-%D8%A8%D8%AD%D8%B1%D9%8A-%D8%B4%D8%A7%D8%B1%D8%B9-%D8%AE%D9%8A%D8%B1%D8%AA-%D8%A7%D9%84%D8%BA%D9%86%D8%AF%D9%88%D8%B1-%D9%82%D8%B1%D9%8A%D8%A8%D9%87-%D9%85%D9%86-%D8%A7%D9%84%D8%B9%D8%B3%D9%8A%D9%88%D9%8A-ID202338499.html, Status Code: 404\n",
            "Failed to fetch https://www.dubizzle.com.eg/en/ad/the-last-apartment-for-sale-directly-in-front-of-cairo-international-airport-with-a-cash-discount-a-very-special-landscape-view-in-taj-city-fifth-ID500981611.html, Status Code: 404\n"
          ]
        },
        {
          "metadata": {
            "tags": null
          },
          "name": "stderr",
          "output_type": "stream",
          "text": [
            "Apartments Products:  79%|███████▊  | 787/1000 [01:58<00:36,  5.83Apartment/s]"
          ]
        },
        {
          "metadata": {
            "tags": null
          },
          "name": "stdout",
          "output_type": "stream",
          "text": [
            "Failed to fetch https://www.dubizzle.com.eg/en/ad/%D8%A7%D8%B3%D8%AA%D9%84%D9%85-%D8%B4%D8%A7%D9%84%D9%8A%D9%87-%D9%81%D9%8A%D9%84%D8%A7-%D9%85%D8%AA%D8%B4%D8%B7%D8%A8-%D8%B5%D9%81-%D8%A7%D9%88%D9%84-%D9%84%D8%A7%D8%AC%D9%88%D9%86%D8%B2-%D9%88%D8%A7%D8%A8%D8%B1%D8%A7%D8%AC-%D8%A7%D9%84%D8%B9%D8%A7%D9%84%D9%85%D9%8A%D9%86-%D9%81-%D9%85%D8%A7%D8%B2%D8%B1%D9%8A%D9%86-%D9%88%D9%82%D8%B3%D8%B7-%D8%B9-7-%D8%B3%D9%86%D9%8A%D9%86-receive-chalet-villa-finished-first-row-lagoons-and-alamein-towers-in-ma-ID500864360.html, Status Code: 404\n"
          ]
        },
        {
          "metadata": {
            "tags": null
          },
          "name": "stderr",
          "output_type": "stream",
          "text": [
            "Apartments Products: 100%|██████████| 1000/1000 [05:01<00:00,  3.32Apartment/s]"
          ]
        },
        {
          "metadata": {
            "tags": null
          },
          "name": "stdout",
          "output_type": "stream",
          "text": [
            "Error fetching https://www.dubizzle.com.eg/en/ad/%D8%B4%D9%82%D8%A9-%D9%86%D8%B5-%D8%AA%D8%B4%D8%B7%D9%8A%D8%A8-%D9%84%D9%84%D8%A8%D9%8A%D8%B9-%D9%81%D9%89-%D8%A7%D9%84%D8%AD%D9%89-%D8%A7%D9%84%D8%B1%D8%A7%D8%A8%D8%B9-%D9%81%D9%8A%D9%84%D8%A7%D8%AA-%D9%81%D9%89-%D9%84%D9%88%D9%83%D9%8A%D8%B4%D9%86-%D9%85%D9%85%D9%8A%D8%B2-%D8%AC%D8%AF%D8%A7-ID202480122.html: \n",
            "Error fetching https://www.dubizzle.com.eg/en/ad/apartment-directly-on-the-sea-finished-for-sale-in-the-latin-quarter-el-alamein-north-coast-with-installments-up-to-5-years-ID500985673.html: \n",
            "Error fetching https://www.dubizzle.com.eg/en/ad/apartment-for-sale-fully-finished-with-a-down-payment-of-only-5-installments-over-8-years-for-the-first-time-in-the-fifth-settlement-in-sodic-east-ID500983996.html: \n",
            "Error fetching https://www.dubizzle.com.eg/en/ad/%D8%A7%D8%B3%D8%AA%D9%84%D9%85-%D9%81%D9%88%D8%B1%D9%8A-%D8%B4%D9%82%D8%A9-%D8%A8%D9%85%D9%82%D8%AF%D9%85-35-%D9%85%D8%AA%D8%B4%D8%B7%D8%A8%D8%A9-%D8%A8%D8%AC%D8%A7%D8%B1%D8%AF%D9%86-%D9%81%D9%8A-%D9%83%D9%8A%D8%A7%D9%86-%D8%A8%D8%AF%D8%B1%D8%A7%D9%84%D8%AF%D9%8A%D9%86-kayan-badr-eldin-ID500988241.html: \n",
            "Error fetching https://www.dubizzle.com.eg/en/ad/m-%D8%A7%D8%B3%D9%83%D9%86-%D9%88%D9%82%D8%B3%D8%B7-%D8%B9%D9%84%D9%8A-24-%D8%B4%D9%87%D8%B1-%D8%A8%D9%81%D9%8A%D9%84%D8%A7%D8%AA-%D8%A7%D9%84%D8%B3%D8%A7%D8%A8%D8%B9-250%D9%85-%D8%A7%D9%84%D8%B7%D9%8A%D8%A7%D8%B1-ID202442813.html: \n",
            "Error fetching https://www.dubizzle.com.eg/en/ad/ground-floor-apartment-with-installments-for-sale-in-palm-hills-badya-6th-of-october-%D8%A8%D8%A7%D9%84%D9%85-%D9%87%D9%8A%D9%84%D8%B2-%D8%A8%D8%A7%D8%AF%D9%8A%D8%A9-ID500965697.html: \n"
          ]
        },
        {
          "metadata": {
            "tags": null
          },
          "name": "stderr",
          "output_type": "stream",
          "text": [
            "\n"
          ]
        },
        {
          "metadata": {
            "tags": null
          },
          "name": "stdout",
          "output_type": "stream",
          "text": [
            "Batch 34 saved!\n",
            "Processing batch 35 / 268\n"
          ]
        },
        {
          "metadata": {
            "tags": null
          },
          "name": "stderr",
          "output_type": "stream",
          "text": [
            "Apartments Products:  47%|████▋     | 474/1000 [01:12<01:27,  5.99Apartment/s]"
          ]
        },
        {
          "metadata": {
            "tags": null
          },
          "name": "stdout",
          "output_type": "stream",
          "text": [
            "Failed to fetch https://www.dubizzle.com.eg/en/ad/%D8%B4%D9%82%D8%A9-%D9%85%D9%86-%D8%A7%D9%84%D9%85%D8%A7%D9%84%D9%83-%D8%A8%D8%AF%D9%88%D9%86-%D8%B9%D9%85%D9%88%D9%84%D9%87-%D9%84%D9%84%D8%A8%D9%8A%D8%B9-%D9%A3-%D8%BA%D8%B1%D9%81-%D9%88%D8%AD%D9%85%D8%A7%D9%85%D9%8A%D9%86-%D8%A8%D9%85%D8%AF%D9%8A%D9%86%D8%A9-%D8%A8%D8%AF%D8%B1-ID201480037.html, Status Code: 404\n"
          ]
        },
        {
          "metadata": {
            "tags": null
          },
          "name": "stderr",
          "output_type": "stream",
          "text": [
            "Apartments Products:  54%|█████▎    | 536/1000 [01:21<00:47,  9.81Apartment/s]"
          ]
        },
        {
          "metadata": {
            "tags": null
          },
          "name": "stdout",
          "output_type": "stream",
          "text": [
            "Failed to fetch https://www.dubizzle.com.eg/en/ad/%D8%B4%D9%82%D9%87-%D9%84%D9%84%D8%A8%D9%8A%D8%B9-%D9%81%D9%8A-%D8%B3%D9%8A%D8%AF%D9%8A-%D8%A8%D8%B4%D8%B1-%D8%A8%D8%AD%D8%B1%D9%8A-%D8%B4%D8%A7%D8%B1%D8%B9-%D8%AE%D9%8A%D8%B1%D8%AA-%D8%A7%D9%84%D8%BA%D9%86%D8%AF%D9%88%D8%B1-%D9%82%D8%B1%D9%8A%D8%A8%D9%87-%D9%85%D9%86-%D8%A7%D9%84%D8%B9%D8%B3%D9%8A%D9%88%D9%8A-ID202338499.html, Status Code: 404\n"
          ]
        },
        {
          "metadata": {
            "tags": null
          },
          "name": "stderr",
          "output_type": "stream",
          "text": [
            "Apartments Products:  71%|███████▏  | 714/1000 [01:48<00:34,  8.28Apartment/s]"
          ]
        },
        {
          "metadata": {
            "tags": null
          },
          "name": "stdout",
          "output_type": "stream",
          "text": [
            "Failed to fetch https://www.dubizzle.com.eg/en/ad/%D8%B4%D9%82%D8%A9-%D9%85%D9%86-%D8%A7%D9%84%D9%85%D8%A7%D9%84%D9%83-%D8%A8%D8%AF%D9%88%D9%86-%D8%B9%D9%85%D9%88%D9%84%D9%87-%D9%84%D9%84%D8%A8%D9%8A%D8%B9-%D9%A3-%D8%BA%D8%B1%D9%81-%D9%88%D8%AD%D9%85%D8%A7%D9%85%D9%8A%D9%86-%D8%A8%D9%85%D8%AF%D9%8A%D9%86%D8%A9-%D8%A8%D8%AF%D8%B1-ID201480037.html, Status Code: 404\n"
          ]
        },
        {
          "metadata": {
            "tags": null
          },
          "name": "stderr",
          "output_type": "stream",
          "text": [
            "Apartments Products:  72%|███████▏  | 724/1000 [01:49<00:35,  7.85Apartment/s]"
          ]
        },
        {
          "metadata": {
            "tags": null
          },
          "name": "stdout",
          "output_type": "stream",
          "text": [
            "Failed to fetch https://www.dubizzle.com.eg/en/ad/%D8%B4%D9%82%D9%87-%D9%84%D9%84%D8%A8%D9%8A%D8%B9-%D9%81%D9%8A-%D8%B3%D9%8A%D8%AF%D9%8A-%D8%A8%D8%B4%D8%B1-%D8%A8%D8%AD%D8%B1%D9%8A-%D8%B4%D8%A7%D8%B1%D8%B9-%D8%AE%D9%8A%D8%B1%D8%AA-%D8%A7%D9%84%D8%BA%D9%86%D8%AF%D9%88%D8%B1-%D9%82%D8%B1%D9%8A%D8%A8%D9%87-%D9%85%D9%86-%D8%A7%D9%84%D8%B9%D8%B3%D9%8A%D9%88%D9%8A-ID202338499.html, Status Code: 404\n",
            "Failed to fetch https://www.dubizzle.com.eg/en/ad/%D8%B4%D9%82%D9%87-%D9%A1%D9%A5%D9%A5-%D9%85%D8%AA%D8%B1-%D9%84%D9%84%D8%A8%D9%8A%D8%B9-%D8%B4%D8%A7%D8%B1%D8%B9-%D8%B9%D9%85%D8%B1-%D8%A8%D9%86-%D8%B9%D8%A8%D8%AF-%D8%A7%D9%84%D8%B9%D8%B2%D9%8A%D8%B2-ID202222350.html, Status Code: 404\n"
          ]
        },
        {
          "metadata": {
            "tags": null
          },
          "name": "stderr",
          "output_type": "stream",
          "text": [
            "Apartments Products:  82%|████████▏ | 817/1000 [02:03<00:24,  7.51Apartment/s]"
          ]
        },
        {
          "metadata": {
            "tags": null
          },
          "name": "stdout",
          "output_type": "stream",
          "text": [
            "Failed to fetch https://www.dubizzle.com.eg/en/ad/%D8%B4%D9%82%D9%87-%D9%A1%D9%A5%D9%A5-%D9%85%D8%AA%D8%B1-%D9%84%D9%84%D8%A8%D9%8A%D8%B9-%D8%B4%D8%A7%D8%B1%D8%B9-%D8%B9%D9%85%D8%B1-%D8%A8%D9%86-%D8%B9%D8%A8%D8%AF-%D8%A7%D9%84%D8%B9%D8%B2%D9%8A%D8%B2-ID202222350.html, Status Code: 404\n"
          ]
        },
        {
          "metadata": {
            "tags": null
          },
          "name": "stderr",
          "output_type": "stream",
          "text": [
            "Apartments Products: 100%|██████████| 1000/1000 [05:00<00:00,  3.33Apartment/s]"
          ]
        },
        {
          "metadata": {
            "tags": null
          },
          "name": "stdout",
          "output_type": "stream",
          "text": [
            "Error fetching https://www.dubizzle.com.eg/en/ad/beit-al-watan-new-cairo-%D8%B4%D9%82%D8%A9-%D9%84%D9%84%D8%A8%D9%8A%D8%B9-176-%D9%85%D8%AA%D8%B1-%D8%A8%D8%A7%D9%86%D9%88%D8%B1%D8%A7%D9%85%D8%A7-%D8%AA%D9%82%D8%B3%D9%8A%D8%B7-%D8%B9%D9%84%D9%89-54-%D8%B4%D9%87%D8%B1-%D9%81%D9%8A-%D8%A7%D9%84%D8%AD%D9%8A-%D8%A7%D9%84%D8%AE%D8%A7%D9%85%D8%B3-%D8%A8%D9%8A%D8%AA-%D8%A7%D9%84%D9%88%D8%B7%D9%86-%D8%A7%D9%84%D8%AA%D8%AC%D9%85%D8%B9-%D8%A7%D9%84%D8%AE%D8%A7%D9%85%D8%B3-ID500839701.html: \n",
            "Error fetching https://www.dubizzle.com.eg/en/ad/%D8%A8%D9%86%D8%AA%D9%87%D8%A7%D9%88%D8%B3-%D9%84%D9%84%D8%A8%D9%8A%D8%B9-159%D9%85-%D9%81%D9%8A-%D8%A7%D9%84%D8%B4%D8%B1%D9%88%D9%82-%D9%83%D9%85%D8%A8%D9%88%D9%86%D8%AF-ivy-residence-%D8%A7%D9%85%D8%A7%D9%85-%D9%85%D8%AF%D9%8A%D9%86%D8%AA%D9%8A-%D9%85%D8%A8%D8%A7%D8%B4%D8%B1%D8%A7-ID201685088.html: \n",
            "Error fetching https://www.dubizzle.com.eg/en/ad/%D8%B4%D9%82%D9%87-%D8%BA%D8%B1%D9%81%D8%AA%D9%8A%D9%86-%D8%A8%D9%83%D9%85%D8%A8%D9%88%D9%86%D8%AF-%D8%B3%D8%A7%D9%83%D9%86-%D9%88%D8%A7%D8%B3%D8%AA%D9%84%D8%A7%D9%85-%D9%81%D9%88%D8%B1%D9%8A-%D8%A8%D9%85%D9%82%D8%AF-15-%D9%81%D9%82%D8%B7-%D8%B9%D9%84%D9%8A-5-%D8%B3%D9%86%D9%8A%D9%86-%D8%A8%D8%A7%D9%84%D9%82%D8%B1%D8%A8-%D9%85%D9%86-%D8%A7%D9%84%D8%AC%D8%A7%D9%85%D8%B9%D9%87-%D8%A7%D9%84%D8%A7%D9%85%D9%8A%D8%B1%D9%8A%D9%83%D9%8A%D9%87-%D9%88%D9%85%D8%AA%D8%A7%D8%AD-3-%D8%BA%D8%B1%D9%81-ID500984231.html: \n",
            "Error fetching https://www.dubizzle.com.eg/en/ad/%D8%B4%D9%82%D9%87-%D9%84%D9%84%D8%A8%D9%8A%D8%B9-%D9%81%D9%8A-%D9%85%D8%AF%D9%8A%D9%86%D8%AA%D9%8A-b15-%D8%B9%D9%82%D8%AF-%D9%82%D8%AF%D9%8A%D9%85-%D8%A7%D8%B3%D8%AA%D9%84%D8%A7%D9%85-%D9%81%D9%88%D8%B1%D9%8A-ID202440331.html: \n",
            "Error fetching https://www.dubizzle.com.eg/en/ad/%D8%B4%D9%82%D8%A9-%D9%84%D9%84%D8%A8%D9%8A%D8%B9-%D9%81%D9%8A-%D8%A7%D9%84%D8%B4%D9%8A%D8%AE-%D8%B2%D8%A7%D9%8A%D8%AF-%D8%A8%D9%85%D9%82%D8%AF%D9%85-15-%D9%88%D8%AA%D9%82%D8%B3%D9%8A%D8%B7-%D8%B9%D9%84%D9%89-6-%D8%B3%D9%86%D9%8A%D9%86-one33-ID500940695.html: \n",
            "Error fetching https://www.dubizzle.com.eg/en/ad/%D8%B4%D9%82%D8%A9-145%D9%85%D8%AA%D8%B1-%D9%85%D9%86%D8%B7%D9%82%D8%A9-14-34-%D8%AA%D8%B4%D8%B7%D9%8A%D8%A8-%D8%B9%D9%84%D9%8A-%D8%A7%D9%84%D9%81%D8%A7%D8%B5%D9%84-%D9%85%D8%A8%D8%A7%D8%B4%D8%B1-%D8%AF%D9%88%D8%B1-%D8%A7%D9%88%D9%84-%D9%81%D9%8A-%D8%A8%D8%AF%D8%B1-ID202411846.html: \n"
          ]
        },
        {
          "metadata": {
            "tags": null
          },
          "name": "stderr",
          "output_type": "stream",
          "text": [
            "\n"
          ]
        },
        {
          "metadata": {
            "tags": null
          },
          "name": "stdout",
          "output_type": "stream",
          "text": [
            "Batch 35 saved!\n",
            "Processing batch 36 / 268\n"
          ]
        },
        {
          "metadata": {
            "tags": null
          },
          "name": "stderr",
          "output_type": "stream",
          "text": [
            "Apartments Products:  26%|██▌       | 262/1000 [00:41<02:17,  5.38Apartment/s]"
          ]
        },
        {
          "metadata": {
            "tags": null
          },
          "name": "stdout",
          "output_type": "stream",
          "text": [
            "Failed to fetch https://www.dubizzle.com.eg/en/ad/%D8%B4%D9%82%D9%87-%D9%A1%D9%A5%D9%A5-%D9%85%D8%AA%D8%B1-%D9%84%D9%84%D8%A8%D9%8A%D8%B9-%D8%B4%D8%A7%D8%B1%D8%B9-%D8%B9%D9%85%D8%B1-%D8%A8%D9%86-%D8%B9%D8%A8%D8%AF-%D8%A7%D9%84%D8%B9%D8%B2%D9%8A%D8%B2-ID202222350.html, Status Code: 404\n"
          ]
        },
        {
          "metadata": {
            "tags": null
          },
          "name": "stderr",
          "output_type": "stream",
          "text": [
            "Apartments Products:  33%|███▎      | 330/1000 [00:52<01:11,  9.31Apartment/s]"
          ]
        },
        {
          "metadata": {
            "tags": null
          },
          "name": "stdout",
          "output_type": "stream",
          "text": [
            "Failed to fetch https://www.dubizzle.com.eg/en/ad/the-last-apartment-for-sale-directly-in-front-of-cairo-international-airport-with-a-cash-discount-a-very-special-landscape-view-in-taj-city-fifth-ID500981611.html, Status Code: 404\n"
          ]
        },
        {
          "metadata": {
            "tags": null
          },
          "name": "stderr",
          "output_type": "stream",
          "text": [
            "Apartments Products: 100%|██████████| 1000/1000 [05:00<00:00,  3.33Apartment/s]"
          ]
        },
        {
          "metadata": {
            "tags": null
          },
          "name": "stdout",
          "output_type": "stream",
          "text": [
            "Error fetching https://www.dubizzle.com.eg/en/ad/%D8%AF%D9%88%D8%A8%D9%84%D9%83%D8%B3-%D8%A8%D8%AC%D8%A7%D8%B1%D8%AF%D9%86-%D9%84%D9%84%D8%A8%D9%8A%D8%B94%D8%BA%D8%B1%D9%81-%D9%85%D9%86-%D8%A7%D9%84%D9%85%D8%A7%D9%84%D9%83-%D9%85%D8%AA%D8%B4%D8%B7%D8%A8-%D8%A8%D8%A7%D9%84%D9%83%D8%A7%D9%85%D9%84-%D8%A8%D8%A7%D9%84%D8%AA%D9%82%D8%B3%D9%8A%D8%B7-%D8%B9%D9%84%D9%8A-%D8%A7%D8%B7%D9%88%D9%84-%D9%81%D8%AA%D8%B1%D9%87-ID200740437.html: \n",
            "Error fetching https://www.dubizzle.com.eg/en/ad/%D8%A8%D8%A3%D9%82%D9%84-%D9%85%D9%86-%D8%A7%D9%84%D8%B4%D8%B1%D9%83%D9%87-%D8%A82-%D9%85%D9%84%D9%8A%D9%88%D9%86-%D8%AC%D9%86%D9%8A%D9%87-%D9%88%D8%BA%D9%8A%D8%B1-%D9%85%D8%AA%D8%A7%D8%AD%D9%87-%D8%B4%D9%82%D9%87-80-%D9%85%D8%AA%D8%B1-%D9%81-b14-ID202488889.html: \n"
          ]
        },
        {
          "metadata": {
            "tags": null
          },
          "name": "stderr",
          "output_type": "stream",
          "text": [
            "\n"
          ]
        },
        {
          "metadata": {
            "tags": null
          },
          "name": "stdout",
          "output_type": "stream",
          "text": [
            "Batch 36 saved!\n",
            "Processing batch 37 / 268\n"
          ]
        },
        {
          "metadata": {
            "tags": null
          },
          "name": "stderr",
          "output_type": "stream",
          "text": [
            "Apartments Products:  41%|████      | 407/1000 [01:02<01:09,  8.50Apartment/s]"
          ]
        },
        {
          "metadata": {
            "tags": null
          },
          "name": "stdout",
          "output_type": "stream",
          "text": [
            "Failed to fetch https://www.dubizzle.com.eg/en/ad/the-last-apartment-for-sale-directly-in-front-of-cairo-international-airport-with-a-cash-discount-a-very-special-landscape-view-in-taj-city-fifth-ID500981611.html, Status Code: 404\n"
          ]
        },
        {
          "metadata": {
            "tags": null
          },
          "name": "stderr",
          "output_type": "stream",
          "text": [
            "Apartments Products:  80%|███████▉  | 797/1000 [02:02<00:58,  3.49Apartment/s]"
          ]
        },
        {
          "metadata": {
            "tags": null
          },
          "name": "stdout",
          "output_type": "stream",
          "text": [
            "Failed to fetch https://www.dubizzle.com.eg/en/ad/%D8%B4%D9%82%D8%A9-%D9%85%D9%86-%D8%A7%D9%84%D9%85%D8%A7%D9%84%D9%83-%D8%A8%D8%AF%D9%88%D9%86-%D8%B9%D9%85%D9%88%D9%84%D9%87-%D9%84%D9%84%D8%A8%D9%8A%D8%B9-%D9%A3-%D8%BA%D8%B1%D9%81-%D9%88%D8%AD%D9%85%D8%A7%D9%85%D9%8A%D9%86-%D8%A8%D9%85%D8%AF%D9%8A%D9%86%D8%A9-%D8%A8%D8%AF%D8%B1-ID201480037.html, Status Code: 404\n"
          ]
        },
        {
          "metadata": {
            "tags": null
          },
          "name": "stderr",
          "output_type": "stream",
          "text": [
            "Apartments Products: 100%|██████████| 1000/1000 [05:00<00:00,  3.33Apartment/s]"
          ]
        },
        {
          "metadata": {
            "tags": null
          },
          "name": "stdout",
          "output_type": "stream",
          "text": [
            "Error fetching https://www.dubizzle.com.eg/en/ad/%D8%B4%D9%82%D9%87-%D9%84%D9%82%D8%B7%D9%87-%D9%84%D9%84%D8%A8%D9%8A%D8%B9-%D9%85%D8%B3%D8%A7%D8%AD%D8%A9-185-%D9%85-%D8%A7%D8%B3%D8%AA%D9%84%D8%A7%D9%85-%D9%81%D9%88%D8%B1%D9%8A-%D8%AF%D9%88%D8%B1-%D9%85%D8%AA%D9%83%D8%B1%D8%B1-%D9%84%D9%88%D9%83%D9%8A%D8%B4%D9%86-%D9%85%D9%85%D9%8A%D8%B2-%D9%81%D9%8A-%D8%A7%D9%84%D8%A3%D9%86%D8%AF%D9%84%D8%B3-2-%D8%A8%D8%A7%D9%84%D9%82%D8%A7%D9%87%D8%B1%D9%87-%D8%A7%D9%84%D8%AC%D8%AF%D9%8A%D8%AF%D9%87-ID500987074.html: \n",
            "Error fetching https://www.dubizzle.com.eg/en/ad/apartment-for-sale-in-bloomfields-compound-mostaqbal-city-from-tatweer-misr-in-installments-over-8-years-ID500568493.html: \n"
          ]
        },
        {
          "metadata": {
            "tags": null
          },
          "name": "stderr",
          "output_type": "stream",
          "text": [
            "\n"
          ]
        },
        {
          "metadata": {
            "tags": null
          },
          "name": "stdout",
          "output_type": "stream",
          "text": [
            "Batch 37 saved!\n",
            "Processing batch 38 / 268\n"
          ]
        },
        {
          "metadata": {
            "tags": null
          },
          "name": "stderr",
          "output_type": "stream",
          "text": [
            "Apartments Products:  16%|█▌        | 158/1000 [00:26<02:06,  6.66Apartment/s]"
          ]
        },
        {
          "metadata": {
            "tags": null
          },
          "name": "stdout",
          "output_type": "stream",
          "text": [
            "Failed to fetch https://www.dubizzle.com.eg/en/ad/i-villa-roof-240m-direct-lagoon-for-sale-in-mountain-view-i-city-new-cairo-%D9%85%D8%A7%D9%88%D9%86%D8%AA%D9%86-%D9%81%D9%8A%D9%88-%D8%A7%D9%8A-%D8%B3%D9%8A%D8%AA%D9%8A-%D8%A7%D9%84%D8%AA%D8%AC%D9%85%D8%B9-%D8%A7%D9%84%D8%AE%D8%A7%D9%85%D8%B3-ID500984404.html, Status Code: 404\n"
          ]
        },
        {
          "metadata": {
            "tags": null
          },
          "name": "stderr",
          "output_type": "stream",
          "text": [
            "Apartments Products:  45%|████▍     | 448/1000 [01:09<01:00,  9.14Apartment/s]"
          ]
        },
        {
          "metadata": {
            "tags": null
          },
          "name": "stdout",
          "output_type": "stream",
          "text": [
            "Failed to fetch https://www.dubizzle.com.eg/en/ad/%D8%B4%D9%82%D8%A9-%D9%85%D9%86-%D8%A7%D9%84%D9%85%D8%A7%D9%84%D9%83-%D8%A8%D8%AF%D9%88%D9%86-%D8%B9%D9%85%D9%88%D9%84%D9%87-%D9%84%D9%84%D8%A8%D9%8A%D8%B9-%D9%A3-%D8%BA%D8%B1%D9%81-%D9%88%D8%AD%D9%85%D8%A7%D9%85%D9%8A%D9%86-%D8%A8%D9%85%D8%AF%D9%8A%D9%86%D8%A9-%D8%A8%D8%AF%D8%B1-ID201480037.html, Status Code: 404\n",
            "Failed to fetch https://www.dubizzle.com.eg/en/ad/apartment-for-sale-in-the-settlement-on-the-landscape-in-the-taj-city-compound-directly-in-front-of-the-airport-ID500669205.html, Status Code: 404\n"
          ]
        },
        {
          "metadata": {
            "tags": null
          },
          "name": "stderr",
          "output_type": "stream",
          "text": [
            "Apartments Products:  58%|█████▊    | 582/1000 [01:29<00:46,  8.95Apartment/s]"
          ]
        },
        {
          "metadata": {
            "tags": null
          },
          "name": "stdout",
          "output_type": "stream",
          "text": [
            "Failed to fetch https://www.dubizzle.com.eg/en/ad/%D8%B4%D9%82%D8%A9-%D9%85%D9%86-%D8%A7%D9%84%D9%85%D8%A7%D9%84%D9%83-%D8%A8%D8%AF%D9%88%D9%86-%D8%B9%D9%85%D9%88%D9%84%D9%87-%D9%84%D9%84%D8%A8%D9%8A%D8%B9-%D9%A3-%D8%BA%D8%B1%D9%81-%D9%88%D8%AD%D9%85%D8%A7%D9%85%D9%8A%D9%86-%D8%A8%D9%85%D8%AF%D9%8A%D9%86%D8%A9-%D8%A8%D8%AF%D8%B1-ID201480037.html, Status Code: 404\n"
          ]
        },
        {
          "metadata": {
            "tags": null
          },
          "name": "stderr",
          "output_type": "stream",
          "text": [
            "Apartments Products:  73%|███████▎  | 733/1000 [01:52<00:29,  8.92Apartment/s]"
          ]
        },
        {
          "metadata": {
            "tags": null
          },
          "name": "stdout",
          "output_type": "stream",
          "text": [
            "Failed to fetch https://www.dubizzle.com.eg/en/ad/%D8%B4%D9%82%D9%87-%D9%A1%D9%A5%D9%A5-%D9%85%D8%AA%D8%B1-%D9%84%D9%84%D8%A8%D9%8A%D8%B9-%D8%B4%D8%A7%D8%B1%D8%B9-%D8%B9%D9%85%D8%B1-%D8%A8%D9%86-%D8%B9%D8%A8%D8%AF-%D8%A7%D9%84%D8%B9%D8%B2%D9%8A%D8%B2-ID202222350.html, Status Code: 404\n"
          ]
        },
        {
          "metadata": {
            "tags": null
          },
          "name": "stderr",
          "output_type": "stream",
          "text": [
            "Apartments Products:  83%|████████▎ | 826/1000 [02:06<00:18,  9.53Apartment/s]"
          ]
        },
        {
          "metadata": {
            "tags": null
          },
          "name": "stdout",
          "output_type": "stream",
          "text": [
            "Failed to fetch https://www.dubizzle.com.eg/en/ad/the-last-apartment-for-sale-directly-in-front-of-cairo-international-airport-with-a-cash-discount-a-very-special-landscape-view-in-taj-city-fifth-ID500981611.html, Status Code: 404\n",
            "Failed to fetch https://www.dubizzle.com.eg/en/ad/apartment-for-sale-in-the-settlement-on-the-landscape-in-the-taj-city-compound-directly-in-front-of-the-airport-ID500669205.html, Status Code: 404\n"
          ]
        },
        {
          "metadata": {
            "tags": null
          },
          "name": "stderr",
          "output_type": "stream",
          "text": [
            "Apartments Products:  92%|█████████▏| 917/1000 [02:20<00:09,  8.90Apartment/s]"
          ]
        },
        {
          "metadata": {
            "tags": null
          },
          "name": "stdout",
          "output_type": "stream",
          "text": [
            "Failed to fetch https://www.dubizzle.com.eg/en/ad/the-last-apartment-for-sale-directly-in-front-of-cairo-international-airport-with-a-cash-discount-a-very-special-landscape-view-in-taj-city-fifth-ID500981611.html, Status Code: 404\n"
          ]
        },
        {
          "metadata": {
            "tags": null
          },
          "name": "stderr",
          "output_type": "stream",
          "text": [
            "Apartments Products: 100%|██████████| 1000/1000 [05:01<00:00,  3.32Apartment/s]"
          ]
        },
        {
          "metadata": {
            "tags": null
          },
          "name": "stdout",
          "output_type": "stream",
          "text": [
            "Error fetching https://www.dubizzle.com.eg/en/ad/the-last-apartment-for-sale-with-best-price-area-133-square-meters-directly-next-to-the-kempinski-and-directly-in-front-of-cairo-airport-taj-city-ID500961037.html: \n",
            "Error fetching https://www.dubizzle.com.eg/en/ad/apartment-3-bedrooms-in-avelin-compound-new-cairo-prime-location-ID500961647.html: \n",
            "Error fetching https://www.dubizzle.com.eg/en/ad/finished-apartment-in-palm-parks-170m_%D8%B4%D9%82%D8%A9-%D9%85%D8%AA%D8%B4%D8%B7%D8%A8%D8%A9-%D9%81-%D8%A8%D8%A7%D9%84%D9%85-%D8%A8%D8%A7%D8%B1%D9%83%D8%B3-%D8%A7%D9%82%D9%84-%D9%85%D9%82%D8%AF%D9%85-ID202477760.html: \n",
            "Error fetching https://www.dubizzle.com.eg/en/ad/%D8%A8%D8%B3%D8%B9%D9%80%D9%80%D8%B1-%D9%85%D9%85%D9%8A%D8%B2-%D8%AC%D8%AF%D8%A7-%D8%B4%D9%82%D9%87-103%D9%85-%D8%AA%D8%B4%D8%B7%D9%8A%D8%A8-%D8%B3%D9%88%D8%A8%D8%B1-%D9%84%D9%88%D9%83%D8%B3-%D9%84%D9%84%D8%A8%D9%8A%D8%B9-%D9%81%D9%8A-%D8%A3%D9%85%D9%8A%D8%B2%D9%85%D8%B1%D8%A7%D8%AD%D9%84-%D9%85%D8%AF%D9%8A%D9%86%D8%AA%D9%8A-b6-ID202462505.html: \n",
            "Error fetching https://www.dubizzle.com.eg/en/ad/%D8%B4%D9%82%D9%87-%D9%81%D8%A7%D8%AE%D8%B1%D9%87-%D8%AA%D8%B4%D8%B7%D9%8A%D8%A8-%D9%85%D9%88%D8%AF%D8%B1%D9%86-%D8%A8%D8%B3%D8%B9%D8%B1%D9%85%D8%BA%D8%B1%D9%8A-%D8%A7%D9%88%D8%A8%D9%86-%D9%81%D9%8A%D9%88-%D9%84%D9%84%D8%A8%D9%8A%D8%B9-%D9%81%D9%8A-%D9%84%D9%8A%D9%83-%D9%81%D9%8A%D9%88-lake-view-ID202487638.html: \n",
            "Error fetching https://www.dubizzle.com.eg/en/ad/apartment-with-garden-for-sale-in-sarai-compound-with-a-42-cash-discount-and-a-cash-price-installment-over-the-longest-payment-plan-prime-location-ID500900461.html: \n",
            "Error fetching https://www.dubizzle.com.eg/en/ad/apartment-for-sale-in-bait-al-watan-3-rooms-ground-131m-down-payment-30-installment-over-60-fifth-settlement-new-cairo-ID500928273.html: \n"
          ]
        },
        {
          "metadata": {
            "tags": null
          },
          "name": "stderr",
          "output_type": "stream",
          "text": [
            "\n"
          ]
        },
        {
          "metadata": {
            "tags": null
          },
          "name": "stdout",
          "output_type": "stream",
          "text": [
            "Batch 38 saved!\n",
            "Processing batch 39 / 268\n"
          ]
        },
        {
          "metadata": {
            "tags": null
          },
          "name": "stderr",
          "output_type": "stream",
          "text": [
            "Apartments Products:  29%|██▉       | 294/1000 [00:44<01:45,  6.70Apartment/s]"
          ]
        },
        {
          "metadata": {
            "tags": null
          },
          "name": "stdout",
          "output_type": "stream",
          "text": [
            "Failed to fetch https://www.dubizzle.com.eg/en/ad/the-last-apartment-for-sale-directly-in-front-of-cairo-international-airport-with-a-cash-discount-a-very-special-landscape-view-in-taj-city-fifth-ID500981611.html, Status Code: 404\n"
          ]
        },
        {
          "metadata": {
            "tags": null
          },
          "name": "stderr",
          "output_type": "stream",
          "text": [
            "Apartments Products:  40%|███▉      | 396/1000 [01:00<02:14,  4.48Apartment/s]"
          ]
        },
        {
          "metadata": {
            "tags": null
          },
          "name": "stdout",
          "output_type": "stream",
          "text": [
            "Failed to fetch https://www.dubizzle.com.eg/en/ad/%D8%B4%D9%82%D9%87-%D9%A1%D9%A5%D9%A5-%D9%85%D8%AA%D8%B1-%D9%84%D9%84%D8%A8%D9%8A%D8%B9-%D8%B4%D8%A7%D8%B1%D8%B9-%D8%B9%D9%85%D8%B1-%D8%A8%D9%86-%D8%B9%D8%A8%D8%AF-%D8%A7%D9%84%D8%B9%D8%B2%D9%8A%D8%B2-ID202222350.html, Status Code: 404\n"
          ]
        },
        {
          "metadata": {
            "tags": null
          },
          "name": "stderr",
          "output_type": "stream",
          "text": [
            "Apartments Products:  49%|████▉     | 494/1000 [01:14<00:54,  9.29Apartment/s]"
          ]
        },
        {
          "metadata": {
            "tags": null
          },
          "name": "stdout",
          "output_type": "stream",
          "text": [
            "Failed to fetch https://www.dubizzle.com.eg/en/ad/the-last-apartment-for-sale-directly-in-front-of-cairo-international-airport-with-a-cash-discount-a-very-special-landscape-view-in-taj-city-fifth-ID500981611.html, Status Code: 404\n"
          ]
        },
        {
          "metadata": {
            "tags": null
          },
          "name": "stderr",
          "output_type": "stream",
          "text": [
            "Apartments Products:  59%|█████▉    | 590/1000 [01:28<01:01,  6.69Apartment/s]"
          ]
        },
        {
          "metadata": {
            "tags": null
          },
          "name": "stdout",
          "output_type": "stream",
          "text": [
            "Failed to fetch https://www.dubizzle.com.eg/en/ad/%D8%B4%D9%82%D9%87-%D9%A1%D9%A5%D9%A5-%D9%85%D8%AA%D8%B1-%D9%84%D9%84%D8%A8%D9%8A%D8%B9-%D8%B4%D8%A7%D8%B1%D8%B9-%D8%B9%D9%85%D8%B1-%D8%A8%D9%86-%D8%B9%D8%A8%D8%AF-%D8%A7%D9%84%D8%B9%D8%B2%D9%8A%D8%B2-ID202222350.html, Status Code: 404\n"
          ]
        },
        {
          "metadata": {
            "tags": null
          },
          "name": "stderr",
          "output_type": "stream",
          "text": [
            "Apartments Products: 100%|██████████| 1000/1000 [05:00<00:00,  3.33Apartment/s]"
          ]
        },
        {
          "metadata": {
            "tags": null
          },
          "name": "stdout",
          "output_type": "stream",
          "text": [
            "Error fetching https://www.dubizzle.com.eg/en/ad/fully-equipped-190-sqm-mivida-apartment-pool-view-%D8%B4%D9%82%D8%A9-%D9%85%D8%AC%D9%87%D8%B2%D8%A9-%D8%A8%D8%A7%D9%84%D9%83%D8%A7%D9%85%D9%84-%D9%81%D9%8A-%D9%85%D9%8A%D9%81%D9%8A%D8%AF%D8%A7-%D8%A8%D9%85%D8%B3%D8%A7%D8%AD%D8%A9-190-%D9%85%D8%AA%D8%B1-%D9%85%D8%B1%D8%A8%D8%B9-%D8%A5%D8%B7%D9%84%D8%A7%D9%84%D8%A9-%D8%B9%D9%84%D9%89-%D8%AD%D9%85%D8%A7%D9%85-%D8%A7%D9%84%D8%B3%D8%A8%D8%A7%D8%AD%D8%A9-ID500965219.html: \n",
            "Error fetching https://www.dubizzle.com.eg/en/ad/distinctive-view-apartment-in-zedd-settlement-naguib-sawiros-compound-finished-with-air-conditioners-with-a-room-for-the-nanny-ID500990599.html: \n",
            "Error fetching https://www.dubizzle.com.eg/en/ad/m-%D8%A7%D8%B3%D9%83%D9%86-%D9%88%D9%82%D8%B3%D8%B7-%D8%B9%D9%84%D9%8A-24-%D8%B4%D9%87%D8%B1-%D8%A8%D9%81%D9%8A%D9%84%D8%A7%D8%AA-%D8%A7%D9%84%D8%B3%D8%A7%D8%A8%D8%B9-250%D9%85-%D8%A7%D9%84%D8%B7%D9%8A%D8%A7%D8%B1-ID202442813.html: \n",
            "Error fetching https://www.dubizzle.com.eg/en/ad/%D8%B4%D9%82%D9%87-%D9%84%D9%84%D8%A8%D9%8A%D8%B9-%D9%81%D9%89-%D8%A7%D9%84%D8%AA%D8%AC%D9%85%D8%B9-%D8%A7%D9%84%D8%AE%D8%A7%D9%85%D8%B3-%D8%B9%D9%84%D9%89-%D8%B4%D8%A7%D8%B1%D8%B9-%D8%A7%D9%84%D8%AA%D8%B3%D8%B9%D9%8A%D9%86-%D9%83%D9%85%D8%A8%D9%88%D9%86%D8%AF-%D9%87%D8%A7%D9%8A%D8%AF-%D8%A8%D8%A7%D8%B1%D9%83-hyde-park-ID200093618.html: \n"
          ]
        },
        {
          "metadata": {
            "tags": null
          },
          "name": "stderr",
          "output_type": "stream",
          "text": [
            "\n"
          ]
        },
        {
          "metadata": {
            "tags": null
          },
          "name": "stdout",
          "output_type": "stream",
          "text": [
            "Batch 39 saved!\n",
            "Processing batch 40 / 268\n"
          ]
        },
        {
          "metadata": {
            "tags": null
          },
          "name": "stderr",
          "output_type": "stream",
          "text": [
            "Apartments Products:   0%|          | 1/1000 [00:00<10:11,  1.63Apartment/s]"
          ]
        },
        {
          "metadata": {
            "tags": null
          },
          "name": "stdout",
          "output_type": "stream",
          "text": [
            "Failed to fetch https://www.dubizzle.com.eg/en/ad/i-villa-roof-240m-direct-lagoon-for-sale-in-mountain-view-i-city-new-cairo-%D9%85%D8%A7%D9%88%D9%86%D8%AA%D9%86-%D9%81%D9%8A%D9%88-%D8%A7%D9%8A-%D8%B3%D9%8A%D8%AA%D9%8A-%D8%A7%D9%84%D8%AA%D8%AC%D9%85%D8%B9-%D8%A7%D9%84%D8%AE%D8%A7%D9%85%D8%B3-ID500984404.html, Status Code: 404\n",
            "Failed to fetch https://www.dubizzle.com.eg/en/ad/i-villa-roof-240m-direct-lagoon-for-sale-in-mountain-view-i-city-new-cairo-%D9%85%D8%A7%D9%88%D9%86%D8%AA%D9%86-%D9%81%D9%8A%D9%88-%D8%A7%D9%8A-%D8%B3%D9%8A%D8%AA%D9%8A-%D8%A7%D9%84%D8%AA%D8%AC%D9%85%D8%B9-%D8%A7%D9%84%D8%AE%D8%A7%D9%85%D8%B3-ID500984404.html, Status Code: 404\n"
          ]
        },
        {
          "metadata": {
            "tags": null
          },
          "name": "stderr",
          "output_type": "stream",
          "text": [
            "Apartments Products:   1%|          | 10/1000 [00:02<03:14,  5.09Apartment/s]"
          ]
        },
        {
          "metadata": {
            "tags": null
          },
          "name": "stdout",
          "output_type": "stream",
          "text": [
            "Failed to fetch https://www.dubizzle.com.eg/en/ad/the-last-apartment-for-sale-directly-in-front-of-cairo-international-airport-with-a-cash-discount-a-very-special-landscape-view-in-taj-city-fifth-ID500981611.html, Status Code: 404\n"
          ]
        },
        {
          "metadata": {
            "tags": null
          },
          "name": "stderr",
          "output_type": "stream",
          "text": [
            "Apartments Products:  43%|████▎     | 427/1000 [01:05<01:11,  7.98Apartment/s]"
          ]
        },
        {
          "metadata": {
            "tags": null
          },
          "name": "stdout",
          "output_type": "stream",
          "text": [
            "Failed to fetch https://www.dubizzle.com.eg/en/ad/the-last-apartment-for-sale-directly-in-front-of-cairo-international-airport-with-a-cash-discount-a-very-special-landscape-view-in-taj-city-fifth-ID500981611.html, Status Code: 404\n"
          ]
        },
        {
          "metadata": {
            "tags": null
          },
          "name": "stderr",
          "output_type": "stream",
          "text": [
            "Apartments Products:  44%|████▍     | 445/1000 [01:08<01:06,  8.34Apartment/s]"
          ]
        },
        {
          "metadata": {
            "tags": null
          },
          "name": "stdout",
          "output_type": "stream",
          "text": [
            "Failed to fetch https://www.dubizzle.com.eg/en/ad/%D8%A7%D8%B3%D8%AA%D9%84%D9%85-%D8%B4%D8%A7%D9%84%D9%8A%D9%87-%D9%81%D9%8A%D9%84%D8%A7-%D9%85%D8%AA%D8%B4%D8%B7%D8%A8-%D8%B5%D9%81-%D8%A7%D9%88%D9%84-%D9%84%D8%A7%D8%AC%D9%88%D9%86%D8%B2-%D9%88%D8%A7%D8%A8%D8%B1%D8%A7%D8%AC-%D8%A7%D9%84%D8%B9%D8%A7%D9%84%D9%85%D9%8A%D9%86-%D9%81-%D9%85%D8%A7%D8%B2%D8%B1%D9%8A%D9%86-%D9%88%D9%82%D8%B3%D8%B7-%D8%B9-7-%D8%B3%D9%86%D9%8A%D9%86-receive-chalet-villa-finished-first-row-lagoons-and-alamein-towers-in-ma-ID500864360.html, Status Code: 404\n"
          ]
        },
        {
          "metadata": {
            "tags": null
          },
          "name": "stderr",
          "output_type": "stream",
          "text": [
            "Apartments Products: 100%|██████████| 1000/1000 [05:00<00:00,  3.33Apartment/s]"
          ]
        },
        {
          "metadata": {
            "tags": null
          },
          "name": "stdout",
          "output_type": "stream",
          "text": [
            "Error fetching https://www.dubizzle.com.eg/en/ad/%D8%B4%D9%82%D8%A9-%D9%84%D9%84%D8%A8%D9%8A%D8%B9-125%D9%85-%D8%A8%D8%A7%D9%84%D8%AA%D9%82%D8%B3%D9%8A%D8%B7-%D9%81%D9%8A%D9%88-%D9%85%D9%81%D8%AA%D9%88%D8%AD-%D8%A8%D8%A7%D9%84%D9%87%D8%B6%D8%A8%D9%87-%D8%A7%D9%84%D9%88%D8%B3%D8%B7%D9%89-%D8%A7%D9%84%D9%85%D9%82%D8%B7%D9%85-ID202447590.html: \n",
            "Error fetching https://www.dubizzle.com.eg/en/ad/%D8%B4%D9%82%D9%87-%D9%84%D9%84%D8%A8%D9%8A%D8%B9-%D9%81%D9%8A-%D8%B9%D8%A8%D8%A7%D8%B3-%D8%A7%D9%84%D8%B9%D9%82%D8%A7%D8%AF-%D8%AA%D8%B4%D8%B7%D9%8A%D8%A8-%D8%AD%D8%AF%D9%8A%D8%AB-%D9%88%D9%85%D9%88%D8%AF%D8%B1%D9%86-220%D9%85-%D9%85%D8%B3%D8%AC%D9%84%D9%87-%D8%A8%D8%AD%D8%B1%D9%8A%D9%87-%D8%A7%D9%88%D9%84-%D8%B3%D9%83%D9%86-ID202438847.html: \n"
          ]
        },
        {
          "metadata": {
            "tags": null
          },
          "name": "stderr",
          "output_type": "stream",
          "text": [
            "\n"
          ]
        },
        {
          "metadata": {
            "tags": null
          },
          "name": "stdout",
          "output_type": "stream",
          "text": [
            "Batch 40 saved!\n",
            "Processing batch 41 / 268\n"
          ]
        },
        {
          "output_type": "stream",
          "name": "stderr",
          "text": [
            "Apartments Products:  67%|██████▋   | 668/1000 [01:46<01:02,  5.32Apartment/s]"
          ]
        },
        {
          "output_type": "stream",
          "name": "stdout",
          "text": [
            "Failed to fetch https://www.dubizzle.com.eg/en/ad/%D8%B4%D9%82%D8%A9-%D9%85%D9%86-%D8%A7%D9%84%D9%85%D8%A7%D9%84%D9%83-%D8%A8%D8%AF%D9%88%D9%86-%D8%B9%D9%85%D9%88%D9%84%D9%87-%D9%84%D9%84%D8%A8%D9%8A%D8%B9-%D9%A3-%D8%BA%D8%B1%D9%81-%D9%88%D8%AD%D9%85%D8%A7%D9%85%D9%8A%D9%86-%D8%A8%D9%85%D8%AF%D9%8A%D9%86%D8%A9-%D8%A8%D8%AF%D8%B1-ID201480037.html, Status Code: 404\n"
          ]
        },
        {
          "output_type": "stream",
          "name": "stderr",
          "text": [
            "Apartments Products: 100%|██████████| 1000/1000 [05:01<00:00,  3.32Apartment/s]"
          ]
        },
        {
          "output_type": "stream",
          "name": "stdout",
          "text": [
            "Error fetching https://www.dubizzle.com.eg/en/ad/%D9%81%D9%8A%D9%84%D8%A7%D8%AA%D9%83-%D8%AA%D9%88%D9%8A%D9%86-%D9%87%D8%A7%D9%88%D8%B3-%D9%84%D9%84%D8%A8%D9%8A%D8%B9-%D9%83%D9%85%D8%A8%D9%88%D9%86%D8%AF-ID202454704.html: \n"
          ]
        },
        {
          "output_type": "stream",
          "name": "stderr",
          "text": [
            "\n"
          ]
        },
        {
          "output_type": "stream",
          "name": "stdout",
          "text": [
            "Batch 41 saved!\n",
            "Processing batch 42 / 268\n"
          ]
        },
        {
          "output_type": "stream",
          "name": "stderr",
          "text": [
            "Apartments Products:   1%|          | 11/1000 [00:02<02:18,  7.16Apartment/s]"
          ]
        },
        {
          "output_type": "stream",
          "name": "stdout",
          "text": [
            "Failed to fetch https://www.dubizzle.com.eg/en/ad/%D8%B4%D9%82%D9%87-%D9%A1%D9%A5%D9%A5-%D9%85%D8%AA%D8%B1-%D9%84%D9%84%D8%A8%D9%8A%D8%B9-%D8%B4%D8%A7%D8%B1%D8%B9-%D8%B9%D9%85%D8%B1-%D8%A8%D9%86-%D8%B9%D8%A8%D8%AF-%D8%A7%D9%84%D8%B9%D8%B2%D9%8A%D8%B2-ID202222350.html, Status Code: 404\n"
          ]
        },
        {
          "output_type": "stream",
          "name": "stderr",
          "text": [
            "Apartments Products:  24%|██▍       | 244/1000 [00:37<01:33,  8.08Apartment/s]"
          ]
        },
        {
          "output_type": "stream",
          "name": "stdout",
          "text": [
            "Failed to fetch https://www.dubizzle.com.eg/en/ad/the-last-apartment-for-sale-directly-in-front-of-cairo-international-airport-with-a-cash-discount-a-very-special-landscape-view-in-taj-city-fifth-ID500981611.html, Status Code: 404\n"
          ]
        },
        {
          "output_type": "stream",
          "name": "stderr",
          "text": [
            "Apartments Products:  80%|███████▉  | 795/1000 [02:04<00:24,  8.32Apartment/s]"
          ]
        },
        {
          "output_type": "stream",
          "name": "stdout",
          "text": [
            "Failed to fetch https://www.dubizzle.com.eg/en/ad/the-last-apartment-for-sale-directly-in-front-of-cairo-international-airport-with-a-cash-discount-a-very-special-landscape-view-in-taj-city-fifth-ID500981611.html, Status Code: 404\n"
          ]
        },
        {
          "output_type": "stream",
          "name": "stderr",
          "text": [
            "Apartments Products: 100%|█████████▉| 999/1000 [05:00<00:33, 33.07s/Apartment]"
          ]
        },
        {
          "output_type": "stream",
          "name": "stdout",
          "text": [
            "Error fetching https://www.dubizzle.com.eg/en/ad/%D8%B4%D9%82%D8%A9-%D9%84%D9%84%D8%A8%D9%8A%D8%B9-3-%D8%BA%D8%B1%D9%81-%D8%A7%D8%B3%D8%AA%D9%84%D8%A7%D9%85-%D9%81%D9%88%D8%B1%D9%8A-%D9%81%D9%8A-%D8%AC%D8%A7%D9%84%D9%8A%D8%B1%D9%8A%D8%A7-%D8%A7%D9%84%D8%AA%D8%AC%D9%85%D8%B9-%D8%A7%D9%84%D8%AE%D8%A7%D9%85%D8%B3-%D8%A8%D8%A7%D9%84%D8%AC%D9%88%D9%84%D8%AF%D9%86-%D8%B3%D9%83%D9%88%D9%8A%D8%B1-apartment-3brs-for-sale-ready-to-move-in-golden-square-ID500940486.html: \n"
          ]
        },
        {
          "output_type": "stream",
          "name": "stderr",
          "text": [
            "Apartments Products: 100%|██████████| 1000/1000 [05:01<00:00,  3.32Apartment/s]"
          ]
        },
        {
          "output_type": "stream",
          "name": "stdout",
          "text": [
            "Error fetching https://www.dubizzle.com.eg/en/ad/%D8%B4%D9%82%D9%87-%D9%84%D9%84%D8%A8%D9%8A%D8%B9-%D8%B1%D8%A7%D8%A6%D8%B9%D9%87-%D9%81%D9%8A-%D9%85%D8%AF%D9%8A%D9%86%D8%AA%D9%8A-%D8%A8%D8%A7%D9%86%D9%88%D8%B1%D8%A7%D9%85%D8%A7-%D8%AA%D8%B4%D8%B7%D9%8A%D8%A8%D8%A7%D8%AA-%D8%AE%D8%A7%D8%B5%D9%87-ID202482365.html: \n"
          ]
        },
        {
          "output_type": "stream",
          "name": "stderr",
          "text": [
            "\n"
          ]
        },
        {
          "output_type": "stream",
          "name": "stdout",
          "text": [
            "Batch 42 saved!\n",
            "Processing batch 43 / 268\n"
          ]
        },
        {
          "output_type": "stream",
          "name": "stderr",
          "text": [
            "Apartments Products:  12%|█▏        | 124/1000 [00:20<02:16,  6.42Apartment/s]"
          ]
        },
        {
          "output_type": "stream",
          "name": "stdout",
          "text": [
            "Failed to fetch https://www.dubizzle.com.eg/en/ad/apartment-for-sale-in-the-settlement-on-the-landscape-in-the-taj-city-compound-directly-in-front-of-the-airport-ID500669205.html, Status Code: 404\n"
          ]
        },
        {
          "output_type": "stream",
          "name": "stderr",
          "text": [
            "Apartments Products:  50%|█████     | 500/1000 [01:17<00:55,  8.95Apartment/s]"
          ]
        },
        {
          "output_type": "stream",
          "name": "stdout",
          "text": [
            "Failed to fetch https://www.dubizzle.com.eg/en/ad/%D8%A7%D8%B3%D8%AA%D9%84%D9%85-%D8%B4%D8%A7%D9%84%D9%8A%D9%87-%D9%81%D9%8A%D9%84%D8%A7-%D9%85%D8%AA%D8%B4%D8%B7%D8%A8-%D8%B5%D9%81-%D8%A7%D9%88%D9%84-%D9%84%D8%A7%D8%AC%D9%88%D9%86%D8%B2-%D9%88%D8%A7%D8%A8%D8%B1%D8%A7%D8%AC-%D8%A7%D9%84%D8%B9%D8%A7%D9%84%D9%85%D9%8A%D9%86-%D9%81-%D9%85%D8%A7%D8%B2%D8%B1%D9%8A%D9%86-%D9%88%D9%82%D8%B3%D8%B7-%D8%B9-7-%D8%B3%D9%86%D9%8A%D9%86-receive-chalet-villa-finished-first-row-lagoons-and-alamein-towers-in-ma-ID500864360.html, Status Code: 404\n"
          ]
        },
        {
          "output_type": "stream",
          "name": "stderr",
          "text": [
            "Apartments Products:  52%|█████▎    | 525/1000 [01:20<01:05,  7.26Apartment/s]"
          ]
        },
        {
          "output_type": "stream",
          "name": "stdout",
          "text": [
            "Failed to fetch https://www.dubizzle.com.eg/en/ad/%D8%B4%D9%82%D9%87-%D9%A1%D9%A5%D9%A5-%D9%85%D8%AA%D8%B1-%D9%84%D9%84%D8%A8%D9%8A%D8%B9-%D8%B4%D8%A7%D8%B1%D8%B9-%D8%B9%D9%85%D8%B1-%D8%A8%D9%86-%D8%B9%D8%A8%D8%AF-%D8%A7%D9%84%D8%B9%D8%B2%D9%8A%D8%B2-ID202222350.html, Status Code: 404\n"
          ]
        },
        {
          "output_type": "stream",
          "name": "stderr",
          "text": [
            "Apartments Products:  58%|█████▊    | 577/1000 [01:29<00:57,  7.35Apartment/s]"
          ]
        },
        {
          "output_type": "stream",
          "name": "stdout",
          "text": [
            "Failed to fetch https://www.dubizzle.com.eg/en/ad/the-last-apartment-for-sale-directly-in-front-of-cairo-international-airport-with-a-cash-discount-a-very-special-landscape-view-in-taj-city-fifth-ID500981611.html, Status Code: 404\n"
          ]
        },
        {
          "output_type": "stream",
          "name": "stderr",
          "text": [
            "Apartments Products:  60%|█████▉    | 596/1000 [01:32<01:06,  6.11Apartment/s]"
          ]
        },
        {
          "output_type": "stream",
          "name": "stdout",
          "text": [
            "Failed to fetch https://www.dubizzle.com.eg/en/ad/%D8%A7%D8%B3%D8%AA%D9%84%D9%85-%D8%B4%D8%A7%D9%84%D9%8A%D9%87-%D9%81%D9%8A%D9%84%D8%A7-%D9%85%D8%AA%D8%B4%D8%B7%D8%A8-%D8%B5%D9%81-%D8%A7%D9%88%D9%84-%D9%84%D8%A7%D8%AC%D9%88%D9%86%D8%B2-%D9%88%D8%A7%D8%A8%D8%B1%D8%A7%D8%AC-%D8%A7%D9%84%D8%B9%D8%A7%D9%84%D9%85%D9%8A%D9%86-%D9%81-%D9%85%D8%A7%D8%B2%D8%B1%D9%8A%D9%86-%D9%88%D9%82%D8%B3%D8%B7-%D8%B9-7-%D8%B3%D9%86%D9%8A%D9%86-receive-chalet-villa-finished-first-row-lagoons-and-alamein-towers-in-ma-ID500864360.html, Status Code: 404\n"
          ]
        },
        {
          "output_type": "stream",
          "name": "stderr",
          "text": [
            "Apartments Products:  85%|████████▌ | 851/1000 [02:10<00:33,  4.47Apartment/s]"
          ]
        },
        {
          "output_type": "stream",
          "name": "stdout",
          "text": [
            "Failed to fetch https://www.dubizzle.com.eg/en/ad/%D8%A7%D8%B3%D8%AA%D9%84%D9%85-%D8%B4%D8%A7%D9%84%D9%8A%D9%87-%D9%81%D9%8A%D9%84%D8%A7-%D9%85%D8%AA%D8%B4%D8%B7%D8%A8-%D8%B5%D9%81-%D8%A7%D9%88%D9%84-%D9%84%D8%A7%D8%AC%D9%88%D9%86%D8%B2-%D9%88%D8%A7%D8%A8%D8%B1%D8%A7%D8%AC-%D8%A7%D9%84%D8%B9%D8%A7%D9%84%D9%85%D9%8A%D9%86-%D9%81-%D9%85%D8%A7%D8%B2%D8%B1%D9%8A%D9%86-%D9%88%D9%82%D8%B3%D8%B7-%D8%B9-7-%D8%B3%D9%86%D9%8A%D9%86-receive-chalet-villa-finished-first-row-lagoons-and-alamein-towers-in-ma-ID500864360.html, Status Code: 404\n",
            "Failed to fetch https://www.dubizzle.com.eg/en/ad/apartment-for-sale-in-the-settlement-on-the-landscape-in-the-taj-city-compound-directly-in-front-of-the-airport-ID500669205.html, Status Code: 404\n"
          ]
        },
        {
          "output_type": "stream",
          "name": "stderr",
          "text": [
            "Apartments Products:  89%|████████▉ | 889/1000 [02:16<00:11,  9.41Apartment/s]"
          ]
        },
        {
          "output_type": "stream",
          "name": "stdout",
          "text": [
            "Failed to fetch https://www.dubizzle.com.eg/en/ad/%D8%A7%D8%B3%D8%AA%D9%84%D9%85-%D8%B4%D8%A7%D9%84%D9%8A%D9%87-%D9%81%D9%8A%D9%84%D8%A7-%D9%85%D8%AA%D8%B4%D8%B7%D8%A8-%D8%B5%D9%81-%D8%A7%D9%88%D9%84-%D9%84%D8%A7%D8%AC%D9%88%D9%86%D8%B2-%D9%88%D8%A7%D8%A8%D8%B1%D8%A7%D8%AC-%D8%A7%D9%84%D8%B9%D8%A7%D9%84%D9%85%D9%8A%D9%86-%D9%81-%D9%85%D8%A7%D8%B2%D8%B1%D9%8A%D9%86-%D9%88%D9%82%D8%B3%D8%B7-%D8%B9-7-%D8%B3%D9%86%D9%8A%D9%86-receive-chalet-villa-finished-first-row-lagoons-and-alamein-towers-in-ma-ID500864360.html, Status Code: 404\n"
          ]
        },
        {
          "output_type": "stream",
          "name": "stderr",
          "text": [
            "Apartments Products: 100%|██████████| 1000/1000 [05:00<00:00,  3.32Apartment/s]"
          ]
        },
        {
          "output_type": "stream",
          "name": "stdout",
          "text": [
            "Error fetching https://www.dubizzle.com.eg/en/ad/2-bedrooms-apartment-for-sale-taj-city-new-cairo-with-installments-over-8-years-ID500965630.html: \n",
            "Error fetching https://www.dubizzle.com.eg/en/ad/apartment-for-sale170m-in-px-compound-palm-hills-ID500971280.html: \n",
            "Error fetching https://www.dubizzle.com.eg/en/ad/i-villa-224m-for-sale-at-a-special-price-prime-location-mountain-view-hyde-park-new-cairo-ID500954961.html: \n",
            "Error fetching https://www.dubizzle.com.eg/en/ad/%D8%B4%D9%82%D8%A9-%D9%84%D9%84%D8%A8%D9%8A%D8%B9-225-%D9%85-%D8%A8%D8%B4%D8%A7%D8%B1%D8%B9-%D8%A7%D9%84%D9%87%D8%B6%D8%A8%D8%A9-%D8%A7%D9%84%D9%88%D8%B3%D8%B7%D9%89-%D8%A7%D9%84%D8%B1%D8%A6%D9%8A%D8%B3%D9%89-%D8%A8%D8%A7%D9%84%D9%85%D9%82%D8%B7%D9%85-ID201980335.html: \n",
            "Error fetching https://www.dubizzle.com.eg/en/ad/%D8%B4%D9%82%D8%A9-%D9%A1%D9%A4%D9%A0-%D9%85-b14-%D8%A7%D9%85%D8%A7%D9%85-%D8%A7%D9%84%D8%AE%D8%AF%D9%85%D8%A7%D8%AA-%D9%85%D8%A8%D8%A7%D8%B4%D8%B1%D8%A9-ID201810055.html: \n",
            "Error fetching https://www.dubizzle.com.eg/en/ad/%D8%B4%D9%82%D8%A9-185%D9%85-%D8%A5%D8%B3%D8%AA%D9%84%D8%A7%D9%85-%D9%81%D9%88%D8%B1%D9%8A-%D9%85%D9%86-%D8%A7%D9%84%D9%85%D8%A7%D9%84%D9%83-%D8%A8%D8%AA%D8%B3%D9%87%D9%8A%D9%84%D8%A7%D8%AA-%D8%B3%D8%B9%D8%B1-%D9%85%D9%85%D9%8A%D8%B2-%D9%88%D9%85%D9%88%D9%82%D8%B9-%D8%A7%D9%83%D8%AB%D8%B1-%D9%85%D9%86-%D8%B1%D8%A7%D8%A6%D8%B9-ID500986062.html: \n",
            "Error fetching https://www.dubizzle.com.eg/en/ad/%D8%A8%D8%B3%D8%B9%D9%80%D9%80%D8%B1-%D9%85%D9%85%D9%8A%D8%B2-%D8%AC%D8%AF%D8%A7-%D8%B4%D9%82%D9%87-103%D9%85-%D8%AA%D8%B4%D8%B7%D9%8A%D8%A8-%D8%B3%D9%88%D8%A8%D8%B1-%D9%84%D9%88%D9%83%D8%B3-%D9%84%D9%84%D8%A8%D9%8A%D8%B9-%D9%81%D9%8A-%D8%A3%D9%85%D9%8A%D8%B2%D9%85%D8%B1%D8%A7%D8%AD%D9%84-%D9%85%D8%AF%D9%8A%D9%86%D8%AA%D9%8A-b6-ID202462505.html: \n"
          ]
        },
        {
          "output_type": "stream",
          "name": "stderr",
          "text": [
            "\n"
          ]
        },
        {
          "output_type": "stream",
          "name": "stdout",
          "text": [
            "Batch 43 saved!\n",
            "Processing batch 44 / 268\n"
          ]
        },
        {
          "output_type": "stream",
          "name": "stderr",
          "text": [
            "Apartments Products:  33%|███▎      | 330/1000 [00:51<01:35,  7.03Apartment/s]"
          ]
        },
        {
          "output_type": "stream",
          "name": "stdout",
          "text": [
            "Failed to fetch https://www.dubizzle.com.eg/en/ad/the-last-apartment-for-sale-directly-in-front-of-cairo-international-airport-with-a-cash-discount-a-very-special-landscape-view-in-taj-city-fifth-ID500981611.html, Status Code: 404\n"
          ]
        },
        {
          "output_type": "stream",
          "name": "stderr",
          "text": [
            "Apartments Products:  53%|█████▎    | 528/1000 [01:21<01:36,  4.88Apartment/s]"
          ]
        },
        {
          "output_type": "stream",
          "name": "stdout",
          "text": [
            "Failed to fetch https://www.dubizzle.com.eg/en/ad/the-last-apartment-for-sale-directly-in-front-of-cairo-international-airport-with-a-cash-discount-a-very-special-landscape-view-in-taj-city-fifth-ID500981611.html, Status Code: 404\n"
          ]
        },
        {
          "output_type": "stream",
          "name": "stderr",
          "text": [
            "Apartments Products: 100%|██████████| 1000/1000 [05:00<00:00,  3.33Apartment/s]"
          ]
        },
        {
          "output_type": "stream",
          "name": "stdout",
          "text": [
            "Error fetching https://www.dubizzle.com.eg/en/ad/%D9%84%D9%84%D8%A8%D9%8A%D8%B9-%D8%A7%D9%8A-%D9%81%D9%8A%D9%84%D8%A7-240%D9%85-%D8%AC%D8%A7%D8%B1%D8%AF%D9%86-%D8%A7%D9%83%D8%AA%D9%88%D8%A8%D8%B1-%D9%85%D8%A7%D9%88%D9%86%D8%AA%D9%86-%DA%A4%D9%8A%D9%88-%D8%A7%D9%8A-%D8%B3%D8%AA%D9%8A-i-villa-for-sale-ID202433978.html: \n",
            "Error fetching https://www.dubizzle.com.eg/en/ad/apartment-for-sale-satisfied-with-the-pure-sea-garden-of-view-wide-garden-ID500951476.html: \n"
          ]
        },
        {
          "output_type": "stream",
          "name": "stderr",
          "text": [
            "\n"
          ]
        },
        {
          "output_type": "stream",
          "name": "stdout",
          "text": [
            "Batch 44 saved!\n",
            "Processing batch 45 / 268\n"
          ]
        },
        {
          "output_type": "stream",
          "name": "stderr",
          "text": [
            "Apartments Products:   4%|▎         | 36/1000 [00:06<01:38,  9.77Apartment/s]"
          ]
        },
        {
          "output_type": "stream",
          "name": "stdout",
          "text": [
            "Failed to fetch https://www.dubizzle.com.eg/en/ad/i-villa-roof-240m-direct-lagoon-for-sale-in-mountain-view-i-city-new-cairo-%D9%85%D8%A7%D9%88%D9%86%D8%AA%D9%86-%D9%81%D9%8A%D9%88-%D8%A7%D9%8A-%D8%B3%D9%8A%D8%AA%D9%8A-%D8%A7%D9%84%D8%AA%D8%AC%D9%85%D8%B9-%D8%A7%D9%84%D8%AE%D8%A7%D9%85%D8%B3-ID500984404.html, Status Code: 404\n"
          ]
        },
        {
          "output_type": "stream",
          "name": "stderr",
          "text": [
            "Apartments Products:   5%|▌         | 51/1000 [00:10<03:09,  5.00Apartment/s]\n"
          ]
        },
        {
          "output_type": "error",
          "ename": "CancelledError",
          "evalue": "",
          "traceback": [
            "\u001b[0;31m---------------------------------------------------------------------------\u001b[0m",
            "\u001b[0;31mCancelledError\u001b[0m                            Traceback (most recent call last)",
            "\u001b[0;32m<ipython-input-2-61d5958ec04e>\u001b[0m in \u001b[0;36m<cell line: 110>\u001b[0;34m()\u001b[0m\n\u001b[1;32m    108\u001b[0m \u001b[0;34m\u001b[0m\u001b[0m\n\u001b[1;32m    109\u001b[0m \u001b[0;31m# In Google Colab, use await directly to execute the main function\u001b[0m\u001b[0;34m\u001b[0m\u001b[0;34m\u001b[0m\u001b[0m\n\u001b[0;32m--> 110\u001b[0;31m \u001b[0;32mawait\u001b[0m \u001b[0mmain\u001b[0m\u001b[0;34m(\u001b[0m\u001b[0;34m)\u001b[0m\u001b[0;34m\u001b[0m\u001b[0;34m\u001b[0m\u001b[0m\n\u001b[0m",
            "\u001b[0;32m<ipython-input-2-61d5958ec04e>\u001b[0m in \u001b[0;36mmain\u001b[0;34m()\u001b[0m\n\u001b[1;32m    101\u001b[0m     \u001b[0mmax_workers\u001b[0m \u001b[0;34m=\u001b[0m \u001b[0;36m50\u001b[0m   \u001b[0;31m# Max concurrent requests at a time\u001b[0m\u001b[0;34m\u001b[0m\u001b[0;34m\u001b[0m\u001b[0m\n\u001b[1;32m    102\u001b[0m \u001b[0;34m\u001b[0m\u001b[0m\n\u001b[0;32m--> 103\u001b[0;31m     \u001b[0mapartments_data\u001b[0m \u001b[0;34m=\u001b[0m \u001b[0;32mawait\u001b[0m \u001b[0mscrape_apartment_data\u001b[0m\u001b[0;34m(\u001b[0m\u001b[0mapartments_links\u001b[0m\u001b[0;34m,\u001b[0m \u001b[0mbatch_size\u001b[0m\u001b[0;34m=\u001b[0m\u001b[0mbatch_size\u001b[0m\u001b[0;34m,\u001b[0m \u001b[0mmax_workers\u001b[0m\u001b[0;34m=\u001b[0m\u001b[0mmax_workers\u001b[0m\u001b[0;34m)\u001b[0m\u001b[0;34m\u001b[0m\u001b[0;34m\u001b[0m\u001b[0m\n\u001b[0m\u001b[1;32m    104\u001b[0m \u001b[0;34m\u001b[0m\u001b[0m\n\u001b[1;32m    105\u001b[0m     \u001b[0;31m# Create final DataFrame and export to CSV\u001b[0m\u001b[0;34m\u001b[0m\u001b[0;34m\u001b[0m\u001b[0m\n",
            "\u001b[0;32m<ipython-input-2-61d5958ec04e>\u001b[0m in \u001b[0;36mscrape_apartment_data\u001b[0;34m(links, batch_size, max_workers)\u001b[0m\n\u001b[1;32m     78\u001b[0m             \u001b[0;32mfor\u001b[0m \u001b[0mtask\u001b[0m \u001b[0;32min\u001b[0m \u001b[0mtqdm_asyncio\u001b[0m\u001b[0;34m.\u001b[0m\u001b[0mas_completed\u001b[0m\u001b[0;34m(\u001b[0m\u001b[0mtasks\u001b[0m\u001b[0;34m,\u001b[0m \u001b[0mtotal\u001b[0m\u001b[0;34m=\u001b[0m\u001b[0mlen\u001b[0m\u001b[0;34m(\u001b[0m\u001b[0mtasks\u001b[0m\u001b[0;34m)\u001b[0m\u001b[0;34m,\u001b[0m \u001b[0mdesc\u001b[0m\u001b[0;34m=\u001b[0m\u001b[0;34m\"Apartments Products\"\u001b[0m\u001b[0;34m,\u001b[0m \u001b[0munit\u001b[0m\u001b[0;34m=\u001b[0m\u001b[0;34m\"Apartment\"\u001b[0m\u001b[0;34m)\u001b[0m\u001b[0;34m:\u001b[0m\u001b[0;34m\u001b[0m\u001b[0;34m\u001b[0m\u001b[0m\n\u001b[1;32m     79\u001b[0m                 \u001b[0;32mtry\u001b[0m\u001b[0;34m:\u001b[0m\u001b[0;34m\u001b[0m\u001b[0;34m\u001b[0m\u001b[0m\n\u001b[0;32m---> 80\u001b[0;31m                     \u001b[0mhtml_content\u001b[0m \u001b[0;34m=\u001b[0m \u001b[0;32mawait\u001b[0m \u001b[0mtask\u001b[0m\u001b[0;34m\u001b[0m\u001b[0;34m\u001b[0m\u001b[0m\n\u001b[0m\u001b[1;32m     81\u001b[0m                     \u001b[0;32mif\u001b[0m \u001b[0mhtml_content\u001b[0m\u001b[0;34m:\u001b[0m\u001b[0;34m\u001b[0m\u001b[0;34m\u001b[0m\u001b[0m\n\u001b[1;32m     82\u001b[0m                         \u001b[0mdata\u001b[0m \u001b[0;34m=\u001b[0m \u001b[0mparse_apartment_data\u001b[0m\u001b[0;34m(\u001b[0m\u001b[0mhtml_content\u001b[0m\u001b[0;34m)\u001b[0m\u001b[0;34m\u001b[0m\u001b[0;34m\u001b[0m\u001b[0m\n",
            "\u001b[0;32m/usr/lib/python3.10/asyncio/tasks.py\u001b[0m in \u001b[0;36m_wait_for_one\u001b[0;34m()\u001b[0m\n\u001b[1;32m    565\u001b[0m \u001b[0;34m\u001b[0m\u001b[0m\n\u001b[1;32m    566\u001b[0m     \u001b[0;32masync\u001b[0m \u001b[0;32mdef\u001b[0m \u001b[0m_wait_for_one\u001b[0m\u001b[0;34m(\u001b[0m\u001b[0;34m)\u001b[0m\u001b[0;34m:\u001b[0m\u001b[0;34m\u001b[0m\u001b[0;34m\u001b[0m\u001b[0m\n\u001b[0;32m--> 567\u001b[0;31m         \u001b[0mf\u001b[0m \u001b[0;34m=\u001b[0m \u001b[0;32mawait\u001b[0m \u001b[0mdone\u001b[0m\u001b[0;34m.\u001b[0m\u001b[0mget\u001b[0m\u001b[0;34m(\u001b[0m\u001b[0;34m)\u001b[0m\u001b[0;34m\u001b[0m\u001b[0;34m\u001b[0m\u001b[0m\n\u001b[0m\u001b[1;32m    568\u001b[0m         \u001b[0;32mif\u001b[0m \u001b[0mf\u001b[0m \u001b[0;32mis\u001b[0m \u001b[0;32mNone\u001b[0m\u001b[0;34m:\u001b[0m\u001b[0;34m\u001b[0m\u001b[0;34m\u001b[0m\u001b[0m\n\u001b[1;32m    569\u001b[0m             \u001b[0;31m# Dummy value from _on_timeout().\u001b[0m\u001b[0;34m\u001b[0m\u001b[0;34m\u001b[0m\u001b[0m\n",
            "\u001b[0;32m/usr/lib/python3.10/asyncio/queues.py\u001b[0m in \u001b[0;36mget\u001b[0;34m(self)\u001b[0m\n\u001b[1;32m    157\u001b[0m             \u001b[0mself\u001b[0m\u001b[0;34m.\u001b[0m\u001b[0m_getters\u001b[0m\u001b[0;34m.\u001b[0m\u001b[0mappend\u001b[0m\u001b[0;34m(\u001b[0m\u001b[0mgetter\u001b[0m\u001b[0;34m)\u001b[0m\u001b[0;34m\u001b[0m\u001b[0;34m\u001b[0m\u001b[0m\n\u001b[1;32m    158\u001b[0m             \u001b[0;32mtry\u001b[0m\u001b[0;34m:\u001b[0m\u001b[0;34m\u001b[0m\u001b[0;34m\u001b[0m\u001b[0m\n\u001b[0;32m--> 159\u001b[0;31m                 \u001b[0;32mawait\u001b[0m \u001b[0mgetter\u001b[0m\u001b[0;34m\u001b[0m\u001b[0;34m\u001b[0m\u001b[0m\n\u001b[0m\u001b[1;32m    160\u001b[0m             \u001b[0;32mexcept\u001b[0m\u001b[0;34m:\u001b[0m\u001b[0;34m\u001b[0m\u001b[0;34m\u001b[0m\u001b[0m\n\u001b[1;32m    161\u001b[0m                 \u001b[0mgetter\u001b[0m\u001b[0;34m.\u001b[0m\u001b[0mcancel\u001b[0m\u001b[0;34m(\u001b[0m\u001b[0;34m)\u001b[0m  \u001b[0;31m# Just in case getter is not done yet.\u001b[0m\u001b[0;34m\u001b[0m\u001b[0;34m\u001b[0m\u001b[0m\n",
            "\u001b[0;31mCancelledError\u001b[0m: "
          ]
        },
        {
          "output_type": "stream",
          "name": "stdout",
          "text": [
            "Error fetching https://www.dubizzle.com.eg/en/ad/resale-apartment-m-v-icity-october-ready-to-move-ID500970264.html: 'NoneType' object has no attribute 'connect'\n",
            "Error fetching https://www.dubizzle.com.eg/en/ad/direct-from-owner-mountian-view-icity-oct-ready-to-move-200m-aprt-ID202422747.html: 'NoneType' object has no attribute 'connect'\n",
            "Error fetching https://www.dubizzle.com.eg/en/ad/apartment-for-sale-with-catchy-price-and-very-prime-location-in-lake-view-residence-2-ID500971693.html: 'NoneType' object has no attribute 'connect'\n",
            "Error fetching https://www.dubizzle.com.eg/en/ad/%D9%81%D8%B1%D8%B5%D8%A9-%D9%84%D8%A7-%D8%AA%D9%81%D9%88%D8%AA-%D8%B4%D9%82%D9%87-%D9%84%D9%84%D8%A8%D9%8A%D8%B9-160-%D9%85%D8%AA%D8%B1-%D9%81%D9%8A-%D8%A7%D9%85%D9%8A%D8%B2-%D9%85%D9%88%D9%82%D8%B9-%D8%A7%D9%84%D8%B1%D8%AD%D8%A7%D8%A8-rehab-city-ID202482554.html: 'NoneType' object has no attribute 'connect'\n",
            "Error fetching https://www.dubizzle.com.eg/en/ad/%D8%B3%D8%AA%D8%AF%D9%8A%D9%88-%D9%84%D9%84%D8%A8%D9%8A%D8%B9-%D8%B9%D9%84%D9%89-%D8%A7%D9%84%D9%86%D9%8A%D9%84-%D9%85%D8%A8%D8%A7%D8%B4%D8%B1%D8%A9-%D9%85%D8%AA%D8%B4%D8%B7%D8%A8-%D8%A8%D8%A7%D9%84%D8%AA%D9%83%D9%8A%D9%81%D8%A7%D8%AA-%D8%A8%D8%A7%D9%84%D9%81%D8%B1%D8%B4-%D9%88%D8%A7%D9%84%D8%A7%D8%AC%D9%87%D8%B2%D8%A9-%D9%82%D8%B3%D8%B7-3%D8%B3%D9%86%D9%8A%D9%86-ID202390082.html: 'NoneType' object has no attribute 'connect'\n",
            "Error fetching https://www.dubizzle.com.eg/en/ad/170%D9%85-3%D8%BA%D8%B1%D9%81-%D9%883-%D8%AD%D9%85%D8%A7%D9%85-%D9%88%D9%85%D8%B7%D8%A8%D8%AE-%D9%83%D8%A8%D9%8A%D8%B1-%D8%AA%D9%82%D8%B3%D9%8A%D9%8A%D9%8A%D9%8A%D8%B7-ID199062371.html: 'NoneType' object has no attribute 'connect'\n",
            "Error fetching https://www.dubizzle.com.eg/en/ad/%D8%B4%D9%82%D8%A9-%D9%A9%D9%A5%D9%85-%D9%84%D9%82%D8%B7%D8%A9-%D9%84%D9%84%D8%A8%D9%8A%D8%B9-%D9%86%D8%B5%D9%81-%D8%AA%D8%B4%D8%B7%D9%8A%D8%A8-%D8%A8%D9%83%D9%85%D8%A8%D9%88%D9%86%D8%AF-%D9%87%D8%A7%D9%8A-%D8%B3%D9%8A%D8%AA%D9%8A-%D9%85%D8%B1%D8%AD%D9%84%D8%A9-%D8%AB%D8%A7%D9%84%D8%AB%D8%A9-%D8%A7%D8%B3%D8%AA%D9%84%D8%A7%D9%85-%D9%81%D9%88%D8%B1%D9%8A-ID202408950.html: 'NoneType' object has no attribute 'connect'\n",
            "Error fetching https://www.dubizzle.com.eg/en/ad/apartment-for-sale-in-zed-east-fully-finished-with-acs-very-prime-location-with-down-payment-and-installments-ID500968897.html: 'NoneType' object has no attribute 'connect'\n",
            "Error fetching https://www.dubizzle.com.eg/en/ad/%D8%B4%D9%82%D8%A9-104-%D9%85-%D9%85%D9%83%D9%88%D9%86%D9%87-%D9%85%D9%86-%D8%BA%D8%B1%D9%81%D8%AA%D9%8A%D9%86-%D9%81%D9%8A%D9%88-%D8%A7%D9%84%D8%AC%D9%88%D9%84%D9%81-%D9%84%D9%84%D8%A8%D9%8A%D8%B9-%D8%A8%D8%AC%D9%88%D8%A7%D8%B1-%D9%85%D8%AF%D9%8A%D9%86%D8%AA%D9%8A-%D9%85%D8%A8%D8%A7%D8%B4%D8%B1%D8%A9-%D8%A8%D8%A7%D9%82%D9%84-%D9%85%D9%82%D8%AF%D9%85-%D8%A8%D8%A7%D9%84%D8%AA%D9%82%D8%B3%D9%8A%D8%B7-%D8%B9%D9%84%D9%8A-8-%D8%B3%D9%86%D9%88%D8%A7%D8%AA-ID500571312.html: 'NoneType' object has no attribute 'connect'\n",
            "Error fetching https://www.dubizzle.com.eg/en/ad/%D8%B4%D9%82%D8%A9-%D9%84%D9%84%D8%A8%D9%8A%D8%B9-%D9%A8%D9%A4%D9%85%D8%AA%D8%B1-%D8%A8%D8%A7%D9%84%D8%A8%D8%B1%D9%8A%D9%81%D8%A7%D8%AF%D9%88-%D8%A7%D9%82%D9%84-%D8%A7%D8%AC%D9%85%D8%A7%D9%84%D9%89-%D8%B9%D9%82%D8%AF-ID202207166.html: 'NoneType' object has no attribute 'connect'\n",
            "Error fetching https://www.dubizzle.com.eg/en/ad/own-a-135-meter-apartment-in-sodic-east-immediately-finished-at-the-highest-level-with-only-10-down-payment-and-installments-over-6-years-ID500988332.html: 'NoneType' object has no attribute 'connect'\n",
            "Error fetching https://www.dubizzle.com.eg/en/ad/apartment-with-garden-for-sale-fully-finished_delivery-20252026-in-bloomfields-compound-in-front-of-madinaty_5-down-payment-only_tatweer-misr-ID500968978.html: 'NoneType' object has no attribute 'connect'\n",
            "Error fetching https://www.dubizzle.com.eg/en/ad/ground-floor-apartment-in-a-garden-resale-in-hyde-park-the-heart-of-the-fifth-settlement-paid-in-advance-and-in-installments-over-8-years-ID500945913.html: 'NoneType' object has no attribute 'connect'\n",
            "Error fetching https://www.dubizzle.com.eg/en/ad/%D8%B4%D9%82%D9%87-%D8%A8%D8%AD%D8%AF%D9%8A%D9%82%D9%87-%D8%AE%D8%A7%D8%B5%D9%87-%D9%84%D9%84%D8%A8%D9%8A%D8%B9-%D8%A8%D9%83%D9%85%D8%A8%D9%88%D9%86%D8%AF-%D8%A8%D8%A7%D9%84%D8%AA%D8%AC%D9%85%D8%B9-%D8%A8%D8%B3%D8%B9%D8%B1-%D9%85%D9%85%D9%8A%D8%B2-%D9%84%D9%84%D8%BA%D8%A7%D9%8A%D9%87-ID202484974.html: 'NoneType' object has no attribute 'connect'\n",
            "Error fetching https://www.dubizzle.com.eg/en/ad/%D8%B4%D9%82%D8%A9-%D9%84%D9%84%D8%A8%D9%8A%D8%B9-%D9%83%D9%88%D9%85%D8%A8%D8%A7%D9%88%D9%86%D8%AF-%D9%81%D9%84%D9%88%D8%B1%D8%A7%D9%86%D8%B3-%D8%A7%D9%84%D9%85%D9%86%D8%AA%D8%B2%D8%A9-120%D9%85-%D8%AA%D8%B4%D8%B7%D9%8A%D8%A8-%D9%83%D8%A7%D9%85%D9%84-ID202222827.html: 'NoneType' object has no attribute 'connect'\n",
            "Error fetching https://www.dubizzle.com.eg/en/ad/%D9%85%D9%82%D8%AF%D9%85-920000-%D9%88%D8%A7%D9%84%D8%AA%D9%82%D8%B3%D9%8A%D8%B7-%D8%B9%D9%84%D9%89-10-%D8%B3%D9%86%D9%88%D8%A7%D8%AA-%D9%85%D8%AA%D8%B4%D8%B7%D8%A8%D8%A9-%D8%A8%D8%A7%D9%84%D9%83%D8%A7%D9%85%D9%84-%D8%AF%D9%88%D8%A8%D9%84%D9%83%D8%B3-bloomfields-ID202503139.html: 'NoneType' object has no attribute 'connect'\n",
            "Error fetching https://www.dubizzle.com.eg/en/ad/%D8%A8%D8%AE%D8%B5%D9%85-10-%D8%A7%D9%85%D8%AA%D9%84%D9%83-%D8%B4%D9%82%D8%A9-%D8%BA%D8%B1%D9%81%D8%AA%D9%8A%D9%86-%D8%A8%D8%AD%D8%B1%D9%8A-%D8%AA%D8%B4%D8%B7%D9%8A%D8%A8-%D9%83%D8%A7%D9%85%D9%84-%D9%81%D9%8A-%D9%83%D9%85%D8%A8%D9%88%D9%86%D8%AF-%D8%A8%D9%84%D9%88%D9%85-%D9%81%D9%8A%D9%84%D8%AF%D8%B2-%D8%A8%D8%A7%D9%84%D9%85%D8%B3%D8%AA%D9%82%D8%A8%D9%84-%D8%B3%D9%8A%D8%AA%D9%8A-%D8%A8%D8%AC%D9%88%D8%A7%D8%B1-haptown-%D8%AD%D8%B3%D9%86-%D8%B9%D9%84%D8%A7%D9%85-%D8%A8%D8%A7%D9%84%D8%AA%D9%82%D8%B3%D9%8A%D8%B7-%D8%AD%D8%AA%D9%8A-10-%D8%B3%D9%86%D9%8A%D9%86-bloomfields-ID501004877.html: 'NoneType' object has no attribute 'connect'\n",
            "Error fetching https://www.dubizzle.com.eg/en/ad/apartment-213-m-in-front-of-bahri-down-payment-910-thousand-beit-al-watan-beit-al-watan-fifth-settlement-ID199037453.html: 'NoneType' object has no attribute 'connect'\n",
            "Error fetching https://www.dubizzle.com.eg/en/ad/own-a-studio-with-a-garden-and-live-in-front-of-the-sea-all-year-round-in-monte-galala-sokhna-at-a-special-price-ID500932223.html: 'NoneType' object has no attribute 'connect'\n",
            "Error fetching https://www.dubizzle.com.eg/en/ad/%D8%A7%D8%AD%D8%AC%D8%B2-%D8%B4%D9%82%D8%AA%D9%83-%D8%A8%D9%81%D9%8A%D9%88-%D8%AC%D8%A7%D8%B1%D8%AF%D9%86-%D9%81%D9%8A-%D9%83%D9%85%D8%A8%D9%88%D9%86%D8%AF-%D8%AA%D8%A7%D8%AC-%D8%B3%D8%AA%D9%8A-%D8%A7%D9%85%D8%A7%D9%85-%D9%85%D8%B7%D8%A7%D8%B1-%D8%A7%D9%84%D9%82%D8%A7%D9%87%D8%B1%D8%A9-ID202503829.html: 'NoneType' object has no attribute 'connect'\n",
            "Error fetching https://www.dubizzle.com.eg/en/ad/%D8%B4%D9%82%D9%87-%D9%84%D9%84%D8%A8%D9%8A%D8%B9-%D9%84%D9%82%D8%B7%D9%87-%D9%85%D8%AA%D8%B4%D8%B7%D8%A8%D9%87-%D8%A8%D8%A7%D9%84%D8%AA%D9%83%D9%8A%D9%81%D8%A7%D8%AA-%D8%A8%D8%A7%D9%84%D8%AA%D9%82%D8%B3%D9%8A%D8%B7-%D9%81%D9%8A-%D9%81%D8%A7%D9%84%D9%8A%D8%AF%D8%AC-%D9%88%D9%8A%D8%B3%D8%AA-%D8%A7%D9%84%D8%B4%D9%8A%D8%AE-%D8%B2%D8%A7%D9%8A%D8%AF-%D8%A8%D8%AC%D9%88%D8%A7%D8%B1-%D9%83%D8%A7%D9%8A%D8%B1%D9%88-%D8%AC%D9%8A%D8%AA-_-village-west-elsheikh-zayed-dorra_-%D8%A7%D9%88-%D9%88%D9%8A%D8%B3%D8%AA-o-west-%D8%B3%D9%88%D9%84%D8%A7%D9%86%D8%A7-solana-ID500984290.html: 'NoneType' object has no attribute 'connect'\n",
            "Error fetching https://www.dubizzle.com.eg/en/ad/for-sale-finished-and-furnished-apartment-in-waterway-1-5th-settlement-ID500984460.html: 'NoneType' object has no attribute 'connect'\n",
            "Error fetching https://www.dubizzle.com.eg/en/ad/%D8%B4%D9%82%D8%A9-%D9%84%D9%84%D8%A8%D9%8A%D8%B9-210%D9%85-%D9%81%D9%89-%D8%A7%D9%84%D8%AA%D8%AC%D9%85%D8%B9-%D8%A7%D9%84%D8%AE%D8%A7%D9%85%D8%B3-%D8%A8%D9%85%D9%86%D8%B7%D9%82%D8%A9-%D8%AC%D9%86%D9%88%D8%A8-%D8%A7%D9%84%D8%A7%D9%83%D8%A7%D8%AF%D9%8A%D9%85%D9%8A%D9%87-%D8%A3-ID202464509.html: 'NoneType' object has no attribute 'connect'\n",
            "Error fetching https://www.dubizzle.com.eg/en/ad/apartment-250m-view-special-garden-ID500782102.html: 'NoneType' object has no attribute 'connect'\n",
            "Error fetching https://www.dubizzle.com.eg/en/ad/%D8%B4%D9%82%D8%A9-185%D9%85-%D8%A5%D8%B3%D8%AA%D9%84%D8%A7%D9%85-%D9%81%D9%88%D8%B1%D9%8A-%D9%85%D9%86-%D8%A7%D9%84%D9%85%D8%A7%D9%84%D9%83-%D8%A8%D8%AA%D8%B3%D9%87%D9%8A%D9%84%D8%A7%D8%AA-%D8%B3%D8%B9%D8%B1-%D9%85%D9%85%D9%8A%D8%B2-%D9%88%D9%85%D9%88%D9%82%D8%B9-%D8%A7%D9%83%D8%AB%D8%B1-%D9%85%D9%86-%D8%B1%D8%A7%D8%A6%D8%B9-ID500986062.html: 'NoneType' object has no attribute 'connect'\n",
            "Error fetching https://www.dubizzle.com.eg/en/ad/the-lowest-down-payment-is-only-10-and-get-a-10-discount-and-own-your-unit-in-the-i-sheraton-compound-ID500991217.html: 'NoneType' object has no attribute 'connect'\n",
            "Error fetching https://www.dubizzle.com.eg/en/ad/with-down-payment-and-installments-in-compound-hyde-park-for-sale-in-best-location-duplex-216m-ready-to-move-ID500984291.html: 'NoneType' object has no attribute 'connect'\n",
            "Error fetching https://www.dubizzle.com.eg/en/ad/apartment-for-sale-miami-area-of-135-square-meters-ID500880149.html: 'NoneType' object has no attribute 'connect'\n",
            "Error fetching https://www.dubizzle.com.eg/en/ad/apartment-for-sale78-in-px-compound-palm-hills-ID500970900.html: 'NoneType' object has no attribute 'connect'\n",
            "Error fetching https://www.dubizzle.com.eg/en/ad/%D8%B4%D9%82%D9%87-%D9%84%D9%84%D8%A8%D9%8A%D8%B9-%D8%A8%D9%85%D8%B3%D8%A7%D8%AD%D9%87-152-%D9%85-%D8%A8%D8%B3%D9%85%D9%88%D8%AD%D9%87-%D9%83%D9%85%D8%A8%D9%88%D9%86%D8%AF-%D9%81%D8%A7%D9%84%D9%88%D8%B1%D9%8A-%D8%A7%D9%84%D9%86%D9%82%D9%84-%D9%88%D8%A7%D9%84%D9%87%D9%86%D8%AF%D8%B3%D9%87-ID202483392.html: 'NoneType' object has no attribute 'connect'\n",
            "Error fetching https://www.dubizzle.com.eg/en/ad/al-hambra-waterfalls%D8%A7%D8%B3%D8%AA%D8%AF%D9%8A%D9%88-%D9%85%D8%AA%D8%B4%D8%B7%D8%A8-%D9%84%D9%84%D8%A8%D9%8A%D8%B9-%D8%A8%D8%A7%D9%84%D9%82%D8%B3%D8%B7-%D8%B7%D8%B1%D9%8A%D9%82-%D8%A7%D9%84%D9%85%D8%B7%D8%A7%D8%B1-ID199710458.html: 'NoneType' object has no attribute 'connect'\n",
            "Error fetching https://www.dubizzle.com.eg/en/ad/duplex-for-sale-456m-125m-garden-el-shorouk-2-ID500984192.html: 'NoneType' object has no attribute 'connect'\n",
            "Error fetching https://www.dubizzle.com.eg/en/ad/at-the-lowest-price-an-apartment-for-sale-with-an-area-140m-with-an-open-view-in-mountain-view-i-city-new-cairo-ID500985624.html: 'NoneType' object has no attribute 'connect'\n",
            "Error fetching https://www.dubizzle.com.eg/en/ad/%D8%B4%D9%82%D8%A9-190%D9%85-3%D8%BA%D8%B1%D9%81-%D8%A8%D8%A3%D8%AC%D9%85%D9%84-%D9%81%D9%8A%D9%88-%D9%84%D9%84%D8%A8%D9%8A%D8%B9-%D8%A8%D8%A3%D9%82%D9%84-%D8%B3%D8%B9%D8%B1-%D8%AD%D8%A7%D9%84%D9%8A%D8%A7-%D9%81%D9%8A-%D8%A7%D9%8A%D8%B3%D8%AA%D8%A7%D9%88%D9%86-%D8%A7%D9%84%D8%AA%D8%AC%D9%85%D8%B9-eastown-ID202488704.html: 'NoneType' object has no attribute 'connect'\n",
            "Error fetching https://www.dubizzle.com.eg/en/ad/%D8%A820-%D9%81%D9%82%D8%B7-%D8%B4%D9%82%D9%87-%D8%A7%D8%B3%D8%AA%D9%84%D8%A7%D9%85-%D9%81%D9%88%D8%B1%D9%89-%D9%84%D9%84%D8%A8%D9%8A%D8%B9-%D9%81%D9%89-%D9%83%D9%85%D8%A8%D8%A7%D9%88%D9%86%D8%AF-%D8%B3%D9%88%D8%AF%D9%8A%D9%83-%D8%A7%D9%8A%D8%B3%D8%AA-%D9%87%D9%84%D9%8A%D9%88%D8%A8%D9%88%D9%84%D9%8A%D8%B3-%D8%A7%D9%84%D8%AC%D8%AF%D9%8A%D8%AF%D9%87-sodic-east-new-helipolis-ID500981946.html: 'NoneType' object has no attribute 'connect'\n",
            "Error fetching https://www.dubizzle.com.eg/en/ad/for-the-first-time-in-tatweer-misr-own-a-fully-finished-apartment-with-a-garden-delivery-date-20252026-in-bloomfields-with-installments-up-to-10-year-ID500971180.html: 'NoneType' object has no attribute 'connect'\n",
            "Error fetching https://www.dubizzle.com.eg/en/ad/%D9%84%D9%84%D8%A8%D9%8A%D8%B9-%D8%B4%D9%82%D8%A9-%D8%A8%D9%86%D8%AA%D9%87%D8%A7%D9%88%D8%B3-%D9%85%D8%AA%D8%B4%D8%B7%D8%A8%D8%A9-%D8%A8%D9%80-%D8%A7%D9%84%D8%AA%D9%83%D9%8A%D9%81%D8%A7%D8%AA-%D9%81%D9%8A-%D9%83%D9%85%D8%A8%D9%88%D9%86%D8%AF-%D8%A7%D9%84%D9%85%D8%B1%D8%A7%D8%B3%D9%85-%D9%81%D9%8A%D9%81%D8%AB-%D8%B3%D9%83%D9%88%D9%8A%D8%B1-%D8%A7%D9%84%D8%AA%D8%AC%D9%85%D8%B9-%D8%A7%D9%84%D8%AE%D8%A7%D9%85%D8%B3-apartment-178m-with-roof-for-sale-in-al-marasem-fifth-square-new-cairo-ID500985369.html: 'NoneType' object has no attribute 'connect'\n",
            "Error fetching https://www.dubizzle.com.eg/en/ad/apartment-195m-with-garden-120m-installment-till-2030-park-view-haptown-mostakbal-ID500926471.html: 'NoneType' object has no attribute 'connect'\n",
            "Error fetching https://www.dubizzle.com.eg/en/ad/apartment-115m-cairo-uni-compound-front-of-zayed-4-ID500953776.html: 'NoneType' object has no attribute 'connect'\n",
            "Error fetching https://www.dubizzle.com.eg/en/ad/%D8%A8%D9%85%D9%82%D8%AF%D9%85-720-%D8%A7%D9%84%D9%81-%D8%A7%D9%85%D8%AA%D9%84%D9%83-%D8%B1%D9%88%D9%88%D9%81-%D8%A7%D9%85%D8%A7%D9%85%D9%8A-171%D9%85-%D8%A8%D8%AA%D8%B1%D8%A7%D8%B3-80%D9%85-ID202432092.html: 'NoneType' object has no attribute 'connect'\n",
            "Error fetching https://www.dubizzle.com.eg/en/ad/address-east-new-cairo-121m-garden-78m-ready-to-move-instalments-5-years-fully-finished-%D8%A7%D9%84%D9%82%D8%A7%D9%87%D8%B1%D8%A9-%D8%A7%D9%84%D8%AC%D8%AF%D9%8A%D8%AF%D9%87-%D8%A7%D9%84%D8%AA%D8%AC%D9%85%D8%B9-%D8%A7%D9%84%D8%AE%D8%A7%D9%85%D8%B3-%D8%AA%D8%B3%D9%84%D9%8A%D9%85-%D9%81%D9%88%D8%B1%D9%8A-%D8%A7%D8%AF%D8%B1%D8%B3-%D8%A7%D9%8A%D8%B3%D8%AA-ID500857896.html: 'NoneType' object has no attribute 'connect'\n"
          ]
        }
      ]
    }
  ]
}